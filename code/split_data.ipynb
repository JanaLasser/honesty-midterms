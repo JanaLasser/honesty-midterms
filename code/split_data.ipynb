{
 "cells": [
  {
   "cell_type": "code",
   "execution_count": 58,
   "id": "6cda7080-8a99-4d47-8340-6405a48416ee",
   "metadata": {},
   "outputs": [],
   "source": [
    "import pandas as pd\n",
    "import numpy as np\n",
    "from scipy.stats import linregress\n",
    "from pathlib import Path"
   ]
  },
  {
   "cell_type": "markdown",
   "id": "dc2ddcad-3c26-42c5-bfc9-dcc46d98498c",
   "metadata": {},
   "source": [
    "# Split the Twitter data into pilot data and study data"
   ]
  },
  {
   "cell_type": "markdown",
   "id": "bf3a15c2-6672-4174-a6eb-79d2ae21be32",
   "metadata": {},
   "source": [
    "## Load data sets"
   ]
  },
  {
   "cell_type": "code",
   "execution_count": 59,
   "id": "258af99d-d758-40c6-8a94-06d5f0cc8f5d",
   "metadata": {},
   "outputs": [],
   "source": [
    "src = \"../data\"\n",
    "dst = \"../data/processed\""
   ]
  },
  {
   "cell_type": "code",
   "execution_count": 60,
   "id": "423669c0-afd4-4b30-ab6b-639f7763611a",
   "metadata": {},
   "outputs": [],
   "source": [
    "fname = \"KnowWho_profiles_merged_twitter.csv\"\n",
    "knowwho_profiles = pd.read_csv(\n",
    "    Path(src, \"tmp\", fname), \n",
    "    dtype={\"author_id\":str},\n",
    "    parse_dates=[\"created_at\", \"ELECTIONDATE\"]\n",
    ")"
   ]
  },
  {
   "cell_type": "markdown",
   "id": "fe150156-9c6f-46df-8083-e96ccab24dd5",
   "metadata": {},
   "source": [
    "The table `primaries_for_margin_research_RW.csv` was coded by Richard Westway (email on 2023-06-14) who added the columns VOTE_SHARE, NOTES, and COMPLETE. The corresponding email chain is archived in `Projects/CSS_honesty/analysis/midterms/reg_report/`.\n",
    "* VOTE_SHARE: percentage of the votes gathered by the candidate\n",
    "* NOTES on various corrections and special election types. Legend:\n",
    "    * A – Candidate advanced\n",
    "    * C – Primary cancelled and candidate advanced\n",
    "    * D# – Corrected district id for this candidate\n",
    "    * DUP – Duplicate candidate entry\n",
    "    * NL – Candidate not listed in results\n",
    "    * NP – Vote share from Nonpartisan Primary\n",
    "    * R# – Candidate advanced to Primary runoff followed by runoff vote share\n",
    "    * RCV1 – Vote share from 1st round of ranked-choice voting\n",
    "    * S-## - Corrected state for this candidate\n",
    "    * UW – Candidate unofficially withdrew\n",
    "    * WD – Candidate withdrawn or disqualified\n",
    "* COMPLETE: disregard, all rows are \"Y\"\n",
    "\n",
    "JL updated the data to split the \"NOTES\" column into several columns, saved in the table `primaries_for_margin_research_RW_JL.csv`. The new table contains the following columns (next to the original VOTE_SHARE and updated NOTES):\n",
    "* DISTRICT_CORR – contains the corrected district number, corresponding D# entries have been removed from the NOTES column\n",
    "* STATE_CORR – contains the corrected state acronym, corresponding S# entries have been removed from the NOTES column\n",
    "* NP – contains a 1 if it was a nonpartisan primary, corresponding NP entries have been removed from the NOTES column\n",
    "* RCV1 – contains a 1 if it was a ranked-choice voting, corresponding RCV1 entries have been removed from the NOTES column\n",
    "* RUNOFF_PERC – contains the percentage of the runoff vote share, corresponding R# entries have been removed from the NOTES column"
   ]
  },
  {
   "cell_type": "code",
   "execution_count": 61,
   "id": "57b5b5c8-cc3b-42da-9930-0bac5adae655",
   "metadata": {},
   "outputs": [
    {
     "data": {
      "text/html": [
       "<div>\n",
       "<style scoped>\n",
       "    .dataframe tbody tr th:only-of-type {\n",
       "        vertical-align: middle;\n",
       "    }\n",
       "\n",
       "    .dataframe tbody tr th {\n",
       "        vertical-align: top;\n",
       "    }\n",
       "\n",
       "    .dataframe thead th {\n",
       "        text-align: right;\n",
       "    }\n",
       "</style>\n",
       "<table border=\"1\" class=\"dataframe\">\n",
       "  <thead>\n",
       "    <tr style=\"text-align: right;\">\n",
       "      <th></th>\n",
       "      <th></th>\n",
       "      <th>name</th>\n",
       "      <th>PARTY</th>\n",
       "      <th>STATEABBR</th>\n",
       "      <th>RACE</th>\n",
       "      <th>DISTRICT</th>\n",
       "      <th>VOTE_SHARE</th>\n",
       "      <th>NOTES</th>\n",
       "      <th>NONPARTISAN_PRIMARY</th>\n",
       "      <th>DISTRICT_CORR</th>\n",
       "      <th>STATE_CORR</th>\n",
       "      <th>RUNOFF_PERC</th>\n",
       "      <th>RANKED_CHOICE_VOTING</th>\n",
       "    </tr>\n",
       "    <tr>\n",
       "      <th>handle</th>\n",
       "      <th>ELECTIONDATE</th>\n",
       "      <th></th>\n",
       "      <th></th>\n",
       "      <th></th>\n",
       "      <th></th>\n",
       "      <th></th>\n",
       "      <th></th>\n",
       "      <th></th>\n",
       "      <th></th>\n",
       "      <th></th>\n",
       "      <th></th>\n",
       "      <th></th>\n",
       "      <th></th>\n",
       "    </tr>\n",
       "  </thead>\n",
       "  <tbody>\n",
       "    <tr>\n",
       "      <th>carlforalabama</th>\n",
       "      <th>2022-05-24</th>\n",
       "      <td>Jerry L. Carl</td>\n",
       "      <td>R</td>\n",
       "      <td>AL</td>\n",
       "      <td>US Representative</td>\n",
       "      <td>1.0</td>\n",
       "      <td>NaN</td>\n",
       "      <td>C</td>\n",
       "      <td>NaN</td>\n",
       "      <td>NaN</td>\n",
       "      <td>NaN</td>\n",
       "      <td>NaN</td>\n",
       "      <td>NaN</td>\n",
       "    </tr>\n",
       "    <tr>\n",
       "      <th>terellanderson</th>\n",
       "      <th>2022-05-24</th>\n",
       "      <td>Reginald Terell Anderson</td>\n",
       "      <td>D</td>\n",
       "      <td>AL</td>\n",
       "      <td>US Representative</td>\n",
       "      <td>2.0</td>\n",
       "      <td>NaN</td>\n",
       "      <td>WD</td>\n",
       "      <td>NaN</td>\n",
       "      <td>NaN</td>\n",
       "      <td>NaN</td>\n",
       "      <td>NaN</td>\n",
       "      <td>NaN</td>\n",
       "    </tr>\n",
       "    <tr>\n",
       "      <th>phyllisdhhall</th>\n",
       "      <th>2022-05-24</th>\n",
       "      <td>Phyllis Harvey-Hall</td>\n",
       "      <td>D</td>\n",
       "      <td>AL</td>\n",
       "      <td>US Representative</td>\n",
       "      <td>2.0</td>\n",
       "      <td>68.8</td>\n",
       "      <td>NaN</td>\n",
       "      <td>NaN</td>\n",
       "      <td>NaN</td>\n",
       "      <td>NaN</td>\n",
       "      <td>NaN</td>\n",
       "      <td>NaN</td>\n",
       "    </tr>\n",
       "  </tbody>\n",
       "</table>\n",
       "</div>"
      ],
      "text/plain": [
       "                                                 name PARTY STATEABBR  \\\n",
       "handle         ELECTIONDATE                                             \n",
       "carlforalabama 2022-05-24               Jerry L. Carl     R        AL   \n",
       "terellanderson 2022-05-24    Reginald Terell Anderson     D        AL   \n",
       "phyllisdhhall  2022-05-24         Phyllis Harvey-Hall     D        AL   \n",
       "\n",
       "                                          RACE  DISTRICT  VOTE_SHARE NOTES  \\\n",
       "handle         ELECTIONDATE                                                  \n",
       "carlforalabama 2022-05-24    US Representative       1.0         NaN     C   \n",
       "terellanderson 2022-05-24    US Representative       2.0         NaN    WD   \n",
       "phyllisdhhall  2022-05-24    US Representative       2.0        68.8   NaN   \n",
       "\n",
       "                             NONPARTISAN_PRIMARY  DISTRICT_CORR STATE_CORR  \\\n",
       "handle         ELECTIONDATE                                                  \n",
       "carlforalabama 2022-05-24                    NaN            NaN        NaN   \n",
       "terellanderson 2022-05-24                    NaN            NaN        NaN   \n",
       "phyllisdhhall  2022-05-24                    NaN            NaN        NaN   \n",
       "\n",
       "                             RUNOFF_PERC  RANKED_CHOICE_VOTING  \n",
       "handle         ELECTIONDATE                                     \n",
       "carlforalabama 2022-05-24            NaN                   NaN  \n",
       "terellanderson 2022-05-24            NaN                   NaN  \n",
       "phyllisdhhall  2022-05-24            NaN                   NaN  "
      ]
     },
     "execution_count": 61,
     "metadata": {},
     "output_type": "execute_result"
    }
   ],
   "source": [
    "fname = \"primaries_for_margin_research_RW_JL.csv\"\n",
    "margins = pd.read_csv(Path(src, \"raw\", fname), parse_dates=[\"ELECTIONDATE\"], dayfirst=True)\n",
    "margins = margins.drop(columns=\"COMPLETE\")\n",
    "margins = margins.dropna(subset=[\"handle\"])\n",
    "margins = margins.set_index([\"handle\", \"ELECTIONDATE\"])\n",
    "margins.head(3)"
   ]
  },
  {
   "cell_type": "code",
   "execution_count": 62,
   "id": "ba847960-80b9-444f-8a78-df64bce75e1b",
   "metadata": {},
   "outputs": [],
   "source": [
    "fname = \"combined_midterm_candidate_timelines_2022-01-01_to_2023-05-01_clean.csv.gzip\"\n",
    "cols = [\"id\", \"author_id\", \"created_at\", \"retweeted\", \"quoted\",\n",
    "        \"reply\", \"text\", \"retweet_count\", \"reply_count\", \"like_count\",\n",
    "        \"quote_count\"]\n",
    "tweets = pd.read_csv(\n",
    "    Path(src, \"raw\", fname),\n",
    "    dtype={\"id\":str, \"author_id\":str},\n",
    "    parse_dates=[\"created_at\"],\n",
    "    compression=\"gzip\",\n",
    "    usecols=cols\n",
    ")"
   ]
  },
  {
   "cell_type": "markdown",
   "id": "23d5e8a2-54d5-4881-a77a-b5cfe9ca1d98",
   "metadata": {},
   "source": [
    "## Data wrangling"
   ]
  },
  {
   "cell_type": "code",
   "execution_count": 63,
   "id": "a66bda9f-2d51-4053-b5b5-f58440806e06",
   "metadata": {},
   "outputs": [
    {
     "data": {
      "text/plain": [
       "1204"
      ]
     },
     "execution_count": 63,
     "metadata": {},
     "output_type": "execute_result"
    }
   ],
   "source": [
    "# retain only candidates that ran\n",
    "knowwho_profiles = knowwho_profiles[knowwho_profiles[\"STATUS\"] == \"Running\"]\\\n",
    "    .reset_index(drop=True)\n",
    "# retain only candidates that have a Twitter profile\n",
    "knowwho_profiles = knowwho_profiles.dropna(subset=[\"handle\"])\n",
    "# drop unnecessary columns\n",
    "knowwho_profiles = knowwho_profiles.drop(columns=[\"STATUS\", \"ELECTIONCODE\"])\n",
    "len(knowwho_profiles)"
   ]
  },
  {
   "cell_type": "code",
   "execution_count": 64,
   "id": "d1281acf-0dae-47c1-af2d-51950b187385",
   "metadata": {},
   "outputs": [
    {
     "name": "stderr",
     "output_type": "stream",
     "text": [
      "/tmp/ipykernel_39106/171868658.py:4: FutureWarning: Downcasting behavior in `replace` is deprecated and will be removed in a future version. To retain the old behavior, explicitly call `result.infer_objects(copy=False)`. To opt-in to the future behavior, set `pd.set_option('future.no_silent_downcasting', True)`\n",
      "  knowwho_profiles[\"INCUMBENT\"] = knowwho_profiles[\"INCUMBENT\"].replace({\"Y\":1})\n"
     ]
    }
   ],
   "source": [
    "# incumbents are coded as \"Y\" if candidate is an incumbent and as NA if not\n",
    "# transform this into a binary coding\n",
    "knowwho_profiles[\"INCUMBENT\"] = knowwho_profiles[\"INCUMBENT\"].fillna(0)\n",
    "knowwho_profiles[\"INCUMBENT\"] = knowwho_profiles[\"INCUMBENT\"].replace({\"Y\":1})"
   ]
  },
  {
   "cell_type": "code",
   "execution_count": 65,
   "id": "e30d7c38-9e1d-4093-98c7-55e4842bcbec",
   "metadata": {},
   "outputs": [],
   "source": [
    "# double index is necessary since one candidate ran in two elections that are\n",
    "# differentiated by their dates\n",
    "knowwho_profiles = knowwho_profiles.set_index([\"handle\", \"ELECTIONDATE\"])\n",
    "\n",
    "# correct district entries based on manually corrected file\n",
    "knowwho_profiles = knowwho_profiles.sort_index()\n",
    "margins = margins.sort_index()\n",
    "for handle, electiondate in knowwho_profiles.index:\n",
    "    if not np.isnan(margins.loc[(handle, electiondate), \"DISTRICT_CORR\"].values[0]):\n",
    "        district = margins.loc[(handle, electiondate), \"DISTRICT_CORR\"].values[0]\n",
    "        knowwho_profiles.loc[(handle, electiondate), \"DISTRICT\"] = district"
   ]
  },
  {
   "cell_type": "code",
   "execution_count": 66,
   "id": "b3589db2-0c9a-4a3e-bce2-0ecb5c644ac5",
   "metadata": {},
   "outputs": [],
   "source": [
    "# correct state entries based on manually corrected file\n",
    "for handle, electiondate in knowwho_profiles.index:\n",
    "    if not np.isnan(margins.loc[(handle, electiondate), \"STATE_CORR\"].values[0]):\n",
    "        state = margins.loc[(handle, electiondate), \"STATE_CORR\"].values[0]\n",
    "        knowwho_profiles.loc[(handle, electiondate), \"STATEABBR\"] = state"
   ]
  },
  {
   "cell_type": "code",
   "execution_count": 67,
   "id": "d597b529-777e-4424-a49d-7bc53060896d",
   "metadata": {},
   "outputs": [],
   "source": [
    "# add ranked-choice voting entries, notes, non-partisan election entries,\n",
    "# percentages from runoff votes, and vote shares\n",
    "knowwho_profiles[\"RANKED_CHOICE_VOTING\"] = np.nan\n",
    "knowwho_profiles[\"NOTES\"] = np.nan\n",
    "knowwho_profiles[\"NOTES\"] = knowwho_profiles[\"NOTES\"].astype(object)\n",
    "knowwho_profiles[\"NONPARTISAN_PRIMARY\"] = np.nan\n",
    "knowwho_profiles[\"RUNOFF_PERC\"] = np.nan\n",
    "knowwho_profiles[\"VOTE_SHARE\"] = np.nan\n",
    "\n",
    "for handle, electiondate in knowwho_profiles.index:\n",
    "    knowwho_profiles.loc[(handle, electiondate), \"RANKED_CHOICE_VOTING\"] = \\\n",
    "        margins.loc[(handle, electiondate), \"RANKED_CHOICE_VOTING\"].values[0]\n",
    "    knowwho_profiles.loc[(handle, electiondate), \"NOTES\"] = \\\n",
    "        margins.loc[(handle, electiondate), \"NOTES\"].values[0]\n",
    "    knowwho_profiles.loc[(handle, electiondate), \"NONPARTISAN_PRIMARY\"] = \\\n",
    "        margins.loc[(handle, electiondate), \"NONPARTISAN_PRIMARY\"].values[0]\n",
    "    knowwho_profiles.loc[(handle, electiondate), \"VOTE_SHARE\"] = \\\n",
    "        margins.loc[(handle, electiondate), \"VOTE_SHARE\"].values[0]"
   ]
  },
  {
   "cell_type": "code",
   "execution_count": 68,
   "id": "53f6dd3c-2918-4d8f-ab41-3b156536d3a4",
   "metadata": {},
   "outputs": [],
   "source": [
    "# add Twitter profile handle back to data frame\n",
    "fname = \"candidate_twitter_profiles.csv\"\n",
    "cols = [\"author_id\", \"handle\"]\n",
    "users = pd.read_csv(\n",
    "    Path(src, \"tmp\", fname),\n",
    "    dtype={\"author_id\":str},\n",
    "    usecols=cols\n",
    ")\n",
    "tweets = pd.merge(\n",
    "    tweets,\n",
    "    users,\n",
    "    how=\"left\",\n",
    "    left_on=\"author_id\",\n",
    "    right_on=\"author_id\"\n",
    ")"
   ]
  },
  {
   "cell_type": "code",
   "execution_count": 69,
   "id": "796ff3a5-ebdf-464d-b8fd-c1ebdd325c53",
   "metadata": {},
   "outputs": [],
   "source": [
    "# add candidate information to the tweet data\n",
    "knowwho_profiles = knowwho_profiles.reset_index() \n",
    "knowwho_profiles = knowwho_profiles.rename(columns={\"created_at\":\"account_created_at\"})\n",
    "cols = [\"author_id\", \"account_created_at\", \"followers_count\", \"following_count\",\n",
    "        \"tweet_count\", \"INCUMBENT\", \"PARTY\", \"LEVEL\", \"CHAMBER\", \"VOTE_SHARE\", \n",
    "        \"GENDER\", \"RACE\", \"ETHNICITY\", \"NONPARTISAN_PRIMARY\",\n",
    "        \"RANKED_CHOICE_VOTING\", \"ELECTIONDATE\", \"STATEABBR\", \"DISTRICT\"]\n",
    "tweets = pd.merge(\n",
    "    tweets,\n",
    "    knowwho_profiles[cols],\n",
    "    how=\"left\",\n",
    "    left_on=\"author_id\",\n",
    "    right_on=\"author_id\"\n",
    ")"
   ]
  },
  {
   "cell_type": "code",
   "execution_count": 70,
   "id": "ab8444ec-f41b-4e42-bff5-8822437cb569",
   "metadata": {},
   "outputs": [],
   "source": [
    "# remove all tweets from candidates that were excluded from the candidate list\n",
    "tweets = tweets.dropna(subset=[\"ELECTIONDATE\"])"
   ]
  },
  {
   "cell_type": "code",
   "execution_count": 71,
   "id": "9a3247a1-f195-423f-9235-b3c461d0448f",
   "metadata": {},
   "outputs": [
    {
     "name": "stdout",
     "output_type": "stream",
     "text": [
      "0/1204\n",
      "100/1204\n",
      "200/1204\n",
      "300/1204\n",
      "400/1204\n",
      "500/1204\n",
      "600/1204\n",
      "700/1204\n",
      "800/1204\n",
      "900/1204\n",
      "1000/1204\n",
      "1100/1204\n",
      "1200/1204\n"
     ]
    }
   ],
   "source": [
    "# add information about whether a tweet happened up to 16 months before an \n",
    "# election (pilot data set 1) or at least 16 weeks after an election (pilot \n",
    "# data set 2). Tweets that are neither are # part of the study data set\n",
    "knowwho_profiles = knowwho_profiles.set_index([\"handle\", \"ELECTIONDATE\"])\n",
    "tweets[\"AFTER_ELECTION\"] = np.nan\n",
    "tweets = tweets.set_index(\"id\")\n",
    "i = 0\n",
    "for handle, electiondate in knowwho_profiles.index:\n",
    "    if i%100 == 0:\n",
    "        print(f\"{i}/{len(knowwho_profiles)}\")\n",
    "    candidate_tweets = tweets[tweets[\"handle\"] == handle]\n",
    "    candidate_tweets_before_index = candidate_tweets[\n",
    "        (candidate_tweets[\"created_at\"].dt.date <= electiondate.date())\n",
    "    ].index\n",
    "    candidate_tweets_after_index = candidate_tweets[\n",
    "        (candidate_tweets[\"created_at\"].dt.date > electiondate.date())\n",
    "    ].index\n",
    "\n",
    "    tweets.loc[candidate_tweets_before_index, \"AFTER_ELECTION\"] = 0\n",
    "    tweets.loc[candidate_tweets_after_index, \"AFTER_ELECTION\"] = 1\n",
    "    i += 1"
   ]
  },
  {
   "cell_type": "code",
   "execution_count": 72,
   "id": "f2a2f9dc-9da0-4fe2-afa1-d2131f2fde7c",
   "metadata": {},
   "outputs": [],
   "source": [
    "# calculate the tweet length - needed later to correct the belief-speaking and\n",
    "# fact-speaking scores for length bias\n",
    "tweets[\"tweet_length\"] = tweets[\"text\"].apply(lambda x: len(x))\n",
    "\n",
    "# calculate the number of words in a tweet\n",
    "def count_words(x):\n",
    "    x = str(x).split()\n",
    "    x_filter = filter(lambda x: x != '@user', x)\n",
    "    x_filter = list(x_filter)\n",
    "    return len(x_filter)\n",
    "tweets[\"N_words\"] = tweets[\"text\"].apply(count_words)\n",
    "\n",
    "# remove tweets with 10 or less words\n",
    "tweets = tweets[tweets[\"N_words\"] > 10]"
   ]
  },
  {
   "cell_type": "code",
   "execution_count": 73,
   "id": "50809f4c-e163-4ce8-ba9b-f3e4c9b33384",
   "metadata": {},
   "outputs": [
    {
     "data": {
      "text/plain": [
       "AFTER_ELECTION\n",
       "1.0    341988\n",
       "0.0    252492\n",
       "Name: count, dtype: int64"
      ]
     },
     "execution_count": 73,
     "metadata": {},
     "output_type": "execute_result"
    }
   ],
   "source": [
    "tweets[\"AFTER_ELECTION\"].value_counts()"
   ]
  },
  {
   "cell_type": "markdown",
   "id": "f26ba0f2-504f-4009-8fb3-b15f3bc7b78c",
   "metadata": {},
   "source": [
    "## Create pilot data sets"
   ]
  },
  {
   "cell_type": "code",
   "execution_count": 74,
   "id": "d27bd1a7-b326-433e-a0f5-f742c4175c7c",
   "metadata": {},
   "outputs": [
    {
     "name": "stdout",
     "output_type": "stream",
     "text": [
      "0/1204\n",
      "100/1204\n",
      "200/1204\n",
      "300/1204\n",
      "400/1204\n",
      "500/1204\n",
      "600/1204\n",
      "700/1204\n",
      "800/1204\n",
      "900/1204\n",
      "1000/1204\n",
      "1100/1204\n",
      "1200/1204\n"
     ]
    }
   ],
   "source": [
    "# extract tweets from at least 16 weeks before or after election dates\n",
    "pilot_data1 = pd.DataFrame() # data from before elections\n",
    "pilot_data2 = pd.DataFrame() # data from after elections\n",
    "\n",
    "i = 0\n",
    "for handle, electiondate in knowwho_profiles.index:\n",
    "    if i%100 == 0:\n",
    "        print(f\"{i}/{len(knowwho_profiles)}\")\n",
    "    candidate_tweets = tweets[tweets[\"handle\"] == handle]\n",
    "    candidate_tweets_before = candidate_tweets[\n",
    "        (candidate_tweets[\"created_at\"].dt.date <= electiondate.date() - pd.Timedelta(days=16 * 7))\n",
    "    ].copy()\n",
    "    candidate_tweets_after = candidate_tweets[\n",
    "        (candidate_tweets[\"created_at\"].dt.date > electiondate.date() + pd.Timedelta(days=16 * 7))\n",
    "    ].copy()\n",
    "    pilot_data1 = pd.concat([pilot_data1, candidate_tweets_before])\n",
    "    pilot_data2 = pd.concat([pilot_data2, candidate_tweets_after])\n",
    "    i += 1\n",
    "\n",
    "pilot_data1 = pilot_data1.reset_index()\n",
    "pilot_data2 = pilot_data2.reset_index()"
   ]
  },
  {
   "cell_type": "code",
   "execution_count": 75,
   "id": "f892ff33-7450-45cb-8032-4c0a1a549a74",
   "metadata": {},
   "outputs": [
    {
     "data": {
      "text/html": [
       "<div>\n",
       "<style scoped>\n",
       "    .dataframe tbody tr th:only-of-type {\n",
       "        vertical-align: middle;\n",
       "    }\n",
       "\n",
       "    .dataframe tbody tr th {\n",
       "        vertical-align: top;\n",
       "    }\n",
       "\n",
       "    .dataframe thead th {\n",
       "        text-align: right;\n",
       "    }\n",
       "</style>\n",
       "<table border=\"1\" class=\"dataframe\">\n",
       "  <thead>\n",
       "    <tr style=\"text-align: right;\">\n",
       "      <th></th>\n",
       "      <th>id</th>\n",
       "      <th>author_id</th>\n",
       "      <th>created_at</th>\n",
       "      <th>retweeted</th>\n",
       "      <th>quoted</th>\n",
       "      <th>reply</th>\n",
       "      <th>text</th>\n",
       "      <th>retweet_count</th>\n",
       "      <th>reply_count</th>\n",
       "      <th>like_count</th>\n",
       "      <th>...</th>\n",
       "      <th>RACE</th>\n",
       "      <th>ETHNICITY</th>\n",
       "      <th>NONPARTISAN_PRIMARY</th>\n",
       "      <th>RANKED_CHOICE_VOTING</th>\n",
       "      <th>ELECTIONDATE</th>\n",
       "      <th>STATEABBR</th>\n",
       "      <th>DISTRICT</th>\n",
       "      <th>AFTER_ELECTION</th>\n",
       "      <th>tweet_length</th>\n",
       "      <th>N_words</th>\n",
       "    </tr>\n",
       "  </thead>\n",
       "  <tbody>\n",
       "    <tr>\n",
       "      <th>0</th>\n",
       "      <td>1485665816934686724</td>\n",
       "      <td>434343925</td>\n",
       "      <td>2022-01-24 17:28:27+00:00</td>\n",
       "      <td>False</td>\n",
       "      <td>False</td>\n",
       "      <td>False</td>\n",
       "      <td>A full and fun day with fellow believers of me...</td>\n",
       "      <td>0</td>\n",
       "      <td>1</td>\n",
       "      <td>1</td>\n",
       "      <td>...</td>\n",
       "      <td>US Representative</td>\n",
       "      <td>White/Caucasian</td>\n",
       "      <td>NaN</td>\n",
       "      <td>NaN</td>\n",
       "      <td>2022-05-17</td>\n",
       "      <td>NC</td>\n",
       "      <td>6.0</td>\n",
       "      <td>0.0</td>\n",
       "      <td>166</td>\n",
       "      <td>25</td>\n",
       "    </tr>\n",
       "    <tr>\n",
       "      <th>1</th>\n",
       "      <td>1481040751987290115</td>\n",
       "      <td>434343925</td>\n",
       "      <td>2022-01-11 23:10:06+00:00</td>\n",
       "      <td>False</td>\n",
       "      <td>False</td>\n",
       "      <td>False</td>\n",
       "      <td>Congratulations go out to our second prize win...</td>\n",
       "      <td>1</td>\n",
       "      <td>0</td>\n",
       "      <td>1</td>\n",
       "      <td>...</td>\n",
       "      <td>US Representative</td>\n",
       "      <td>White/Caucasian</td>\n",
       "      <td>NaN</td>\n",
       "      <td>NaN</td>\n",
       "      <td>2022-05-17</td>\n",
       "      <td>NC</td>\n",
       "      <td>6.0</td>\n",
       "      <td>0.0</td>\n",
       "      <td>214</td>\n",
       "      <td>32</td>\n",
       "    </tr>\n",
       "  </tbody>\n",
       "</table>\n",
       "<p>2 rows × 32 columns</p>\n",
       "</div>"
      ],
      "text/plain": [
       "                    id  author_id                created_at  retweeted  \\\n",
       "0  1485665816934686724  434343925 2022-01-24 17:28:27+00:00      False   \n",
       "1  1481040751987290115  434343925 2022-01-11 23:10:06+00:00      False   \n",
       "\n",
       "   quoted  reply                                               text  \\\n",
       "0   False  False  A full and fun day with fellow believers of me...   \n",
       "1   False  False  Congratulations go out to our second prize win...   \n",
       "\n",
       "   retweet_count  reply_count  like_count  ...               RACE  \\\n",
       "0              0            1           1  ...  US Representative   \n",
       "1              1            0           1  ...  US Representative   \n",
       "\n",
       "         ETHNICITY NONPARTISAN_PRIMARY  RANKED_CHOICE_VOTING  ELECTIONDATE  \\\n",
       "0  White/Caucasian                 NaN                   NaN    2022-05-17   \n",
       "1  White/Caucasian                 NaN                   NaN    2022-05-17   \n",
       "\n",
       "   STATEABBR  DISTRICT AFTER_ELECTION tweet_length N_words  \n",
       "0         NC       6.0            0.0          166      25  \n",
       "1         NC       6.0            0.0          214      32  \n",
       "\n",
       "[2 rows x 32 columns]"
      ]
     },
     "execution_count": 75,
     "metadata": {},
     "output_type": "execute_result"
    }
   ],
   "source": [
    "pilot_data1.head(2)"
   ]
  },
  {
   "cell_type": "markdown",
   "id": "04c036c1-4dcf-4e1b-8e0a-f042f384f144",
   "metadata": {},
   "source": [
    "## Create study data set"
   ]
  },
  {
   "cell_type": "code",
   "execution_count": 76,
   "id": "c0790c0d-48ef-41a5-8515-79c9cc522718",
   "metadata": {},
   "outputs": [
    {
     "name": "stdout",
     "output_type": "stream",
     "text": [
      "0/1204\n",
      "100/1204\n",
      "200/1204\n",
      "300/1204\n",
      "400/1204\n",
      "500/1204\n",
      "600/1204\n",
      "700/1204\n",
      "800/1204\n",
      "900/1204\n",
      "1000/1204\n",
      "1100/1204\n",
      "1200/1204\n"
     ]
    }
   ],
   "source": [
    "study_data = pd.DataFrame()\n",
    "i = 0\n",
    "for handle, electiondate in knowwho_profiles.index:\n",
    "    if i%100 == 0:\n",
    "        print(f\"{i}/{len(knowwho_profiles)}\")\n",
    "    # select only tweets of the candidate from the four weeks before and after \n",
    "    # the election date\n",
    "    candidate_tweets = tweets[tweets[\"handle\"] == handle]\n",
    "    candidate_tweets_before = candidate_tweets[\n",
    "        (candidate_tweets[\"created_at\"].dt.date <= electiondate.date()) & \\\n",
    "        (candidate_tweets[\"created_at\"].dt.date >= electiondate.date() - pd.Timedelta(days=28))\n",
    "    ].copy()\n",
    "    candidate_tweets_after = candidate_tweets[\n",
    "        (candidate_tweets[\"created_at\"].dt.date > electiondate.date()) & \\\n",
    "        (candidate_tweets[\"created_at\"].dt.date <= electiondate.date() + pd.Timedelta(days=28))\n",
    "    ].copy()\n",
    "\n",
    "    candidate_tweets_before[\"AFTER_ELECTION\"] = 0\n",
    "    candidate_tweets_after[\"AFTER_ELECTION\"] = 1\n",
    "    study_data = pd.concat([study_data, candidate_tweets_before, candidate_tweets_after])\n",
    "    i = i + 1\n",
    "\n",
    "study_data = study_data.reset_index()"
   ]
  },
  {
   "cell_type": "code",
   "execution_count": 77,
   "id": "887d8483-d1b4-4588-8252-6d48d0ca70b2",
   "metadata": {},
   "outputs": [
    {
     "data": {
      "text/html": [
       "<div>\n",
       "<style scoped>\n",
       "    .dataframe tbody tr th:only-of-type {\n",
       "        vertical-align: middle;\n",
       "    }\n",
       "\n",
       "    .dataframe tbody tr th {\n",
       "        vertical-align: top;\n",
       "    }\n",
       "\n",
       "    .dataframe thead th {\n",
       "        text-align: right;\n",
       "    }\n",
       "</style>\n",
       "<table border=\"1\" class=\"dataframe\">\n",
       "  <thead>\n",
       "    <tr style=\"text-align: right;\">\n",
       "      <th></th>\n",
       "      <th>id</th>\n",
       "      <th>author_id</th>\n",
       "      <th>created_at</th>\n",
       "      <th>retweeted</th>\n",
       "      <th>quoted</th>\n",
       "      <th>reply</th>\n",
       "      <th>text</th>\n",
       "      <th>retweet_count</th>\n",
       "      <th>reply_count</th>\n",
       "      <th>like_count</th>\n",
       "      <th>...</th>\n",
       "      <th>RACE</th>\n",
       "      <th>ETHNICITY</th>\n",
       "      <th>NONPARTISAN_PRIMARY</th>\n",
       "      <th>RANKED_CHOICE_VOTING</th>\n",
       "      <th>ELECTIONDATE</th>\n",
       "      <th>STATEABBR</th>\n",
       "      <th>DISTRICT</th>\n",
       "      <th>AFTER_ELECTION</th>\n",
       "      <th>tweet_length</th>\n",
       "      <th>N_words</th>\n",
       "    </tr>\n",
       "  </thead>\n",
       "  <tbody>\n",
       "    <tr>\n",
       "      <th>0</th>\n",
       "      <td>1516921218540179457</td>\n",
       "      <td>434343925</td>\n",
       "      <td>2022-04-20 23:26:16+00:00</td>\n",
       "      <td>False</td>\n",
       "      <td>False</td>\n",
       "      <td>False</td>\n",
       "      <td>If I took a shot every time “Ted Budd” has bee...</td>\n",
       "      <td>0</td>\n",
       "      <td>3</td>\n",
       "      <td>7</td>\n",
       "      <td>...</td>\n",
       "      <td>US Representative</td>\n",
       "      <td>White/Caucasian</td>\n",
       "      <td>NaN</td>\n",
       "      <td>NaN</td>\n",
       "      <td>2022-05-17</td>\n",
       "      <td>NC</td>\n",
       "      <td>6.0</td>\n",
       "      <td>0</td>\n",
       "      <td>125</td>\n",
       "      <td>25</td>\n",
       "    </tr>\n",
       "    <tr>\n",
       "      <th>1</th>\n",
       "      <td>1524220346110337024</td>\n",
       "      <td>434343925</td>\n",
       "      <td>2022-05-11 02:50:23+00:00</td>\n",
       "      <td>False</td>\n",
       "      <td>False</td>\n",
       "      <td>False</td>\n",
       "      <td>Enjoyed Attending Michelle Bardsley’s campaign...</td>\n",
       "      <td>0</td>\n",
       "      <td>0</td>\n",
       "      <td>0</td>\n",
       "      <td>...</td>\n",
       "      <td>US Representative</td>\n",
       "      <td>White/Caucasian</td>\n",
       "      <td>NaN</td>\n",
       "      <td>NaN</td>\n",
       "      <td>2022-05-17</td>\n",
       "      <td>NC</td>\n",
       "      <td>6.0</td>\n",
       "      <td>0</td>\n",
       "      <td>172</td>\n",
       "      <td>22</td>\n",
       "    </tr>\n",
       "  </tbody>\n",
       "</table>\n",
       "<p>2 rows × 32 columns</p>\n",
       "</div>"
      ],
      "text/plain": [
       "                    id  author_id                created_at  retweeted  \\\n",
       "0  1516921218540179457  434343925 2022-04-20 23:26:16+00:00      False   \n",
       "1  1524220346110337024  434343925 2022-05-11 02:50:23+00:00      False   \n",
       "\n",
       "   quoted  reply                                               text  \\\n",
       "0   False  False  If I took a shot every time “Ted Budd” has bee...   \n",
       "1   False  False  Enjoyed Attending Michelle Bardsley’s campaign...   \n",
       "\n",
       "   retweet_count  reply_count  like_count  ...               RACE  \\\n",
       "0              0            3           7  ...  US Representative   \n",
       "1              0            0           0  ...  US Representative   \n",
       "\n",
       "         ETHNICITY NONPARTISAN_PRIMARY  RANKED_CHOICE_VOTING  ELECTIONDATE  \\\n",
       "0  White/Caucasian                 NaN                   NaN    2022-05-17   \n",
       "1  White/Caucasian                 NaN                   NaN    2022-05-17   \n",
       "\n",
       "   STATEABBR  DISTRICT AFTER_ELECTION tweet_length N_words  \n",
       "0         NC       6.0              0          125      25  \n",
       "1         NC       6.0              0          172      22  \n",
       "\n",
       "[2 rows x 32 columns]"
      ]
     },
     "execution_count": 77,
     "metadata": {},
     "output_type": "execute_result"
    }
   ],
   "source": [
    "study_data.head(2)"
   ]
  },
  {
   "cell_type": "markdown",
   "id": "9365f026-8a64-47e7-8be6-2488fdab2439",
   "metadata": {},
   "source": [
    "## Save raw data sets for honesty score calculation"
   ]
  },
  {
   "cell_type": "code",
   "execution_count": 78,
   "id": "98f8eb5e-5c8d-41ce-b119-9cb160afa421",
   "metadata": {},
   "outputs": [],
   "source": [
    "fname = \"pilot_data1_text.csv.gzip\"\n",
    "pilot_data1[[\"text\", \"id\"]].to_csv(Path(src, \"tmp\", fname), compression=\"gzip\", index=False)\n",
    "\n",
    "fname = \"pilot_data2_text.csv.gzip\"\n",
    "pilot_data2[[\"text\", \"id\"]].to_csv(Path(src, \"tmp\", fname), compression=\"gzip\", index=False)\n",
    "\n",
    "fname = \"study_data_text.csv.gzip\"\n",
    "study_data[[\"text\", \"id\"]].to_csv(Path(src, \"tmp\", fname), compression=\"gzip\", index=False)"
   ]
  },
  {
   "cell_type": "markdown",
   "id": "9b4718c4-d56e-455e-8f67-39a3bac09011",
   "metadata": {},
   "source": [
    "## Save study data set for power analysis"
   ]
  },
  {
   "cell_type": "code",
   "execution_count": 79,
   "id": "34213425-cb2f-47e8-a75d-119254f65e57",
   "metadata": {},
   "outputs": [],
   "source": [
    "fname = \"study_data.csv.gzip\"\n",
    "study_data.drop(columns=[\"text\"]).to_csv(Path(dst, fname), compression=\"gzip\", index=False)"
   ]
  },
  {
   "cell_type": "markdown",
   "id": "c4d8fccf-a425-47a4-8f95-a00f0059c375",
   "metadata": {},
   "source": [
    "## Add belief-speaking and fact-speaking scores"
   ]
  },
  {
   "cell_type": "code",
   "execution_count": 80,
   "id": "ac781b72-457b-44c8-8906-6991510f77fb",
   "metadata": {},
   "outputs": [
    {
     "name": "stdout",
     "output_type": "stream",
     "text": [
      "INFO: Pandarallel will run on 15 workers.\n",
      "INFO: Pandarallel will use Memory file system to transfer data between the main process and workers.\n",
      "/home/jana/Projects/CSS_honesty/analysis/midterms/honesty-midterms/code/.//compute_sbert_avg_lexicon.py:33: FutureWarning: A value is trying to be set on a copy of a DataFrame or Series through chained assignment using an inplace method.\n",
      "The behavior will change in pandas 3.0. This inplace method will never work because the intermediate object on which we are setting values always behaves as a copy.\n",
      "\n",
      "For example, when doing 'df[col].method(value, inplace=True)', try using 'df.method({col: value}, inplace=True)' or df[col] = df[col].method(value) instead, to perform the operation inplace on the original object.\n",
      "\n",
      "\n",
      "  df[\"text\"].replace(\n",
      "/home/jana/Projects/CSS_honesty/analysis/midterms/honesty-midterms/code/.//compute_sbert_avg_lexicon.py:49: SettingWithCopyWarning: \n",
      "A value is trying to be set on a copy of a slice from a DataFrame.\n",
      "Try using .loc[row_indexer,col_indexer] = value instead\n",
      "\n",
      "See the caveats in the documentation: https://pandas.pydata.org/pandas-docs/stable/user_guide/indexing.html#returning-a-view-versus-a-copy\n",
      "  df['id'] = df['id'].str.replace('\"', '')\n",
      "/home/jana/Projects/CSS_honesty/analysis/midterms/honesty-midterms/code/.//compute_sbert_avg_lexicon.py:57: SettingWithCopyWarning: \n",
      "A value is trying to be set on a copy of a slice from a DataFrame.\n",
      "Try using .loc[row_indexer,col_indexer] = value instead\n",
      "\n",
      "See the caveats in the documentation: https://pandas.pydata.org/pandas-docs/stable/user_guide/indexing.html#returning-a-view-versus-a-copy\n",
      "  df['length'] = df.text.parallel_apply(tw_len)\n",
      "Batches: 100%|██████████████████████████████████| 82/82 [00:03<00:00, 21.89it/s]\n",
      "Batches: 100%|██████████████████████████████████| 1/1 [00:00<00:00, 1848.53it/s]\n",
      "Batches: 100%|██████████████████████████████████| 1/1 [00:00<00:00, 1088.58it/s]\n",
      "                    id  avg_fact_score  avg_belief_score\n",
      "0  1485665816934686724        0.649483          0.688581\n",
      "1  1481040751987290115        0.562163          0.645549\n",
      "2  1478952190320734209        0.472821          0.551429\n",
      "3  1491081419120119813        0.710702          0.830833\n",
      "4  1490747189802323969        0.629948          0.707504\n",
      "INFO: Pandarallel will run on 15 workers.\n",
      "INFO: Pandarallel will use Memory file system to transfer data between the main process and workers.\n",
      "/home/jana/Projects/CSS_honesty/analysis/midterms/honesty-midterms/code/.//compute_sbert_avg_lexicon.py:33: FutureWarning: A value is trying to be set on a copy of a DataFrame or Series through chained assignment using an inplace method.\n",
      "The behavior will change in pandas 3.0. This inplace method will never work because the intermediate object on which we are setting values always behaves as a copy.\n",
      "\n",
      "For example, when doing 'df[col].method(value, inplace=True)', try using 'df.method({col: value}, inplace=True)' or df[col] = df[col].method(value) instead, to perform the operation inplace on the original object.\n",
      "\n",
      "\n",
      "  df[\"text\"].replace(\n",
      "/home/jana/Projects/CSS_honesty/analysis/midterms/honesty-midterms/code/.//compute_sbert_avg_lexicon.py:49: SettingWithCopyWarning: \n",
      "A value is trying to be set on a copy of a slice from a DataFrame.\n",
      "Try using .loc[row_indexer,col_indexer] = value instead\n",
      "\n",
      "See the caveats in the documentation: https://pandas.pydata.org/pandas-docs/stable/user_guide/indexing.html#returning-a-view-versus-a-copy\n",
      "  df['id'] = df['id'].str.replace('\"', '')\n",
      "/home/jana/Projects/CSS_honesty/analysis/midterms/honesty-midterms/code/.//compute_sbert_avg_lexicon.py:57: SettingWithCopyWarning: \n",
      "A value is trying to be set on a copy of a slice from a DataFrame.\n",
      "Try using .loc[row_indexer,col_indexer] = value instead\n",
      "\n",
      "See the caveats in the documentation: https://pandas.pydata.org/pandas-docs/stable/user_guide/indexing.html#returning-a-view-versus-a-copy\n",
      "  df['length'] = df.text.parallel_apply(tw_len)\n",
      "Batches: 100%|████████████████████████████████| 189/189 [00:08<00:00, 21.96it/s]\n",
      "Batches: 100%|██████████████████████████████████| 1/1 [00:00<00:00, 1737.49it/s]\n",
      "Batches: 100%|██████████████████████████████████| 1/1 [00:00<00:00, 1634.57it/s]\n",
      "                    id  avg_fact_score  avg_belief_score\n",
      "0  1577798259451363328        0.706518          0.819517\n",
      "2  1578200153382453249        0.599302          0.782944\n",
      "3  1577452188346896384        0.734410          0.809395\n",
      "4  1577383623610597376        0.723950          0.867299\n",
      "5  1577164293681709057        0.668196          0.712997\n"
     ]
    }
   ],
   "source": [
    "# note: this needs the sentence embedding transformer model under \n",
    "# ../data/utilities/sentence-transformers\n",
    "! sh label_glove840B_DDR.sh"
   ]
  },
  {
   "cell_type": "markdown",
   "id": "28840016-6728-4d72-9398-bcb7a53efa6f",
   "metadata": {},
   "source": [
    "Note: for this to work, the following files need to have been created by the script **label_glove840B_DDR.sh** called above:\n",
    "* data/tmp/pilot_data1_honesty_component_scores.csv.gzip\n",
    "* data/tmp/pilot_data2_honesty_component_scores.csv.gzip"
   ]
  },
  {
   "cell_type": "code",
   "execution_count": 81,
   "id": "91fd19e9-f2d3-4bc1-8159-a9485997763d",
   "metadata": {},
   "outputs": [],
   "source": [
    "# load the embedding scores for belief-speaking and truth-seeking for the pilot\n",
    "# data sets\n",
    "fname = \"pilot_data1_honesty_component_scores.csv.gzip\"\n",
    "honesty_scores_pilot1 = pd.read_csv(\n",
    "    Path(src, \"tmp\", fname),\n",
    "    dtype={\"id\":str}, \n",
    "    compression=\"gzip\"\n",
    ").rename(columns={\"avg_fact_score\":\"avg_fact_score_raw\", \"avg_belief_score\":\"avg_belief_score_raw\"})\n",
    "\n",
    "fname = \"pilot_data2_honesty_component_scores.csv.gzip\"\n",
    "honesty_scores_pilot2 = pd.read_csv(\n",
    "    Path(src, \"tmp\", fname),\n",
    "    dtype={\"id\":str}, \n",
    "    compression=\"gzip\"\n",
    ").rename(columns={\"avg_fact_score\":\"avg_fact_score_raw\", \"avg_belief_score\":\"avg_belief_score_raw\"})\n",
    "\n",
    "# TODO\n",
    "# honesty scores for study data"
   ]
  },
  {
   "cell_type": "code",
   "execution_count": 82,
   "id": "9c468c69-7500-435d-87a3-aaedff65dff9",
   "metadata": {},
   "outputs": [
    {
     "data": {
      "text/html": [
       "<div>\n",
       "<style scoped>\n",
       "    .dataframe tbody tr th:only-of-type {\n",
       "        vertical-align: middle;\n",
       "    }\n",
       "\n",
       "    .dataframe tbody tr th {\n",
       "        vertical-align: top;\n",
       "    }\n",
       "\n",
       "    .dataframe thead th {\n",
       "        text-align: right;\n",
       "    }\n",
       "</style>\n",
       "<table border=\"1\" class=\"dataframe\">\n",
       "  <thead>\n",
       "    <tr style=\"text-align: right;\">\n",
       "      <th></th>\n",
       "      <th>id</th>\n",
       "      <th>avg_fact_score_raw</th>\n",
       "      <th>avg_belief_score_raw</th>\n",
       "    </tr>\n",
       "  </thead>\n",
       "  <tbody>\n",
       "    <tr>\n",
       "      <th>0</th>\n",
       "      <td>1485665816934686724</td>\n",
       "      <td>0.649483</td>\n",
       "      <td>0.688581</td>\n",
       "    </tr>\n",
       "    <tr>\n",
       "      <th>1</th>\n",
       "      <td>1481040751987290115</td>\n",
       "      <td>0.562164</td>\n",
       "      <td>0.645549</td>\n",
       "    </tr>\n",
       "    <tr>\n",
       "      <th>2</th>\n",
       "      <td>1478952190320734209</td>\n",
       "      <td>0.472821</td>\n",
       "      <td>0.551429</td>\n",
       "    </tr>\n",
       "  </tbody>\n",
       "</table>\n",
       "</div>"
      ],
      "text/plain": [
       "                    id  avg_fact_score_raw  avg_belief_score_raw\n",
       "0  1485665816934686724            0.649483              0.688581\n",
       "1  1481040751987290115            0.562164              0.645549\n",
       "2  1478952190320734209            0.472821              0.551429"
      ]
     },
     "execution_count": 82,
     "metadata": {},
     "output_type": "execute_result"
    }
   ],
   "source": [
    "honesty_scores_pilot1.head(3)"
   ]
  },
  {
   "cell_type": "code",
   "execution_count": 83,
   "id": "e30a21eb-4ca0-44fc-b29d-34d9e56f81cb",
   "metadata": {},
   "outputs": [],
   "source": [
    "# add honesty scores to the pilot data sets\n",
    "pilot_data1 = pd.merge(\n",
    "    pilot_data1,\n",
    "    honesty_scores_pilot1,\n",
    "    how=\"left\",\n",
    "    left_on=\"id\",\n",
    "    right_on=\"id\"\n",
    ")\n",
    "pilot_data2 = pd.merge(\n",
    "    pilot_data2,\n",
    "    honesty_scores_pilot2,\n",
    "    how=\"left\",\n",
    "    left_on=\"id\",\n",
    "    right_on=\"id\"\n",
    ")\n",
    "\n",
    "# TODO\n",
    "# merge honesty scores with study data\n",
    "\n",
    "# tweets with <20 characters of length don't get an honesty score and are\n",
    "# dropped\n",
    "pilot_data1 = pilot_data1.dropna(subset=[\"avg_belief_score_raw\"])\n",
    "pilot_data2 = pilot_data2.dropna(subset=[\"avg_belief_score_raw\"])\n",
    "# TODO: study data"
   ]
  },
  {
   "cell_type": "code",
   "execution_count": 84,
   "id": "a8c65d23-2352-4520-8d46-b617b9e911ef",
   "metadata": {},
   "outputs": [
    {
     "name": "stdout",
     "output_type": "stream",
     "text": [
      "pilot data 1: belief-speaking slope: 0.00019510370746800895, intercept: 0.691071541906381\n",
      "pilot data 2: belief-speaking slope: 0.0002059938213591441, intercept: 0.6883044038187659\n",
      "pilot data 1: fact-seeking slope: 0.00029819551293054197, intercept: 0.5858483248376631\n",
      "pilot data 2: fact-seeking slope: 0.00031231523729518043, intercept: 0.5770618052326558\n"
     ]
    }
   ],
   "source": [
    "# correct the similarity scores for tweet-length effects\n",
    "def predict_belief_similarity(tweet_length, slope, intercept):\n",
    "    return intercept + slope * tweet_length\n",
    "\n",
    "def predict_fact_similarity(tweet_length, slope, intercept):\n",
    "    return intercept + slope * tweet_length\n",
    "    \n",
    "slope_belief_pilot1, intercept_belief_pilot1, rval_belief_pilot1, \\\n",
    "    pval_belief_pilot1, stderr_belief_pilot1 = \\\n",
    "    linregress(pilot_data1[\"tweet_length\"], pilot_data1[\"avg_belief_score_raw\"])\n",
    "print(f\"pilot data 1: belief-speaking slope: {slope_belief_pilot1}, intercept: {intercept_belief_pilot1}\")\n",
    "\n",
    "slope_belief_pilot2, intercept_belief_pilot2, rval_belief_pilot2, \\\n",
    "    pval_belief_pilot2, stderr_belief_pilot2 = \\\n",
    "    linregress(pilot_data2[\"tweet_length\"], pilot_data2[\"avg_belief_score_raw\"])\n",
    "print(f\"pilot data 2: belief-speaking slope: {slope_belief_pilot2}, intercept: {intercept_belief_pilot2}\")\n",
    "\n",
    "# TODO\n",
    "# fit belief-speaking for study data\n",
    "\n",
    "slope_fact_pilot1, intercept_fact_pilot1, rval_fact_pilot1, \\\n",
    "    pval_fact_pilot1, stderr_fact_pilot1 = \\\n",
    "    linregress(pilot_data1[\"tweet_length\"], pilot_data1[\"avg_fact_score_raw\"])\n",
    "print(f\"pilot data 1: fact-seeking slope: {slope_fact_pilot1}, intercept: {intercept_fact_pilot1}\")\n",
    "\n",
    "slope_fact_pilot2, intercept_fact_pilot2, rval_fact_pilot2, \\\n",
    "    pval_fact_pilot2, stderr_fact_pilot2 = \\\n",
    "    linregress(pilot_data2[\"tweet_length\"], pilot_data2[\"avg_fact_score_raw\"])\n",
    "print(f\"pilot data 2: fact-seeking slope: {slope_fact_pilot2}, intercept: {intercept_fact_pilot2}\")\n",
    "\n",
    "# TODO\n",
    "# fit fact-speaking for study data\n",
    "\n",
    "pilot_data1[\"avg_belief_score\"] = pilot_data1\\\n",
    "    .apply(lambda x: x[\"avg_belief_score_raw\"] - \\\n",
    "           predict_belief_similarity(x[\"tweet_length\"], slope_belief_pilot1, intercept_belief_pilot1), axis=1)\n",
    "pilot_data2[\"avg_belief_score\"] = pilot_data2\\\n",
    "    .apply(lambda x: x[\"avg_belief_score_raw\"] - \\\n",
    "           predict_belief_similarity(x[\"tweet_length\"], slope_belief_pilot2, intercept_belief_pilot2), axis=1)\n",
    "# TODO\n",
    "# add lenght-corrected belief-speaking scores to study data\n",
    "\n",
    "pilot_data1[\"avg_fact_score\"] = pilot_data1\\\n",
    "    .apply(lambda x: x[\"avg_fact_score_raw\"] - \\\n",
    "           predict_fact_similarity(x[\"tweet_length\"], slope_fact_pilot1, intercept_fact_pilot1), axis=1)\n",
    "pilot_data2[\"avg_fact_score\"] = pilot_data2\\\n",
    "    .apply(lambda x: x[\"avg_fact_score_raw\"] - \\\n",
    "           predict_fact_similarity(x[\"tweet_length\"], slope_fact_pilot2, intercept_fact_pilot2), axis=1)\n",
    "\n",
    "# TODO\n",
    "# add lenght-corrected fact-speaking scores to study data"
   ]
  },
  {
   "cell_type": "code",
   "execution_count": 85,
   "id": "13e5621d-7301-4e67-a47f-a67e67ca39a5",
   "metadata": {},
   "outputs": [
    {
     "data": {
      "text/html": [
       "<div>\n",
       "<style scoped>\n",
       "    .dataframe tbody tr th:only-of-type {\n",
       "        vertical-align: middle;\n",
       "    }\n",
       "\n",
       "    .dataframe tbody tr th {\n",
       "        vertical-align: top;\n",
       "    }\n",
       "\n",
       "    .dataframe thead th {\n",
       "        text-align: right;\n",
       "    }\n",
       "</style>\n",
       "<table border=\"1\" class=\"dataframe\">\n",
       "  <thead>\n",
       "    <tr style=\"text-align: right;\">\n",
       "      <th></th>\n",
       "      <th>id</th>\n",
       "      <th>author_id</th>\n",
       "      <th>created_at</th>\n",
       "      <th>retweeted</th>\n",
       "      <th>quoted</th>\n",
       "      <th>reply</th>\n",
       "      <th>text</th>\n",
       "      <th>retweet_count</th>\n",
       "      <th>reply_count</th>\n",
       "      <th>like_count</th>\n",
       "      <th>...</th>\n",
       "      <th>ELECTIONDATE</th>\n",
       "      <th>STATEABBR</th>\n",
       "      <th>DISTRICT</th>\n",
       "      <th>AFTER_ELECTION</th>\n",
       "      <th>tweet_length</th>\n",
       "      <th>N_words</th>\n",
       "      <th>avg_fact_score_raw</th>\n",
       "      <th>avg_belief_score_raw</th>\n",
       "      <th>avg_belief_score</th>\n",
       "      <th>avg_fact_score</th>\n",
       "    </tr>\n",
       "  </thead>\n",
       "  <tbody>\n",
       "    <tr>\n",
       "      <th>0</th>\n",
       "      <td>1485665816934686724</td>\n",
       "      <td>434343925</td>\n",
       "      <td>2022-01-24 17:28:27+00:00</td>\n",
       "      <td>False</td>\n",
       "      <td>False</td>\n",
       "      <td>False</td>\n",
       "      <td>A full and fun day with fellow believers of me...</td>\n",
       "      <td>0</td>\n",
       "      <td>1</td>\n",
       "      <td>1</td>\n",
       "      <td>...</td>\n",
       "      <td>2022-05-17</td>\n",
       "      <td>NC</td>\n",
       "      <td>6.0</td>\n",
       "      <td>0.0</td>\n",
       "      <td>166</td>\n",
       "      <td>25</td>\n",
       "      <td>0.649483</td>\n",
       "      <td>0.688581</td>\n",
       "      <td>-0.034877</td>\n",
       "      <td>0.014134</td>\n",
       "    </tr>\n",
       "    <tr>\n",
       "      <th>1</th>\n",
       "      <td>1481040751987290115</td>\n",
       "      <td>434343925</td>\n",
       "      <td>2022-01-11 23:10:06+00:00</td>\n",
       "      <td>False</td>\n",
       "      <td>False</td>\n",
       "      <td>False</td>\n",
       "      <td>Congratulations go out to our second prize win...</td>\n",
       "      <td>1</td>\n",
       "      <td>0</td>\n",
       "      <td>1</td>\n",
       "      <td>...</td>\n",
       "      <td>2022-05-17</td>\n",
       "      <td>NC</td>\n",
       "      <td>6.0</td>\n",
       "      <td>0.0</td>\n",
       "      <td>214</td>\n",
       "      <td>32</td>\n",
       "      <td>0.562164</td>\n",
       "      <td>0.645549</td>\n",
       "      <td>-0.087275</td>\n",
       "      <td>-0.087499</td>\n",
       "    </tr>\n",
       "  </tbody>\n",
       "</table>\n",
       "<p>2 rows × 36 columns</p>\n",
       "</div>"
      ],
      "text/plain": [
       "                    id  author_id                created_at  retweeted  \\\n",
       "0  1485665816934686724  434343925 2022-01-24 17:28:27+00:00      False   \n",
       "1  1481040751987290115  434343925 2022-01-11 23:10:06+00:00      False   \n",
       "\n",
       "   quoted  reply                                               text  \\\n",
       "0   False  False  A full and fun day with fellow believers of me...   \n",
       "1   False  False  Congratulations go out to our second prize win...   \n",
       "\n",
       "   retweet_count  reply_count  like_count  ...  ELECTIONDATE STATEABBR  \\\n",
       "0              0            1           1  ...    2022-05-17        NC   \n",
       "1              1            0           1  ...    2022-05-17        NC   \n",
       "\n",
       "  DISTRICT  AFTER_ELECTION  tweet_length  N_words  avg_fact_score_raw  \\\n",
       "0      6.0             0.0           166       25            0.649483   \n",
       "1      6.0             0.0           214       32            0.562164   \n",
       "\n",
       "  avg_belief_score_raw avg_belief_score avg_fact_score  \n",
       "0             0.688581        -0.034877       0.014134  \n",
       "1             0.645549        -0.087275      -0.087499  \n",
       "\n",
       "[2 rows x 36 columns]"
      ]
     },
     "execution_count": 85,
     "metadata": {},
     "output_type": "execute_result"
    }
   ],
   "source": [
    "pilot_data1.head(2)"
   ]
  },
  {
   "cell_type": "markdown",
   "id": "62b69878-f17e-450b-b47c-13fc73c524da",
   "metadata": {},
   "source": [
    "## Save processed data sets"
   ]
  },
  {
   "cell_type": "code",
   "execution_count": 86,
   "id": "3e11899b-0e30-4551-9439-faae9a7d3af2",
   "metadata": {},
   "outputs": [],
   "source": [
    "fname = \"pilot_data1.csv.gzip\"\n",
    "# remove tweet texts before saving for data sharing\n",
    "pilot_data1\\\n",
    "    .drop(columns=[\"text\"])\\\n",
    "    .to_csv(Path(dst, fname), compression=\"gzip\", index=False)\n",
    "\n",
    "fname = \"pilot_data2.csv.gzip\"\n",
    "pilot_data2\\\n",
    "    .drop(columns=[\"text\"])\\\n",
    "    .to_csv(Path(dst, fname), compression=\"gzip\", index=False)\n",
    "\n",
    "# TODO\n",
    "# save processed study data"
   ]
  },
  {
   "cell_type": "markdown",
   "id": "176434ce-34bb-490e-b0ab-7a99ccad7fc1",
   "metadata": {},
   "source": [
    "## Descriptive statistics"
   ]
  },
  {
   "cell_type": "markdown",
   "id": "27b22035-2e47-4895-b34e-2ad730a76410",
   "metadata": {},
   "source": [
    "### Pilot data 1"
   ]
  },
  {
   "cell_type": "code",
   "execution_count": 87,
   "id": "1becbe64-62ec-478f-a603-8d8de6458df0",
   "metadata": {},
   "outputs": [],
   "source": [
    "fname = \"pilot_data1.csv.gzip\"\n",
    "pilot_data1 = pd.read_csv(\n",
    "    Path(dst, fname), \n",
    "    compression=\"gzip\",\n",
    "    dtype={\"id\":str, \"author_id\":str},\n",
    "    parse_dates=[\"created_at\"]\n",
    ")"
   ]
  },
  {
   "cell_type": "code",
   "execution_count": 88,
   "id": "3e6bf705-23aa-4e2e-b378-f0ef65342b13",
   "metadata": {},
   "outputs": [
    {
     "data": {
      "text/plain": [
       "83185"
      ]
     },
     "execution_count": 88,
     "metadata": {},
     "output_type": "execute_result"
    }
   ],
   "source": [
    "len(pilot_data1)"
   ]
  },
  {
   "cell_type": "code",
   "execution_count": 89,
   "id": "16861432-b0e3-41c6-8c37-dfd219933f6e",
   "metadata": {},
   "outputs": [
    {
     "data": {
      "text/plain": [
       "83185"
      ]
     },
     "execution_count": 89,
     "metadata": {},
     "output_type": "execute_result"
    }
   ],
   "source": [
    "len(pilot_data1[pilot_data1[\"tweet_length\"] > 20])"
   ]
  },
  {
   "cell_type": "code",
   "execution_count": 90,
   "id": "a1d44050-ec80-4d57-8080-bbc9bade88ec",
   "metadata": {},
   "outputs": [
    {
     "data": {
      "text/plain": [
       "83185"
      ]
     },
     "execution_count": 90,
     "metadata": {},
     "output_type": "execute_result"
    }
   ],
   "source": [
    "len(pilot_data1)"
   ]
  },
  {
   "cell_type": "code",
   "execution_count": 91,
   "id": "9f95286b-3cf5-4008-a16e-3435c73e32c8",
   "metadata": {},
   "outputs": [
    {
     "data": {
      "text/plain": [
       "850"
      ]
     },
     "execution_count": 91,
     "metadata": {},
     "output_type": "execute_result"
    }
   ],
   "source": [
    "len(pilot_data1[\"author_id\"].unique())"
   ]
  },
  {
   "cell_type": "code",
   "execution_count": 92,
   "id": "c81a1b4f-52d4-429f-8d30-efde1d7a5edd",
   "metadata": {},
   "outputs": [
    {
     "data": {
      "text/plain": [
       "PARTY\n",
       "R    436\n",
       "D    414\n",
       "Name: count, dtype: int64"
      ]
     },
     "execution_count": 92,
     "metadata": {},
     "output_type": "execute_result"
    }
   ],
   "source": [
    "pilot_data1.drop_duplicates(subset=[\"author_id\"])[\"PARTY\"].value_counts()"
   ]
  },
  {
   "cell_type": "code",
   "execution_count": 93,
   "id": "172d0c1d-1fa7-477b-8d46-e99a9975d27e",
   "metadata": {},
   "outputs": [
    {
     "data": {
      "text/plain": [
       "INCUMBENT\n",
       "0.0    594\n",
       "1.0    256\n",
       "Name: count, dtype: int64"
      ]
     },
     "execution_count": 93,
     "metadata": {},
     "output_type": "execute_result"
    }
   ],
   "source": [
    "pilot_data1.drop_duplicates(subset=[\"author_id\"])[\"INCUMBENT\"].value_counts()"
   ]
  },
  {
   "cell_type": "markdown",
   "id": "7cb84935-63a5-4401-94d3-f9eabd555757",
   "metadata": {},
   "source": [
    "### Pilot data 2"
   ]
  },
  {
   "cell_type": "code",
   "execution_count": 94,
   "id": "21a73eaa-a5e8-4de2-805d-04e8a06edf96",
   "metadata": {},
   "outputs": [
    {
     "data": {
      "text/plain": [
       "193544"
      ]
     },
     "execution_count": 94,
     "metadata": {},
     "output_type": "execute_result"
    }
   ],
   "source": [
    "len(pilot_data2)"
   ]
  },
  {
   "cell_type": "code",
   "execution_count": 95,
   "id": "779d80af-b7e6-40a0-8808-241f771e9e96",
   "metadata": {},
   "outputs": [
    {
     "data": {
      "text/plain": [
       "892"
      ]
     },
     "execution_count": 95,
     "metadata": {},
     "output_type": "execute_result"
    }
   ],
   "source": [
    "len(pilot_data2[\"author_id\"].unique())"
   ]
  },
  {
   "cell_type": "code",
   "execution_count": 96,
   "id": "8757fa42-8449-495a-a5bf-2e95e12a52f8",
   "metadata": {},
   "outputs": [
    {
     "data": {
      "text/plain": [
       "PARTY\n",
       "R    459\n",
       "D    433\n",
       "Name: count, dtype: int64"
      ]
     },
     "execution_count": 96,
     "metadata": {},
     "output_type": "execute_result"
    }
   ],
   "source": [
    "pilot_data2.drop_duplicates(subset=[\"author_id\"])[\"PARTY\"].value_counts()"
   ]
  },
  {
   "cell_type": "code",
   "execution_count": 97,
   "id": "7f1113a0-08b5-4297-a093-a701ed885062",
   "metadata": {},
   "outputs": [
    {
     "data": {
      "text/plain": [
       "INCUMBENT\n",
       "0.0    578\n",
       "1.0    314\n",
       "Name: count, dtype: int64"
      ]
     },
     "execution_count": 97,
     "metadata": {},
     "output_type": "execute_result"
    }
   ],
   "source": [
    "pilot_data2.drop_duplicates(subset=[\"author_id\"])[\"INCUMBENT\"].value_counts()"
   ]
  },
  {
   "cell_type": "markdown",
   "id": "1d562718-c097-46ad-98f7-66ba40fb6661",
   "metadata": {},
   "source": [
    "### Study data"
   ]
  },
  {
   "cell_type": "code",
   "execution_count": 98,
   "id": "e925e35b-fe3f-45bd-a230-19bf794d7ce4",
   "metadata": {},
   "outputs": [
    {
     "data": {
      "text/plain": [
       "82598"
      ]
     },
     "execution_count": 98,
     "metadata": {},
     "output_type": "execute_result"
    }
   ],
   "source": [
    "len(study_data)"
   ]
  },
  {
   "cell_type": "code",
   "execution_count": 99,
   "id": "b700ec3f-2ef0-44e0-82b8-c9f85acf6101",
   "metadata": {},
   "outputs": [
    {
     "data": {
      "text/plain": [
       "AFTER_ELECTION\n",
       "0    49530\n",
       "1    33068\n",
       "Name: count, dtype: int64"
      ]
     },
     "execution_count": 99,
     "metadata": {},
     "output_type": "execute_result"
    }
   ],
   "source": [
    "study_data[\"AFTER_ELECTION\"].value_counts()"
   ]
  },
  {
   "cell_type": "code",
   "execution_count": 100,
   "id": "9c8649a7-32b3-412f-96fe-13e6ee789a98",
   "metadata": {},
   "outputs": [
    {
     "data": {
      "text/html": [
       "<div>\n",
       "<style scoped>\n",
       "    .dataframe tbody tr th:only-of-type {\n",
       "        vertical-align: middle;\n",
       "    }\n",
       "\n",
       "    .dataframe tbody tr th {\n",
       "        vertical-align: top;\n",
       "    }\n",
       "\n",
       "    .dataframe thead th {\n",
       "        text-align: right;\n",
       "    }\n",
       "</style>\n",
       "<table border=\"1\" class=\"dataframe\">\n",
       "  <thead>\n",
       "    <tr style=\"text-align: right;\">\n",
       "      <th></th>\n",
       "      <th></th>\n",
       "      <th>PARTY</th>\n",
       "      <th>INCUMBENT</th>\n",
       "      <th>N_tweets</th>\n",
       "    </tr>\n",
       "    <tr>\n",
       "      <th>handle</th>\n",
       "      <th>ELECTIONDATE</th>\n",
       "      <th></th>\n",
       "      <th></th>\n",
       "      <th></th>\n",
       "    </tr>\n",
       "  </thead>\n",
       "  <tbody>\n",
       "    <tr>\n",
       "      <th>1haywood</th>\n",
       "      <th>2022-05-17</th>\n",
       "      <td>R</td>\n",
       "      <td>0.0</td>\n",
       "      <td>3</td>\n",
       "    </tr>\n",
       "    <tr>\n",
       "      <th>aarikarhodes</th>\n",
       "      <th>2022-06-07</th>\n",
       "      <td>D</td>\n",
       "      <td>0.0</td>\n",
       "      <td>95</td>\n",
       "    </tr>\n",
       "    <tr>\n",
       "      <th>aazamishervin</th>\n",
       "      <th>2022-06-07</th>\n",
       "      <td>D</td>\n",
       "      <td>0.0</td>\n",
       "      <td>154</td>\n",
       "    </tr>\n",
       "  </tbody>\n",
       "</table>\n",
       "</div>"
      ],
      "text/plain": [
       "                           PARTY  INCUMBENT  N_tweets\n",
       "handle        ELECTIONDATE                           \n",
       "1haywood      2022-05-17       R        0.0         3\n",
       "aarikarhodes  2022-06-07       D        0.0        95\n",
       "aazamishervin 2022-06-07       D        0.0       154"
      ]
     },
     "execution_count": 100,
     "metadata": {},
     "output_type": "execute_result"
    }
   ],
   "source": [
    "candidates = study_data[[\"handle\", \"PARTY\", \"INCUMBENT\", \"ELECTIONDATE\", \"id\"]]\\\n",
    "    .groupby([\"handle\", \"PARTY\", \"INCUMBENT\", \"ELECTIONDATE\"])\\\n",
    "    .count()\\\n",
    "    .rename(columns={\"id\":\"N_tweets\"})\\\n",
    "    .reset_index()\n",
    "candidates[\"ELECTIONDATE\"] = pd.to_datetime(candidates[\"ELECTIONDATE\"])\n",
    "candidates = candidates.set_index([\"handle\", \"ELECTIONDATE\"])\n",
    "candidates.head(3)"
   ]
  },
  {
   "cell_type": "code",
   "execution_count": 101,
   "id": "c77424f0-ef26-426d-942f-87d29a0492d2",
   "metadata": {},
   "outputs": [
    {
     "data": {
      "text/plain": [
       "984"
      ]
     },
     "execution_count": 101,
     "metadata": {},
     "output_type": "execute_result"
    }
   ],
   "source": [
    "len(candidates)"
   ]
  },
  {
   "cell_type": "code",
   "execution_count": 102,
   "id": "42e087d5-2e72-4632-aa26-1337a4e9bd69",
   "metadata": {},
   "outputs": [
    {
     "data": {
      "text/plain": [
       "PARTY\n",
       "R    520\n",
       "D    464\n",
       "Name: count, dtype: int64"
      ]
     },
     "execution_count": 102,
     "metadata": {},
     "output_type": "execute_result"
    }
   ],
   "source": [
    "candidates[\"PARTY\"].value_counts()"
   ]
  },
  {
   "cell_type": "code",
   "execution_count": 103,
   "id": "7dcf1130-1c1e-4740-a589-fe71239c8d42",
   "metadata": {},
   "outputs": [
    {
     "data": {
      "text/plain": [
       "INCUMBENT\n",
       "0.0    672\n",
       "1.0    312\n",
       "Name: count, dtype: int64"
      ]
     },
     "execution_count": 103,
     "metadata": {},
     "output_type": "execute_result"
    }
   ],
   "source": [
    "candidates[\"INCUMBENT\"].value_counts()"
   ]
  },
  {
   "cell_type": "code",
   "execution_count": 104,
   "id": "28a3a8a8-4940-439e-9a7b-59d70383d859",
   "metadata": {},
   "outputs": [
    {
     "data": {
      "text/html": [
       "<div>\n",
       "<style scoped>\n",
       "    .dataframe tbody tr th:only-of-type {\n",
       "        vertical-align: middle;\n",
       "    }\n",
       "\n",
       "    .dataframe tbody tr th {\n",
       "        vertical-align: top;\n",
       "    }\n",
       "\n",
       "    .dataframe thead th {\n",
       "        text-align: right;\n",
       "    }\n",
       "</style>\n",
       "<table border=\"1\" class=\"dataframe\">\n",
       "  <thead>\n",
       "    <tr style=\"text-align: right;\">\n",
       "      <th></th>\n",
       "      <th></th>\n",
       "      <th>PARTY</th>\n",
       "      <th>INCUMBENT</th>\n",
       "      <th>N_tweets</th>\n",
       "      <th>N_tweets_before</th>\n",
       "      <th>N_tweets_after</th>\n",
       "    </tr>\n",
       "    <tr>\n",
       "      <th>handle</th>\n",
       "      <th>ELECTIONDATE</th>\n",
       "      <th></th>\n",
       "      <th></th>\n",
       "      <th></th>\n",
       "      <th></th>\n",
       "      <th></th>\n",
       "    </tr>\n",
       "  </thead>\n",
       "  <tbody>\n",
       "    <tr>\n",
       "      <th>1haywood</th>\n",
       "      <th>2022-05-17</th>\n",
       "      <td>R</td>\n",
       "      <td>0.0</td>\n",
       "      <td>3</td>\n",
       "      <td>2</td>\n",
       "      <td>1</td>\n",
       "    </tr>\n",
       "    <tr>\n",
       "      <th>aarikarhodes</th>\n",
       "      <th>2022-06-07</th>\n",
       "      <td>D</td>\n",
       "      <td>0.0</td>\n",
       "      <td>95</td>\n",
       "      <td>73</td>\n",
       "      <td>22</td>\n",
       "    </tr>\n",
       "    <tr>\n",
       "      <th>aazamishervin</th>\n",
       "      <th>2022-06-07</th>\n",
       "      <td>D</td>\n",
       "      <td>0.0</td>\n",
       "      <td>154</td>\n",
       "      <td>118</td>\n",
       "      <td>36</td>\n",
       "    </tr>\n",
       "  </tbody>\n",
       "</table>\n",
       "</div>"
      ],
      "text/plain": [
       "                           PARTY  INCUMBENT  N_tweets  N_tweets_before  \\\n",
       "handle        ELECTIONDATE                                               \n",
       "1haywood      2022-05-17       R        0.0         3                2   \n",
       "aarikarhodes  2022-06-07       D        0.0        95               73   \n",
       "aazamishervin 2022-06-07       D        0.0       154              118   \n",
       "\n",
       "                            N_tweets_after  \n",
       "handle        ELECTIONDATE                  \n",
       "1haywood      2022-05-17                 1  \n",
       "aarikarhodes  2022-06-07                22  \n",
       "aazamishervin 2022-06-07                36  "
      ]
     },
     "execution_count": 104,
     "metadata": {},
     "output_type": "execute_result"
    }
   ],
   "source": [
    "candidates[\"N_tweets_before\"] = 0\n",
    "candidates[\"N_tweets_after\"] = 0\n",
    "for handle, electiondate in candidates.index:\n",
    "    # select only tweets of the candidate from the four weeks before and after \n",
    "    # the election date\n",
    "    candidate_tweets = tweets[tweets[\"handle\"] == handle]\n",
    "    candidate_tweets_before = candidate_tweets[\n",
    "        (candidate_tweets[\"created_at\"].dt.date <= electiondate.date()) & \\\n",
    "        (candidate_tweets[\"created_at\"].dt.date >= electiondate.date() - pd.Timedelta(days=28))\n",
    "    ]\n",
    "    candidate_tweets_after = candidate_tweets[\n",
    "        (candidate_tweets[\"created_at\"].dt.date > electiondate.date()) & \\\n",
    "        (candidate_tweets[\"created_at\"].dt.date <= electiondate.date() + pd.Timedelta(days=28))\n",
    "    ]\n",
    "    candidates.loc[(handle, electiondate), \"N_tweets_before\"] = len(candidate_tweets_before)\n",
    "    candidates.loc[(handle, electiondate), \"N_tweets_after\"] = len(candidate_tweets_after)\n",
    "candidates.head(3)"
   ]
  },
  {
   "cell_type": "code",
   "execution_count": 105,
   "id": "938da940-45ba-4143-a341-4f48924e07d9",
   "metadata": {},
   "outputs": [
    {
     "data": {
      "text/plain": [
       "50.33536585365854"
      ]
     },
     "execution_count": 105,
     "metadata": {},
     "output_type": "execute_result"
    }
   ],
   "source": [
    "candidates[\"N_tweets_before\"].mean()"
   ]
  },
  {
   "cell_type": "code",
   "execution_count": 106,
   "id": "8b307427-7fa7-4f17-b86a-4d38d75764d5",
   "metadata": {},
   "outputs": [
    {
     "data": {
      "text/plain": [
       "79.9270479255927"
      ]
     },
     "execution_count": 106,
     "metadata": {},
     "output_type": "execute_result"
    }
   ],
   "source": [
    "candidates[\"N_tweets_before\"].std()"
   ]
  },
  {
   "cell_type": "code",
   "execution_count": 107,
   "id": "2bc3f8c8-3aae-48ab-a678-0f8493f87b06",
   "metadata": {},
   "outputs": [
    {
     "data": {
      "text/plain": [
       "33.60569105691057"
      ]
     },
     "execution_count": 107,
     "metadata": {},
     "output_type": "execute_result"
    }
   ],
   "source": [
    "candidates[\"N_tweets_after\"].mean()"
   ]
  },
  {
   "cell_type": "code",
   "execution_count": 108,
   "id": "71a46945-0ed9-48df-a112-e2b7421c132e",
   "metadata": {},
   "outputs": [
    {
     "data": {
      "text/plain": [
       "68.16284886611133"
      ]
     },
     "execution_count": 108,
     "metadata": {},
     "output_type": "execute_result"
    }
   ],
   "source": [
    "candidates[\"N_tweets_after\"].std()"
   ]
  },
  {
   "cell_type": "code",
   "execution_count": 109,
   "id": "9f1daa7a-020e-4370-a53e-4b9fbe7bec9d",
   "metadata": {},
   "outputs": [
    {
     "data": {
      "text/plain": [
       "49530"
      ]
     },
     "execution_count": 109,
     "metadata": {},
     "output_type": "execute_result"
    }
   ],
   "source": [
    "candidates[\"N_tweets_before\"].sum()"
   ]
  },
  {
   "cell_type": "code",
   "execution_count": 110,
   "id": "f420770d-6db4-4596-b747-0ceac37c71e4",
   "metadata": {},
   "outputs": [
    {
     "data": {
      "text/plain": [
       "33068"
      ]
     },
     "execution_count": 110,
     "metadata": {},
     "output_type": "execute_result"
    }
   ],
   "source": [
    "candidates[\"N_tweets_after\"].sum()"
   ]
  },
  {
   "cell_type": "code",
   "execution_count": 111,
   "id": "85d1d101-47a8-4731-b28f-003f6d0eb296",
   "metadata": {},
   "outputs": [
    {
     "data": {
      "text/plain": [
       "ELECTIONDATE\n",
       "2022-06-07    162\n",
       "2022-06-28    150\n",
       "2022-05-17    112\n",
       "2022-03-01    110\n",
       "2022-08-02    101\n",
       "2022-08-23     70\n",
       "2022-05-24     66\n",
       "2022-05-03     47\n",
       "2022-08-09     47\n",
       "2022-06-14     32\n",
       "2022-06-21     28\n",
       "2022-09-13     18\n",
       "2022-08-04     12\n",
       "2022-11-08      8\n",
       "2022-08-16      8\n",
       "2022-05-10      7\n",
       "2022-09-06      6\n",
       "Name: count, dtype: int64"
      ]
     },
     "execution_count": 111,
     "metadata": {},
     "output_type": "execute_result"
    }
   ],
   "source": [
    "candidates.reset_index()[\"ELECTIONDATE\"].value_counts()"
   ]
  }
 ],
 "metadata": {
  "kernelspec": {
   "display_name": "Python 3 (ipykernel)",
   "language": "python",
   "name": "python3"
  },
  "language_info": {
   "codemirror_mode": {
    "name": "ipython",
    "version": 3
   },
   "file_extension": ".py",
   "mimetype": "text/x-python",
   "name": "python",
   "nbconvert_exporter": "python",
   "pygments_lexer": "ipython3",
   "version": "3.12.3"
  }
 },
 "nbformat": 4,
 "nbformat_minor": 5
}
