{
 "cells": [
  {
   "cell_type": "code",
   "execution_count": 3,
   "id": "cb8f5476-b0ea-4a3a-ade3-56ff3958cdd0",
   "metadata": {},
   "outputs": [],
   "source": [
    "from pathlib import Path\n",
    "import pandas as pd\n",
    "import numpy as np\n",
    "import matplotlib.pyplot as plt\n",
    "import seaborn as sns\n",
    "import statsmodels.formula.api as smf\n",
    "\n",
    "# parallelisation functionality\n",
    "from multiprocess import Pool\n",
    "import psutil\n",
    "from tqdm import tqdm"
   ]
  },
  {
   "cell_type": "markdown",
   "id": "62cd91e8-7b71-4781-b0b5-6251296958d3",
   "metadata": {},
   "source": [
    "# Analysis of the effect of being an incumbent"
   ]
  },
  {
   "cell_type": "markdown",
   "id": "870533a8-e15c-433e-9ac6-ea8f559eff3d",
   "metadata": {},
   "source": [
    "## Data wrangling"
   ]
  },
  {
   "cell_type": "markdown",
   "id": "88bea9ad-9808-43aa-92be-2a4f12fad964",
   "metadata": {},
   "source": [
    "### Load all relevant data sets"
   ]
  },
  {
   "cell_type": "code",
   "execution_count": 36,
   "id": "b6e6495a-d9d6-4038-9f2b-8b709b9a5e26",
   "metadata": {},
   "outputs": [],
   "source": [
    "src = \"../data\"\n",
    "fname = \"KnowWho_profiles_merged_twitter.csv\"\n",
    "knowwho_profiles = pd.read_csv(\n",
    "    Path(src, fname), \n",
    "    dtype={\"author_id\":str},\n",
    "    parse_dates=[\"created_at\", \"ELECTIONDATE\"]\n",
    ")"
   ]
  },
  {
   "cell_type": "code",
   "execution_count": 5,
   "id": "5378f7e9-cfbf-48e2-abbd-ba92a1ccbd7d",
   "metadata": {},
   "outputs": [],
   "source": [
    "fname = \"midterm_tweets_2022-01-01_to_2023-05-01.csv.gzip\"\n",
    "tweets = pd.read_csv(\n",
    "    Path(src, fname),\n",
    "    dtype={\"id\":str, \"author_id\":str},\n",
    "    parse_dates=[\"created_at\"],\n",
    "    compression=\"gzip\"\n",
    ")"
   ]
  },
  {
   "cell_type": "code",
   "execution_count": 34,
   "id": "6d1930f1-e88b-4d9b-b9fc-1a63ca104047",
   "metadata": {},
   "outputs": [
    {
     "name": "stdout",
     "output_type": "stream",
     "text": [
      "dropped 1101 tweets with 10 or fewer characters\n"
     ]
    }
   ],
   "source": [
    "N = len(tweets)\n",
    "tweets = tweets[tweets[\"tweet_length\"] > 10]\n",
    "print(f\"dropped {N - len(tweets)} tweets with 10 or fewer characters\")"
   ]
  },
  {
   "cell_type": "code",
   "execution_count": 37,
   "id": "8349e5eb-0515-4324-a511-ae729b89b9d4",
   "metadata": {},
   "outputs": [
    {
     "data": {
      "text/plain": [
       "STATUS\n",
       "Running               1426\n",
       "Withdrew From Race     168\n",
       "Name: count, dtype: int64"
      ]
     },
     "execution_count": 37,
     "metadata": {},
     "output_type": "execute_result"
    }
   ],
   "source": [
    "knowwho_profiles[\"STATUS\"].value_counts()"
   ]
  },
  {
   "cell_type": "code",
   "execution_count": 38,
   "id": "d3d5d90a-a88c-4570-95dd-357583258467",
   "metadata": {},
   "outputs": [],
   "source": [
    "knowwho_profiles = knowwho_profiles[knowwho_profiles[\"STATUS\"] == \"Running\"].reset_index(drop=True)"
   ]
  },
  {
   "cell_type": "code",
   "execution_count": 39,
   "id": "6e9006de-2c43-4658-bd2c-60baedbb7a82",
   "metadata": {},
   "outputs": [
    {
     "data": {
      "text/plain": [
       "PARTY\n",
       "R    769\n",
       "D    657\n",
       "Name: count, dtype: int64"
      ]
     },
     "execution_count": 39,
     "metadata": {},
     "output_type": "execute_result"
    }
   ],
   "source": [
    "knowwho_profiles[\"PARTY\"].value_counts()"
   ]
  },
  {
   "cell_type": "code",
   "execution_count": 40,
   "id": "59e089b5-c537-4076-9f2d-9c26ac46ba6c",
   "metadata": {},
   "outputs": [
    {
     "data": {
      "text/plain": [
       "INCUMBENT\n",
       "Y    376\n",
       "Name: count, dtype: int64"
      ]
     },
     "execution_count": 40,
     "metadata": {},
     "output_type": "execute_result"
    }
   ],
   "source": [
    "knowwho_profiles[\"INCUMBENT\"].value_counts()"
   ]
  },
  {
   "cell_type": "code",
   "execution_count": 41,
   "id": "0933e921-1273-4647-94c2-d4a9f0847222",
   "metadata": {},
   "outputs": [
    {
     "data": {
      "text/plain": [
       "ELECTIONCODE\n",
       "P    1426\n",
       "Name: count, dtype: int64"
      ]
     },
     "execution_count": 41,
     "metadata": {},
     "output_type": "execute_result"
    }
   ],
   "source": [
    "knowwho_profiles[\"ELECTIONCODE\"].value_counts()"
   ]
  },
  {
   "cell_type": "code",
   "execution_count": 42,
   "id": "c0a3d783-43e8-4f79-8824-2bb058d52412",
   "metadata": {},
   "outputs": [
    {
     "data": {
      "text/plain": [
       "ELECTIONDATE\n",
       "2022-06-07    226\n",
       "2022-06-28    218\n",
       "2022-05-17    165\n",
       "2022-03-01    160\n",
       "2022-08-02    138\n",
       "2022-08-23    112\n",
       "2022-05-24    103\n",
       "2022-05-03     60\n",
       "2022-08-09     58\n",
       "2022-06-14     51\n",
       "2022-06-21     51\n",
       "2022-09-13     23\n",
       "2022-08-04     15\n",
       "2022-09-06     13\n",
       "2022-08-16     12\n",
       "2022-05-10      9\n",
       "2022-11-08      8\n",
       "2022-08-13      3\n",
       "2022-03-08      1\n",
       "Name: count, dtype: int64"
      ]
     },
     "execution_count": 42,
     "metadata": {},
     "output_type": "execute_result"
    }
   ],
   "source": [
    "knowwho_profiles[\"ELECTIONDATE\"].value_counts()"
   ]
  },
  {
   "cell_type": "code",
   "execution_count": 43,
   "id": "c3060945-7d6e-45e5-b9f6-0c2c614c464a",
   "metadata": {},
   "outputs": [],
   "source": [
    "knowwho_profiles = knowwho_profiles.drop(columns=[\"STATUS\", \"ELECTIONCODE\"])"
   ]
  },
  {
   "cell_type": "code",
   "execution_count": 44,
   "id": "a2b5f833-72f8-4d87-ad92-a0d33e003574",
   "metadata": {},
   "outputs": [],
   "source": [
    "knowwho_profiles = knowwho_profiles.dropna(subset=[\"handle\"])"
   ]
  },
  {
   "cell_type": "code",
   "execution_count": 45,
   "id": "7ef93887-b422-4d5f-96dc-0f554dfaf0a0",
   "metadata": {},
   "outputs": [
    {
     "data": {
      "text/plain": [
       "1204"
      ]
     },
     "execution_count": 45,
     "metadata": {},
     "output_type": "execute_result"
    }
   ],
   "source": [
    "len(knowwho_profiles)"
   ]
  },
  {
   "cell_type": "code",
   "execution_count": 46,
   "id": "3cc038c3-24e8-40cd-bc9d-e27b035e8e7d",
   "metadata": {},
   "outputs": [
    {
     "data": {
      "text/plain": [
       "handle\n",
       "farrforus          2\n",
       "j_senate           1\n",
       "armstrong_nd       1\n",
       "katrina_senate     1\n",
       "patmccrorync       1\n",
       "                  ..\n",
       "markcongressga7    1\n",
       "lisanoelbabbage    1\n",
       "corbin4congress    1\n",
       "ygnyghtstorm       1\n",
       "reverendwarnock    1\n",
       "Name: count, Length: 1203, dtype: int64"
      ]
     },
     "execution_count": 46,
     "metadata": {},
     "output_type": "execute_result"
    }
   ],
   "source": [
    "knowwho_profiles[\"handle\"].value_counts()"
   ]
  },
  {
   "cell_type": "markdown",
   "id": "bd44b0c5-9a99-4ee5-98b0-363dfaa94e0a",
   "metadata": {},
   "source": [
    "### Calculate the number of tweets before election"
   ]
  },
  {
   "cell_type": "code",
   "execution_count": 47,
   "id": "22d7b75c-b31f-4feb-89e8-22c2a18a14b5",
   "metadata": {},
   "outputs": [],
   "source": [
    "knowwho_profiles = knowwho_profiles.set_index([\"handle\", \"ELECTIONDATE\"])\n",
    "knowwho_profiles[\"N_tweets_leadup\"] = np.nan"
   ]
  },
  {
   "cell_type": "code",
   "execution_count": 48,
   "id": "d02eda62-e36b-4a08-ac9f-fb9cee89441e",
   "metadata": {},
   "outputs": [
    {
     "data": {
      "text/html": [
       "<div>\n",
       "<style scoped>\n",
       "    .dataframe tbody tr th:only-of-type {\n",
       "        vertical-align: middle;\n",
       "    }\n",
       "\n",
       "    .dataframe tbody tr th {\n",
       "        vertical-align: top;\n",
       "    }\n",
       "\n",
       "    .dataframe thead th {\n",
       "        text-align: right;\n",
       "    }\n",
       "</style>\n",
       "<table border=\"1\" class=\"dataframe\">\n",
       "  <thead>\n",
       "    <tr style=\"text-align: right;\">\n",
       "      <th></th>\n",
       "      <th></th>\n",
       "      <th>author_id</th>\n",
       "      <th>description</th>\n",
       "      <th>created_at</th>\n",
       "      <th>followers_count</th>\n",
       "      <th>following_count</th>\n",
       "      <th>tweet_count</th>\n",
       "      <th>INCUMBENT</th>\n",
       "      <th>STATEABBR</th>\n",
       "      <th>LEVEL</th>\n",
       "      <th>CHAMBER</th>\n",
       "      <th>DISTRICT</th>\n",
       "      <th>RACE</th>\n",
       "      <th>ETHNICITY</th>\n",
       "      <th>GENDER</th>\n",
       "      <th>PARTY</th>\n",
       "      <th>name</th>\n",
       "      <th>N_tweets_leadup</th>\n",
       "    </tr>\n",
       "    <tr>\n",
       "      <th>handle</th>\n",
       "      <th>ELECTIONDATE</th>\n",
       "      <th></th>\n",
       "      <th></th>\n",
       "      <th></th>\n",
       "      <th></th>\n",
       "      <th></th>\n",
       "      <th></th>\n",
       "      <th></th>\n",
       "      <th></th>\n",
       "      <th></th>\n",
       "      <th></th>\n",
       "      <th></th>\n",
       "      <th></th>\n",
       "      <th></th>\n",
       "      <th></th>\n",
       "      <th></th>\n",
       "      <th></th>\n",
       "      <th></th>\n",
       "    </tr>\n",
       "  </thead>\n",
       "  <tbody>\n",
       "    <tr>\n",
       "      <th>carlforalabama</th>\n",
       "      <th>2022-05-24</th>\n",
       "      <td>2237925464</td>\n",
       "      <td>Husband, father, and small businessman. Offici...</td>\n",
       "      <td>2013-12-09 16:53:13+00:00</td>\n",
       "      <td>2979.0</td>\n",
       "      <td>1296.0</td>\n",
       "      <td>822.0</td>\n",
       "      <td>Y</td>\n",
       "      <td>AL</td>\n",
       "      <td>FL</td>\n",
       "      <td>FH</td>\n",
       "      <td>1.0</td>\n",
       "      <td>US Representative</td>\n",
       "      <td>White/Caucasian</td>\n",
       "      <td>Male</td>\n",
       "      <td>R</td>\n",
       "      <td>Jerry L. Carl</td>\n",
       "      <td>NaN</td>\n",
       "    </tr>\n",
       "    <tr>\n",
       "      <th>phyllisdhhall</th>\n",
       "      <th>2022-05-24</th>\n",
       "      <td>4856325569</td>\n",
       "      <td>Feminist💯. Wife. Mother. Activist. Justice War...</td>\n",
       "      <td>2016-01-28 06:36:43+00:00</td>\n",
       "      <td>4646.0</td>\n",
       "      <td>2519.0</td>\n",
       "      <td>2284.0</td>\n",
       "      <td>NaN</td>\n",
       "      <td>AL</td>\n",
       "      <td>FL</td>\n",
       "      <td>FH</td>\n",
       "      <td>2.0</td>\n",
       "      <td>US Representative</td>\n",
       "      <td>Black/African American</td>\n",
       "      <td>Female</td>\n",
       "      <td>D</td>\n",
       "      <td>Phyllis Harvey-Hall</td>\n",
       "      <td>NaN</td>\n",
       "    </tr>\n",
       "    <tr>\n",
       "      <th>repbarrymoore</th>\n",
       "      <th>2022-05-24</th>\n",
       "      <td>1339006078688825344</td>\n",
       "      <td>U.S. Representative for #AL02. Do justly. Love...</td>\n",
       "      <td>2020-12-16 00:35:16+00:00</td>\n",
       "      <td>11869.0</td>\n",
       "      <td>734.0</td>\n",
       "      <td>2404.0</td>\n",
       "      <td>Y</td>\n",
       "      <td>AL</td>\n",
       "      <td>FL</td>\n",
       "      <td>FH</td>\n",
       "      <td>2.0</td>\n",
       "      <td>US Representative</td>\n",
       "      <td>White/Caucasian</td>\n",
       "      <td>Male</td>\n",
       "      <td>R</td>\n",
       "      <td>Barry Moore</td>\n",
       "      <td>NaN</td>\n",
       "    </tr>\n",
       "  </tbody>\n",
       "</table>\n",
       "</div>"
      ],
      "text/plain": [
       "                                       author_id  \\\n",
       "handle         ELECTIONDATE                        \n",
       "carlforalabama 2022-05-24             2237925464   \n",
       "phyllisdhhall  2022-05-24             4856325569   \n",
       "repbarrymoore  2022-05-24    1339006078688825344   \n",
       "\n",
       "                                                                   description  \\\n",
       "handle         ELECTIONDATE                                                      \n",
       "carlforalabama 2022-05-24    Husband, father, and small businessman. Offici...   \n",
       "phyllisdhhall  2022-05-24    Feminist💯. Wife. Mother. Activist. Justice War...   \n",
       "repbarrymoore  2022-05-24    U.S. Representative for #AL02. Do justly. Love...   \n",
       "\n",
       "                                           created_at  followers_count  \\\n",
       "handle         ELECTIONDATE                                              \n",
       "carlforalabama 2022-05-24   2013-12-09 16:53:13+00:00           2979.0   \n",
       "phyllisdhhall  2022-05-24   2016-01-28 06:36:43+00:00           4646.0   \n",
       "repbarrymoore  2022-05-24   2020-12-16 00:35:16+00:00          11869.0   \n",
       "\n",
       "                             following_count  tweet_count INCUMBENT STATEABBR  \\\n",
       "handle         ELECTIONDATE                                                     \n",
       "carlforalabama 2022-05-24             1296.0        822.0         Y        AL   \n",
       "phyllisdhhall  2022-05-24             2519.0       2284.0       NaN        AL   \n",
       "repbarrymoore  2022-05-24              734.0       2404.0         Y        AL   \n",
       "\n",
       "                            LEVEL CHAMBER  DISTRICT               RACE  \\\n",
       "handle         ELECTIONDATE                                              \n",
       "carlforalabama 2022-05-24      FL      FH       1.0  US Representative   \n",
       "phyllisdhhall  2022-05-24      FL      FH       2.0  US Representative   \n",
       "repbarrymoore  2022-05-24      FL      FH       2.0  US Representative   \n",
       "\n",
       "                                          ETHNICITY  GENDER PARTY  \\\n",
       "handle         ELECTIONDATE                                         \n",
       "carlforalabama 2022-05-24           White/Caucasian    Male     R   \n",
       "phyllisdhhall  2022-05-24    Black/African American  Female     D   \n",
       "repbarrymoore  2022-05-24           White/Caucasian    Male     R   \n",
       "\n",
       "                                            name  N_tweets_leadup  \n",
       "handle         ELECTIONDATE                                        \n",
       "carlforalabama 2022-05-24          Jerry L. Carl              NaN  \n",
       "phyllisdhhall  2022-05-24    Phyllis Harvey-Hall              NaN  \n",
       "repbarrymoore  2022-05-24            Barry Moore              NaN  "
      ]
     },
     "execution_count": 48,
     "metadata": {},
     "output_type": "execute_result"
    }
   ],
   "source": [
    "knowwho_profiles.head(3)"
   ]
  },
  {
   "cell_type": "code",
   "execution_count": 49,
   "id": "6a0afe1d-871e-4d90-a436-3d5e548a3157",
   "metadata": {},
   "outputs": [
    {
     "name": "stdout",
     "output_type": "stream",
     "text": [
      "0/1204\n",
      "100/1204\n",
      "200/1204\n",
      "300/1204\n",
      "400/1204\n",
      "500/1204\n",
      "600/1204\n",
      "700/1204\n",
      "800/1204\n",
      "900/1204\n",
      "1000/1204\n",
      "1100/1204\n",
      "1200/1204\n"
     ]
    }
   ],
   "source": [
    "# note: it is necessary to have a double-index, since there is one candidate\n",
    "# (farrforus) who ran in two elections\n",
    "i = 0\n",
    "for handle, electiondate in knowwho_profiles.index:\n",
    "    if i%100 == 0:\n",
    "        print(f\"{i}/{len(knowwho_profiles)}\")\n",
    "    # select only tweets of the candidate from the four weeks leading up to the \n",
    "    # election date\n",
    "    candidate_tweets = tweets[tweets[\"handle\"] == handle]\n",
    "    candidate_tweets = candidate_tweets[\n",
    "        (candidate_tweets[\"created_at\"].dt.date <= electiondate.date()) & \\\n",
    "        (candidate_tweets[\"created_at\"].dt.date >= electiondate.date() - pd.Timedelta(days=28))\n",
    "    ]\n",
    "    knowwho_profiles.loc[(handle, electiondate), \"N_tweets_leadup\"] = len(candidate_tweets)\n",
    "    i += 1"
   ]
  },
  {
   "cell_type": "code",
   "execution_count": 50,
   "id": "fde8f33f-e3ac-487d-afc4-105cc2c98fbf",
   "metadata": {},
   "outputs": [
    {
     "data": {
      "image/png": "[encoded data removed]",
      "text/plain": [
       "<Figure size 640x480 with 1 Axes>"
      ]
     },
     "metadata": {},
     "output_type": "display_data"
    }
   ],
   "source": [
    "fig, ax = plt.subplots()\n",
    "\n",
    "ax.hist(knowwho_profiles[\"N_tweets_leadup\"], bins=range(0, 1000, 50), rwidth=0.8);"
   ]
  },
  {
   "cell_type": "code",
   "execution_count": 51,
   "id": "a09ae18e-e5fc-4e92-b4a8-47317332d6ff",
   "metadata": {},
   "outputs": [
    {
     "data": {
      "text/plain": [
       "967"
      ]
     },
     "execution_count": 51,
     "metadata": {},
     "output_type": "execute_result"
    }
   ],
   "source": [
    "len(knowwho_profiles[knowwho_profiles[\"N_tweets_leadup\"] > 0])"
   ]
  },
  {
   "cell_type": "code",
   "execution_count": 52,
   "id": "be3d3527-bce5-430d-bc26-128772ba9c9b",
   "metadata": {},
   "outputs": [
    {
     "data": {
      "text/plain": [
       "INCUMBENT\n",
       "Y    303\n",
       "Name: count, dtype: int64"
      ]
     },
     "execution_count": 52,
     "metadata": {},
     "output_type": "execute_result"
    }
   ],
   "source": [
    "knowwho_profiles[knowwho_profiles[\"N_tweets_leadup\"] > 0][\"INCUMBENT\"].value_counts()"
   ]
  },
  {
   "cell_type": "code",
   "execution_count": 53,
   "id": "3caa8314-e6b6-4c0e-b439-4a9687642761",
   "metadata": {},
   "outputs": [
    {
     "data": {
      "text/plain": [
       "PARTY\n",
       "R    652\n",
       "D    552\n",
       "Name: count, dtype: int64"
      ]
     },
     "execution_count": 53,
     "metadata": {},
     "output_type": "execute_result"
    }
   ],
   "source": [
    "knowwho_profiles[\"PARTY\"].value_counts()"
   ]
  },
  {
   "cell_type": "code",
   "execution_count": 54,
   "id": "457716b3-f0a7-4c4f-b071-c6d1b531cee9",
   "metadata": {},
   "outputs": [
    {
     "data": {
      "text/plain": [
       "55.470099667774086"
      ]
     },
     "execution_count": 54,
     "metadata": {},
     "output_type": "execute_result"
    }
   ],
   "source": [
    "knowwho_profiles[\"N_tweets_leadup\"].mean()"
   ]
  },
  {
   "cell_type": "code",
   "execution_count": 55,
   "id": "86db360f-3e92-467d-8a20-046351d189a9",
   "metadata": {},
   "outputs": [
    {
     "data": {
      "text/plain": [
       "116.00293774617238"
      ]
     },
     "execution_count": 55,
     "metadata": {},
     "output_type": "execute_result"
    }
   ],
   "source": [
    "knowwho_profiles[\"N_tweets_leadup\"].std()"
   ]
  },
  {
   "cell_type": "markdown",
   "id": "7a5732b9-844b-43f8-a3d9-10ef7079c975",
   "metadata": {},
   "source": [
    "## Power analysis"
   ]
  },
  {
   "cell_type": "markdown",
   "id": "a8a1ed56-45c5-45cd-94be-b470a4333414",
   "metadata": {},
   "source": [
    "### Linear mixed-effects model simulations"
   ]
  },
  {
   "cell_type": "code",
   "execution_count": 25,
   "id": "9a6bc22d-97dc-4f42-b521-f26266d8e3d9",
   "metadata": {},
   "outputs": [],
   "source": [
    "# define simulation parameters\n",
    "n_sim = 100  # Number of simulations\n",
    "alpha = 0.05  # Significance level\n",
    "\n",
    "# sample sizes\n",
    "subset = knowwho_profiles[knowwho_profiles[\"N_tweets_leadup\"] > 0]\n",
    "n_groups = len(subset)\n",
    "n_incumbents = len(subset[subset[\"INCUMBENT\"] == \"Y\"])\n",
    "n_democrats = len(subset[subset[\"PARTY\"] == \"D\"])\n",
    "\n",
    "# variance components - from script estimate_variance_factors_pilot_data.ipynb\n",
    "var_intercept = 0.002295\n",
    "var_residual = 0.01237839803161637"
   ]
  },
  {
   "cell_type": "code",
   "execution_count": 26,
   "id": "aab45ae9-2c6d-4b4f-ad02-2256a9d03a78",
   "metadata": {},
   "outputs": [],
   "source": [
    "def simulate_lme(params):\n",
    "    random_state, beta_T, beta_P, beta_TP = params\n",
    "    \n",
    "    n_obs_per_group = subset[\"N_tweets_leadup\"]\\\n",
    "        .sample(n_groups, random_state=random_state)\\\n",
    "        .values.astype(int)\n",
    "    total_n = n_obs_per_group.sum()\n",
    "\n",
    "    group = np.repeat(np.arange(n_groups), n_obs_per_group)\n",
    "    T_group = np.random.binomial(1, n_incumbents / n_groups, n_groups)  # binary predictor T\n",
    "    P_group = np.random.binomial(1, n_democrats/ n_groups, n_groups)  # binary predictor P\n",
    "    T_observations = np.repeat(T_group, n_obs_per_group)\n",
    "    P_observations = np.repeat(P_group, n_obs_per_group)\n",
    "\n",
    "    random_intercepts = np.random.normal(0, np.sqrt(var_intercept), n_groups)\n",
    "    random_effects = random_intercepts[group]\n",
    "    errors = np.random.normal(0, np.sqrt(var_residual), total_n)\n",
    "\n",
    "    # calculate the dependent variable\n",
    "    D = (0 + beta_T * T_observations + beta_P * P_observations + \\\n",
    "         beta_TP * T_observations * P_observations + random_effects + errors)\n",
    "    data = pd.DataFrame({'D': D, 'C': group, 'T': T_observations, 'P': P_observations})\n",
    "\n",
    "    # fit the linear mixed effects model\n",
    "    model = smf.mixedlm(\n",
    "        \"D ~ T * P\",\n",
    "        data, \n",
    "        groups=data[\"C\"],\n",
    "    )\n",
    "    result = model.fit()\n",
    "\n",
    "    # assess significance of the effects, handle cases where the term is not estimable\n",
    "    try:\n",
    "        p_value_interaction = result.pvalues['T:P']\n",
    "    except KeyError:\n",
    "        p_value_interaction = np.nan\n",
    "    try:\n",
    "        p_value_P = result.pvalues['P']\n",
    "    except KeyError:\n",
    "        p_value_P = np.nan\n",
    "    try:\n",
    "        p_value_T = result.pvalues['T']\n",
    "    except KeyError:\n",
    "        p_value_T = np.nan\n",
    "\n",
    "    return (random_state, beta_T, beta_P, beta_TP, p_value_T, p_value_P, p_value_interaction)"
   ]
  },
  {
   "cell_type": "code",
   "execution_count": 27,
   "id": "422bc282-fe1a-4368-83b0-d99bb0ead936",
   "metadata": {},
   "outputs": [],
   "source": [
    "beta_Ts = [0.005, 0.01, 0.015, 0.02, 0.025, 0.03]\n",
    "beta_Ps = [0.005, 0.01, 0.015, 0.02, 0.025, 0.03]\n",
    "beta_TPs = [0.005, 0.01, 0.015, 0.02, 0.025, 0.03]\n",
    "random_states = range(n_sim)\n",
    "\n",
    "params = [(i, beta_Ts[j], beta_Ps[j], beta_TPs[j])\\\n",
    "              for j in range(len(beta_Ts))\\\n",
    "              for i in random_states] \n",
    "N_configs = len(params)"
   ]
  },
  {
   "cell_type": "code",
   "execution_count": null,
   "id": "39d0567d-5b4a-4ea1-9800-cd58bcd0c206",
   "metadata": {
    "scrolled": true
   },
   "outputs": [],
   "source": [
    "results = pd.DataFrame()\n",
    "pool = Pool(10)\n",
    "\n",
    "for tmp1, tmp2, tmp3, tmp4, tmp5, tmp6, tmp7 in tqdm(pool.imap_unordered(\n",
    "    func=simulate_lme, \n",
    "    iterable=params), \n",
    "    total=N_configs):\n",
    "\n",
    "    results = pd.concat([results, pd.DataFrame({\n",
    "        \"random_state\":[tmp1],\n",
    "        \"beta_T\":[tmp2],\n",
    "        \"beta_P\":[tmp3],\n",
    "        \"beta_TP\":[tmp4],\n",
    "        \"p_value_T\":[tmp5],\n",
    "        \"p_value_P\":[tmp6],\n",
    "        \"p_value_TP\":[tmp7]\n",
    "    })])\n",
    "\n",
    "pool.close()\n",
    "\n",
    "results[\"alpha\"] = alpha\n",
    "results[\"var_intercept\"] = var_intercept\n",
    "results[\"var_residual\"] = var_residual\n",
    "fname = \"incumbent_power_analysis.csv\"\n",
    "results.to_csv(Path(\"../results\", fname), index=False)"
   ]
  },
  {
   "cell_type": "markdown",
   "id": "756513ea-db2a-4444-98e9-37a14f3e180b",
   "metadata": {},
   "source": [
    "### Calculate power"
   ]
  },
  {
   "cell_type": "code",
   "execution_count": 41,
   "id": "609ccfec-f124-4f2f-a525-fb072e94220d",
   "metadata": {},
   "outputs": [],
   "source": [
    "# calculate power\n",
    "results = pd.read_csv(\"../results/incumbent_power_analysis.csv\")\n",
    "power = pd.DataFrame()\n",
    "\n",
    "for beta_T, beta_P, beta_TP in zip(beta_Ts, beta_Ps, beta_TPs):\n",
    "    res = results[\n",
    "        (results[\"beta_T\"] == beta_T) & \\\n",
    "        (results[\"beta_P\"] == beta_P) & \\\n",
    "        (results[\"beta_TP\"] == beta_TP)\n",
    "    ]\n",
    "\n",
    "    power_T = np.nanmean(res[\"p_value_T\"].values < alpha)\n",
    "    power_P = np.nanmean(res[\"p_value_P\"].values < alpha)\n",
    "    power_TP = np.nanmean(res[\"p_value_TP\"].values < alpha)\n",
    "    \n",
    "    power = pd.concat([power, pd.DataFrame({\n",
    "        \"beta_T\":[beta_T],\n",
    "        \"beta_P\":[beta_P],\n",
    "        \"beta_TP\":[beta_TP],\n",
    "        \"power_T\":[power_T],\n",
    "        \"power_P\":[power_P],\n",
    "        \"power_TP\":[power_TP]\n",
    "    })])"
   ]
  },
  {
   "cell_type": "code",
   "execution_count": 29,
   "id": "03abab59-3839-4eec-a856-fc2469d84022",
   "metadata": {},
   "outputs": [],
   "source": [
    "# calculate power bootstrapped\n",
    "results = pd.read_csv(\"../results/incumbent_power_analysis.csv\")\n",
    "power_bootstrap = pd.DataFrame()\n",
    "\n",
    "n_bootstrap = 100\n",
    "for beta_T, beta_P, beta_TP in zip(beta_Ts, beta_Ps, beta_TPs):\n",
    "    for n in range(n_bootstrap):\n",
    "        res = results[\n",
    "            (results[\"beta_T\"] == beta_T) & \\\n",
    "            (results[\"beta_P\"] == beta_P) & \\\n",
    "            (results[\"beta_TP\"] == beta_TP)\n",
    "        ].sample(frac=1, replace=True)\n",
    "    \n",
    "        power_T = np.nanmean(res[\"p_value_T\"].values < alpha)\n",
    "        power_P = np.nanmean(res[\"p_value_P\"].values < alpha)\n",
    "        power_TP = np.nanmean(res[\"p_value_TP\"].values < alpha)\n",
    "        \n",
    "        power_bootstrap = pd.concat([power_bootstrap, pd.DataFrame({\n",
    "            \"variable\":[\"$T$\"],\n",
    "            \"effect\":[beta_T],\n",
    "            \"power\":[power_T],\n",
    "        })])\n",
    "        power_bootstrap = pd.concat([power_bootstrap, pd.DataFrame({\n",
    "            \"variable\":[\"$P$\"],\n",
    "            \"effect\":[beta_P],\n",
    "            \"power\":[power_P],\n",
    "        })])\n",
    "        power_bootstrap = pd.concat([power_bootstrap, pd.DataFrame({\n",
    "            \"variable\":[\"$T \\\\times P$\"],\n",
    "            \"effect\":[beta_TP],\n",
    "            \"power\":[power_TP]\n",
    "        })])"
   ]
  },
  {
   "cell_type": "code",
   "execution_count": 30,
   "id": "0f8c0d14-cd5f-45fe-b778-33f8a54f81fe",
   "metadata": {},
   "outputs": [
    {
     "data": {
      "text/html": [
       "<div>\n",
       "<style scoped>\n",
       "    .dataframe tbody tr th:only-of-type {\n",
       "        vertical-align: middle;\n",
       "    }\n",
       "\n",
       "    .dataframe tbody tr th {\n",
       "        vertical-align: top;\n",
       "    }\n",
       "\n",
       "    .dataframe thead th {\n",
       "        text-align: right;\n",
       "    }\n",
       "</style>\n",
       "<table border=\"1\" class=\"dataframe\">\n",
       "  <thead>\n",
       "    <tr style=\"text-align: right;\">\n",
       "      <th></th>\n",
       "      <th>variable</th>\n",
       "      <th>effect</th>\n",
       "      <th>power</th>\n",
       "    </tr>\n",
       "  </thead>\n",
       "  <tbody>\n",
       "    <tr>\n",
       "      <th>0</th>\n",
       "      <td>$T$</td>\n",
       "      <td>0.005</td>\n",
       "      <td>0.16</td>\n",
       "    </tr>\n",
       "    <tr>\n",
       "      <th>0</th>\n",
       "      <td>$P$</td>\n",
       "      <td>0.005</td>\n",
       "      <td>0.25</td>\n",
       "    </tr>\n",
       "    <tr>\n",
       "      <th>0</th>\n",
       "      <td>$T \\times P$</td>\n",
       "      <td>0.005</td>\n",
       "      <td>0.02</td>\n",
       "    </tr>\n",
       "  </tbody>\n",
       "</table>\n",
       "</div>"
      ],
      "text/plain": [
       "       variable  effect  power\n",
       "0           $T$   0.005   0.16\n",
       "0           $P$   0.005   0.25\n",
       "0  $T \\times P$   0.005   0.02"
      ]
     },
     "execution_count": 30,
     "metadata": {},
     "output_type": "execute_result"
    }
   ],
   "source": [
    "power_bootstrap.head(3)"
   ]
  },
  {
   "cell_type": "markdown",
   "id": "f75d6ba3-822b-40b1-b18d-23e5e13f9ab3",
   "metadata": {},
   "source": [
    "### Visualisation of power analysis"
   ]
  },
  {
   "cell_type": "code",
   "execution_count": 31,
   "id": "83b951d0-7b65-4504-b890-f1d3a92d87a3",
   "metadata": {},
   "outputs": [
    {
     "data": {
      "image/png": "[encoded data removed]",
      "text/plain": [
       "<Figure size 600x400 with 1 Axes>"
      ]
     },
     "metadata": {},
     "output_type": "display_data"
    }
   ],
   "source": [
    "fig, ax = plt.subplots(figsize=(6, 4))\n",
    "\n",
    "sns.lineplot(\n",
    "    data=power_bootstrap,\n",
    "    ax=ax,\n",
    "    x=\"effect\", \n",
    "    y=\"power\",\n",
    "    hue=\"variable\",\n",
    "    errorbar=\"pi\",\n",
    "    palette=\"Set2\",\n",
    ")\n",
    "\n",
    "sns.scatterplot(\n",
    "    data=power_bootstrap.groupby([\"variable\", \"effect\"]).mean().reset_index(),\n",
    "    ax=ax,\n",
    "    x=\"effect\",\n",
    "    y=\"power\",\n",
    "    hue=\"variable\",\n",
    "    hue_order=[\"$T$\", \"$P$\", \"$T \\\\times P$\"],\n",
    "    sizes=[50, 50, 50],\n",
    "    palette=\"Set2\",\n",
    "    legend=False\n",
    ")\n",
    "\n",
    "ax.set_xlabel(\"effect size $\\\\beta$\")\n",
    "ax.spines[['right', 'top']].set_visible(False)\n",
    "ax.legend(frameon=False)\n",
    "ax.plot([0, 0.031], [0.8, 0.8], '--', color=\"grey\")\n",
    "ax.set_xlim(0, 0.031)\n",
    "ax.set_ylim(0, 1.02)\n",
    "plt.tight_layout()\n",
    "\n",
    "fname = \"power_analysis_incumbent\"\n",
    "dst = \"../plots\"\n",
    "plt.savefig(Path(dst, fname + \".pdf\"))\n",
    "plt.savefig(Path(dst, fname + \".svg\"))"
   ]
  },
  {
   "cell_type": "code",
   "execution_count": 46,
   "id": "dc776e67-74dc-4466-82f3-c4c5293960b6",
   "metadata": {},
   "outputs": [
    {
     "data": {
      "image/png": "[encoded data removed]",
      "text/plain": [
       "<Figure size 600x400 with 1 Axes>"
      ]
     },
     "metadata": {},
     "output_type": "display_data"
    }
   ],
   "source": [
    "fig, ax = plt.subplots(figsize=(6, 4))\n",
    "cmap = plt.get_cmap(\"Set2\")\n",
    "\n",
    "ax.plot(power[\"beta_T\"], power[\"power_T\"], \"o-\", label=\"power for $T$\", color=cmap.colors[0])\n",
    "ax.plot(power[\"beta_T\"], power[\"power_P\"], \"o-\", label=\"power for $P$\", color=cmap.colors[1])\n",
    "ax.plot(power[\"beta_T\"], power[\"power_TP\"], \"o-\", label=\"power for $T \\\\times P$\", color=cmap.colors[2])\n",
    "ax.set_xlabel(\"effect size $\\\\beta$\")\n",
    "ax.set_ylabel(\"power\")\n",
    "\n",
    "ax.spines[['right', 'top']].set_visible(False)\n",
    "ax.legend(frameon=False)\n",
    "ax.plot([0, 0.031], [0.8, 0.8], '--', color=\"grey\")\n",
    "ax.set_xlim(0, 0.031)\n",
    "ax.set_ylim(0, 1.02)\n",
    "plt.tight_layout()\n",
    "\n",
    "fname = \"power_analysis_incumbent\"\n",
    "dst = \"../plots\"\n",
    "plt.savefig(Path(dst, fname + \".pdf\"))\n",
    "plt.savefig(Path(dst, fname + \".svg\"))"
   ]
  },
  {
   "cell_type": "markdown",
   "id": "ef208448-7fc3-406e-a262-9e565b643716",
   "metadata": {},
   "source": [
    "## Main analysis"
   ]
  },
  {
   "cell_type": "markdown",
   "id": "0dd0a774-f349-4fdb-a254-84929c15f305",
   "metadata": {},
   "source": [
    "TODO"
   ]
  }
 ],
 "metadata": {
  "kernelspec": {
   "display_name": "Python 3 (ipykernel)",
   "language": "python",
   "name": "python3"
  },
  "language_info": {
   "codemirror_mode": {
    "name": "ipython",
    "version": 3
   },
   "file_extension": ".py",
   "mimetype": "text/x-python",
   "name": "python",
   "nbconvert_exporter": "python",
   "pygments_lexer": "ipython3",
   "version": "3.12.3"
  }
 },
 "nbformat": 4,
 "nbformat_minor": 5
}
