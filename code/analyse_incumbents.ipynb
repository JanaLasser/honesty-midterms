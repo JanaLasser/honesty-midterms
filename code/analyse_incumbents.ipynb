{
 "cells": [
  {
   "cell_type": "code",
   "execution_count": 1,
   "id": "cb8f5476-b0ea-4a3a-ade3-56ff3958cdd0",
   "metadata": {},
   "outputs": [],
   "source": [
    "from pathlib import Path\n",
    "import pandas as pd\n",
    "import numpy as np\n",
    "import matplotlib.pyplot as plt\n",
    "import seaborn as sns\n",
    "import statsmodels.formula.api as smf\n",
    "\n",
    "# parallelisation functionality\n",
    "from multiprocess import Pool\n",
    "import psutil\n",
    "from tqdm import tqdm"
   ]
  },
  {
   "cell_type": "markdown",
   "id": "62cd91e8-7b71-4781-b0b5-6251296958d3",
   "metadata": {},
   "source": [
    "# Analysis of the effect of being an incumbent"
   ]
  },
  {
   "cell_type": "code",
   "execution_count": 2,
   "id": "2ccab2a8-78e0-40c2-a06a-9e0d4303c7e4",
   "metadata": {},
   "outputs": [],
   "source": [
    "src = \"../data/processed\"\n",
    "dst = \"../results\"\n",
    "plt_dst = \"../plots\""
   ]
  },
  {
   "cell_type": "markdown",
   "id": "870533a8-e15c-433e-9ac6-ea8f559eff3d",
   "metadata": {},
   "source": [
    "## Create candidate information table"
   ]
  },
  {
   "cell_type": "code",
   "execution_count": 3,
   "id": "3b05bc1c-6e46-4e44-acf0-02b2960c6484",
   "metadata": {},
   "outputs": [],
   "source": [
    "fname = \"study_data.csv.gzip\"\n",
    "tweets = pd.read_csv(\n",
    "    Path(src, fname),\n",
    "    dtype={\"id\":str, \"author_id\":str},\n",
    "    parse_dates=[\"created_at\", \"ELECTIONDATE\"],\n",
    "    compression=\"gzip\"\n",
    ")"
   ]
  },
  {
   "cell_type": "code",
   "execution_count": 4,
   "id": "07bd763b-ef25-465c-8be5-bd6e28cdd693",
   "metadata": {},
   "outputs": [
    {
     "data": {
      "text/html": [
       "<div>\n",
       "<style scoped>\n",
       "    .dataframe tbody tr th:only-of-type {\n",
       "        vertical-align: middle;\n",
       "    }\n",
       "\n",
       "    .dataframe tbody tr th {\n",
       "        vertical-align: top;\n",
       "    }\n",
       "\n",
       "    .dataframe thead th {\n",
       "        text-align: right;\n",
       "    }\n",
       "</style>\n",
       "<table border=\"1\" class=\"dataframe\">\n",
       "  <thead>\n",
       "    <tr style=\"text-align: right;\">\n",
       "      <th></th>\n",
       "      <th></th>\n",
       "      <th>PARTY</th>\n",
       "      <th>INCUMBENT</th>\n",
       "      <th>N_tweets</th>\n",
       "    </tr>\n",
       "    <tr>\n",
       "      <th>handle</th>\n",
       "      <th>ELECTIONDATE</th>\n",
       "      <th></th>\n",
       "      <th></th>\n",
       "      <th></th>\n",
       "    </tr>\n",
       "  </thead>\n",
       "  <tbody>\n",
       "    <tr>\n",
       "      <th>1haywood</th>\n",
       "      <th>2022-05-17</th>\n",
       "      <td>R</td>\n",
       "      <td>0.0</td>\n",
       "      <td>3</td>\n",
       "    </tr>\n",
       "    <tr>\n",
       "      <th>aarikarhodes</th>\n",
       "      <th>2022-06-07</th>\n",
       "      <td>D</td>\n",
       "      <td>0.0</td>\n",
       "      <td>95</td>\n",
       "    </tr>\n",
       "    <tr>\n",
       "      <th>aazamishervin</th>\n",
       "      <th>2022-06-07</th>\n",
       "      <td>D</td>\n",
       "      <td>0.0</td>\n",
       "      <td>154</td>\n",
       "    </tr>\n",
       "  </tbody>\n",
       "</table>\n",
       "</div>"
      ],
      "text/plain": [
       "                           PARTY  INCUMBENT  N_tweets\n",
       "handle        ELECTIONDATE                           \n",
       "1haywood      2022-05-17       R        0.0         3\n",
       "aarikarhodes  2022-06-07       D        0.0        95\n",
       "aazamishervin 2022-06-07       D        0.0       154"
      ]
     },
     "execution_count": 4,
     "metadata": {},
     "output_type": "execute_result"
    }
   ],
   "source": [
    "candidates = tweets[[\"handle\", \"PARTY\", \"ELECTIONDATE\", \"INCUMBENT\", \"id\"]]\\\n",
    "    .groupby([\"handle\", \"PARTY\", \"ELECTIONDATE\", \"INCUMBENT\"])\\\n",
    "    .count()\\\n",
    "    .rename(columns={\"id\":\"N_tweets\"})\\\n",
    "    .reset_index()\n",
    "candidates = candidates.set_index([\"handle\", \"ELECTIONDATE\"])\n",
    "candidates.head(3)"
   ]
  },
  {
   "cell_type": "code",
   "execution_count": 5,
   "id": "6a0afe1d-871e-4d90-a436-3d5e548a3157",
   "metadata": {},
   "outputs": [
    {
     "name": "stdout",
     "output_type": "stream",
     "text": [
      "0/984\n",
      "100/984\n",
      "200/984\n",
      "300/984\n",
      "400/984\n",
      "500/984\n",
      "600/984\n",
      "700/984\n",
      "800/984\n",
      "900/984\n"
     ]
    }
   ],
   "source": [
    "# calculate the number of tweets before the election\n",
    "candidates[\"N_tweets_before\"] = 0\n",
    "# note: it is necessary to have a double-index, since there is one candidate\n",
    "# (farrforus) who ran in two elections\n",
    "i = 0\n",
    "for handle, electiondate in candidates.index:\n",
    "    if i%100 == 0:\n",
    "        print(f\"{i}/{len(candidates)}\")\n",
    "    # select only tweets of the candidate from the four weeks leading up to the \n",
    "    # election date\n",
    "    candidate_tweets = tweets[tweets[\"handle\"] == handle]\n",
    "    candidate_tweets = candidate_tweets[\n",
    "        (candidate_tweets[\"created_at\"].dt.date <= electiondate.date()) & \\\n",
    "        (candidate_tweets[\"created_at\"].dt.date >= electiondate.date() - pd.Timedelta(days=28))\n",
    "    ]\n",
    "    candidates.loc[(handle, electiondate), \"N_tweets_before\"] = len(candidate_tweets)\n",
    "    i += 1"
   ]
  },
  {
   "cell_type": "code",
   "execution_count": 6,
   "id": "a09ae18e-e5fc-4e92-b4a8-47317332d6ff",
   "metadata": {},
   "outputs": [
    {
     "data": {
      "text/plain": [
       "945"
      ]
     },
     "execution_count": 6,
     "metadata": {},
     "output_type": "execute_result"
    }
   ],
   "source": [
    "len(candidates[candidates[\"N_tweets_before\"] > 0])"
   ]
  },
  {
   "cell_type": "code",
   "execution_count": 7,
   "id": "be3d3527-bce5-430d-bc26-128772ba9c9b",
   "metadata": {},
   "outputs": [
    {
     "data": {
      "text/plain": [
       "INCUMBENT\n",
       "0.0    645\n",
       "1.0    300\n",
       "Name: count, dtype: int64"
      ]
     },
     "execution_count": 7,
     "metadata": {},
     "output_type": "execute_result"
    }
   ],
   "source": [
    "candidates[candidates[\"N_tweets_before\"] > 0][\"INCUMBENT\"].value_counts()"
   ]
  },
  {
   "cell_type": "code",
   "execution_count": 8,
   "id": "3caa8314-e6b6-4c0e-b439-4a9687642761",
   "metadata": {},
   "outputs": [
    {
     "data": {
      "text/plain": [
       "PARTY\n",
       "R    493\n",
       "D    452\n",
       "Name: count, dtype: int64"
      ]
     },
     "execution_count": 8,
     "metadata": {},
     "output_type": "execute_result"
    }
   ],
   "source": [
    "candidates[candidates[\"N_tweets_before\"] > 0][\"PARTY\"].value_counts()"
   ]
  },
  {
   "cell_type": "markdown",
   "id": "7a5732b9-844b-43f8-a3d9-10ef7079c975",
   "metadata": {},
   "source": [
    "## Power analysis"
   ]
  },
  {
   "cell_type": "markdown",
   "id": "a8a1ed56-45c5-45cd-94be-b470a4333414",
   "metadata": {},
   "source": [
    "### Linear mixed-effects model simulations"
   ]
  },
  {
   "cell_type": "code",
   "execution_count": 9,
   "id": "9a6bc22d-97dc-4f42-b521-f26266d8e3d9",
   "metadata": {},
   "outputs": [],
   "source": [
    "# define simulation parameters\n",
    "n_sim = 100  # Number of simulations\n",
    "alpha = 0.05  # Significance level\n",
    "\n",
    "# sample sizes\n",
    "subset = candidates[candidates[\"N_tweets_before\"] > 0]\n",
    "n_groups = len(subset)\n",
    "n_incumbents = len(subset[subset[\"INCUMBENT\"] == 1])\n",
    "n_democrats = len(subset[subset[\"PARTY\"] == \"D\"])\n",
    "\n",
    "# variance components - from script estimate_variance_factors_pilot_data.ipynb\n",
    "variance_components = {}\n",
    "fname = \"variance_components_incumbent_analysis_belief_speaking.txt\"\n",
    "with open(Path(dst, \"variance_components\", fname), \"r\") as infile:\n",
    "    for line in infile:\n",
    "        key, val = line.rstrip().split(\"=\")\n",
    "        variance_components[key] = float(val)\n",
    "    \n",
    "var_intercept = variance_components[\"var_intercept\"]\n",
    "var_residual = variance_components[\"var_residual\"]"
   ]
  },
  {
   "cell_type": "code",
   "execution_count": 10,
   "id": "aab45ae9-2c6d-4b4f-ad02-2256a9d03a78",
   "metadata": {},
   "outputs": [],
   "source": [
    "from numpy.linalg import LinAlgError\n",
    "\n",
    "def simulate_lme(params):\n",
    "    random_state, beta_T, beta_P, beta_TP = params\n",
    "    \n",
    "    n_obs_per_group = subset[\"N_tweets_before\"]\\\n",
    "        .sample(n_groups, random_state=random_state)\\\n",
    "        .values.astype(int)\n",
    "    total_n = n_obs_per_group.sum()\n",
    "\n",
    "    # generate simulated data\n",
    "    group = np.repeat(np.arange(n_groups), n_obs_per_group)\n",
    "\n",
    "    # binary predictor of the candidate type\n",
    "    T_group = np.random.binomial(1, n_incumbents / n_groups, n_groups)\n",
    "    T_observations = np.repeat(T_group, n_obs_per_group)\n",
    "    \n",
    "    # binary predictor of the party\n",
    "    P_group = np.random.binomial(1, n_democrats/ n_groups, n_groups)  \n",
    "    P_observations = np.repeat(P_group, n_obs_per_group)\n",
    "\n",
    "    random_intercepts = np.random.normal(0, np.sqrt(var_intercept), n_groups)\n",
    "    random_effects = random_intercepts[group]\n",
    "    errors = np.random.normal(0, np.sqrt(var_residual), total_n)\n",
    "\n",
    "    # calculate dependent variable\n",
    "    D = (0 + beta_T * T_observations + beta_P * P_observations + \\\n",
    "         beta_TP * T_observations * P_observations + random_effects + errors)\n",
    "    data = pd.DataFrame({'D': D, 'C': group, 'T': T_observations, 'P': P_observations})\n",
    "\n",
    "    # fit the linear mixed effects model\n",
    "    model = smf.mixedlm(\"D ~ T * P\", data, groups=data[\"C\"])\n",
    "\n",
    "    try:\n",
    "        result = model.fit()\n",
    "    except LinAlgError:\n",
    "        print(\"LinAlgError\")\n",
    "\n",
    "    # assess significance of the effects, handle cases where the term is not estimable\n",
    "    try:\n",
    "        p_value_interaction = result.pvalues['T:P']\n",
    "    except KeyError:\n",
    "        p_value_interaction = np.nan\n",
    "    try:\n",
    "        p_value_P = result.pvalues['P']\n",
    "    except KeyError:\n",
    "        p_value_P = np.nan\n",
    "    try:\n",
    "        p_value_T = result.pvalues['T']\n",
    "    except KeyError:\n",
    "        p_value_T = np.nan\n",
    "\n",
    "    return (random_state, beta_T, beta_P, beta_TP, p_value_T, p_value_P, p_value_interaction)"
   ]
  },
  {
   "cell_type": "code",
   "execution_count": 11,
   "id": "422bc282-fe1a-4368-83b0-d99bb0ead936",
   "metadata": {},
   "outputs": [],
   "source": [
    "beta_Ts = [0.005, 0.01, 0.015, 0.02, 0.025, 0.03]\n",
    "beta_Ps = [0.005, 0.01, 0.015, 0.02, 0.025, 0.03]\n",
    "beta_TPs = [0.005, 0.01, 0.015, 0.02, 0.025, 0.03]\n",
    "random_states = range(n_sim)\n",
    "\n",
    "params = [(i, beta_Ts[j], beta_Ps[j], beta_TPs[j])\\\n",
    "              for j in range(len(beta_Ts))\\\n",
    "              for i in random_states] \n",
    "N_configs = len(params)"
   ]
  },
  {
   "cell_type": "code",
   "execution_count": null,
   "id": "39d0567d-5b4a-4ea1-9800-cd58bcd0c206",
   "metadata": {
    "scrolled": true
   },
   "outputs": [],
   "source": [
    "results = pd.DataFrame()\n",
    "pool = Pool(10)\n",
    "\n",
    "for tmp1, tmp2, tmp3, tmp4, tmp5, tmp6, tmp7 in tqdm(pool.imap_unordered(\n",
    "    func=simulate_lme, \n",
    "    iterable=params), \n",
    "    total=N_configs):\n",
    "\n",
    "    results = pd.concat([results, pd.DataFrame({\n",
    "        \"random_state\":[tmp1],\n",
    "        \"beta_T\":[tmp2],\n",
    "        \"beta_P\":[tmp3],\n",
    "        \"beta_TP\":[tmp4],\n",
    "        \"p_value_T\":[tmp5],\n",
    "        \"p_value_P\":[tmp6],\n",
    "        \"p_value_TP\":[tmp7]\n",
    "    })])\n",
    "\n",
    "pool.close()\n",
    "\n",
    "results[\"alpha\"] = alpha\n",
    "results[\"var_intercept\"] = var_intercept\n",
    "results[\"var_residual\"] = var_residual\n",
    "fname = \"incumbent_power_analysis.csv\"\n",
    "results.to_csv(Path(dst, fname), index=False)"
   ]
  },
  {
   "cell_type": "markdown",
   "id": "756513ea-db2a-4444-98e9-37a14f3e180b",
   "metadata": {},
   "source": [
    "### Calculate power"
   ]
  },
  {
   "cell_type": "code",
   "execution_count": 13,
   "id": "03abab59-3839-4eec-a856-fc2469d84022",
   "metadata": {},
   "outputs": [],
   "source": [
    "# calculate power bootstrapped\n",
    "fname = \"incumbent_power_analysis.csv\"\n",
    "results = pd.read_csv(Path(dst, fname))\n",
    "power_bootstrap = pd.DataFrame()\n",
    "\n",
    "n_bootstrap = 100\n",
    "for beta_T, beta_P, beta_TP in zip(beta_Ts, beta_Ps, beta_TPs):\n",
    "    for n in range(n_bootstrap):\n",
    "        res = results[\n",
    "            (results[\"beta_T\"] == beta_T) & \\\n",
    "            (results[\"beta_P\"] == beta_P) & \\\n",
    "            (results[\"beta_TP\"] == beta_TP)\n",
    "        ].sample(frac=1, replace=True)\n",
    "    \n",
    "        power_T = np.nanmean(res[\"p_value_T\"].values < alpha)\n",
    "        power_P = np.nanmean(res[\"p_value_P\"].values < alpha)\n",
    "        power_TP = np.nanmean(res[\"p_value_TP\"].values < alpha)\n",
    "        \n",
    "        power_bootstrap = pd.concat([power_bootstrap, pd.DataFrame({\n",
    "            \"variable\":[\"$T$\"],\n",
    "            \"effect\":[beta_T],\n",
    "            \"power\":[power_T],\n",
    "        })])\n",
    "        power_bootstrap = pd.concat([power_bootstrap, pd.DataFrame({\n",
    "            \"variable\":[\"$P$\"],\n",
    "            \"effect\":[beta_P],\n",
    "            \"power\":[power_P],\n",
    "        })])\n",
    "        power_bootstrap = pd.concat([power_bootstrap, pd.DataFrame({\n",
    "            \"variable\":[\"$T \\\\times P$\"],\n",
    "            \"effect\":[beta_TP],\n",
    "            \"power\":[power_TP]\n",
    "        })])"
   ]
  },
  {
   "cell_type": "code",
   "execution_count": 14,
   "id": "0f8c0d14-cd5f-45fe-b778-33f8a54f81fe",
   "metadata": {},
   "outputs": [
    {
     "data": {
      "text/html": [
       "<div>\n",
       "<style scoped>\n",
       "    .dataframe tbody tr th:only-of-type {\n",
       "        vertical-align: middle;\n",
       "    }\n",
       "\n",
       "    .dataframe tbody tr th {\n",
       "        vertical-align: top;\n",
       "    }\n",
       "\n",
       "    .dataframe thead th {\n",
       "        text-align: right;\n",
       "    }\n",
       "</style>\n",
       "<table border=\"1\" class=\"dataframe\">\n",
       "  <thead>\n",
       "    <tr style=\"text-align: right;\">\n",
       "      <th></th>\n",
       "      <th>variable</th>\n",
       "      <th>effect</th>\n",
       "      <th>power</th>\n",
       "    </tr>\n",
       "  </thead>\n",
       "  <tbody>\n",
       "    <tr>\n",
       "      <th>0</th>\n",
       "      <td>$T$</td>\n",
       "      <td>0.005</td>\n",
       "      <td>0.39</td>\n",
       "    </tr>\n",
       "    <tr>\n",
       "      <th>0</th>\n",
       "      <td>$P$</td>\n",
       "      <td>0.005</td>\n",
       "      <td>0.32</td>\n",
       "    </tr>\n",
       "    <tr>\n",
       "      <th>0</th>\n",
       "      <td>$T \\times P$</td>\n",
       "      <td>0.005</td>\n",
       "      <td>0.02</td>\n",
       "    </tr>\n",
       "  </tbody>\n",
       "</table>\n",
       "</div>"
      ],
      "text/plain": [
       "       variable  effect  power\n",
       "0           $T$   0.005   0.39\n",
       "0           $P$   0.005   0.32\n",
       "0  $T \\times P$   0.005   0.02"
      ]
     },
     "execution_count": 14,
     "metadata": {},
     "output_type": "execute_result"
    }
   ],
   "source": [
    "power_bootstrap.head(3)"
   ]
  },
  {
   "cell_type": "markdown",
   "id": "f75d6ba3-822b-40b1-b18d-23e5e13f9ab3",
   "metadata": {},
   "source": [
    "### Visualisation of power analysis"
   ]
  },
  {
   "cell_type": "code",
   "execution_count": 15,
   "id": "83b951d0-7b65-4504-b890-f1d3a92d87a3",
   "metadata": {},
   "outputs": [
    {
     "data": {
      "image/png": "[encoded data removed]",
      "text/plain": [
       "<Figure size 600x400 with 1 Axes>"
      ]
     },
     "metadata": {},
     "output_type": "display_data"
    }
   ],
   "source": [
    "fig, ax = plt.subplots(figsize=(6, 4))\n",
    "\n",
    "sns.lineplot(\n",
    "    data=power_bootstrap,\n",
    "    ax=ax,\n",
    "    x=\"effect\", \n",
    "    y=\"power\",\n",
    "    hue=\"variable\",\n",
    "    errorbar=\"pi\",\n",
    "    palette=\"Set2\",\n",
    ")\n",
    "\n",
    "sns.scatterplot(\n",
    "    data=power_bootstrap.groupby([\"variable\", \"effect\"]).mean().reset_index(),\n",
    "    ax=ax,\n",
    "    x=\"effect\",\n",
    "    y=\"power\",\n",
    "    hue=\"variable\",\n",
    "    hue_order=[\"$T$\", \"$P$\", \"$T \\\\times P$\"],\n",
    "    sizes=[50, 50, 50],\n",
    "    palette=\"Set2\",\n",
    "    legend=False\n",
    ")\n",
    "\n",
    "ax.set_xlabel(\"effect size $\\\\beta$\")\n",
    "ax.spines[['right', 'top']].set_visible(False)\n",
    "ax.legend(frameon=False)\n",
    "ax.plot([0, 0.031], [0.8, 0.8], '--', color=\"grey\")\n",
    "ax.set_xlim(0, 0.031)\n",
    "ax.set_ylim(0, 1.02)\n",
    "plt.tight_layout()\n",
    "\n",
    "fname = \"power_analysis_incumbent\"\n",
    "plt.savefig(Path(plt_dst, fname + \".pdf\"))\n",
    "plt.savefig(Path(plt_dst, fname + \".svg\"))"
   ]
  },
  {
   "cell_type": "markdown",
   "id": "ef208448-7fc3-406e-a262-9e565b643716",
   "metadata": {},
   "source": [
    "## Main analysis"
   ]
  },
  {
   "cell_type": "markdown",
   "id": "0dd0a774-f349-4fdb-a254-84929c15f305",
   "metadata": {},
   "source": [
    "TODO"
   ]
  }
 ],
 "metadata": {
  "kernelspec": {
   "display_name": "Python 3 (ipykernel)",
   "language": "python",
   "name": "python3"
  },
  "language_info": {
   "codemirror_mode": {
    "name": "ipython",
    "version": 3
   },
   "file_extension": ".py",
   "mimetype": "text/x-python",
   "name": "python",
   "nbconvert_exporter": "python",
   "pygments_lexer": "ipython3",
   "version": "3.12.3"
  }
 },
 "nbformat": 4,
 "nbformat_minor": 5
}
