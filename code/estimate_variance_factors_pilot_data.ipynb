{
 "cells": [
  {
   "cell_type": "code",
   "execution_count": 1,
   "id": "a83e8bc1-67c8-4c82-b690-44c122d65237",
   "metadata": {},
   "outputs": [],
   "source": [
    "import pandas as pd\n",
    "import numpy as np\n",
    "from pathlib import Path\n",
    "import matplotlib.pyplot as plt\n",
    "import statsmodels.formula.api as smf"
   ]
  },
  {
   "cell_type": "markdown",
   "id": "f51f4836-3ae3-4a2d-8137-c692e72f8ed2",
   "metadata": {},
   "source": [
    "# Estimate the variance factors for the linear mixed-effects models"
   ]
  },
  {
   "cell_type": "code",
   "execution_count": 129,
   "id": "efa2b144-c0f0-4cab-bb74-6546ad31ab2c",
   "metadata": {},
   "outputs": [],
   "source": [
    "src = \"../data\"\n",
    "dst = \"../results/variance_components\"\n",
    "Path(dst).mkdir(parents=True, exist_ok=True)"
   ]
  },
  {
   "cell_type": "markdown",
   "id": "1725f4f1-f286-47f4-af7c-db4af65b66d3",
   "metadata": {},
   "source": [
    "## Incumbent analysis"
   ]
  },
  {
   "cell_type": "code",
   "execution_count": 130,
   "id": "e920ba07-c404-49e3-a8e7-584e57bffadd",
   "metadata": {},
   "outputs": [],
   "source": [
    "fname = \"pilot_data1.csv.gzip\"\n",
    "pilot_data1 = pd.read_csv(\n",
    "    Path(src, fname),\n",
    "    compression=\"gzip\",\n",
    "    dtype={\"id\":str, \"author_id\":str},\n",
    "    parse_dates=[\"created_at\"]\n",
    ")"
   ]
  },
  {
   "cell_type": "markdown",
   "id": "c9b61831-d9aa-42f6-b363-82bb5bab650f",
   "metadata": {},
   "source": [
    "### Estimate variance factors"
   ]
  },
  {
   "cell_type": "code",
   "execution_count": 131,
   "id": "3a4787c7-1006-49f6-95d8-49a6db1f85b6",
   "metadata": {},
   "outputs": [
    {
     "name": "stdout",
     "output_type": "stream",
     "text": [
      "             Mixed Linear Model Regression Results\n",
      "===============================================================\n",
      "Model:             MixedLM Dependent Variable: avg_belief_score\n",
      "No. Observations:  83233   Method:             REML            \n",
      "No. Groups:        850     Scale:              0.0124          \n",
      "Min. group size:   1       Log-Likelihood:     63693.8463      \n",
      "Max. group size:   3432    Converged:          Yes             \n",
      "Mean group size:   97.9                                        \n",
      "---------------------------------------------------------------\n",
      "                     Coef.  Std.Err.   z    P>|z| [0.025 0.975]\n",
      "---------------------------------------------------------------\n",
      "Intercept             0.003    0.003  0.856 0.392 -0.004  0.009\n",
      "PARTY[T.R]           -0.013    0.004 -2.919 0.004 -0.021 -0.004\n",
      "INCUMBENT            -0.004    0.006 -0.801 0.423 -0.015  0.006\n",
      "PARTY[T.R]:INCUMBENT  0.009    0.008  1.104 0.269 -0.007  0.026\n",
      "Group Var             0.002    0.001                           \n",
      "===============================================================\n",
      "\n"
     ]
    },
    {
     "name": "stderr",
     "output_type": "stream",
     "text": [
      "/home/jana/python_environments/default/lib/python3.12/site-packages/statsmodels/regression/mixed_linear_model.py:2237: ConvergenceWarning: The MLE may be on the boundary of the parameter space.\n",
      "  warnings.warn(msg, ConvergenceWarning)\n"
     ]
    }
   ],
   "source": [
    "model = smf.mixedlm(\n",
    "    \"avg_belief_score ~ 1 + PARTY * INCUMBENT\", \n",
    "    pilot_data1, \n",
    "    groups=pilot_data1[\"author_id\"],\n",
    ")\n",
    "result = model.fit()\n",
    "print(result.summary())"
   ]
  },
  {
   "cell_type": "code",
   "execution_count": 132,
   "id": "33758d77-1e6a-4de1-bef1-3a69998cbe3e",
   "metadata": {},
   "outputs": [
    {
     "data": {
      "text/html": [
       "<div>\n",
       "<style scoped>\n",
       "    .dataframe tbody tr th:only-of-type {\n",
       "        vertical-align: middle;\n",
       "    }\n",
       "\n",
       "    .dataframe tbody tr th {\n",
       "        vertical-align: top;\n",
       "    }\n",
       "\n",
       "    .dataframe thead th {\n",
       "        text-align: right;\n",
       "    }\n",
       "</style>\n",
       "<table border=\"1\" class=\"dataframe\">\n",
       "  <thead>\n",
       "    <tr style=\"text-align: right;\">\n",
       "      <th></th>\n",
       "      <th>Group</th>\n",
       "    </tr>\n",
       "  </thead>\n",
       "  <tbody>\n",
       "    <tr>\n",
       "      <th>Group</th>\n",
       "      <td>0.002291</td>\n",
       "    </tr>\n",
       "  </tbody>\n",
       "</table>\n",
       "</div>"
      ],
      "text/plain": [
       "          Group\n",
       "Group  0.002291"
      ]
     },
     "execution_count": 132,
     "metadata": {},
     "output_type": "execute_result"
    }
   ],
   "source": [
    "result.cov_re"
   ]
  },
  {
   "cell_type": "code",
   "execution_count": 133,
   "id": "eefe63d4-eef1-421a-8c18-11ea789d72ae",
   "metadata": {},
   "outputs": [
    {
     "data": {
      "text/plain": [
       "0.012392493861011449"
      ]
     },
     "execution_count": 133,
     "metadata": {},
     "output_type": "execute_result"
    }
   ],
   "source": [
    "result.scale"
   ]
  },
  {
   "cell_type": "code",
   "execution_count": 135,
   "id": "d1860b62-55e1-4be9-8d58-4c2e975fcaaa",
   "metadata": {},
   "outputs": [],
   "source": [
    "fname = \"variance_components_incumbent_analysis_belief_speaking.txt\"\n",
    "with open(Path(dst, fname), \"w\") as outfile:\n",
    "    outfile.write(\"var_intercept={}\\n\".format(result.cov_re[\"Group\"][\"Group\"]))\n",
    "    outfile.write(\"var_residual={}\".format(result.scale))"
   ]
  },
  {
   "cell_type": "markdown",
   "id": "e78397ed-1705-4ab8-9aa8-e099c719d959",
   "metadata": {},
   "source": [
    "### Estimate confidence interval of random intercept variance"
   ]
  },
  {
   "cell_type": "markdown",
   "id": "3fcd20d8-919f-46e1-9f0b-6509b636ea22",
   "metadata": {},
   "source": [
    "Following this [tutorial](https://www.statsmodels.org/dev/examples/notebooks/generated/mixed_lm_example.html) and this [explanation](https://strimmerlab.github.io/publications/lecture-notes/MATH20802/likelihood-based-confidence-interval-and-likelihood-ratio.html) of likelihood-based CIs."
   ]
  },
  {
   "cell_type": "code",
   "execution_count": 7,
   "id": "14649963-6225-44f2-a216-918c7f5da402",
   "metadata": {},
   "outputs": [],
   "source": [
    "import warnings\n",
    "\n",
    "with warnings.catch_warnings():\n",
    "    warnings.filterwarnings(\"ignore\")\n",
    "    likev = result.profile_re(0, vtype='re', dist_low=0.0004, dist_high=0.0004, num_low=20, num_high=20)"
   ]
  },
  {
   "cell_type": "code",
   "execution_count": 8,
   "id": "f6685f7a-d15f-4480-b1c9-5352b0e1b6bb",
   "metadata": {},
   "outputs": [],
   "source": [
    "likelihood_cuttoff = likev[:, 1].max() - 1.92"
   ]
  },
  {
   "cell_type": "code",
   "execution_count": 9,
   "id": "6aaf04d9-2ddc-411c-a516-825001605daa",
   "metadata": {},
   "outputs": [],
   "source": [
    "first_index = np.argmax(likev[:, 1] > likelihood_cuttoff)\n",
    "second_index = np.argmax(likev[first_index:, 1] < likelihood_cuttoff) + first_index"
   ]
  },
  {
   "cell_type": "code",
   "execution_count": 10,
   "id": "980564a2-7cf0-47ac-aa6e-598eda54991c",
   "metadata": {},
   "outputs": [
    {
     "data": {
      "text/plain": [
       "63691.92627970052"
      ]
     },
     "execution_count": 10,
     "metadata": {},
     "output_type": "execute_result"
    }
   ],
   "source": [
    "likelihood_cuttoff"
   ]
  },
  {
   "cell_type": "code",
   "execution_count": 11,
   "id": "c66bf922-05ea-455a-a2b0-724fe2cc8834",
   "metadata": {},
   "outputs": [
    {
     "data": {
      "text/plain": [
       "0.0020530139615529503"
      ]
     },
     "execution_count": 11,
     "metadata": {},
     "output_type": "execute_result"
    }
   ],
   "source": [
    "likev[:, 0][first_index]"
   ]
  },
  {
   "cell_type": "code",
   "execution_count": 12,
   "id": "04e6408c-d7bd-4400-af4c-5add5ed40f73",
   "metadata": {},
   "outputs": [
    {
     "data": {
      "text/plain": [
       "0.0025887228967450076"
      ]
     },
     "execution_count": 12,
     "metadata": {},
     "output_type": "execute_result"
    }
   ],
   "source": [
    "likev[:, 0][second_index]"
   ]
  },
  {
   "cell_type": "code",
   "execution_count": 13,
   "id": "cdfd3009-4724-4c11-9302-03b709069102",
   "metadata": {},
   "outputs": [
    {
     "data": {
      "text/plain": [
       "[<matplotlib.lines.Line2D at 0x74e7c15f21e0>]"
      ]
     },
     "execution_count": 13,
     "metadata": {},
     "output_type": "execute_result"
    },
    {
     "data": {
      "image/png": "[encoded data removed]",
      "text/plain": [
       "<Figure size 800x400 with 1 Axes>"
      ]
     },
     "metadata": {},
     "output_type": "display_data"
    }
   ],
   "source": [
    "fig, ax = plt.subplots(figsize=(8, 4))\n",
    "ax.plot(likev[:, 0], likev[:, 1])\n",
    "ax.set_xlabel(\"Variance of random intercept\")\n",
    "ax.set_ylabel(\"-1 * profile log likelihood\")\n",
    "ax.ticklabel_format(useOffset=False)\n",
    "\n",
    "ax.plot([likev[:, 0].min(), likev[:, 0].max()], [likev[:, 1].max(), likev[:, 1].max()], \"--\", color=\"grey\")\n",
    "ax.plot([likev[:, 0].min(), likev[:, 0].max()], [likelihood_cuttoff, likelihood_cuttoff], \"--\", color=\"grey\")\n",
    "ax.plot([likev[:, 0][first_index - 1], likev[:, 0][first_index - 1]], [likev[:, 1].min(), likev[:, 1].max()], color=\"orange\")\n",
    "ax.plot([likev[:, 0][second_index], likev[:, 0][second_index]], [likev[:, 1].min(), likev[:, 1].max()], color=\"orange\")"
   ]
  },
  {
   "cell_type": "markdown",
   "id": "7ab83175-5935-40f9-beac-85eb29e79430",
   "metadata": {},
   "source": [
    "### Estimate confidence interval of residual variance"
   ]
  },
  {
   "cell_type": "code",
   "execution_count": null,
   "id": "63260593-5f77-49bf-91b7-9ae26b99d6bb",
   "metadata": {},
   "outputs": [],
   "source": [
    "# via bootstrapping on authors\n",
    "n_bootstrap = 100\n",
    "\n",
    "scale_vals = []\n",
    "for n in range(n_bootstrap):\n",
    "    print(n)\n",
    "    pilot_data_bootstrapped = pd.DataFrame()\n",
    "    for i in range(len(pilot_data[\"author_id\"].unique())):\n",
    "        \n",
    "        # sample an author id and get the candidate's tweets\n",
    "        candidate = np.random.choice(pilot_data[\"author_id\"].unique(), 1)[0]\n",
    "        candidate_tweets = pilot_data[pilot_data[\"author_id\"] == candidate]\n",
    "\n",
    "        # add the tweets to the bootstrapped data set\n",
    "        pilot_data_bootstrapped = pd.concat([pilot_data_bootstrapped, candidate_tweets])\n",
    "        pilot_data_bootstrapped = pilot_data_bootstrapped.reset_index(drop=True)\n",
    "\n",
    "    # fit the lme on the bootstrapped data\n",
    "    model_bootstrapped = smf.mixedlm(\n",
    "        \"avg_belief_score ~ 1 + PARTY * T\", \n",
    "        pilot_data_bootstrapped, \n",
    "        groups=pilot_data_bootstrapped[\"author_id\"],\n",
    "    )\n",
    "    result_bootstrapped = model_bootstrapped.fit()\n",
    "    scale_vals.append(result_bootstrapped.scale)"
   ]
  },
  {
   "cell_type": "code",
   "execution_count": 128,
   "id": "02c202f0-a78e-4d24-b209-e89d4ee804d0",
   "metadata": {},
   "outputs": [
    {
     "data": {
      "text/plain": [
       "array([0.00989173, 0.015717  ])"
      ]
     },
     "execution_count": 128,
     "metadata": {},
     "output_type": "execute_result"
    }
   ],
   "source": [
    "np.percentile(scale_vals, [2.5, 97.5])"
   ]
  },
  {
   "cell_type": "markdown",
   "id": "8d4df1fb-b5b6-4e04-9b8b-a1399bc361f1",
   "metadata": {},
   "source": [
    "## Vote percent analysis"
   ]
  },
  {
   "cell_type": "code",
   "execution_count": 136,
   "id": "89685d47-3739-4185-a05d-649788102023",
   "metadata": {},
   "outputs": [],
   "source": [
    "fname = \"pilot_data1.csv.gzip\"\n",
    "pilot_data1 = pd.read_csv(\n",
    "    Path(src, fname),\n",
    "    compression=\"gzip\",\n",
    "    dtype={\"id\":str, \"author_id\":str},\n",
    "    parse_dates=[\"created_at\"]\n",
    ")"
   ]
  },
  {
   "cell_type": "code",
   "execution_count": 137,
   "id": "430250d5-b324-41ed-ab5f-692b72b80f50",
   "metadata": {},
   "outputs": [],
   "source": [
    "# remove all candidates that don't have a vote share\n",
    "pilot_data1 = pilot_data1.dropna(subset=[\"VOTE_SHARE\"])\n",
    "\n",
    "# remove all candidates that got a vote share of 100%\n",
    "pilot_data1 = pilot_data1[pilot_data1[\"VOTE_SHARE\"] != 100]"
   ]
  },
  {
   "cell_type": "code",
   "execution_count": 138,
   "id": "fec913f6-1a80-4f64-844a-94b38f4a6f23",
   "metadata": {},
   "outputs": [
    {
     "data": {
      "text/plain": [
       "51466"
      ]
     },
     "execution_count": 138,
     "metadata": {},
     "output_type": "execute_result"
    }
   ],
   "source": [
    "len(pilot_data1)"
   ]
  },
  {
   "cell_type": "code",
   "execution_count": 139,
   "id": "e932be49-17e2-4083-b9ff-e3f34b121038",
   "metadata": {},
   "outputs": [
    {
     "data": {
      "text/plain": [
       "571"
      ]
     },
     "execution_count": 139,
     "metadata": {},
     "output_type": "execute_result"
    }
   ],
   "source": [
    "len(pilot_data1[\"author_id\"].unique())"
   ]
  },
  {
   "cell_type": "code",
   "execution_count": 140,
   "id": "4f444a3d-bd4d-4cd8-9b7f-fb0f1b864574",
   "metadata": {},
   "outputs": [
    {
     "data": {
      "text/plain": [
       "PARTY\n",
       "R    309\n",
       "D    262\n",
       "Name: count, dtype: int64"
      ]
     },
     "execution_count": 140,
     "metadata": {},
     "output_type": "execute_result"
    }
   ],
   "source": [
    "pilot_data1.drop_duplicates(subset=[\"author_id\"])[\"PARTY\"].value_counts()"
   ]
  },
  {
   "cell_type": "markdown",
   "id": "cf3f672f-885d-4e02-a42e-a27111b3ee87",
   "metadata": {},
   "source": [
    "### Estimate variance factors"
   ]
  },
  {
   "cell_type": "code",
   "execution_count": 141,
   "id": "b12a4794-ace4-46c4-8b6b-d9e985dc73a8",
   "metadata": {},
   "outputs": [
    {
     "name": "stdout",
     "output_type": "stream",
     "text": [
      "             Mixed Linear Model Regression Results\n",
      "================================================================\n",
      "Model:              MixedLM Dependent Variable: avg_belief_score\n",
      "No. Observations:   51466   Method:             REML            \n",
      "No. Groups:         571     Scale:              0.0133          \n",
      "Min. group size:    1       Log-Likelihood:     37521.6338      \n",
      "Max. group size:    1568    Converged:          Yes             \n",
      "Mean group size:    90.1                                        \n",
      "----------------------------------------------------------------\n",
      "                      Coef.  Std.Err.   z    P>|z| [0.025 0.975]\n",
      "----------------------------------------------------------------\n",
      "Intercept              0.001    0.005  0.221 0.825 -0.009  0.011\n",
      "PARTY[T.R]            -0.011    0.007 -1.508 0.132 -0.025  0.003\n",
      "VOTE_SHARE             0.000    0.000  0.105 0.917 -0.000  0.000\n",
      "PARTY[T.R]:VOTE_SHARE -0.000    0.000 -0.035 0.972 -0.000  0.000\n",
      "Group Var              0.002    0.001                           \n",
      "================================================================\n",
      "\n"
     ]
    },
    {
     "name": "stderr",
     "output_type": "stream",
     "text": [
      "/home/jana/python_environments/default/lib/python3.12/site-packages/statsmodels/regression/mixed_linear_model.py:2237: ConvergenceWarning: The MLE may be on the boundary of the parameter space.\n",
      "  warnings.warn(msg, ConvergenceWarning)\n"
     ]
    }
   ],
   "source": [
    "model = smf.mixedlm(\n",
    "    \"avg_belief_score ~ 1 + PARTY * VOTE_SHARE\", \n",
    "    pilot_data1, \n",
    "    groups=pilot_data1[\"author_id\"],\n",
    ")\n",
    "result = model.fit()\n",
    "print(result.summary())"
   ]
  },
  {
   "cell_type": "code",
   "execution_count": 142,
   "id": "e660cfff-6ac8-478e-acd0-13023b18fb9e",
   "metadata": {},
   "outputs": [
    {
     "data": {
      "text/html": [
       "<div>\n",
       "<style scoped>\n",
       "    .dataframe tbody tr th:only-of-type {\n",
       "        vertical-align: middle;\n",
       "    }\n",
       "\n",
       "    .dataframe tbody tr th {\n",
       "        vertical-align: top;\n",
       "    }\n",
       "\n",
       "    .dataframe thead th {\n",
       "        text-align: right;\n",
       "    }\n",
       "</style>\n",
       "<table border=\"1\" class=\"dataframe\">\n",
       "  <thead>\n",
       "    <tr style=\"text-align: right;\">\n",
       "      <th></th>\n",
       "      <th>Group</th>\n",
       "    </tr>\n",
       "  </thead>\n",
       "  <tbody>\n",
       "    <tr>\n",
       "      <th>Group</th>\n",
       "      <td>0.00196</td>\n",
       "    </tr>\n",
       "  </tbody>\n",
       "</table>\n",
       "</div>"
      ],
      "text/plain": [
       "         Group\n",
       "Group  0.00196"
      ]
     },
     "execution_count": 142,
     "metadata": {},
     "output_type": "execute_result"
    }
   ],
   "source": [
    "result.cov_re"
   ]
  },
  {
   "cell_type": "code",
   "execution_count": 143,
   "id": "c4d7105d-80dd-45a5-91dc-e3712582d2b4",
   "metadata": {},
   "outputs": [
    {
     "data": {
      "text/plain": [
       "0.013318093681196104"
      ]
     },
     "execution_count": 143,
     "metadata": {},
     "output_type": "execute_result"
    }
   ],
   "source": [
    "result.scale"
   ]
  },
  {
   "cell_type": "code",
   "execution_count": 144,
   "id": "b9b2c902-80c6-49f9-9581-0ef2c7ed9785",
   "metadata": {},
   "outputs": [],
   "source": [
    "fname = \"variance_components_vote_percent_analysis_belief_speaking.txt\"\n",
    "with open(Path(dst, fname), \"w\") as outfile:\n",
    "    outfile.write(\"var_intercept={}\\n\".format(result.cov_re[\"Group\"][\"Group\"]))\n",
    "    outfile.write(\"var_residual={}\".format(result.scale))"
   ]
  },
  {
   "cell_type": "markdown",
   "id": "2fb78cd5-8b09-450e-a13a-823d05bcf03c",
   "metadata": {},
   "source": [
    "### Estimate confidence interval of random intercept variance"
   ]
  },
  {
   "cell_type": "markdown",
   "id": "e7607fcd-615f-4859-aedb-1e5970b6825d",
   "metadata": {},
   "source": [
    "Following this [tutorial](https://www.statsmodels.org/dev/examples/notebooks/generated/mixed_lm_example.html) and this [explanation](https://strimmerlab.github.io/publications/lecture-notes/MATH20802/likelihood-based-confidence-interval-and-likelihood-ratio.html) of likelihood-based CIs."
   ]
  },
  {
   "cell_type": "code",
   "execution_count": 152,
   "id": "7e83be44-7b2f-499c-846f-98a5beede790",
   "metadata": {},
   "outputs": [],
   "source": [
    "import warnings\n",
    "\n",
    "with warnings.catch_warnings():\n",
    "    warnings.filterwarnings(\"ignore\")\n",
    "    likev = result.profile_re(0, vtype='re', dist_low=0.0004, dist_high=0.0004, num_low=20, num_high=20)"
   ]
  },
  {
   "cell_type": "code",
   "execution_count": 153,
   "id": "0f4fb5ef-1320-4c23-943a-0e51b8d131e3",
   "metadata": {},
   "outputs": [],
   "source": [
    "likelihood_cuttoff = likev[:, 1].max() - 1.92"
   ]
  },
  {
   "cell_type": "code",
   "execution_count": 154,
   "id": "837ca1a3-b48f-4387-926e-012c7cb36fc2",
   "metadata": {},
   "outputs": [],
   "source": [
    "first_index = np.argmax(likev[:, 1] > likelihood_cuttoff)\n",
    "second_index = np.argmax(likev[first_index:, 1] < likelihood_cuttoff) + first_index"
   ]
  },
  {
   "cell_type": "code",
   "execution_count": 155,
   "id": "028d4f04-537a-4a6e-9bd3-1dc6712b7b4e",
   "metadata": {},
   "outputs": [
    {
     "data": {
      "text/plain": [
       "37506.92396988608"
      ]
     },
     "execution_count": 155,
     "metadata": {},
     "output_type": "execute_result"
    }
   ],
   "source": [
    "likelihood_cuttoff"
   ]
  },
  {
   "cell_type": "code",
   "execution_count": 156,
   "id": "e9d0fff4-6b09-4514-95dd-d547353494a2",
   "metadata": {},
   "outputs": [
    {
     "data": {
      "text/plain": [
       "0.0017093953832548999"
      ]
     },
     "execution_count": 156,
     "metadata": {},
     "output_type": "execute_result"
    }
   ],
   "source": [
    "likev[:, 0][first_index]"
   ]
  },
  {
   "cell_type": "code",
   "execution_count": 157,
   "id": "5dc7ab37-796f-4467-a92c-81fd479d4438",
   "metadata": {},
   "outputs": [
    {
     "data": {
      "text/plain": [
       "0.002284550428498427"
      ]
     },
     "execution_count": 157,
     "metadata": {},
     "output_type": "execute_result"
    }
   ],
   "source": [
    "likev[:, 0][second_index]"
   ]
  },
  {
   "cell_type": "code",
   "execution_count": 158,
   "id": "40ef9189-85f2-4e43-907f-4c480c9e54f4",
   "metadata": {},
   "outputs": [
    {
     "data": {
      "text/plain": [
       "[<matplotlib.lines.Line2D at 0x7269bf9967e0>]"
      ]
     },
     "execution_count": 158,
     "metadata": {},
     "output_type": "execute_result"
    },
    {
     "data": {
      "image/png": "[encoded data removed]",
      "text/plain": [
       "<Figure size 800x400 with 1 Axes>"
      ]
     },
     "metadata": {},
     "output_type": "display_data"
    }
   ],
   "source": [
    "fig, ax = plt.subplots(figsize=(8, 4))\n",
    "ax.plot(likev[:, 0], likev[:, 1])\n",
    "ax.set_xlabel(\"Variance of random intercept\")\n",
    "ax.set_ylabel(\"-1 * profile log likelihood\")\n",
    "ax.ticklabel_format(useOffset=False)\n",
    "\n",
    "ax.plot([likev[:, 0].min(), likev[:, 0].max()], [likev[:, 1].max(), likev[:, 1].max()], \"--\", color=\"grey\")\n",
    "ax.plot([likev[:, 0].min(), likev[:, 0].max()], [likelihood_cuttoff, likelihood_cuttoff], \"--\", color=\"grey\")\n",
    "ax.plot([likev[:, 0][first_index - 1], likev[:, 0][first_index - 1]], [likev[:, 1].min(), likev[:, 1].max()], color=\"orange\")\n",
    "ax.plot([likev[:, 0][second_index], likev[:, 0][second_index]], [likev[:, 1].min(), likev[:, 1].max()], color=\"orange\")"
   ]
  },
  {
   "cell_type": "markdown",
   "id": "da6eef75-0dff-4944-a739-0bc2ebc273d2",
   "metadata": {},
   "source": [
    "### Estimate confidence interval of residual variance"
   ]
  },
  {
   "cell_type": "code",
   "execution_count": null,
   "id": "2e3a9067-8d62-414c-bae8-0048c1ec306d",
   "metadata": {
    "scrolled": true
   },
   "outputs": [],
   "source": [
    "# via bootstrapping on authors\n",
    "n_bootstrap = 100\n",
    "\n",
    "scale_vals = []\n",
    "for n in range(n_bootstrap):\n",
    "    print(n)\n",
    "    pilot_data_bootstrapped = pd.DataFrame()\n",
    "    for i in range(len(pilot_data[\"author_id\"].unique())):\n",
    "        \n",
    "        # sample an author id and get the candidate's tweets\n",
    "        candidate = np.random.choice(pilot_data[\"author_id\"].unique(), 1)[0]\n",
    "        candidate_tweets = pilot_data[pilot_data[\"author_id\"] == candidate]\n",
    "\n",
    "        # add the tweets to the bootstrapped data set\n",
    "        pilot_data_bootstrapped = pd.concat([pilot_data_bootstrapped, candidate_tweets])\n",
    "        pilot_data_bootstrapped = pilot_data_bootstrapped.reset_index(drop=True)\n",
    "\n",
    "    # fit the lme on the bootstrapped data\n",
    "    model_bootstrapped = smf.mixedlm(\n",
    "        \"avg_belief_score ~ 1 + PARTY * VOTE_SHARE\", \n",
    "        pilot_data_bootstrapped, \n",
    "        groups=pilot_data_bootstrapped[\"author_id\"],\n",
    "    )\n",
    "    result_bootstrapped = model_bootstrapped.fit()\n",
    "    scale_vals.append(result_bootstrapped.scale)"
   ]
  },
  {
   "cell_type": "code",
   "execution_count": 162,
   "id": "61d8cad7-3737-4627-b0cf-57ade9f1c7e6",
   "metadata": {},
   "outputs": [
    {
     "data": {
      "text/plain": [
       "array([0.00988619, 0.01754056])"
      ]
     },
     "execution_count": 162,
     "metadata": {},
     "output_type": "execute_result"
    }
   ],
   "source": [
    "np.percentile(scale_vals, [2.5, 97.5])"
   ]
  },
  {
   "cell_type": "markdown",
   "id": "8ed37f47-e703-40c8-95ad-56155e266656",
   "metadata": {},
   "source": [
    "## Election analysis"
   ]
  },
  {
   "cell_type": "code",
   "execution_count": 120,
   "id": "7adf0724-9f9f-4b90-8b7b-1a7f79953908",
   "metadata": {},
   "outputs": [],
   "source": [
    "fname = \"pilot_data1.csv.gzip\"\n",
    "pilot_data1 = pd.read_csv(\n",
    "    Path(src, fname),\n",
    "    compression=\"gzip\",\n",
    "    dtype={\"id\":str, \"author_id\":str},\n",
    "    parse_dates=[\"created_at\"]\n",
    ")\n",
    "\n",
    "fname = \"pilot_data2.csv.gzip\"\n",
    "pilot_data2 = pd.read_csv(\n",
    "    Path(src, fname),\n",
    "    compression=\"gzip\",\n",
    "    dtype={\"id\":str, \"author_id\":str},\n",
    "    parse_dates=[\"created_at\"]\n",
    ")\n",
    "\n",
    "pilot_data1[\"E\"] = 0 # tweets from before elections \n",
    "pilot_data2[\"E\"] = 1 # tweets from after elections\n",
    "pilot_data = pd.concat([pilot_data1, pilot_data2]).reset_index(drop=True)"
   ]
  },
  {
   "cell_type": "markdown",
   "id": "5e84b0a2-b3e0-4c05-b102-6d0b657c4b74",
   "metadata": {},
   "source": [
    "### Estimate variance factors for belief-speaking"
   ]
  },
  {
   "cell_type": "code",
   "execution_count": 121,
   "id": "c63b8a82-e41f-47ee-ba58-119afc9ba002",
   "metadata": {},
   "outputs": [
    {
     "name": "stderr",
     "output_type": "stream",
     "text": [
      "/home/jana/python_environments/default/lib/python3.12/site-packages/statsmodels/regression/mixed_linear_model.py:2237: ConvergenceWarning: The MLE may be on the boundary of the parameter space.\n",
      "  warnings.warn(msg, ConvergenceWarning)\n"
     ]
    },
    {
     "name": "stdout",
     "output_type": "stream",
     "text": [
      "            Mixed Linear Model Regression Results\n",
      "==============================================================\n",
      "Model:            MixedLM Dependent Variable: avg_belief_score\n",
      "No. Observations: 278007  Method:             REML            \n",
      "No. Groups:       1026    Scale:              0.0119          \n",
      "Min. group size:  1       Log-Likelihood:     219162.9529     \n",
      "Max. group size:  6467    Converged:          Yes             \n",
      "Mean group size:  271.0                                       \n",
      "---------------------------------------------------------------\n",
      "                Coef.   Std.Err.    z     P>|z|  [0.025  0.975]\n",
      "---------------------------------------------------------------\n",
      "Intercept       -0.001     0.003  -0.549  0.583  -0.007   0.004\n",
      "PARTY[T.R]      -0.008     0.004  -2.312  0.021  -0.016  -0.001\n",
      "E               -0.008     0.002  -3.296  0.001  -0.013  -0.003\n",
      "PARTY[T.R]:E     0.006     0.003   1.771  0.076  -0.001   0.013\n",
      "Group Var        0.003     0.001                               \n",
      "Group x E Cov   -0.000     0.001                               \n",
      "E Var            0.001     0.001                               \n",
      "==============================================================\n",
      "\n"
     ]
    }
   ],
   "source": [
    "model = smf.mixedlm(\n",
    "    \"avg_belief_score ~ 1 + PARTY * E\", \n",
    "    pilot_data, \n",
    "    groups=pilot_data[\"author_id\"],\n",
    "    re_formula=\"1 + E\"\n",
    ")\n",
    "result = model.fit()\n",
    "print(result.summary())"
   ]
  },
  {
   "cell_type": "code",
   "execution_count": 122,
   "id": "d954534e-2ea0-4d91-b232-5cee904cb13e",
   "metadata": {},
   "outputs": [
    {
     "data": {
      "text/html": [
       "<div>\n",
       "<style scoped>\n",
       "    .dataframe tbody tr th:only-of-type {\n",
       "        vertical-align: middle;\n",
       "    }\n",
       "\n",
       "    .dataframe tbody tr th {\n",
       "        vertical-align: top;\n",
       "    }\n",
       "\n",
       "    .dataframe thead th {\n",
       "        text-align: right;\n",
       "    }\n",
       "</style>\n",
       "<table border=\"1\" class=\"dataframe\">\n",
       "  <thead>\n",
       "    <tr style=\"text-align: right;\">\n",
       "      <th></th>\n",
       "      <th>Group</th>\n",
       "      <th>E</th>\n",
       "    </tr>\n",
       "  </thead>\n",
       "  <tbody>\n",
       "    <tr>\n",
       "      <th>Group</th>\n",
       "      <td>0.002526</td>\n",
       "      <td>-0.000193</td>\n",
       "    </tr>\n",
       "    <tr>\n",
       "      <th>E</th>\n",
       "      <td>-0.000193</td>\n",
       "      <td>0.001491</td>\n",
       "    </tr>\n",
       "  </tbody>\n",
       "</table>\n",
       "</div>"
      ],
      "text/plain": [
       "          Group         E\n",
       "Group  0.002526 -0.000193\n",
       "E     -0.000193  0.001491"
      ]
     },
     "execution_count": 122,
     "metadata": {},
     "output_type": "execute_result"
    }
   ],
   "source": [
    "result.cov_re"
   ]
  },
  {
   "cell_type": "code",
   "execution_count": 123,
   "id": "097172ea-a777-4ac0-99a3-0d1cac409079",
   "metadata": {},
   "outputs": [
    {
     "data": {
      "text/plain": [
       "0.011919028172987234"
      ]
     },
     "execution_count": 123,
     "metadata": {},
     "output_type": "execute_result"
    }
   ],
   "source": [
    "result.scale"
   ]
  },
  {
   "cell_type": "code",
   "execution_count": 124,
   "id": "e9351917-b2e8-4ddc-8ba7-8f25dc1dbdbc",
   "metadata": {},
   "outputs": [],
   "source": [
    "fname = \"variance_components_election_analysis_belief_speaking.txt\"\n",
    "with open(Path(dst, fname), \"w\") as outfile:\n",
    "    outfile.write(\"var_intercept={}\\n\".format(result.cov_re[\"Group\"][\"Group\"]))\n",
    "    outfile.write(\"var_slope_E={}\\n\".format(result.cov_re[\"E\"][\"E\"]))\n",
    "    outfile.write(\"cov_intercept_slope_E={}\\n\".format(result.cov_re[\"Group\"][\"E\"]))\n",
    "    outfile.write(\"var_residual={}\".format(result.scale))"
   ]
  },
  {
   "cell_type": "markdown",
   "id": "ca5e1c07-458a-4f16-96e2-0f324fb6f68d",
   "metadata": {},
   "source": [
    "### Estimate confidence interval of random intercept variance for belief-speaking"
   ]
  },
  {
   "cell_type": "markdown",
   "id": "695b0559-95f4-49fc-905e-e3e5455f73e1",
   "metadata": {},
   "source": [
    "Following this [tutorial](https://www.statsmodels.org/dev/examples/notebooks/generated/mixed_lm_example.html) and this [explanation](https://strimmerlab.github.io/publications/lecture-notes/MATH20802/likelihood-based-confidence-interval-and-likelihood-ratio.html) of likelihood-based CIs."
   ]
  },
  {
   "cell_type": "code",
   "execution_count": 75,
   "id": "7ee0fd41-6e1b-4e58-bdb6-c45e239c75f5",
   "metadata": {},
   "outputs": [],
   "source": [
    "import warnings\n",
    "\n",
    "with warnings.catch_warnings():\n",
    "    warnings.filterwarnings(\"ignore\")\n",
    "    likev = result.profile_re(0, vtype='re', dist_low=0.0004, dist_high=0.0004, num_low=20, num_high=20)"
   ]
  },
  {
   "cell_type": "code",
   "execution_count": 76,
   "id": "f688ba09-68aa-439b-8e6e-8fa22df23b89",
   "metadata": {},
   "outputs": [],
   "source": [
    "likelihood_cuttoff = likev[:, 1].max() - 1.92"
   ]
  },
  {
   "cell_type": "code",
   "execution_count": 77,
   "id": "6d14cd0f-5cb1-48c0-8093-961ca1b51cec",
   "metadata": {},
   "outputs": [],
   "source": [
    "first_index = np.argmax(likev[:, 1] > likelihood_cuttoff)\n",
    "second_index = np.argmax(likev[first_index:, 1] < likelihood_cuttoff) + first_index"
   ]
  },
  {
   "cell_type": "code",
   "execution_count": 78,
   "id": "ad083878-990a-4369-b8c5-064c63c466ff",
   "metadata": {},
   "outputs": [
    {
     "data": {
      "text/plain": [
       "219161.0329419397"
      ]
     },
     "execution_count": 78,
     "metadata": {},
     "output_type": "execute_result"
    }
   ],
   "source": [
    "likelihood_cuttoff"
   ]
  },
  {
   "cell_type": "code",
   "execution_count": 79,
   "id": "77883d43-b112-4d07-a533-c74600ec4192",
   "metadata": {},
   "outputs": [
    {
     "data": {
      "text/plain": [
       "0.0022468649250240685"
      ]
     },
     "execution_count": 79,
     "metadata": {},
     "output_type": "execute_result"
    }
   ],
   "source": [
    "likev[:, 0][first_index]"
   ]
  },
  {
   "cell_type": "code",
   "execution_count": 80,
   "id": "2eb19c75-54e1-4c40-aaaa-f2b5224628f6",
   "metadata": {},
   "outputs": [
    {
     "data": {
      "text/plain": [
       "0.0028654003476021182"
      ]
     },
     "execution_count": 80,
     "metadata": {},
     "output_type": "execute_result"
    }
   ],
   "source": [
    "likev[:, 0][second_index]"
   ]
  },
  {
   "cell_type": "code",
   "execution_count": 81,
   "id": "8955d8b4-ad65-4c5b-a42f-f93338877ec7",
   "metadata": {},
   "outputs": [
    {
     "data": {
      "text/plain": [
       "[<matplotlib.lines.Line2D at 0x74e7c319f0b0>]"
      ]
     },
     "execution_count": 81,
     "metadata": {},
     "output_type": "execute_result"
    },
    {
     "data": {
      "image/png": "[encoded data removed]",
      "text/plain": [
       "<Figure size 800x400 with 1 Axes>"
      ]
     },
     "metadata": {},
     "output_type": "display_data"
    }
   ],
   "source": [
    "fig, ax = plt.subplots(figsize=(8, 4))\n",
    "ax.plot(likev[:, 0], likev[:, 1])\n",
    "ax.set_xlabel(\"Variance of random intercept\")\n",
    "ax.set_ylabel(\"-1 * profile log likelihood\")\n",
    "ax.ticklabel_format(useOffset=False)\n",
    "\n",
    "ax.plot([likev[:, 0].min(), likev[:, 0].max()], [likev[:, 1].max(), likev[:, 1].max()], \"--\", color=\"grey\")\n",
    "ax.plot([likev[:, 0].min(), likev[:, 0].max()], [likelihood_cuttoff, likelihood_cuttoff], \"--\", color=\"grey\")\n",
    "ax.plot([likev[:, 0][first_index - 1], likev[:, 0][first_index - 1]], [likev[:, 1].min(), likev[:, 1].max()], color=\"orange\")\n",
    "ax.plot([likev[:, 0][second_index], likev[:, 0][second_index]], [likev[:, 1].min(), likev[:, 1].max()], color=\"orange\")"
   ]
  },
  {
   "cell_type": "markdown",
   "id": "5f30da04-98d9-4d38-8e50-ae4cd33a4280",
   "metadata": {},
   "source": [
    "### Estimate confidence interval of random slope variance for belief-speaking"
   ]
  },
  {
   "cell_type": "code",
   "execution_count": 82,
   "id": "7b31bcfb-3c64-422d-9173-b6309198aae7",
   "metadata": {},
   "outputs": [],
   "source": [
    "import warnings\n",
    "\n",
    "with warnings.catch_warnings():\n",
    "    warnings.filterwarnings(\"ignore\")\n",
    "    likev = result.profile_re(1, vtype='re', dist_low=0.0004, dist_high=0.0004, num_low=20, num_high=20)"
   ]
  },
  {
   "cell_type": "code",
   "execution_count": 83,
   "id": "254b2b68-c4ab-4ab9-a4b6-70a15ea24b7d",
   "metadata": {},
   "outputs": [],
   "source": [
    "likelihood_cuttoff = likev[:, 1].max() - 1.92"
   ]
  },
  {
   "cell_type": "code",
   "execution_count": 84,
   "id": "9225bbc4-4f5f-4b30-ab55-2fc2ef34beb5",
   "metadata": {},
   "outputs": [],
   "source": [
    "first_index = np.argmax(likev[:, 1] > likelihood_cuttoff)\n",
    "second_index = np.argmax(likev[first_index:, 1] < likelihood_cuttoff) + first_index"
   ]
  },
  {
   "cell_type": "code",
   "execution_count": 85,
   "id": "b4993ce3-67fa-4960-a589-8a7435d9b381",
   "metadata": {},
   "outputs": [
    {
     "data": {
      "text/plain": [
       "219161.0329419397"
      ]
     },
     "execution_count": 85,
     "metadata": {},
     "output_type": "execute_result"
    }
   ],
   "source": [
    "likelihood_cuttoff"
   ]
  },
  {
   "cell_type": "code",
   "execution_count": 86,
   "id": "c32c448e-021d-4e15-b509-37aa49f9d985",
   "metadata": {},
   "outputs": [
    {
     "data": {
      "text/plain": [
       "0.001271560660756135"
      ]
     },
     "execution_count": 86,
     "metadata": {},
     "output_type": "execute_result"
    }
   ],
   "source": [
    "likev[:, 0][first_index]"
   ]
  },
  {
   "cell_type": "code",
   "execution_count": 87,
   "id": "00746514-fa2b-4778-8d6f-4a0638b67221",
   "metadata": {},
   "outputs": [
    {
     "data": {
      "text/plain": [
       "0.001770797435051563"
      ]
     },
     "execution_count": 87,
     "metadata": {},
     "output_type": "execute_result"
    }
   ],
   "source": [
    "likev[:, 0][second_index]"
   ]
  },
  {
   "cell_type": "code",
   "execution_count": 88,
   "id": "62b48eff-1ef6-4273-a51a-4b69ba510a16",
   "metadata": {},
   "outputs": [
    {
     "data": {
      "text/plain": [
       "[<matplotlib.lines.Line2D at 0x74e7c31db7d0>]"
      ]
     },
     "execution_count": 88,
     "metadata": {},
     "output_type": "execute_result"
    },
    {
     "data": {
      "image/png": "[encoded data removed]",
      "text/plain": [
       "<Figure size 800x400 with 1 Axes>"
      ]
     },
     "metadata": {},
     "output_type": "display_data"
    }
   ],
   "source": [
    "fig, ax = plt.subplots(figsize=(8, 4))\n",
    "ax.plot(likev[:, 0], likev[:, 1])\n",
    "ax.set_xlabel(\"Variance of random intercept\")\n",
    "ax.set_ylabel(\"-1 * profile log likelihood\")\n",
    "ax.ticklabel_format(useOffset=False)\n",
    "\n",
    "ax.plot([likev[:, 0].min(), likev[:, 0].max()], [likev[:, 1].max(), likev[:, 1].max()], \"--\", color=\"grey\")\n",
    "ax.plot([likev[:, 0].min(), likev[:, 0].max()], [likelihood_cuttoff, likelihood_cuttoff], \"--\", color=\"grey\")\n",
    "ax.plot([likev[:, 0][first_index - 1], likev[:, 0][first_index - 1]], [likev[:, 1].min(), likev[:, 1].max()], color=\"orange\")\n",
    "ax.plot([likev[:, 0][second_index], likev[:, 0][second_index]], [likev[:, 1].min(), likev[:, 1].max()], color=\"orange\")"
   ]
  },
  {
   "cell_type": "markdown",
   "id": "28f806e4-8e1e-4bb2-8035-b27b3ec783b7",
   "metadata": {},
   "source": [
    "### Estimate confidence interval of residual variance and slope/intercept covariance for belief-speaking"
   ]
  },
  {
   "cell_type": "code",
   "execution_count": 89,
   "id": "ead2321e-f311-4b35-b1a8-2d232666d38d",
   "metadata": {
    "scrolled": true
   },
   "outputs": [
    {
     "name": "stdout",
     "output_type": "stream",
     "text": [
      "0\n"
     ]
    },
    {
     "name": "stderr",
     "output_type": "stream",
     "text": [
      "/home/jana/python_environments/default/lib/python3.12/site-packages/statsmodels/regression/mixed_linear_model.py:2237: ConvergenceWarning: The MLE may be on the boundary of the parameter space.\n",
      "  warnings.warn(msg, ConvergenceWarning)\n"
     ]
    },
    {
     "name": "stdout",
     "output_type": "stream",
     "text": [
      "1\n"
     ]
    },
    {
     "name": "stderr",
     "output_type": "stream",
     "text": [
      "/home/jana/python_environments/default/lib/python3.12/site-packages/statsmodels/regression/mixed_linear_model.py:2237: ConvergenceWarning: The MLE may be on the boundary of the parameter space.\n",
      "  warnings.warn(msg, ConvergenceWarning)\n"
     ]
    },
    {
     "name": "stdout",
     "output_type": "stream",
     "text": [
      "2\n"
     ]
    },
    {
     "name": "stderr",
     "output_type": "stream",
     "text": [
      "/home/jana/python_environments/default/lib/python3.12/site-packages/statsmodels/regression/mixed_linear_model.py:2237: ConvergenceWarning: The MLE may be on the boundary of the parameter space.\n",
      "  warnings.warn(msg, ConvergenceWarning)\n"
     ]
    },
    {
     "name": "stdout",
     "output_type": "stream",
     "text": [
      "3\n"
     ]
    },
    {
     "name": "stderr",
     "output_type": "stream",
     "text": [
      "/home/jana/python_environments/default/lib/python3.12/site-packages/statsmodels/regression/mixed_linear_model.py:2237: ConvergenceWarning: The MLE may be on the boundary of the parameter space.\n",
      "  warnings.warn(msg, ConvergenceWarning)\n"
     ]
    },
    {
     "name": "stdout",
     "output_type": "stream",
     "text": [
      "4\n"
     ]
    },
    {
     "name": "stderr",
     "output_type": "stream",
     "text": [
      "/home/jana/python_environments/default/lib/python3.12/site-packages/statsmodels/regression/mixed_linear_model.py:2237: ConvergenceWarning: The MLE may be on the boundary of the parameter space.\n",
      "  warnings.warn(msg, ConvergenceWarning)\n"
     ]
    },
    {
     "name": "stdout",
     "output_type": "stream",
     "text": [
      "5\n"
     ]
    },
    {
     "name": "stderr",
     "output_type": "stream",
     "text": [
      "/home/jana/python_environments/default/lib/python3.12/site-packages/statsmodels/regression/mixed_linear_model.py:2237: ConvergenceWarning: The MLE may be on the boundary of the parameter space.\n",
      "  warnings.warn(msg, ConvergenceWarning)\n"
     ]
    },
    {
     "name": "stdout",
     "output_type": "stream",
     "text": [
      "6\n"
     ]
    },
    {
     "name": "stderr",
     "output_type": "stream",
     "text": [
      "/home/jana/python_environments/default/lib/python3.12/site-packages/statsmodels/regression/mixed_linear_model.py:2237: ConvergenceWarning: The MLE may be on the boundary of the parameter space.\n",
      "  warnings.warn(msg, ConvergenceWarning)\n"
     ]
    },
    {
     "name": "stdout",
     "output_type": "stream",
     "text": [
      "7\n"
     ]
    },
    {
     "name": "stderr",
     "output_type": "stream",
     "text": [
      "/home/jana/python_environments/default/lib/python3.12/site-packages/statsmodels/regression/mixed_linear_model.py:2237: ConvergenceWarning: The MLE may be on the boundary of the parameter space.\n",
      "  warnings.warn(msg, ConvergenceWarning)\n"
     ]
    },
    {
     "name": "stdout",
     "output_type": "stream",
     "text": [
      "8\n"
     ]
    },
    {
     "name": "stderr",
     "output_type": "stream",
     "text": [
      "/home/jana/python_environments/default/lib/python3.12/site-packages/statsmodels/regression/mixed_linear_model.py:2237: ConvergenceWarning: The MLE may be on the boundary of the parameter space.\n",
      "  warnings.warn(msg, ConvergenceWarning)\n"
     ]
    },
    {
     "name": "stdout",
     "output_type": "stream",
     "text": [
      "9\n"
     ]
    },
    {
     "name": "stderr",
     "output_type": "stream",
     "text": [
      "/home/jana/python_environments/default/lib/python3.12/site-packages/statsmodels/regression/mixed_linear_model.py:2237: ConvergenceWarning: The MLE may be on the boundary of the parameter space.\n",
      "  warnings.warn(msg, ConvergenceWarning)\n"
     ]
    },
    {
     "name": "stdout",
     "output_type": "stream",
     "text": [
      "10\n"
     ]
    },
    {
     "name": "stderr",
     "output_type": "stream",
     "text": [
      "/home/jana/python_environments/default/lib/python3.12/site-packages/statsmodels/regression/mixed_linear_model.py:2237: ConvergenceWarning: The MLE may be on the boundary of the parameter space.\n",
      "  warnings.warn(msg, ConvergenceWarning)\n"
     ]
    },
    {
     "name": "stdout",
     "output_type": "stream",
     "text": [
      "11\n"
     ]
    },
    {
     "name": "stderr",
     "output_type": "stream",
     "text": [
      "/home/jana/python_environments/default/lib/python3.12/site-packages/statsmodels/regression/mixed_linear_model.py:2237: ConvergenceWarning: The MLE may be on the boundary of the parameter space.\n",
      "  warnings.warn(msg, ConvergenceWarning)\n"
     ]
    },
    {
     "name": "stdout",
     "output_type": "stream",
     "text": [
      "12\n"
     ]
    },
    {
     "name": "stderr",
     "output_type": "stream",
     "text": [
      "/home/jana/python_environments/default/lib/python3.12/site-packages/statsmodels/regression/mixed_linear_model.py:2237: ConvergenceWarning: The MLE may be on the boundary of the parameter space.\n",
      "  warnings.warn(msg, ConvergenceWarning)\n"
     ]
    },
    {
     "name": "stdout",
     "output_type": "stream",
     "text": [
      "13\n"
     ]
    },
    {
     "name": "stderr",
     "output_type": "stream",
     "text": [
      "/home/jana/python_environments/default/lib/python3.12/site-packages/statsmodels/regression/mixed_linear_model.py:2237: ConvergenceWarning: The MLE may be on the boundary of the parameter space.\n",
      "  warnings.warn(msg, ConvergenceWarning)\n"
     ]
    },
    {
     "name": "stdout",
     "output_type": "stream",
     "text": [
      "14\n"
     ]
    },
    {
     "name": "stderr",
     "output_type": "stream",
     "text": [
      "/home/jana/python_environments/default/lib/python3.12/site-packages/statsmodels/regression/mixed_linear_model.py:2237: ConvergenceWarning: The MLE may be on the boundary of the parameter space.\n",
      "  warnings.warn(msg, ConvergenceWarning)\n"
     ]
    },
    {
     "name": "stdout",
     "output_type": "stream",
     "text": [
      "15\n"
     ]
    },
    {
     "name": "stderr",
     "output_type": "stream",
     "text": [
      "/home/jana/python_environments/default/lib/python3.12/site-packages/statsmodels/regression/mixed_linear_model.py:2237: ConvergenceWarning: The MLE may be on the boundary of the parameter space.\n",
      "  warnings.warn(msg, ConvergenceWarning)\n"
     ]
    },
    {
     "name": "stdout",
     "output_type": "stream",
     "text": [
      "16\n"
     ]
    },
    {
     "name": "stderr",
     "output_type": "stream",
     "text": [
      "/home/jana/python_environments/default/lib/python3.12/site-packages/statsmodels/regression/mixed_linear_model.py:2237: ConvergenceWarning: The MLE may be on the boundary of the parameter space.\n",
      "  warnings.warn(msg, ConvergenceWarning)\n"
     ]
    },
    {
     "name": "stdout",
     "output_type": "stream",
     "text": [
      "17\n"
     ]
    },
    {
     "name": "stderr",
     "output_type": "stream",
     "text": [
      "/home/jana/python_environments/default/lib/python3.12/site-packages/statsmodels/regression/mixed_linear_model.py:2237: ConvergenceWarning: The MLE may be on the boundary of the parameter space.\n",
      "  warnings.warn(msg, ConvergenceWarning)\n"
     ]
    },
    {
     "name": "stdout",
     "output_type": "stream",
     "text": [
      "18\n"
     ]
    },
    {
     "name": "stderr",
     "output_type": "stream",
     "text": [
      "/home/jana/python_environments/default/lib/python3.12/site-packages/statsmodels/regression/mixed_linear_model.py:2237: ConvergenceWarning: The MLE may be on the boundary of the parameter space.\n",
      "  warnings.warn(msg, ConvergenceWarning)\n"
     ]
    },
    {
     "name": "stdout",
     "output_type": "stream",
     "text": [
      "19\n"
     ]
    },
    {
     "name": "stderr",
     "output_type": "stream",
     "text": [
      "/home/jana/python_environments/default/lib/python3.12/site-packages/statsmodels/regression/mixed_linear_model.py:2237: ConvergenceWarning: The MLE may be on the boundary of the parameter space.\n",
      "  warnings.warn(msg, ConvergenceWarning)\n"
     ]
    },
    {
     "name": "stdout",
     "output_type": "stream",
     "text": [
      "20\n"
     ]
    },
    {
     "name": "stderr",
     "output_type": "stream",
     "text": [
      "/home/jana/python_environments/default/lib/python3.12/site-packages/statsmodels/regression/mixed_linear_model.py:2237: ConvergenceWarning: The MLE may be on the boundary of the parameter space.\n",
      "  warnings.warn(msg, ConvergenceWarning)\n"
     ]
    },
    {
     "name": "stdout",
     "output_type": "stream",
     "text": [
      "21\n"
     ]
    },
    {
     "name": "stderr",
     "output_type": "stream",
     "text": [
      "/home/jana/python_environments/default/lib/python3.12/site-packages/statsmodels/regression/mixed_linear_model.py:2237: ConvergenceWarning: The MLE may be on the boundary of the parameter space.\n",
      "  warnings.warn(msg, ConvergenceWarning)\n"
     ]
    },
    {
     "name": "stdout",
     "output_type": "stream",
     "text": [
      "22\n"
     ]
    },
    {
     "name": "stderr",
     "output_type": "stream",
     "text": [
      "/home/jana/python_environments/default/lib/python3.12/site-packages/statsmodels/regression/mixed_linear_model.py:2237: ConvergenceWarning: The MLE may be on the boundary of the parameter space.\n",
      "  warnings.warn(msg, ConvergenceWarning)\n"
     ]
    },
    {
     "name": "stdout",
     "output_type": "stream",
     "text": [
      "23\n"
     ]
    },
    {
     "name": "stderr",
     "output_type": "stream",
     "text": [
      "/home/jana/python_environments/default/lib/python3.12/site-packages/statsmodels/regression/mixed_linear_model.py:2237: ConvergenceWarning: The MLE may be on the boundary of the parameter space.\n",
      "  warnings.warn(msg, ConvergenceWarning)\n"
     ]
    },
    {
     "name": "stdout",
     "output_type": "stream",
     "text": [
      "24\n"
     ]
    },
    {
     "name": "stderr",
     "output_type": "stream",
     "text": [
      "/home/jana/python_environments/default/lib/python3.12/site-packages/statsmodels/regression/mixed_linear_model.py:2237: ConvergenceWarning: The MLE may be on the boundary of the parameter space.\n",
      "  warnings.warn(msg, ConvergenceWarning)\n"
     ]
    },
    {
     "name": "stdout",
     "output_type": "stream",
     "text": [
      "25\n"
     ]
    },
    {
     "name": "stderr",
     "output_type": "stream",
     "text": [
      "/home/jana/python_environments/default/lib/python3.12/site-packages/statsmodels/regression/mixed_linear_model.py:2237: ConvergenceWarning: The MLE may be on the boundary of the parameter space.\n",
      "  warnings.warn(msg, ConvergenceWarning)\n"
     ]
    },
    {
     "name": "stdout",
     "output_type": "stream",
     "text": [
      "26\n"
     ]
    },
    {
     "name": "stderr",
     "output_type": "stream",
     "text": [
      "/home/jana/python_environments/default/lib/python3.12/site-packages/statsmodels/regression/mixed_linear_model.py:2237: ConvergenceWarning: The MLE may be on the boundary of the parameter space.\n",
      "  warnings.warn(msg, ConvergenceWarning)\n"
     ]
    },
    {
     "name": "stdout",
     "output_type": "stream",
     "text": [
      "27\n"
     ]
    },
    {
     "name": "stderr",
     "output_type": "stream",
     "text": [
      "/home/jana/python_environments/default/lib/python3.12/site-packages/statsmodels/regression/mixed_linear_model.py:2237: ConvergenceWarning: The MLE may be on the boundary of the parameter space.\n",
      "  warnings.warn(msg, ConvergenceWarning)\n"
     ]
    },
    {
     "name": "stdout",
     "output_type": "stream",
     "text": [
      "28\n"
     ]
    },
    {
     "name": "stderr",
     "output_type": "stream",
     "text": [
      "/home/jana/python_environments/default/lib/python3.12/site-packages/statsmodels/regression/mixed_linear_model.py:2237: ConvergenceWarning: The MLE may be on the boundary of the parameter space.\n",
      "  warnings.warn(msg, ConvergenceWarning)\n"
     ]
    },
    {
     "name": "stdout",
     "output_type": "stream",
     "text": [
      "29\n"
     ]
    },
    {
     "name": "stderr",
     "output_type": "stream",
     "text": [
      "/home/jana/python_environments/default/lib/python3.12/site-packages/statsmodels/regression/mixed_linear_model.py:2237: ConvergenceWarning: The MLE may be on the boundary of the parameter space.\n",
      "  warnings.warn(msg, ConvergenceWarning)\n"
     ]
    },
    {
     "name": "stdout",
     "output_type": "stream",
     "text": [
      "30\n"
     ]
    },
    {
     "name": "stderr",
     "output_type": "stream",
     "text": [
      "/home/jana/python_environments/default/lib/python3.12/site-packages/statsmodels/regression/mixed_linear_model.py:2237: ConvergenceWarning: The MLE may be on the boundary of the parameter space.\n",
      "  warnings.warn(msg, ConvergenceWarning)\n"
     ]
    },
    {
     "name": "stdout",
     "output_type": "stream",
     "text": [
      "31\n"
     ]
    },
    {
     "name": "stderr",
     "output_type": "stream",
     "text": [
      "/home/jana/python_environments/default/lib/python3.12/site-packages/statsmodels/regression/mixed_linear_model.py:2237: ConvergenceWarning: The MLE may be on the boundary of the parameter space.\n",
      "  warnings.warn(msg, ConvergenceWarning)\n"
     ]
    },
    {
     "name": "stdout",
     "output_type": "stream",
     "text": [
      "32\n"
     ]
    },
    {
     "name": "stderr",
     "output_type": "stream",
     "text": [
      "/home/jana/python_environments/default/lib/python3.12/site-packages/statsmodels/regression/mixed_linear_model.py:2237: ConvergenceWarning: The MLE may be on the boundary of the parameter space.\n",
      "  warnings.warn(msg, ConvergenceWarning)\n"
     ]
    },
    {
     "name": "stdout",
     "output_type": "stream",
     "text": [
      "33\n"
     ]
    },
    {
     "name": "stderr",
     "output_type": "stream",
     "text": [
      "/home/jana/python_environments/default/lib/python3.12/site-packages/statsmodels/regression/mixed_linear_model.py:2237: ConvergenceWarning: The MLE may be on the boundary of the parameter space.\n",
      "  warnings.warn(msg, ConvergenceWarning)\n"
     ]
    },
    {
     "name": "stdout",
     "output_type": "stream",
     "text": [
      "34\n"
     ]
    },
    {
     "name": "stderr",
     "output_type": "stream",
     "text": [
      "/home/jana/python_environments/default/lib/python3.12/site-packages/statsmodels/regression/mixed_linear_model.py:2237: ConvergenceWarning: The MLE may be on the boundary of the parameter space.\n",
      "  warnings.warn(msg, ConvergenceWarning)\n"
     ]
    },
    {
     "name": "stdout",
     "output_type": "stream",
     "text": [
      "35\n"
     ]
    },
    {
     "name": "stderr",
     "output_type": "stream",
     "text": [
      "/home/jana/python_environments/default/lib/python3.12/site-packages/statsmodels/regression/mixed_linear_model.py:2237: ConvergenceWarning: The MLE may be on the boundary of the parameter space.\n",
      "  warnings.warn(msg, ConvergenceWarning)\n"
     ]
    },
    {
     "name": "stdout",
     "output_type": "stream",
     "text": [
      "36\n"
     ]
    },
    {
     "name": "stderr",
     "output_type": "stream",
     "text": [
      "/home/jana/python_environments/default/lib/python3.12/site-packages/statsmodels/regression/mixed_linear_model.py:2237: ConvergenceWarning: The MLE may be on the boundary of the parameter space.\n",
      "  warnings.warn(msg, ConvergenceWarning)\n"
     ]
    },
    {
     "name": "stdout",
     "output_type": "stream",
     "text": [
      "37\n"
     ]
    },
    {
     "name": "stderr",
     "output_type": "stream",
     "text": [
      "/home/jana/python_environments/default/lib/python3.12/site-packages/statsmodels/regression/mixed_linear_model.py:2237: ConvergenceWarning: The MLE may be on the boundary of the parameter space.\n",
      "  warnings.warn(msg, ConvergenceWarning)\n"
     ]
    },
    {
     "name": "stdout",
     "output_type": "stream",
     "text": [
      "38\n"
     ]
    },
    {
     "name": "stderr",
     "output_type": "stream",
     "text": [
      "/home/jana/python_environments/default/lib/python3.12/site-packages/statsmodels/regression/mixed_linear_model.py:2237: ConvergenceWarning: The MLE may be on the boundary of the parameter space.\n",
      "  warnings.warn(msg, ConvergenceWarning)\n"
     ]
    },
    {
     "name": "stdout",
     "output_type": "stream",
     "text": [
      "39\n"
     ]
    },
    {
     "name": "stderr",
     "output_type": "stream",
     "text": [
      "/home/jana/python_environments/default/lib/python3.12/site-packages/statsmodels/regression/mixed_linear_model.py:2237: ConvergenceWarning: The MLE may be on the boundary of the parameter space.\n",
      "  warnings.warn(msg, ConvergenceWarning)\n"
     ]
    },
    {
     "name": "stdout",
     "output_type": "stream",
     "text": [
      "40\n"
     ]
    },
    {
     "name": "stderr",
     "output_type": "stream",
     "text": [
      "/home/jana/python_environments/default/lib/python3.12/site-packages/statsmodels/regression/mixed_linear_model.py:2237: ConvergenceWarning: The MLE may be on the boundary of the parameter space.\n",
      "  warnings.warn(msg, ConvergenceWarning)\n"
     ]
    },
    {
     "name": "stdout",
     "output_type": "stream",
     "text": [
      "41\n"
     ]
    },
    {
     "name": "stderr",
     "output_type": "stream",
     "text": [
      "/home/jana/python_environments/default/lib/python3.12/site-packages/statsmodels/regression/mixed_linear_model.py:2237: ConvergenceWarning: The MLE may be on the boundary of the parameter space.\n",
      "  warnings.warn(msg, ConvergenceWarning)\n"
     ]
    },
    {
     "name": "stdout",
     "output_type": "stream",
     "text": [
      "42\n"
     ]
    },
    {
     "name": "stderr",
     "output_type": "stream",
     "text": [
      "/home/jana/python_environments/default/lib/python3.12/site-packages/statsmodels/regression/mixed_linear_model.py:2237: ConvergenceWarning: The MLE may be on the boundary of the parameter space.\n",
      "  warnings.warn(msg, ConvergenceWarning)\n"
     ]
    },
    {
     "name": "stdout",
     "output_type": "stream",
     "text": [
      "43\n"
     ]
    },
    {
     "name": "stderr",
     "output_type": "stream",
     "text": [
      "/home/jana/python_environments/default/lib/python3.12/site-packages/statsmodels/regression/mixed_linear_model.py:2237: ConvergenceWarning: The MLE may be on the boundary of the parameter space.\n",
      "  warnings.warn(msg, ConvergenceWarning)\n"
     ]
    },
    {
     "name": "stdout",
     "output_type": "stream",
     "text": [
      "44\n"
     ]
    },
    {
     "name": "stderr",
     "output_type": "stream",
     "text": [
      "/home/jana/python_environments/default/lib/python3.12/site-packages/statsmodels/regression/mixed_linear_model.py:2237: ConvergenceWarning: The MLE may be on the boundary of the parameter space.\n",
      "  warnings.warn(msg, ConvergenceWarning)\n"
     ]
    },
    {
     "name": "stdout",
     "output_type": "stream",
     "text": [
      "45\n"
     ]
    },
    {
     "name": "stderr",
     "output_type": "stream",
     "text": [
      "/home/jana/python_environments/default/lib/python3.12/site-packages/statsmodels/regression/mixed_linear_model.py:2237: ConvergenceWarning: The MLE may be on the boundary of the parameter space.\n",
      "  warnings.warn(msg, ConvergenceWarning)\n"
     ]
    },
    {
     "name": "stdout",
     "output_type": "stream",
     "text": [
      "46\n"
     ]
    },
    {
     "name": "stderr",
     "output_type": "stream",
     "text": [
      "/home/jana/python_environments/default/lib/python3.12/site-packages/statsmodels/regression/mixed_linear_model.py:2237: ConvergenceWarning: The MLE may be on the boundary of the parameter space.\n",
      "  warnings.warn(msg, ConvergenceWarning)\n"
     ]
    },
    {
     "name": "stdout",
     "output_type": "stream",
     "text": [
      "47\n"
     ]
    },
    {
     "name": "stderr",
     "output_type": "stream",
     "text": [
      "/home/jana/python_environments/default/lib/python3.12/site-packages/statsmodels/regression/mixed_linear_model.py:2237: ConvergenceWarning: The MLE may be on the boundary of the parameter space.\n",
      "  warnings.warn(msg, ConvergenceWarning)\n"
     ]
    },
    {
     "name": "stdout",
     "output_type": "stream",
     "text": [
      "48\n"
     ]
    },
    {
     "name": "stderr",
     "output_type": "stream",
     "text": [
      "/home/jana/python_environments/default/lib/python3.12/site-packages/statsmodels/regression/mixed_linear_model.py:2237: ConvergenceWarning: The MLE may be on the boundary of the parameter space.\n",
      "  warnings.warn(msg, ConvergenceWarning)\n"
     ]
    },
    {
     "name": "stdout",
     "output_type": "stream",
     "text": [
      "49\n"
     ]
    },
    {
     "name": "stderr",
     "output_type": "stream",
     "text": [
      "/home/jana/python_environments/default/lib/python3.12/site-packages/statsmodels/regression/mixed_linear_model.py:2237: ConvergenceWarning: The MLE may be on the boundary of the parameter space.\n",
      "  warnings.warn(msg, ConvergenceWarning)\n"
     ]
    },
    {
     "name": "stdout",
     "output_type": "stream",
     "text": [
      "50\n"
     ]
    },
    {
     "name": "stderr",
     "output_type": "stream",
     "text": [
      "/home/jana/python_environments/default/lib/python3.12/site-packages/statsmodels/regression/mixed_linear_model.py:2237: ConvergenceWarning: The MLE may be on the boundary of the parameter space.\n",
      "  warnings.warn(msg, ConvergenceWarning)\n"
     ]
    },
    {
     "name": "stdout",
     "output_type": "stream",
     "text": [
      "51\n"
     ]
    },
    {
     "name": "stderr",
     "output_type": "stream",
     "text": [
      "/home/jana/python_environments/default/lib/python3.12/site-packages/statsmodels/regression/mixed_linear_model.py:2237: ConvergenceWarning: The MLE may be on the boundary of the parameter space.\n",
      "  warnings.warn(msg, ConvergenceWarning)\n"
     ]
    },
    {
     "name": "stdout",
     "output_type": "stream",
     "text": [
      "52\n"
     ]
    },
    {
     "name": "stderr",
     "output_type": "stream",
     "text": [
      "/home/jana/python_environments/default/lib/python3.12/site-packages/statsmodels/regression/mixed_linear_model.py:2237: ConvergenceWarning: The MLE may be on the boundary of the parameter space.\n",
      "  warnings.warn(msg, ConvergenceWarning)\n"
     ]
    },
    {
     "name": "stdout",
     "output_type": "stream",
     "text": [
      "53\n"
     ]
    },
    {
     "name": "stderr",
     "output_type": "stream",
     "text": [
      "/home/jana/python_environments/default/lib/python3.12/site-packages/statsmodels/regression/mixed_linear_model.py:2237: ConvergenceWarning: The MLE may be on the boundary of the parameter space.\n",
      "  warnings.warn(msg, ConvergenceWarning)\n"
     ]
    },
    {
     "name": "stdout",
     "output_type": "stream",
     "text": [
      "54\n"
     ]
    },
    {
     "name": "stderr",
     "output_type": "stream",
     "text": [
      "/home/jana/python_environments/default/lib/python3.12/site-packages/statsmodels/regression/mixed_linear_model.py:2237: ConvergenceWarning: The MLE may be on the boundary of the parameter space.\n",
      "  warnings.warn(msg, ConvergenceWarning)\n"
     ]
    },
    {
     "name": "stdout",
     "output_type": "stream",
     "text": [
      "55\n"
     ]
    },
    {
     "name": "stderr",
     "output_type": "stream",
     "text": [
      "/home/jana/python_environments/default/lib/python3.12/site-packages/statsmodels/regression/mixed_linear_model.py:2237: ConvergenceWarning: The MLE may be on the boundary of the parameter space.\n",
      "  warnings.warn(msg, ConvergenceWarning)\n"
     ]
    },
    {
     "name": "stdout",
     "output_type": "stream",
     "text": [
      "56\n"
     ]
    },
    {
     "name": "stderr",
     "output_type": "stream",
     "text": [
      "/home/jana/python_environments/default/lib/python3.12/site-packages/statsmodels/regression/mixed_linear_model.py:2237: ConvergenceWarning: The MLE may be on the boundary of the parameter space.\n",
      "  warnings.warn(msg, ConvergenceWarning)\n"
     ]
    },
    {
     "name": "stdout",
     "output_type": "stream",
     "text": [
      "57\n"
     ]
    },
    {
     "name": "stderr",
     "output_type": "stream",
     "text": [
      "/home/jana/python_environments/default/lib/python3.12/site-packages/statsmodels/regression/mixed_linear_model.py:2237: ConvergenceWarning: The MLE may be on the boundary of the parameter space.\n",
      "  warnings.warn(msg, ConvergenceWarning)\n"
     ]
    },
    {
     "name": "stdout",
     "output_type": "stream",
     "text": [
      "58\n"
     ]
    },
    {
     "name": "stderr",
     "output_type": "stream",
     "text": [
      "/home/jana/python_environments/default/lib/python3.12/site-packages/statsmodels/regression/mixed_linear_model.py:2237: ConvergenceWarning: The MLE may be on the boundary of the parameter space.\n",
      "  warnings.warn(msg, ConvergenceWarning)\n"
     ]
    },
    {
     "name": "stdout",
     "output_type": "stream",
     "text": [
      "59\n"
     ]
    },
    {
     "name": "stderr",
     "output_type": "stream",
     "text": [
      "/home/jana/python_environments/default/lib/python3.12/site-packages/statsmodels/regression/mixed_linear_model.py:2237: ConvergenceWarning: The MLE may be on the boundary of the parameter space.\n",
      "  warnings.warn(msg, ConvergenceWarning)\n"
     ]
    },
    {
     "name": "stdout",
     "output_type": "stream",
     "text": [
      "60\n"
     ]
    },
    {
     "name": "stderr",
     "output_type": "stream",
     "text": [
      "/home/jana/python_environments/default/lib/python3.12/site-packages/statsmodels/regression/mixed_linear_model.py:2237: ConvergenceWarning: The MLE may be on the boundary of the parameter space.\n",
      "  warnings.warn(msg, ConvergenceWarning)\n"
     ]
    },
    {
     "name": "stdout",
     "output_type": "stream",
     "text": [
      "61\n"
     ]
    },
    {
     "name": "stderr",
     "output_type": "stream",
     "text": [
      "/home/jana/python_environments/default/lib/python3.12/site-packages/statsmodels/regression/mixed_linear_model.py:2237: ConvergenceWarning: The MLE may be on the boundary of the parameter space.\n",
      "  warnings.warn(msg, ConvergenceWarning)\n"
     ]
    },
    {
     "name": "stdout",
     "output_type": "stream",
     "text": [
      "62\n"
     ]
    },
    {
     "name": "stderr",
     "output_type": "stream",
     "text": [
      "/home/jana/python_environments/default/lib/python3.12/site-packages/statsmodels/regression/mixed_linear_model.py:2237: ConvergenceWarning: The MLE may be on the boundary of the parameter space.\n",
      "  warnings.warn(msg, ConvergenceWarning)\n"
     ]
    },
    {
     "name": "stdout",
     "output_type": "stream",
     "text": [
      "63\n"
     ]
    },
    {
     "name": "stderr",
     "output_type": "stream",
     "text": [
      "/home/jana/python_environments/default/lib/python3.12/site-packages/statsmodels/regression/mixed_linear_model.py:2237: ConvergenceWarning: The MLE may be on the boundary of the parameter space.\n",
      "  warnings.warn(msg, ConvergenceWarning)\n"
     ]
    },
    {
     "name": "stdout",
     "output_type": "stream",
     "text": [
      "64\n"
     ]
    },
    {
     "name": "stderr",
     "output_type": "stream",
     "text": [
      "/home/jana/python_environments/default/lib/python3.12/site-packages/statsmodels/regression/mixed_linear_model.py:2237: ConvergenceWarning: The MLE may be on the boundary of the parameter space.\n",
      "  warnings.warn(msg, ConvergenceWarning)\n"
     ]
    },
    {
     "name": "stdout",
     "output_type": "stream",
     "text": [
      "65\n"
     ]
    },
    {
     "name": "stderr",
     "output_type": "stream",
     "text": [
      "/home/jana/python_environments/default/lib/python3.12/site-packages/statsmodels/base/model.py:607: ConvergenceWarning: Maximum Likelihood optimization failed to converge. Check mle_retvals\n",
      "  warnings.warn(\"Maximum Likelihood optimization failed to \"\n",
      "/home/jana/python_environments/default/lib/python3.12/site-packages/statsmodels/regression/mixed_linear_model.py:2200: ConvergenceWarning: Retrying MixedLM optimization with lbfgs\n",
      "  warnings.warn(\n",
      "/home/jana/python_environments/default/lib/python3.12/site-packages/statsmodels/base/model.py:607: ConvergenceWarning: Maximum Likelihood optimization failed to converge. Check mle_retvals\n",
      "  warnings.warn(\"Maximum Likelihood optimization failed to \"\n",
      "/home/jana/python_environments/default/lib/python3.12/site-packages/statsmodels/regression/mixed_linear_model.py:2200: ConvergenceWarning: Retrying MixedLM optimization with cg\n",
      "  warnings.warn(\n",
      "/home/jana/python_environments/default/lib/python3.12/site-packages/statsmodels/base/model.py:607: ConvergenceWarning: Maximum Likelihood optimization failed to converge. Check mle_retvals\n",
      "  warnings.warn(\"Maximum Likelihood optimization failed to \"\n",
      "/home/jana/python_environments/default/lib/python3.12/site-packages/statsmodels/regression/mixed_linear_model.py:2206: ConvergenceWarning: MixedLM optimization failed, trying a different optimizer may help.\n",
      "  warnings.warn(msg, ConvergenceWarning)\n",
      "/home/jana/python_environments/default/lib/python3.12/site-packages/statsmodels/regression/mixed_linear_model.py:2218: ConvergenceWarning: Gradient optimization failed, |grad| = 490.955213\n",
      "  warnings.warn(msg, ConvergenceWarning)\n",
      "/home/jana/python_environments/default/lib/python3.12/site-packages/statsmodels/regression/mixed_linear_model.py:2237: ConvergenceWarning: The MLE may be on the boundary of the parameter space.\n",
      "  warnings.warn(msg, ConvergenceWarning)\n"
     ]
    },
    {
     "name": "stdout",
     "output_type": "stream",
     "text": [
      "66\n"
     ]
    },
    {
     "name": "stderr",
     "output_type": "stream",
     "text": [
      "/home/jana/python_environments/default/lib/python3.12/site-packages/statsmodels/regression/mixed_linear_model.py:2237: ConvergenceWarning: The MLE may be on the boundary of the parameter space.\n",
      "  warnings.warn(msg, ConvergenceWarning)\n"
     ]
    },
    {
     "name": "stdout",
     "output_type": "stream",
     "text": [
      "67\n"
     ]
    },
    {
     "name": "stderr",
     "output_type": "stream",
     "text": [
      "/home/jana/python_environments/default/lib/python3.12/site-packages/statsmodels/regression/mixed_linear_model.py:2237: ConvergenceWarning: The MLE may be on the boundary of the parameter space.\n",
      "  warnings.warn(msg, ConvergenceWarning)\n"
     ]
    },
    {
     "name": "stdout",
     "output_type": "stream",
     "text": [
      "68\n"
     ]
    },
    {
     "name": "stderr",
     "output_type": "stream",
     "text": [
      "/home/jana/python_environments/default/lib/python3.12/site-packages/statsmodels/regression/mixed_linear_model.py:2237: ConvergenceWarning: The MLE may be on the boundary of the parameter space.\n",
      "  warnings.warn(msg, ConvergenceWarning)\n"
     ]
    },
    {
     "name": "stdout",
     "output_type": "stream",
     "text": [
      "69\n"
     ]
    },
    {
     "name": "stderr",
     "output_type": "stream",
     "text": [
      "/home/jana/python_environments/default/lib/python3.12/site-packages/statsmodels/regression/mixed_linear_model.py:2237: ConvergenceWarning: The MLE may be on the boundary of the parameter space.\n",
      "  warnings.warn(msg, ConvergenceWarning)\n"
     ]
    },
    {
     "name": "stdout",
     "output_type": "stream",
     "text": [
      "70\n"
     ]
    },
    {
     "name": "stderr",
     "output_type": "stream",
     "text": [
      "/home/jana/python_environments/default/lib/python3.12/site-packages/statsmodels/regression/mixed_linear_model.py:2237: ConvergenceWarning: The MLE may be on the boundary of the parameter space.\n",
      "  warnings.warn(msg, ConvergenceWarning)\n"
     ]
    },
    {
     "name": "stdout",
     "output_type": "stream",
     "text": [
      "71\n"
     ]
    },
    {
     "name": "stderr",
     "output_type": "stream",
     "text": [
      "/home/jana/python_environments/default/lib/python3.12/site-packages/statsmodels/regression/mixed_linear_model.py:2237: ConvergenceWarning: The MLE may be on the boundary of the parameter space.\n",
      "  warnings.warn(msg, ConvergenceWarning)\n"
     ]
    },
    {
     "name": "stdout",
     "output_type": "stream",
     "text": [
      "72\n"
     ]
    },
    {
     "name": "stderr",
     "output_type": "stream",
     "text": [
      "/home/jana/python_environments/default/lib/python3.12/site-packages/statsmodels/base/model.py:607: ConvergenceWarning: Maximum Likelihood optimization failed to converge. Check mle_retvals\n",
      "  warnings.warn(\"Maximum Likelihood optimization failed to \"\n",
      "/home/jana/python_environments/default/lib/python3.12/site-packages/statsmodels/regression/mixed_linear_model.py:2200: ConvergenceWarning: Retrying MixedLM optimization with lbfgs\n",
      "  warnings.warn(\n",
      "/home/jana/python_environments/default/lib/python3.12/site-packages/statsmodels/base/model.py:607: ConvergenceWarning: Maximum Likelihood optimization failed to converge. Check mle_retvals\n",
      "  warnings.warn(\"Maximum Likelihood optimization failed to \"\n",
      "/home/jana/python_environments/default/lib/python3.12/site-packages/statsmodels/regression/mixed_linear_model.py:2200: ConvergenceWarning: Retrying MixedLM optimization with cg\n",
      "  warnings.warn(\n",
      "/home/jana/python_environments/default/lib/python3.12/site-packages/statsmodels/base/model.py:607: ConvergenceWarning: Maximum Likelihood optimization failed to converge. Check mle_retvals\n",
      "  warnings.warn(\"Maximum Likelihood optimization failed to \"\n",
      "/home/jana/python_environments/default/lib/python3.12/site-packages/statsmodels/regression/mixed_linear_model.py:2206: ConvergenceWarning: MixedLM optimization failed, trying a different optimizer may help.\n",
      "  warnings.warn(msg, ConvergenceWarning)\n",
      "/home/jana/python_environments/default/lib/python3.12/site-packages/statsmodels/regression/mixed_linear_model.py:2218: ConvergenceWarning: Gradient optimization failed, |grad| = 549.707182\n",
      "  warnings.warn(msg, ConvergenceWarning)\n",
      "/home/jana/python_environments/default/lib/python3.12/site-packages/statsmodels/regression/mixed_linear_model.py:2237: ConvergenceWarning: The MLE may be on the boundary of the parameter space.\n",
      "  warnings.warn(msg, ConvergenceWarning)\n",
      "/home/jana/python_environments/default/lib/python3.12/site-packages/statsmodels/regression/mixed_linear_model.py:2261: ConvergenceWarning: The Hessian matrix at the estimated parameter values is not positive definite.\n",
      "  warnings.warn(msg, ConvergenceWarning)\n"
     ]
    },
    {
     "name": "stdout",
     "output_type": "stream",
     "text": [
      "73\n"
     ]
    },
    {
     "name": "stderr",
     "output_type": "stream",
     "text": [
      "/home/jana/python_environments/default/lib/python3.12/site-packages/statsmodels/regression/mixed_linear_model.py:2237: ConvergenceWarning: The MLE may be on the boundary of the parameter space.\n",
      "  warnings.warn(msg, ConvergenceWarning)\n"
     ]
    },
    {
     "name": "stdout",
     "output_type": "stream",
     "text": [
      "74\n"
     ]
    },
    {
     "name": "stderr",
     "output_type": "stream",
     "text": [
      "/home/jana/python_environments/default/lib/python3.12/site-packages/statsmodels/regression/mixed_linear_model.py:2237: ConvergenceWarning: The MLE may be on the boundary of the parameter space.\n",
      "  warnings.warn(msg, ConvergenceWarning)\n"
     ]
    },
    {
     "name": "stdout",
     "output_type": "stream",
     "text": [
      "75\n"
     ]
    },
    {
     "name": "stderr",
     "output_type": "stream",
     "text": [
      "/home/jana/python_environments/default/lib/python3.12/site-packages/statsmodels/regression/mixed_linear_model.py:2237: ConvergenceWarning: The MLE may be on the boundary of the parameter space.\n",
      "  warnings.warn(msg, ConvergenceWarning)\n"
     ]
    },
    {
     "name": "stdout",
     "output_type": "stream",
     "text": [
      "76\n"
     ]
    },
    {
     "name": "stderr",
     "output_type": "stream",
     "text": [
      "/home/jana/python_environments/default/lib/python3.12/site-packages/statsmodels/regression/mixed_linear_model.py:2237: ConvergenceWarning: The MLE may be on the boundary of the parameter space.\n",
      "  warnings.warn(msg, ConvergenceWarning)\n"
     ]
    },
    {
     "name": "stdout",
     "output_type": "stream",
     "text": [
      "77\n"
     ]
    },
    {
     "name": "stderr",
     "output_type": "stream",
     "text": [
      "/home/jana/python_environments/default/lib/python3.12/site-packages/statsmodels/regression/mixed_linear_model.py:2237: ConvergenceWarning: The MLE may be on the boundary of the parameter space.\n",
      "  warnings.warn(msg, ConvergenceWarning)\n"
     ]
    },
    {
     "name": "stdout",
     "output_type": "stream",
     "text": [
      "78\n"
     ]
    },
    {
     "name": "stderr",
     "output_type": "stream",
     "text": [
      "/home/jana/python_environments/default/lib/python3.12/site-packages/statsmodels/regression/mixed_linear_model.py:2237: ConvergenceWarning: The MLE may be on the boundary of the parameter space.\n",
      "  warnings.warn(msg, ConvergenceWarning)\n"
     ]
    },
    {
     "name": "stdout",
     "output_type": "stream",
     "text": [
      "79\n"
     ]
    },
    {
     "name": "stderr",
     "output_type": "stream",
     "text": [
      "/home/jana/python_environments/default/lib/python3.12/site-packages/statsmodels/regression/mixed_linear_model.py:2237: ConvergenceWarning: The MLE may be on the boundary of the parameter space.\n",
      "  warnings.warn(msg, ConvergenceWarning)\n"
     ]
    },
    {
     "name": "stdout",
     "output_type": "stream",
     "text": [
      "80\n"
     ]
    },
    {
     "name": "stderr",
     "output_type": "stream",
     "text": [
      "/home/jana/python_environments/default/lib/python3.12/site-packages/statsmodels/regression/mixed_linear_model.py:2237: ConvergenceWarning: The MLE may be on the boundary of the parameter space.\n",
      "  warnings.warn(msg, ConvergenceWarning)\n"
     ]
    },
    {
     "name": "stdout",
     "output_type": "stream",
     "text": [
      "81\n"
     ]
    },
    {
     "name": "stderr",
     "output_type": "stream",
     "text": [
      "/home/jana/python_environments/default/lib/python3.12/site-packages/statsmodels/regression/mixed_linear_model.py:2237: ConvergenceWarning: The MLE may be on the boundary of the parameter space.\n",
      "  warnings.warn(msg, ConvergenceWarning)\n"
     ]
    },
    {
     "name": "stdout",
     "output_type": "stream",
     "text": [
      "82\n"
     ]
    },
    {
     "name": "stderr",
     "output_type": "stream",
     "text": [
      "/home/jana/python_environments/default/lib/python3.12/site-packages/statsmodels/regression/mixed_linear_model.py:2237: ConvergenceWarning: The MLE may be on the boundary of the parameter space.\n",
      "  warnings.warn(msg, ConvergenceWarning)\n"
     ]
    },
    {
     "name": "stdout",
     "output_type": "stream",
     "text": [
      "83\n"
     ]
    },
    {
     "name": "stderr",
     "output_type": "stream",
     "text": [
      "/home/jana/python_environments/default/lib/python3.12/site-packages/statsmodels/regression/mixed_linear_model.py:2237: ConvergenceWarning: The MLE may be on the boundary of the parameter space.\n",
      "  warnings.warn(msg, ConvergenceWarning)\n"
     ]
    },
    {
     "name": "stdout",
     "output_type": "stream",
     "text": [
      "84\n"
     ]
    },
    {
     "name": "stderr",
     "output_type": "stream",
     "text": [
      "/home/jana/python_environments/default/lib/python3.12/site-packages/statsmodels/regression/mixed_linear_model.py:2237: ConvergenceWarning: The MLE may be on the boundary of the parameter space.\n",
      "  warnings.warn(msg, ConvergenceWarning)\n"
     ]
    },
    {
     "name": "stdout",
     "output_type": "stream",
     "text": [
      "85\n"
     ]
    },
    {
     "name": "stderr",
     "output_type": "stream",
     "text": [
      "/home/jana/python_environments/default/lib/python3.12/site-packages/statsmodels/regression/mixed_linear_model.py:2237: ConvergenceWarning: The MLE may be on the boundary of the parameter space.\n",
      "  warnings.warn(msg, ConvergenceWarning)\n"
     ]
    },
    {
     "name": "stdout",
     "output_type": "stream",
     "text": [
      "86\n"
     ]
    },
    {
     "name": "stderr",
     "output_type": "stream",
     "text": [
      "/home/jana/python_environments/default/lib/python3.12/site-packages/statsmodels/regression/mixed_linear_model.py:2237: ConvergenceWarning: The MLE may be on the boundary of the parameter space.\n",
      "  warnings.warn(msg, ConvergenceWarning)\n"
     ]
    },
    {
     "name": "stdout",
     "output_type": "stream",
     "text": [
      "87\n"
     ]
    },
    {
     "name": "stderr",
     "output_type": "stream",
     "text": [
      "/home/jana/python_environments/default/lib/python3.12/site-packages/statsmodels/regression/mixed_linear_model.py:2237: ConvergenceWarning: The MLE may be on the boundary of the parameter space.\n",
      "  warnings.warn(msg, ConvergenceWarning)\n"
     ]
    },
    {
     "name": "stdout",
     "output_type": "stream",
     "text": [
      "88\n"
     ]
    },
    {
     "name": "stderr",
     "output_type": "stream",
     "text": [
      "/home/jana/python_environments/default/lib/python3.12/site-packages/statsmodels/regression/mixed_linear_model.py:2237: ConvergenceWarning: The MLE may be on the boundary of the parameter space.\n",
      "  warnings.warn(msg, ConvergenceWarning)\n"
     ]
    },
    {
     "name": "stdout",
     "output_type": "stream",
     "text": [
      "89\n"
     ]
    },
    {
     "name": "stderr",
     "output_type": "stream",
     "text": [
      "/home/jana/python_environments/default/lib/python3.12/site-packages/statsmodels/regression/mixed_linear_model.py:2237: ConvergenceWarning: The MLE may be on the boundary of the parameter space.\n",
      "  warnings.warn(msg, ConvergenceWarning)\n"
     ]
    },
    {
     "name": "stdout",
     "output_type": "stream",
     "text": [
      "90\n"
     ]
    },
    {
     "name": "stderr",
     "output_type": "stream",
     "text": [
      "/home/jana/python_environments/default/lib/python3.12/site-packages/statsmodels/regression/mixed_linear_model.py:2237: ConvergenceWarning: The MLE may be on the boundary of the parameter space.\n",
      "  warnings.warn(msg, ConvergenceWarning)\n"
     ]
    },
    {
     "name": "stdout",
     "output_type": "stream",
     "text": [
      "91\n"
     ]
    },
    {
     "name": "stderr",
     "output_type": "stream",
     "text": [
      "/home/jana/python_environments/default/lib/python3.12/site-packages/statsmodels/regression/mixed_linear_model.py:2237: ConvergenceWarning: The MLE may be on the boundary of the parameter space.\n",
      "  warnings.warn(msg, ConvergenceWarning)\n"
     ]
    },
    {
     "name": "stdout",
     "output_type": "stream",
     "text": [
      "92\n"
     ]
    },
    {
     "name": "stderr",
     "output_type": "stream",
     "text": [
      "/home/jana/python_environments/default/lib/python3.12/site-packages/statsmodels/regression/mixed_linear_model.py:2237: ConvergenceWarning: The MLE may be on the boundary of the parameter space.\n",
      "  warnings.warn(msg, ConvergenceWarning)\n"
     ]
    },
    {
     "name": "stdout",
     "output_type": "stream",
     "text": [
      "93\n"
     ]
    },
    {
     "name": "stderr",
     "output_type": "stream",
     "text": [
      "/home/jana/python_environments/default/lib/python3.12/site-packages/statsmodels/regression/mixed_linear_model.py:2237: ConvergenceWarning: The MLE may be on the boundary of the parameter space.\n",
      "  warnings.warn(msg, ConvergenceWarning)\n"
     ]
    },
    {
     "name": "stdout",
     "output_type": "stream",
     "text": [
      "94\n"
     ]
    },
    {
     "name": "stderr",
     "output_type": "stream",
     "text": [
      "/home/jana/python_environments/default/lib/python3.12/site-packages/statsmodels/regression/mixed_linear_model.py:2237: ConvergenceWarning: The MLE may be on the boundary of the parameter space.\n",
      "  warnings.warn(msg, ConvergenceWarning)\n"
     ]
    },
    {
     "name": "stdout",
     "output_type": "stream",
     "text": [
      "95\n"
     ]
    },
    {
     "name": "stderr",
     "output_type": "stream",
     "text": [
      "/home/jana/python_environments/default/lib/python3.12/site-packages/statsmodels/regression/mixed_linear_model.py:2237: ConvergenceWarning: The MLE may be on the boundary of the parameter space.\n",
      "  warnings.warn(msg, ConvergenceWarning)\n"
     ]
    },
    {
     "name": "stdout",
     "output_type": "stream",
     "text": [
      "96\n"
     ]
    },
    {
     "name": "stderr",
     "output_type": "stream",
     "text": [
      "/home/jana/python_environments/default/lib/python3.12/site-packages/statsmodels/regression/mixed_linear_model.py:2237: ConvergenceWarning: The MLE may be on the boundary of the parameter space.\n",
      "  warnings.warn(msg, ConvergenceWarning)\n"
     ]
    },
    {
     "name": "stdout",
     "output_type": "stream",
     "text": [
      "97\n"
     ]
    },
    {
     "name": "stderr",
     "output_type": "stream",
     "text": [
      "/home/jana/python_environments/default/lib/python3.12/site-packages/statsmodels/base/model.py:607: ConvergenceWarning: Maximum Likelihood optimization failed to converge. Check mle_retvals\n",
      "  warnings.warn(\"Maximum Likelihood optimization failed to \"\n",
      "/home/jana/python_environments/default/lib/python3.12/site-packages/statsmodels/regression/mixed_linear_model.py:2200: ConvergenceWarning: Retrying MixedLM optimization with lbfgs\n",
      "  warnings.warn(\n",
      "/home/jana/python_environments/default/lib/python3.12/site-packages/statsmodels/base/model.py:607: ConvergenceWarning: Maximum Likelihood optimization failed to converge. Check mle_retvals\n",
      "  warnings.warn(\"Maximum Likelihood optimization failed to \"\n",
      "/home/jana/python_environments/default/lib/python3.12/site-packages/statsmodels/regression/mixed_linear_model.py:2200: ConvergenceWarning: Retrying MixedLM optimization with cg\n",
      "  warnings.warn(\n",
      "/home/jana/python_environments/default/lib/python3.12/site-packages/statsmodels/base/model.py:607: ConvergenceWarning: Maximum Likelihood optimization failed to converge. Check mle_retvals\n",
      "  warnings.warn(\"Maximum Likelihood optimization failed to \"\n",
      "/home/jana/python_environments/default/lib/python3.12/site-packages/statsmodels/regression/mixed_linear_model.py:2206: ConvergenceWarning: MixedLM optimization failed, trying a different optimizer may help.\n",
      "  warnings.warn(msg, ConvergenceWarning)\n",
      "/home/jana/python_environments/default/lib/python3.12/site-packages/statsmodels/regression/mixed_linear_model.py:2218: ConvergenceWarning: Gradient optimization failed, |grad| = 517.301378\n",
      "  warnings.warn(msg, ConvergenceWarning)\n",
      "/home/jana/python_environments/default/lib/python3.12/site-packages/statsmodels/regression/mixed_linear_model.py:2237: ConvergenceWarning: The MLE may be on the boundary of the parameter space.\n",
      "  warnings.warn(msg, ConvergenceWarning)\n"
     ]
    },
    {
     "name": "stdout",
     "output_type": "stream",
     "text": [
      "98\n"
     ]
    },
    {
     "name": "stderr",
     "output_type": "stream",
     "text": [
      "/home/jana/python_environments/default/lib/python3.12/site-packages/statsmodels/regression/mixed_linear_model.py:2237: ConvergenceWarning: The MLE may be on the boundary of the parameter space.\n",
      "  warnings.warn(msg, ConvergenceWarning)\n"
     ]
    },
    {
     "name": "stdout",
     "output_type": "stream",
     "text": [
      "99\n"
     ]
    },
    {
     "name": "stderr",
     "output_type": "stream",
     "text": [
      "/home/jana/python_environments/default/lib/python3.12/site-packages/statsmodels/regression/mixed_linear_model.py:2237: ConvergenceWarning: The MLE may be on the boundary of the parameter space.\n",
      "  warnings.warn(msg, ConvergenceWarning)\n"
     ]
    }
   ],
   "source": [
    "# via bootstrapping on authors\n",
    "n_bootstrap = 100\n",
    "\n",
    "scale_vals = []\n",
    "covariances = []\n",
    "for n in range(n_bootstrap):\n",
    "    print(n)\n",
    "    pilot_data_bootstrapped = pd.DataFrame()\n",
    "    for i in range(len(pilot_data[\"author_id\"].unique())):\n",
    "        \n",
    "        # sample an author id and get the candidate's tweets\n",
    "        candidate = np.random.choice(pilot_data[\"author_id\"].unique(), 1)[0]\n",
    "        candidate_tweets = pilot_data[pilot_data[\"author_id\"] == candidate]\n",
    "\n",
    "        # add the tweets to the bootstrapped data set\n",
    "        pilot_data_bootstrapped = pd.concat([pilot_data_bootstrapped, candidate_tweets])\n",
    "    \n",
    "    pilot_data_bootstrapped = pilot_data_bootstrapped.reset_index(drop=True)\n",
    "\n",
    "    # fit the lme on the bootstrapped data\n",
    "    model_bootstrapped = smf.mixedlm(\n",
    "        \"avg_belief_score ~ 1 + PARTY * E\", \n",
    "        pilot_data_bootstrapped, \n",
    "        groups=pilot_data_bootstrapped[\"author_id\"],\n",
    "        re_formula=\"1 + E\"\n",
    "    )\n",
    "    result_bootstrapped = model_bootstrapped.fit()\n",
    "    scale_vals.append(result_bootstrapped.scale)\n",
    "    covariances.append(result_bootstrapped.cov_re.loc[\"Group\", \"E\"])"
   ]
  },
  {
   "cell_type": "code",
   "execution_count": 90,
   "id": "712dbe96-4ea9-4f59-9d17-64afc484e154",
   "metadata": {},
   "outputs": [
    {
     "data": {
      "text/plain": [
       "array([0.0100747 , 0.01413184])"
      ]
     },
     "execution_count": 90,
     "metadata": {},
     "output_type": "execute_result"
    }
   ],
   "source": [
    "np.percentile(scale_vals, [2.5, 97.5])"
   ]
  },
  {
   "cell_type": "code",
   "execution_count": 91,
   "id": "d6b62929-e584-44fb-8f0a-68ecb36af2dd",
   "metadata": {},
   "outputs": [
    {
     "data": {
      "text/plain": [
       "array([-0.00087321,  0.0017843 ])"
      ]
     },
     "execution_count": 91,
     "metadata": {},
     "output_type": "execute_result"
    }
   ],
   "source": [
    "np.percentile(covariances, [2.5, 97.5])"
   ]
  },
  {
   "cell_type": "markdown",
   "id": "314e783f-97b5-47eb-b8b9-ccdaa36728fc",
   "metadata": {},
   "source": [
    "### Estimate variance factors for fact-speaking"
   ]
  },
  {
   "cell_type": "code",
   "execution_count": 125,
   "id": "1b156c0a-ec44-4f3d-95cb-46cf6d1f4800",
   "metadata": {},
   "outputs": [
    {
     "name": "stderr",
     "output_type": "stream",
     "text": [
      "/home/jana/python_environments/default/lib/python3.12/site-packages/statsmodels/regression/mixed_linear_model.py:2237: ConvergenceWarning: The MLE may be on the boundary of the parameter space.\n",
      "  warnings.warn(msg, ConvergenceWarning)\n"
     ]
    },
    {
     "name": "stdout",
     "output_type": "stream",
     "text": [
      "           Mixed Linear Model Regression Results\n",
      "============================================================\n",
      "Model:            MixedLM Dependent Variable: avg_fact_score\n",
      "No. Observations: 278007  Method:             REML          \n",
      "No. Groups:       1026    Scale:              0.0094        \n",
      "Min. group size:  1       Log-Likelihood:     251745.8889   \n",
      "Max. group size:  6467    Converged:          Yes           \n",
      "Mean group size:  271.0                                     \n",
      "------------------------------------------------------------\n",
      "                  Coef.  Std.Err.   z    P>|z| [0.025 0.975]\n",
      "------------------------------------------------------------\n",
      "Intercept          0.006    0.002  2.825 0.005  0.002  0.011\n",
      "PARTY[T.R]        -0.013    0.003 -4.236 0.000 -0.019 -0.007\n",
      "E                 -0.007    0.002 -3.454 0.001 -0.012 -0.003\n",
      "PARTY[T.R]:E       0.008    0.003  2.703 0.007  0.002  0.014\n",
      "Group Var          0.002    0.001                           \n",
      "Group x E Cov     -0.000    0.001                           \n",
      "E Var              0.001    0.001                           \n",
      "============================================================\n",
      "\n"
     ]
    }
   ],
   "source": [
    "model = smf.mixedlm(\n",
    "    \"avg_fact_score ~ 1 + PARTY * E\", \n",
    "    pilot_data, \n",
    "    groups=pilot_data[\"author_id\"],\n",
    "    re_formula=\"1 + E\"\n",
    ")\n",
    "result = model.fit()\n",
    "print(result.summary())"
   ]
  },
  {
   "cell_type": "code",
   "execution_count": 126,
   "id": "38f01214-532c-40b2-a702-1ad66d974352",
   "metadata": {},
   "outputs": [
    {
     "data": {
      "text/html": [
       "<div>\n",
       "<style scoped>\n",
       "    .dataframe tbody tr th:only-of-type {\n",
       "        vertical-align: middle;\n",
       "    }\n",
       "\n",
       "    .dataframe tbody tr th {\n",
       "        vertical-align: top;\n",
       "    }\n",
       "\n",
       "    .dataframe thead th {\n",
       "        text-align: right;\n",
       "    }\n",
       "</style>\n",
       "<table border=\"1\" class=\"dataframe\">\n",
       "  <thead>\n",
       "    <tr style=\"text-align: right;\">\n",
       "      <th></th>\n",
       "      <th>Group</th>\n",
       "      <th>E</th>\n",
       "    </tr>\n",
       "  </thead>\n",
       "  <tbody>\n",
       "    <tr>\n",
       "      <th>Group</th>\n",
       "      <td>0.001825</td>\n",
       "      <td>-0.000104</td>\n",
       "    </tr>\n",
       "    <tr>\n",
       "      <th>E</th>\n",
       "      <td>-0.000104</td>\n",
       "      <td>0.001133</td>\n",
       "    </tr>\n",
       "  </tbody>\n",
       "</table>\n",
       "</div>"
      ],
      "text/plain": [
       "          Group         E\n",
       "Group  0.001825 -0.000104\n",
       "E     -0.000104  0.001133"
      ]
     },
     "execution_count": 126,
     "metadata": {},
     "output_type": "execute_result"
    }
   ],
   "source": [
    "result.cov_re"
   ]
  },
  {
   "cell_type": "code",
   "execution_count": 127,
   "id": "b87df76f-882d-41fd-a6ea-aa1e2b04d06f",
   "metadata": {},
   "outputs": [
    {
     "data": {
      "text/plain": [
       "0.009431259596607152"
      ]
     },
     "execution_count": 127,
     "metadata": {},
     "output_type": "execute_result"
    }
   ],
   "source": [
    "result.scale"
   ]
  },
  {
   "cell_type": "code",
   "execution_count": 128,
   "id": "92b131bd-8cb6-4572-ad3b-3f50966e8e42",
   "metadata": {},
   "outputs": [],
   "source": [
    "fname = \"variance_components_election_analysis_fact_speaking.txt\"\n",
    "with open(Path(dst, fname), \"w\") as outfile:\n",
    "    outfile.write(\"var_intercept={}\\n\".format(result.cov_re[\"Group\"][\"Group\"]))\n",
    "    outfile.write(\"var_slope_E={}\\n\".format(result.cov_re[\"E\"][\"E\"]))\n",
    "    outfile.write(\"cov_intercept_slope_E={}\\n\".format(result.cov_re[\"Group\"][\"E\"]))\n",
    "    outfile.write(\"var_residual={}\".format(result.scale))"
   ]
  },
  {
   "cell_type": "markdown",
   "id": "e9f3ba6d-ba47-4dd1-adff-a46242c39d6e",
   "metadata": {},
   "source": [
    "### Estimate confidence interval of random intercept variance for fact-speaking"
   ]
  },
  {
   "cell_type": "markdown",
   "id": "4e10ba19-1354-40bc-a390-d9a3baa3c84e",
   "metadata": {},
   "source": [
    "Following this [tutorial](https://www.statsmodels.org/dev/examples/notebooks/generated/mixed_lm_example.html) and this [explanation](https://strimmerlab.github.io/publications/lecture-notes/MATH20802/likelihood-based-confidence-interval-and-likelihood-ratio.html) of likelihood-based CIs."
   ]
  },
  {
   "cell_type": "code",
   "execution_count": 95,
   "id": "965aabd9-da98-489b-bb66-1b502efed1c5",
   "metadata": {},
   "outputs": [],
   "source": [
    "import warnings\n",
    "\n",
    "with warnings.catch_warnings():\n",
    "    warnings.filterwarnings(\"ignore\")\n",
    "    likev = result.profile_re(0, vtype='re', dist_low=0.0004, dist_high=0.0004, num_low=20, num_high=20)"
   ]
  },
  {
   "cell_type": "code",
   "execution_count": 96,
   "id": "e3797d2f-e05c-4339-b3b7-19071286a048",
   "metadata": {},
   "outputs": [],
   "source": [
    "likelihood_cuttoff = likev[:, 1].max() - 1.92"
   ]
  },
  {
   "cell_type": "code",
   "execution_count": 97,
   "id": "f59074b6-428a-43ed-a15b-29c8b540c3ed",
   "metadata": {},
   "outputs": [],
   "source": [
    "first_index = np.argmax(likev[:, 1] > likelihood_cuttoff)\n",
    "second_index = np.argmax(likev[first_index:, 1] < likelihood_cuttoff) + first_index"
   ]
  },
  {
   "cell_type": "code",
   "execution_count": 98,
   "id": "75236a97-e0d1-4049-bb06-000bbe89787c",
   "metadata": {},
   "outputs": [
    {
     "data": {
      "text/plain": [
       "251743.9688749131"
      ]
     },
     "execution_count": 98,
     "metadata": {},
     "output_type": "execute_result"
    }
   ],
   "source": [
    "likelihood_cuttoff"
   ]
  },
  {
   "cell_type": "code",
   "execution_count": 99,
   "id": "0b89b5c4-5e16-4e09-b130-7ec079df7aa5",
   "metadata": {},
   "outputs": [
    {
     "data": {
      "text/plain": [
       "0.0016253111396092499"
      ]
     },
     "execution_count": 99,
     "metadata": {},
     "output_type": "execute_result"
    }
   ],
   "source": [
    "likev[:, 0][first_index]"
   ]
  },
  {
   "cell_type": "code",
   "execution_count": 100,
   "id": "48f650de-450f-491a-9488-1ef675f4329b",
   "metadata": {},
   "outputs": [
    {
     "data": {
      "text/plain": [
       "0.0020642941596522146"
      ]
     },
     "execution_count": 100,
     "metadata": {},
     "output_type": "execute_result"
    }
   ],
   "source": [
    "likev[:, 0][second_index]"
   ]
  },
  {
   "cell_type": "code",
   "execution_count": 101,
   "id": "aba15f71-db81-469e-ab53-4317a529cde0",
   "metadata": {},
   "outputs": [
    {
     "data": {
      "text/plain": [
       "[<matplotlib.lines.Line2D at 0x74e7c41ae3f0>]"
      ]
     },
     "execution_count": 101,
     "metadata": {},
     "output_type": "execute_result"
    },
    {
     "data": {
      "image/png": "[encoded data removed]",
      "text/plain": [
       "<Figure size 800x400 with 1 Axes>"
      ]
     },
     "metadata": {},
     "output_type": "display_data"
    }
   ],
   "source": [
    "fig, ax = plt.subplots(figsize=(8, 4))\n",
    "ax.plot(likev[:, 0], likev[:, 1])\n",
    "ax.set_xlabel(\"Variance of random intercept\")\n",
    "ax.set_ylabel(\"-1 * profile log likelihood\")\n",
    "ax.ticklabel_format(useOffset=False)\n",
    "\n",
    "ax.plot([likev[:, 0].min(), likev[:, 0].max()], [likev[:, 1].max(), likev[:, 1].max()], \"--\", color=\"grey\")\n",
    "ax.plot([likev[:, 0].min(), likev[:, 0].max()], [likelihood_cuttoff, likelihood_cuttoff], \"--\", color=\"grey\")\n",
    "ax.plot([likev[:, 0][first_index - 1], likev[:, 0][first_index - 1]], [likev[:, 1].min(), likev[:, 1].max()], color=\"orange\")\n",
    "ax.plot([likev[:, 0][second_index], likev[:, 0][second_index]], [likev[:, 1].min(), likev[:, 1].max()], color=\"orange\")"
   ]
  },
  {
   "cell_type": "markdown",
   "id": "9b6e6cbb-40ed-457d-b32a-896dd6803c09",
   "metadata": {},
   "source": [
    "### Estimate confidence interval of random slope variance for fact-speaking"
   ]
  },
  {
   "cell_type": "code",
   "execution_count": 102,
   "id": "2a3747ad-3d0a-4fc9-8066-beb1f4b14402",
   "metadata": {},
   "outputs": [],
   "source": [
    "import warnings\n",
    "\n",
    "with warnings.catch_warnings():\n",
    "    warnings.filterwarnings(\"ignore\")\n",
    "    likev = result.profile_re(1, vtype='re', dist_low=0.0004, dist_high=0.0004, num_low=20, num_high=20)"
   ]
  },
  {
   "cell_type": "code",
   "execution_count": 103,
   "id": "44f980f5-ca88-4c49-be2a-d89e0daa971f",
   "metadata": {},
   "outputs": [],
   "source": [
    "likelihood_cuttoff = likev[:, 1].max() - 1.92"
   ]
  },
  {
   "cell_type": "code",
   "execution_count": 104,
   "id": "9ebaf5ef-81e5-45c9-926c-dbddaca43263",
   "metadata": {},
   "outputs": [],
   "source": [
    "first_index = np.argmax(likev[:, 1] > likelihood_cuttoff)\n",
    "second_index = np.argmax(likev[first_index:, 1] < likelihood_cuttoff) + first_index"
   ]
  },
  {
   "cell_type": "code",
   "execution_count": 105,
   "id": "258e9ba5-90a5-4025-beca-ce06cd793bc0",
   "metadata": {},
   "outputs": [
    {
     "data": {
      "text/plain": [
       "251743.9688749131"
      ]
     },
     "execution_count": 105,
     "metadata": {},
     "output_type": "execute_result"
    }
   ],
   "source": [
    "likelihood_cuttoff"
   ]
  },
  {
   "cell_type": "code",
   "execution_count": 106,
   "id": "3d8485e9-5439-47de-82e5-03df9338aa6f",
   "metadata": {},
   "outputs": [
    {
     "data": {
      "text/plain": [
       "0.0009734652721768921"
      ]
     },
     "execution_count": 106,
     "metadata": {},
     "output_type": "execute_result"
    }
   ],
   "source": [
    "likev[:, 0][first_index]"
   ]
  },
  {
   "cell_type": "code",
   "execution_count": 107,
   "id": "750136bb-0c2a-4d5b-8669-8df09ba92a09",
   "metadata": {},
   "outputs": [
    {
     "data": {
      "text/plain": [
       "0.001352890648267859"
      ]
     },
     "execution_count": 107,
     "metadata": {},
     "output_type": "execute_result"
    }
   ],
   "source": [
    "likev[:, 0][second_index]"
   ]
  },
  {
   "cell_type": "code",
   "execution_count": 108,
   "id": "3906bdbf-52b8-4791-bc3e-9be8f326ce7c",
   "metadata": {},
   "outputs": [
    {
     "data": {
      "text/plain": [
       "[<matplotlib.lines.Line2D at 0x74e7bb1daed0>]"
      ]
     },
     "execution_count": 108,
     "metadata": {},
     "output_type": "execute_result"
    },
    {
     "data": {
      "image/png": "[encoded data removed]",
      "text/plain": [
       "<Figure size 800x400 with 1 Axes>"
      ]
     },
     "metadata": {},
     "output_type": "display_data"
    }
   ],
   "source": [
    "fig, ax = plt.subplots(figsize=(8, 4))\n",
    "ax.plot(likev[:, 0], likev[:, 1])\n",
    "ax.set_xlabel(\"Variance of random intercept\")\n",
    "ax.set_ylabel(\"-1 * profile log likelihood\")\n",
    "ax.ticklabel_format(useOffset=False)\n",
    "\n",
    "ax.plot([likev[:, 0].min(), likev[:, 0].max()], [likev[:, 1].max(), likev[:, 1].max()], \"--\", color=\"grey\")\n",
    "ax.plot([likev[:, 0].min(), likev[:, 0].max()], [likelihood_cuttoff, likelihood_cuttoff], \"--\", color=\"grey\")\n",
    "ax.plot([likev[:, 0][first_index - 1], likev[:, 0][first_index - 1]], [likev[:, 1].min(), likev[:, 1].max()], color=\"orange\")\n",
    "ax.plot([likev[:, 0][second_index], likev[:, 0][second_index]], [likev[:, 1].min(), likev[:, 1].max()], color=\"orange\")"
   ]
  },
  {
   "cell_type": "markdown",
   "id": "799abd9f-0819-4dcd-8960-adf2e0bfaee9",
   "metadata": {},
   "source": [
    "### Estimate confidence interval of residual variance and slope/intercept covariance for fact-speaking"
   ]
  },
  {
   "cell_type": "code",
   "execution_count": null,
   "id": "c8b386c5-3eaf-4b85-bac9-120abd187e9d",
   "metadata": {
    "scrolled": true
   },
   "outputs": [],
   "source": [
    "# via bootstrapping on authors\n",
    "n_bootstrap = 100\n",
    "\n",
    "scale_vals = []\n",
    "covariances = []\n",
    "for n in range(n_bootstrap):\n",
    "    print(n)\n",
    "    pilot_data_bootstrapped = pd.DataFrame()\n",
    "    for i in range(len(pilot_data[\"author_id\"].unique())):\n",
    "        \n",
    "        # sample an author id and get the candidate's tweets\n",
    "        candidate = np.random.choice(pilot_data[\"author_id\"].unique(), 1)[0]\n",
    "        candidate_tweets = pilot_data[pilot_data[\"author_id\"] == candidate]\n",
    "\n",
    "        # add the tweets to the bootstrapped data set\n",
    "        pilot_data_bootstrapped = pd.concat([pilot_data_bootstrapped, candidate_tweets])\n",
    "    \n",
    "    pilot_data_bootstrapped = pilot_data_bootstrapped.reset_index(drop=True)\n",
    "\n",
    "    # fit the lme on the bootstrapped data\n",
    "    model_bootstrapped = smf.mixedlm(\n",
    "        \"avg_fact_score ~ 1 + PARTY * E\", \n",
    "        pilot_data_bootstrapped, \n",
    "        groups=pilot_data_bootstrapped[\"author_id\"],\n",
    "        re_formula=\"1 + E\"\n",
    "    )\n",
    "    result_bootstrapped = model_bootstrapped.fit()\n",
    "    scale_vals.append(result_bootstrapped.scale)\n",
    "    covariances.append(result_bootstrapped.cov_re.loc[\"Group\", \"E\"])"
   ]
  },
  {
   "cell_type": "code",
   "execution_count": 110,
   "id": "3dca97da-58ce-4c87-8afd-f8bd8513fe6a",
   "metadata": {},
   "outputs": [
    {
     "data": {
      "text/plain": [
       "array([0.00795373, 0.01124389])"
      ]
     },
     "execution_count": 110,
     "metadata": {},
     "output_type": "execute_result"
    }
   ],
   "source": [
    "np.percentile(scale_vals, [2.5, 97.5])"
   ]
  },
  {
   "cell_type": "code",
   "execution_count": 111,
   "id": "6a0dde81-820d-4e1e-b30b-a21745dc8284",
   "metadata": {},
   "outputs": [
    {
     "data": {
      "text/plain": [
       "array([-0.00056843,  0.00017699])"
      ]
     },
     "execution_count": 111,
     "metadata": {},
     "output_type": "execute_result"
    }
   ],
   "source": [
    "np.percentile(covariances, [2.5, 97.5])"
   ]
  }
 ],
 "metadata": {
  "kernelspec": {
   "display_name": "Python 3 (ipykernel)",
   "language": "python",
   "name": "python3"
  },
  "language_info": {
   "codemirror_mode": {
    "name": "ipython",
    "version": 3
   },
   "file_extension": ".py",
   "mimetype": "text/x-python",
   "name": "python",
   "nbconvert_exporter": "python",
   "pygments_lexer": "ipython3",
   "version": "3.12.3"
  }
 },
 "nbformat": 4,
 "nbformat_minor": 5
}
