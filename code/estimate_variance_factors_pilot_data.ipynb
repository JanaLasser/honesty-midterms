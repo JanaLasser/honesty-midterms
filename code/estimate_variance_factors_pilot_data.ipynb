{
 "cells": [
  {
   "cell_type": "code",
   "execution_count": 30,
   "id": "a83e8bc1-67c8-4c82-b690-44c122d65237",
   "metadata": {},
   "outputs": [],
   "source": [
    "import pandas as pd\n",
    "import numpy as np\n",
    "from pathlib import Path\n",
    "import matplotlib.pyplot as plt\n",
    "import statsmodels.formula.api as smf"
   ]
  },
  {
   "cell_type": "markdown",
   "id": "f51f4836-3ae3-4a2d-8137-c692e72f8ed2",
   "metadata": {},
   "source": [
    "# Estimate the variance factors for the linear mixed-effects models"
   ]
  },
  {
   "cell_type": "markdown",
   "id": "1725f4f1-f286-47f4-af7c-db4af65b66d3",
   "metadata": {},
   "source": [
    "## Incumbent analysis"
   ]
  },
  {
   "cell_type": "markdown",
   "id": "4b1d50e6-b219-4307-90cd-d20238172fd7",
   "metadata": {},
   "source": [
    "### Data wrangling"
   ]
  },
  {
   "cell_type": "code",
   "execution_count": 3,
   "id": "dd518b61-c2be-48b4-840c-928e463dcf06",
   "metadata": {},
   "outputs": [],
   "source": [
    "src = \"../data\"\n",
    "fname = \"KnowWho_profiles_merged_twitter.csv\"\n",
    "knowwho_profiles = pd.read_csv(\n",
    "    Path(src, fname), \n",
    "    dtype={\"author_id\":str},\n",
    "    parse_dates=[\"created_at\", \"ELECTIONDATE\"]\n",
    ")"
   ]
  },
  {
   "cell_type": "code",
   "execution_count": 4,
   "id": "1c9b578c-a2ac-4d10-afec-bdc6e43d027c",
   "metadata": {},
   "outputs": [
    {
     "data": {
      "text/plain": [
       "1204"
      ]
     },
     "execution_count": 4,
     "metadata": {},
     "output_type": "execute_result"
    }
   ],
   "source": [
    "knowwho_profiles = knowwho_profiles[knowwho_profiles[\"STATUS\"] == \"Running\"].reset_index(drop=True)\n",
    "knowwho_profiles = knowwho_profiles.drop(columns=[\"STATUS\", \"ELECTIONCODE\"])\n",
    "knowwho_profiles = knowwho_profiles.dropna(subset=[\"handle\"])\n",
    "len(knowwho_profiles)"
   ]
  },
  {
   "cell_type": "code",
   "execution_count": 5,
   "id": "5a36d00f-22d9-4895-8225-820587b3bc56",
   "metadata": {},
   "outputs": [],
   "source": [
    "fname = \"midterm_tweets_2022-01-01_to_2023-05-01.csv.gzip\"\n",
    "tweets = pd.read_csv(\n",
    "    Path(src, fname),\n",
    "    dtype={\"id\":str, \"author_id\":str},\n",
    "    parse_dates=[\"created_at\"],\n",
    "    compression=\"gzip\"\n",
    ")"
   ]
  },
  {
   "cell_type": "code",
   "execution_count": 7,
   "id": "a8cca341-099f-4512-89ee-b9e5c1f9fdf9",
   "metadata": {},
   "outputs": [
    {
     "name": "stdout",
     "output_type": "stream",
     "text": [
      "0/1204\n",
      "100/1204\n",
      "200/1204\n",
      "300/1204\n",
      "400/1204\n",
      "500/1204\n",
      "600/1204\n",
      "700/1204\n",
      "800/1204\n",
      "900/1204\n",
      "1000/1204\n",
      "1100/1204\n",
      "1200/1204\n"
     ]
    }
   ],
   "source": [
    "# grab a set of tweets from at least 16 weeks before election dates\n",
    "knowwho_profiles = knowwho_profiles.set_index([\"handle\", \"ELECTIONDATE\"])\n",
    "pilot_data = pd.DataFrame()\n",
    "i = 0\n",
    "for handle, electiondate in knowwho_profiles.index:\n",
    "    if i%100 == 0:\n",
    "        print(f\"{i}/{len(knowwho_profiles)}\")\n",
    "    candidate_tweets = tweets[tweets[\"handle\"] == handle]\n",
    "    candidate_tweets = candidate_tweets[\n",
    "        (candidate_tweets[\"created_at\"].dt.date <= electiondate.date() - pd.Timedelta(days=16 * 7))\n",
    "    ]\n",
    "    pilot_data = pd.concat([pilot_data, candidate_tweets])\n",
    "    i += 1\n",
    "\n",
    "pilot_data = pilot_data.reset_index()"
   ]
  },
  {
   "cell_type": "code",
   "execution_count": 8,
   "id": "35095077-9055-4ac5-bbd9-71ac494bcdfc",
   "metadata": {},
   "outputs": [
    {
     "data": {
      "text/html": [
       "<div>\n",
       "<style scoped>\n",
       "    .dataframe tbody tr th:only-of-type {\n",
       "        vertical-align: middle;\n",
       "    }\n",
       "\n",
       "    .dataframe tbody tr th {\n",
       "        vertical-align: top;\n",
       "    }\n",
       "\n",
       "    .dataframe thead th {\n",
       "        text-align: right;\n",
       "    }\n",
       "</style>\n",
       "<table border=\"1\" class=\"dataframe\">\n",
       "  <thead>\n",
       "    <tr style=\"text-align: right;\">\n",
       "      <th></th>\n",
       "      <th></th>\n",
       "      <th>author_id</th>\n",
       "      <th>description</th>\n",
       "      <th>created_at</th>\n",
       "      <th>followers_count</th>\n",
       "      <th>following_count</th>\n",
       "      <th>tweet_count</th>\n",
       "      <th>INCUMBENT</th>\n",
       "      <th>STATEABBR</th>\n",
       "      <th>LEVEL</th>\n",
       "      <th>CHAMBER</th>\n",
       "      <th>DISTRICT</th>\n",
       "      <th>RACE</th>\n",
       "      <th>ETHNICITY</th>\n",
       "      <th>GENDER</th>\n",
       "      <th>PARTY</th>\n",
       "      <th>name</th>\n",
       "    </tr>\n",
       "    <tr>\n",
       "      <th>handle</th>\n",
       "      <th>ELECTIONDATE</th>\n",
       "      <th></th>\n",
       "      <th></th>\n",
       "      <th></th>\n",
       "      <th></th>\n",
       "      <th></th>\n",
       "      <th></th>\n",
       "      <th></th>\n",
       "      <th></th>\n",
       "      <th></th>\n",
       "      <th></th>\n",
       "      <th></th>\n",
       "      <th></th>\n",
       "      <th></th>\n",
       "      <th></th>\n",
       "      <th></th>\n",
       "      <th></th>\n",
       "    </tr>\n",
       "  </thead>\n",
       "  <tbody>\n",
       "    <tr>\n",
       "      <th>carlforalabama</th>\n",
       "      <th>2022-05-24</th>\n",
       "      <td>2237925464</td>\n",
       "      <td>Husband, father, and small businessman. Offici...</td>\n",
       "      <td>2013-12-09 16:53:13+00:00</td>\n",
       "      <td>2979.0</td>\n",
       "      <td>1296.0</td>\n",
       "      <td>822.0</td>\n",
       "      <td>Y</td>\n",
       "      <td>AL</td>\n",
       "      <td>FL</td>\n",
       "      <td>FH</td>\n",
       "      <td>1.0</td>\n",
       "      <td>US Representative</td>\n",
       "      <td>White/Caucasian</td>\n",
       "      <td>Male</td>\n",
       "      <td>R</td>\n",
       "      <td>Jerry L. Carl</td>\n",
       "    </tr>\n",
       "    <tr>\n",
       "      <th>phyllisdhhall</th>\n",
       "      <th>2022-05-24</th>\n",
       "      <td>4856325569</td>\n",
       "      <td>Feminist💯. Wife. Mother. Activist. Justice War...</td>\n",
       "      <td>2016-01-28 06:36:43+00:00</td>\n",
       "      <td>4646.0</td>\n",
       "      <td>2519.0</td>\n",
       "      <td>2284.0</td>\n",
       "      <td>NaN</td>\n",
       "      <td>AL</td>\n",
       "      <td>FL</td>\n",
       "      <td>FH</td>\n",
       "      <td>2.0</td>\n",
       "      <td>US Representative</td>\n",
       "      <td>Black/African American</td>\n",
       "      <td>Female</td>\n",
       "      <td>D</td>\n",
       "      <td>Phyllis Harvey-Hall</td>\n",
       "    </tr>\n",
       "    <tr>\n",
       "      <th>repbarrymoore</th>\n",
       "      <th>2022-05-24</th>\n",
       "      <td>1339006078688825344</td>\n",
       "      <td>U.S. Representative for #AL02. Do justly. Love...</td>\n",
       "      <td>2020-12-16 00:35:16+00:00</td>\n",
       "      <td>11869.0</td>\n",
       "      <td>734.0</td>\n",
       "      <td>2404.0</td>\n",
       "      <td>Y</td>\n",
       "      <td>AL</td>\n",
       "      <td>FL</td>\n",
       "      <td>FH</td>\n",
       "      <td>2.0</td>\n",
       "      <td>US Representative</td>\n",
       "      <td>White/Caucasian</td>\n",
       "      <td>Male</td>\n",
       "      <td>R</td>\n",
       "      <td>Barry Moore</td>\n",
       "    </tr>\n",
       "  </tbody>\n",
       "</table>\n",
       "</div>"
      ],
      "text/plain": [
       "                                       author_id  \\\n",
       "handle         ELECTIONDATE                        \n",
       "carlforalabama 2022-05-24             2237925464   \n",
       "phyllisdhhall  2022-05-24             4856325569   \n",
       "repbarrymoore  2022-05-24    1339006078688825344   \n",
       "\n",
       "                                                                   description  \\\n",
       "handle         ELECTIONDATE                                                      \n",
       "carlforalabama 2022-05-24    Husband, father, and small businessman. Offici...   \n",
       "phyllisdhhall  2022-05-24    Feminist💯. Wife. Mother. Activist. Justice War...   \n",
       "repbarrymoore  2022-05-24    U.S. Representative for #AL02. Do justly. Love...   \n",
       "\n",
       "                                           created_at  followers_count  \\\n",
       "handle         ELECTIONDATE                                              \n",
       "carlforalabama 2022-05-24   2013-12-09 16:53:13+00:00           2979.0   \n",
       "phyllisdhhall  2022-05-24   2016-01-28 06:36:43+00:00           4646.0   \n",
       "repbarrymoore  2022-05-24   2020-12-16 00:35:16+00:00          11869.0   \n",
       "\n",
       "                             following_count  tweet_count INCUMBENT STATEABBR  \\\n",
       "handle         ELECTIONDATE                                                     \n",
       "carlforalabama 2022-05-24             1296.0        822.0         Y        AL   \n",
       "phyllisdhhall  2022-05-24             2519.0       2284.0       NaN        AL   \n",
       "repbarrymoore  2022-05-24              734.0       2404.0         Y        AL   \n",
       "\n",
       "                            LEVEL CHAMBER  DISTRICT               RACE  \\\n",
       "handle         ELECTIONDATE                                              \n",
       "carlforalabama 2022-05-24      FL      FH       1.0  US Representative   \n",
       "phyllisdhhall  2022-05-24      FL      FH       2.0  US Representative   \n",
       "repbarrymoore  2022-05-24      FL      FH       2.0  US Representative   \n",
       "\n",
       "                                          ETHNICITY  GENDER PARTY  \\\n",
       "handle         ELECTIONDATE                                         \n",
       "carlforalabama 2022-05-24           White/Caucasian    Male     R   \n",
       "phyllisdhhall  2022-05-24    Black/African American  Female     D   \n",
       "repbarrymoore  2022-05-24           White/Caucasian    Male     R   \n",
       "\n",
       "                                            name  \n",
       "handle         ELECTIONDATE                       \n",
       "carlforalabama 2022-05-24          Jerry L. Carl  \n",
       "phyllisdhhall  2022-05-24    Phyllis Harvey-Hall  \n",
       "repbarrymoore  2022-05-24            Barry Moore  "
      ]
     },
     "execution_count": 8,
     "metadata": {},
     "output_type": "execute_result"
    }
   ],
   "source": [
    "knowwho_profiles.head(3)"
   ]
  },
  {
   "cell_type": "code",
   "execution_count": 9,
   "id": "4ebb80b1-9dde-45d9-a58e-81035adfbca7",
   "metadata": {},
   "outputs": [
    {
     "data": {
      "text/html": [
       "<div>\n",
       "<style scoped>\n",
       "    .dataframe tbody tr th:only-of-type {\n",
       "        vertical-align: middle;\n",
       "    }\n",
       "\n",
       "    .dataframe tbody tr th {\n",
       "        vertical-align: top;\n",
       "    }\n",
       "\n",
       "    .dataframe thead th {\n",
       "        text-align: right;\n",
       "    }\n",
       "</style>\n",
       "<table border=\"1\" class=\"dataframe\">\n",
       "  <thead>\n",
       "    <tr style=\"text-align: right;\">\n",
       "      <th></th>\n",
       "      <th>index</th>\n",
       "      <th>id</th>\n",
       "      <th>author_id</th>\n",
       "      <th>handle</th>\n",
       "      <th>created_at</th>\n",
       "      <th>retweeted</th>\n",
       "      <th>quoted</th>\n",
       "      <th>reply</th>\n",
       "      <th>has_url</th>\n",
       "      <th>tweet_length</th>\n",
       "      <th>avg_belief_score</th>\n",
       "      <th>avg_fact_score</th>\n",
       "      <th>NG_score</th>\n",
       "      <th>NG_unreliable</th>\n",
       "    </tr>\n",
       "  </thead>\n",
       "  <tbody>\n",
       "    <tr>\n",
       "      <th>0</th>\n",
       "      <td>1005836</td>\n",
       "      <td>1483613324076109826</td>\n",
       "      <td>2237925464</td>\n",
       "      <td>carlforalabama</td>\n",
       "      <td>2022-01-19 01:32:35+00:00</td>\n",
       "      <td>False</td>\n",
       "      <td>True</td>\n",
       "      <td>False</td>\n",
       "      <td>True</td>\n",
       "      <td>39</td>\n",
       "      <td>NaN</td>\n",
       "      <td>NaN</td>\n",
       "      <td>NaN</td>\n",
       "      <td>NaN</td>\n",
       "    </tr>\n",
       "    <tr>\n",
       "      <th>1</th>\n",
       "      <td>1005837</td>\n",
       "      <td>1483287960212619270</td>\n",
       "      <td>2237925464</td>\n",
       "      <td>carlforalabama</td>\n",
       "      <td>2022-01-18 03:59:42+00:00</td>\n",
       "      <td>False</td>\n",
       "      <td>False</td>\n",
       "      <td>False</td>\n",
       "      <td>True</td>\n",
       "      <td>64</td>\n",
       "      <td>NaN</td>\n",
       "      <td>NaN</td>\n",
       "      <td>80.0</td>\n",
       "      <td>0.0</td>\n",
       "    </tr>\n",
       "    <tr>\n",
       "      <th>2</th>\n",
       "      <td>1005838</td>\n",
       "      <td>1482427170546929673</td>\n",
       "      <td>2237925464</td>\n",
       "      <td>carlforalabama</td>\n",
       "      <td>2022-01-15 18:59:14+00:00</td>\n",
       "      <td>False</td>\n",
       "      <td>False</td>\n",
       "      <td>False</td>\n",
       "      <td>False</td>\n",
       "      <td>106</td>\n",
       "      <td>-0.141208</td>\n",
       "      <td>-0.096294</td>\n",
       "      <td>NaN</td>\n",
       "      <td>NaN</td>\n",
       "    </tr>\n",
       "  </tbody>\n",
       "</table>\n",
       "</div>"
      ],
      "text/plain": [
       "     index                   id   author_id          handle  \\\n",
       "0  1005836  1483613324076109826  2237925464  carlforalabama   \n",
       "1  1005837  1483287960212619270  2237925464  carlforalabama   \n",
       "2  1005838  1482427170546929673  2237925464  carlforalabama   \n",
       "\n",
       "                 created_at  retweeted  quoted  reply  has_url  tweet_length  \\\n",
       "0 2022-01-19 01:32:35+00:00      False    True  False     True            39   \n",
       "1 2022-01-18 03:59:42+00:00      False   False  False     True            64   \n",
       "2 2022-01-15 18:59:14+00:00      False   False  False    False           106   \n",
       "\n",
       "   avg_belief_score  avg_fact_score  NG_score  NG_unreliable  \n",
       "0               NaN             NaN       NaN            NaN  \n",
       "1               NaN             NaN      80.0            0.0  \n",
       "2         -0.141208       -0.096294       NaN            NaN  "
      ]
     },
     "execution_count": 9,
     "metadata": {},
     "output_type": "execute_result"
    }
   ],
   "source": [
    "pilot_data.head(3)"
   ]
  },
  {
   "cell_type": "code",
   "execution_count": 10,
   "id": "ed0a2107-b16d-4003-8dd4-536f558f9018",
   "metadata": {},
   "outputs": [],
   "source": [
    "pilot_data = pd.merge(\n",
    "    pilot_data,\n",
    "    knowwho_profiles[[\"author_id\", \"INCUMBENT\", \"PARTY\"]],\n",
    "    how=\"left\",\n",
    "    left_on=\"author_id\",\n",
    "    right_on=\"author_id\"\n",
    ")"
   ]
  },
  {
   "cell_type": "code",
   "execution_count": 11,
   "id": "0a44b547-36d3-42f8-89fd-43c2fbc6f9b6",
   "metadata": {},
   "outputs": [
    {
     "name": "stderr",
     "output_type": "stream",
     "text": [
      "/tmp/ipykernel_876907/2286635500.py:3: FutureWarning: Downcasting behavior in `replace` is deprecated and will be removed in a future version. To retain the old behavior, explicitly call `result.infer_objects(copy=False)`. To opt-in to the future behavior, set `pd.set_option('future.no_silent_downcasting', True)`\n",
      "  pilot_data[\"T\"] = pilot_data[\"T\"].replace({\"Y\":1})\n"
     ]
    }
   ],
   "source": [
    "pilot_data = pilot_data.rename(columns={\"INCUMBENT\":\"T\"})\n",
    "pilot_data[\"T\"] = pilot_data[\"T\"].fillna(0)\n",
    "pilot_data[\"T\"] = pilot_data[\"T\"].replace({\"Y\":1})"
   ]
  },
  {
   "cell_type": "code",
   "execution_count": 12,
   "id": "8db4d3b5-7e4a-42dc-ba5a-d4a60eeffe90",
   "metadata": {},
   "outputs": [
    {
     "data": {
      "text/html": [
       "<div>\n",
       "<style scoped>\n",
       "    .dataframe tbody tr th:only-of-type {\n",
       "        vertical-align: middle;\n",
       "    }\n",
       "\n",
       "    .dataframe tbody tr th {\n",
       "        vertical-align: top;\n",
       "    }\n",
       "\n",
       "    .dataframe thead th {\n",
       "        text-align: right;\n",
       "    }\n",
       "</style>\n",
       "<table border=\"1\" class=\"dataframe\">\n",
       "  <thead>\n",
       "    <tr style=\"text-align: right;\">\n",
       "      <th></th>\n",
       "      <th>index</th>\n",
       "      <th>id</th>\n",
       "      <th>author_id</th>\n",
       "      <th>handle</th>\n",
       "      <th>created_at</th>\n",
       "      <th>retweeted</th>\n",
       "      <th>quoted</th>\n",
       "      <th>reply</th>\n",
       "      <th>has_url</th>\n",
       "      <th>tweet_length</th>\n",
       "      <th>avg_belief_score</th>\n",
       "      <th>avg_fact_score</th>\n",
       "      <th>NG_score</th>\n",
       "      <th>NG_unreliable</th>\n",
       "      <th>T</th>\n",
       "      <th>PARTY</th>\n",
       "    </tr>\n",
       "  </thead>\n",
       "  <tbody>\n",
       "    <tr>\n",
       "      <th>0</th>\n",
       "      <td>1005836</td>\n",
       "      <td>1483613324076109826</td>\n",
       "      <td>2237925464</td>\n",
       "      <td>carlforalabama</td>\n",
       "      <td>2022-01-19 01:32:35+00:00</td>\n",
       "      <td>False</td>\n",
       "      <td>True</td>\n",
       "      <td>False</td>\n",
       "      <td>True</td>\n",
       "      <td>39</td>\n",
       "      <td>NaN</td>\n",
       "      <td>NaN</td>\n",
       "      <td>NaN</td>\n",
       "      <td>NaN</td>\n",
       "      <td>1</td>\n",
       "      <td>R</td>\n",
       "    </tr>\n",
       "    <tr>\n",
       "      <th>1</th>\n",
       "      <td>1005837</td>\n",
       "      <td>1483287960212619270</td>\n",
       "      <td>2237925464</td>\n",
       "      <td>carlforalabama</td>\n",
       "      <td>2022-01-18 03:59:42+00:00</td>\n",
       "      <td>False</td>\n",
       "      <td>False</td>\n",
       "      <td>False</td>\n",
       "      <td>True</td>\n",
       "      <td>64</td>\n",
       "      <td>NaN</td>\n",
       "      <td>NaN</td>\n",
       "      <td>80.0</td>\n",
       "      <td>0.0</td>\n",
       "      <td>1</td>\n",
       "      <td>R</td>\n",
       "    </tr>\n",
       "    <tr>\n",
       "      <th>2</th>\n",
       "      <td>1005838</td>\n",
       "      <td>1482427170546929673</td>\n",
       "      <td>2237925464</td>\n",
       "      <td>carlforalabama</td>\n",
       "      <td>2022-01-15 18:59:14+00:00</td>\n",
       "      <td>False</td>\n",
       "      <td>False</td>\n",
       "      <td>False</td>\n",
       "      <td>False</td>\n",
       "      <td>106</td>\n",
       "      <td>-0.141208</td>\n",
       "      <td>-0.096294</td>\n",
       "      <td>NaN</td>\n",
       "      <td>NaN</td>\n",
       "      <td>1</td>\n",
       "      <td>R</td>\n",
       "    </tr>\n",
       "  </tbody>\n",
       "</table>\n",
       "</div>"
      ],
      "text/plain": [
       "     index                   id   author_id          handle  \\\n",
       "0  1005836  1483613324076109826  2237925464  carlforalabama   \n",
       "1  1005837  1483287960212619270  2237925464  carlforalabama   \n",
       "2  1005838  1482427170546929673  2237925464  carlforalabama   \n",
       "\n",
       "                 created_at  retweeted  quoted  reply  has_url  tweet_length  \\\n",
       "0 2022-01-19 01:32:35+00:00      False    True  False     True            39   \n",
       "1 2022-01-18 03:59:42+00:00      False   False  False     True            64   \n",
       "2 2022-01-15 18:59:14+00:00      False   False  False    False           106   \n",
       "\n",
       "   avg_belief_score  avg_fact_score  NG_score  NG_unreliable  T PARTY  \n",
       "0               NaN             NaN       NaN            NaN  1     R  \n",
       "1               NaN             NaN      80.0            0.0  1     R  \n",
       "2         -0.141208       -0.096294       NaN            NaN  1     R  "
      ]
     },
     "execution_count": 12,
     "metadata": {},
     "output_type": "execute_result"
    }
   ],
   "source": [
    "pilot_data.head(3)"
   ]
  },
  {
   "cell_type": "code",
   "execution_count": 13,
   "id": "5f913c3d-8ae0-4ceb-ba32-2ebf694cd1f1",
   "metadata": {},
   "outputs": [],
   "source": [
    "pilot_data = pilot_data[[\"avg_belief_score\", \"PARTY\", \"T\", \"author_id\"]].dropna()"
   ]
  },
  {
   "cell_type": "code",
   "execution_count": 14,
   "id": "de2927ad-a2ac-4fba-8604-de0a14601bb8",
   "metadata": {},
   "outputs": [
    {
     "data": {
      "text/plain": [
       "83185"
      ]
     },
     "execution_count": 14,
     "metadata": {},
     "output_type": "execute_result"
    }
   ],
   "source": [
    "len(pilot_data)"
   ]
  },
  {
   "cell_type": "code",
   "execution_count": 111,
   "id": "c1b1cd1a-1a06-45db-b823-60270896dabf",
   "metadata": {},
   "outputs": [
    {
     "data": {
      "text/plain": [
       "850"
      ]
     },
     "execution_count": 111,
     "metadata": {},
     "output_type": "execute_result"
    }
   ],
   "source": [
    "len(pilot_data[\"author_id\"].unique())"
   ]
  },
  {
   "cell_type": "code",
   "execution_count": 112,
   "id": "e1cc2902-26ee-437c-a9ed-84bb73f4d615",
   "metadata": {},
   "outputs": [
    {
     "data": {
      "text/plain": [
       "PARTY\n",
       "R    436\n",
       "D    414\n",
       "Name: count, dtype: int64"
      ]
     },
     "execution_count": 112,
     "metadata": {},
     "output_type": "execute_result"
    }
   ],
   "source": [
    "pilot_data.drop_duplicates(subset=[\"author_id\"])[\"PARTY\"].value_counts()"
   ]
  },
  {
   "cell_type": "code",
   "execution_count": 113,
   "id": "7d46f866-014a-459c-85bc-1eede351fd25",
   "metadata": {},
   "outputs": [
    {
     "data": {
      "text/plain": [
       "T\n",
       "0    594\n",
       "1    256\n",
       "Name: count, dtype: int64"
      ]
     },
     "execution_count": 113,
     "metadata": {},
     "output_type": "execute_result"
    }
   ],
   "source": [
    "pilot_data.drop_duplicates(subset=[\"author_id\"])[\"T\"].value_counts()"
   ]
  },
  {
   "cell_type": "markdown",
   "id": "c9b61831-d9aa-42f6-b363-82bb5bab650f",
   "metadata": {},
   "source": [
    "### Estimate variance factors"
   ]
  },
  {
   "cell_type": "code",
   "execution_count": 15,
   "id": "3a4787c7-1006-49f6-95d8-49a6db1f85b6",
   "metadata": {},
   "outputs": [
    {
     "name": "stderr",
     "output_type": "stream",
     "text": [
      "/home/jana/python_environments/default/lib/python3.12/site-packages/statsmodels/regression/mixed_linear_model.py:2237: ConvergenceWarning: The MLE may be on the boundary of the parameter space.\n",
      "  warnings.warn(msg, ConvergenceWarning)\n"
     ]
    },
    {
     "name": "stdout",
     "output_type": "stream",
     "text": [
      "            Mixed Linear Model Regression Results\n",
      "==============================================================\n",
      "Model:            MixedLM Dependent Variable: avg_belief_score\n",
      "No. Observations: 83185   Method:             REML            \n",
      "No. Groups:       850     Scale:              0.0124          \n",
      "Min. group size:  1       Log-Likelihood:     63703.2491      \n",
      "Max. group size:  3432    Converged:          Yes             \n",
      "Mean group size:  97.9                                        \n",
      "---------------------------------------------------------------\n",
      "                Coef.   Std.Err.    z     P>|z|  [0.025  0.975]\n",
      "---------------------------------------------------------------\n",
      "Intercept        0.005     0.003   1.464  0.143  -0.002   0.011\n",
      "PARTY[T.R]      -0.013     0.004  -2.864  0.004  -0.021  -0.004\n",
      "T               -0.005     0.006  -0.821  0.412  -0.016   0.006\n",
      "PARTY[T.R]:T     0.009     0.008   1.128  0.259  -0.007   0.026\n",
      "Group Var        0.002     0.001                               \n",
      "==============================================================\n",
      "\n"
     ]
    }
   ],
   "source": [
    "model = smf.mixedlm(\n",
    "    \"avg_belief_score ~ 1 + PARTY * T\", \n",
    "    pilot_data, \n",
    "    groups=pilot_data[\"author_id\"],\n",
    ")\n",
    "result = model.fit()\n",
    "print(result.summary())"
   ]
  },
  {
   "cell_type": "code",
   "execution_count": 16,
   "id": "33758d77-1e6a-4de1-bef1-3a69998cbe3e",
   "metadata": {},
   "outputs": [
    {
     "data": {
      "text/html": [
       "<div>\n",
       "<style scoped>\n",
       "    .dataframe tbody tr th:only-of-type {\n",
       "        vertical-align: middle;\n",
       "    }\n",
       "\n",
       "    .dataframe tbody tr th {\n",
       "        vertical-align: top;\n",
       "    }\n",
       "\n",
       "    .dataframe thead th {\n",
       "        text-align: right;\n",
       "    }\n",
       "</style>\n",
       "<table border=\"1\" class=\"dataframe\">\n",
       "  <thead>\n",
       "    <tr style=\"text-align: right;\">\n",
       "      <th></th>\n",
       "      <th>Group</th>\n",
       "    </tr>\n",
       "  </thead>\n",
       "  <tbody>\n",
       "    <tr>\n",
       "      <th>Group</th>\n",
       "      <td>0.002295</td>\n",
       "    </tr>\n",
       "  </tbody>\n",
       "</table>\n",
       "</div>"
      ],
      "text/plain": [
       "          Group\n",
       "Group  0.002295"
      ]
     },
     "execution_count": 16,
     "metadata": {},
     "output_type": "execute_result"
    }
   ],
   "source": [
    "result.cov_re"
   ]
  },
  {
   "cell_type": "code",
   "execution_count": 18,
   "id": "eefe63d4-eef1-421a-8c18-11ea789d72ae",
   "metadata": {},
   "outputs": [
    {
     "data": {
      "text/plain": [
       "0.01237839803161637"
      ]
     },
     "execution_count": 18,
     "metadata": {},
     "output_type": "execute_result"
    }
   ],
   "source": [
    "result.scale"
   ]
  },
  {
   "cell_type": "markdown",
   "id": "e78397ed-1705-4ab8-9aa8-e099c719d959",
   "metadata": {},
   "source": [
    "### Estimate confidence interval of random intercept variance"
   ]
  },
  {
   "cell_type": "markdown",
   "id": "3fcd20d8-919f-46e1-9f0b-6509b636ea22",
   "metadata": {},
   "source": [
    "Following this [tutorial](https://www.statsmodels.org/dev/examples/notebooks/generated/mixed_lm_example.html) and this [explanation](https://strimmerlab.github.io/publications/lecture-notes/MATH20802/likelihood-based-confidence-interval-and-likelihood-ratio.html) of likelihood-based CIs."
   ]
  },
  {
   "cell_type": "code",
   "execution_count": 68,
   "id": "14649963-6225-44f2-a216-918c7f5da402",
   "metadata": {},
   "outputs": [],
   "source": [
    "import warnings\n",
    "\n",
    "with warnings.catch_warnings():\n",
    "    warnings.filterwarnings(\"ignore\")\n",
    "    likev = result.profile_re(0, vtype='re', dist_low=0.0004, dist_high=0.0004, num_low=20, num_high=20)"
   ]
  },
  {
   "cell_type": "code",
   "execution_count": 70,
   "id": "f6685f7a-d15f-4480-b1c9-5352b0e1b6bb",
   "metadata": {},
   "outputs": [],
   "source": [
    "likelihood_cuttoff = likev[:, 1].max() - 1.92"
   ]
  },
  {
   "cell_type": "code",
   "execution_count": 100,
   "id": "6aaf04d9-2ddc-411c-a516-825001605daa",
   "metadata": {},
   "outputs": [],
   "source": [
    "first_index = np.argmax(likev[:, 1] > likelihood_cuttoff)\n",
    "second_index = np.argmax(likev[first_index:, 1] < likelihood_cuttoff) + first_index"
   ]
  },
  {
   "cell_type": "code",
   "execution_count": 107,
   "id": "980564a2-7cf0-47ac-aa6e-598eda54991c",
   "metadata": {},
   "outputs": [
    {
     "data": {
      "text/plain": [
       "63701.32914703833"
      ]
     },
     "execution_count": 107,
     "metadata": {},
     "output_type": "execute_result"
    }
   ],
   "source": [
    "likelihood_cuttoff"
   ]
  },
  {
   "cell_type": "code",
   "execution_count": 108,
   "id": "c66bf922-05ea-455a-a2b0-724fe2cc8834",
   "metadata": {},
   "outputs": [
    {
     "data": {
      "text/plain": [
       "0.002057253892188398"
      ]
     },
     "execution_count": 108,
     "metadata": {},
     "output_type": "execute_result"
    }
   ],
   "source": [
    "likev[:, 0][first_index]"
   ]
  },
  {
   "cell_type": "code",
   "execution_count": 109,
   "id": "04e6408c-d7bd-4400-af4c-5add5ed40f73",
   "metadata": {},
   "outputs": [
    {
     "data": {
      "text/plain": [
       "0.0025929587836751667"
      ]
     },
     "execution_count": 109,
     "metadata": {},
     "output_type": "execute_result"
    }
   ],
   "source": [
    "likev[:, 0][second_index]"
   ]
  },
  {
   "cell_type": "code",
   "execution_count": 106,
   "id": "cdfd3009-4724-4c11-9302-03b709069102",
   "metadata": {},
   "outputs": [
    {
     "data": {
      "text/plain": [
       "[<matplotlib.lines.Line2D at 0x7269c14b60c0>]"
      ]
     },
     "execution_count": 106,
     "metadata": {},
     "output_type": "execute_result"
    },
    {
     "data": {
      "image/png": "[encoded data removed]",
      "text/plain": [
       "<Figure size 800x400 with 1 Axes>"
      ]
     },
     "metadata": {},
     "output_type": "display_data"
    }
   ],
   "source": [
    "fig, ax = plt.subplots(figsize=(8, 4))\n",
    "ax.plot(likev[:, 0], likev[:, 1])\n",
    "ax.set_xlabel(\"Variance of random intercept\")\n",
    "ax.set_ylabel(\"-1 * profile log likelihood\")\n",
    "ax.ticklabel_format(useOffset=False)\n",
    "\n",
    "ax.plot([likev[:, 0].min(), likev[:, 0].max()], [likev[:, 1].max(), likev[:, 1].max()], \"--\", color=\"grey\")\n",
    "ax.plot([likev[:, 0].min(), likev[:, 0].max()], [likelihood_cuttoff, likelihood_cuttoff], \"--\", color=\"grey\")\n",
    "ax.plot([likev[:, 0][first_index - 1], likev[:, 0][first_index - 1]], [likev[:, 1].min(), likev[:, 1].max()], color=\"orange\")\n",
    "ax.plot([likev[:, 0][second_index], likev[:, 0][second_index]], [likev[:, 1].min(), likev[:, 1].max()], color=\"orange\")"
   ]
  },
  {
   "cell_type": "markdown",
   "id": "7ab83175-5935-40f9-beac-85eb29e79430",
   "metadata": {},
   "source": [
    "### Estimate confidence interval of residual variance"
   ]
  },
  {
   "cell_type": "code",
   "execution_count": null,
   "id": "63260593-5f77-49bf-91b7-9ae26b99d6bb",
   "metadata": {},
   "outputs": [],
   "source": [
    "# via bootstrapping on authors\n",
    "n_bootstrap = 100\n",
    "\n",
    "scale_vals = []\n",
    "for n in range(n_bootstrap):\n",
    "    print(n)\n",
    "    pilot_data_bootstrapped = pd.DataFrame()\n",
    "    for i in range(len(pilot_data[\"author_id\"].unique())):\n",
    "        \n",
    "        # sample an author id and get the candidate's tweets\n",
    "        candidate = np.random.choice(pilot_data[\"author_id\"].unique(), 1)[0]\n",
    "        candidate_tweets = pilot_data[pilot_data[\"author_id\"] == candidate]\n",
    "\n",
    "        # add the tweets to the bootstrapped data set\n",
    "        pilot_data_bootstrapped = pd.concat([pilot_data_bootstrapped, candidate_tweets])\n",
    "        pilot_data_bootstrapped = pilot_data_bootstrapped.reset_index(drop=True)\n",
    "\n",
    "    # fit the lme on the bootstrapped data\n",
    "    model_bootstrapped = smf.mixedlm(\n",
    "        \"avg_belief_score ~ 1 + PARTY * T\", \n",
    "        pilot_data_bootstrapped, \n",
    "        groups=pilot_data_bootstrapped[\"author_id\"],\n",
    "    )\n",
    "    result_bootstrapped = model_bootstrapped.fit()\n",
    "    scale_vals.append(result_bootstrapped.scale)"
   ]
  },
  {
   "cell_type": "code",
   "execution_count": 128,
   "id": "02c202f0-a78e-4d24-b209-e89d4ee804d0",
   "metadata": {},
   "outputs": [
    {
     "data": {
      "text/plain": [
       "array([0.00989173, 0.015717  ])"
      ]
     },
     "execution_count": 128,
     "metadata": {},
     "output_type": "execute_result"
    }
   ],
   "source": [
    "np.percentile(scale_vals, [2.5, 97.5])"
   ]
  },
  {
   "cell_type": "markdown",
   "id": "8d4df1fb-b5b6-4e04-9b8b-a1399bc361f1",
   "metadata": {},
   "source": [
    "## Vote share analysis"
   ]
  },
  {
   "cell_type": "markdown",
   "id": "ecd2c94c-6bb0-4381-98d2-cf60d4ed464b",
   "metadata": {},
   "source": [
    "### Data wrangling"
   ]
  },
  {
   "cell_type": "code",
   "execution_count": 134,
   "id": "4caefe66-3283-4902-8d8b-26f22552ccde",
   "metadata": {},
   "outputs": [],
   "source": [
    "src = \"../data\"\n",
    "fname = \"KnowWho_profiles_merged_twitter.csv\"\n",
    "knowwho_profiles = pd.read_csv(\n",
    "    Path(src, fname), \n",
    "    dtype={\"author_id\":str},\n",
    "    parse_dates=[\"created_at\", \"ELECTIONDATE\"]\n",
    ")"
   ]
  },
  {
   "cell_type": "code",
   "execution_count": 135,
   "id": "5c009bf8-28ff-443a-8846-c89efa2defc7",
   "metadata": {},
   "outputs": [
    {
     "data": {
      "text/plain": [
       "1204"
      ]
     },
     "execution_count": 135,
     "metadata": {},
     "output_type": "execute_result"
    }
   ],
   "source": [
    "knowwho_profiles = knowwho_profiles[knowwho_profiles[\"STATUS\"] == \"Running\"].reset_index(drop=True)\n",
    "knowwho_profiles = knowwho_profiles.drop(columns=[\"STATUS\", \"ELECTIONCODE\"])\n",
    "knowwho_profiles = knowwho_profiles.dropna(subset=[\"handle\"])\n",
    "knowwho_profiles = knowwho_profiles.set_index([\"handle\", \"ELECTIONDATE\"])\n",
    "len(knowwho_profiles)"
   ]
  },
  {
   "cell_type": "code",
   "execution_count": 131,
   "id": "3ca24b13-e191-4ba8-8658-ce6903bc23be",
   "metadata": {},
   "outputs": [],
   "source": [
    "fname = \"midterm_tweets_2022-01-01_to_2023-05-01.csv.gzip\"\n",
    "tweets = pd.read_csv(\n",
    "    Path(src, fname),\n",
    "    dtype={\"id\":str, \"author_id\":str},\n",
    "    parse_dates=[\"created_at\"],\n",
    "    compression=\"gzip\"\n",
    ")"
   ]
  },
  {
   "cell_type": "code",
   "execution_count": 132,
   "id": "6bee1323-4fb2-4de7-924f-a6b9db0108d0",
   "metadata": {},
   "outputs": [
    {
     "data": {
      "text/html": [
       "<div>\n",
       "<style scoped>\n",
       "    .dataframe tbody tr th:only-of-type {\n",
       "        vertical-align: middle;\n",
       "    }\n",
       "\n",
       "    .dataframe tbody tr th {\n",
       "        vertical-align: top;\n",
       "    }\n",
       "\n",
       "    .dataframe thead th {\n",
       "        text-align: right;\n",
       "    }\n",
       "</style>\n",
       "<table border=\"1\" class=\"dataframe\">\n",
       "  <thead>\n",
       "    <tr style=\"text-align: right;\">\n",
       "      <th></th>\n",
       "      <th></th>\n",
       "      <th>name</th>\n",
       "      <th>PARTY</th>\n",
       "      <th>STATEABBR</th>\n",
       "      <th>RACE</th>\n",
       "      <th>DISTRICT</th>\n",
       "      <th>VOTE_SHARE</th>\n",
       "      <th>NOTES</th>\n",
       "      <th>NONPARTISAN_PRIMARY</th>\n",
       "      <th>DISTRICT_CORR</th>\n",
       "      <th>STATE_CORR</th>\n",
       "      <th>RUNOFF_PERC</th>\n",
       "      <th>RANKED_CHOICE_VOTING</th>\n",
       "    </tr>\n",
       "    <tr>\n",
       "      <th>handle</th>\n",
       "      <th>ELECTIONDATE</th>\n",
       "      <th></th>\n",
       "      <th></th>\n",
       "      <th></th>\n",
       "      <th></th>\n",
       "      <th></th>\n",
       "      <th></th>\n",
       "      <th></th>\n",
       "      <th></th>\n",
       "      <th></th>\n",
       "      <th></th>\n",
       "      <th></th>\n",
       "      <th></th>\n",
       "    </tr>\n",
       "  </thead>\n",
       "  <tbody>\n",
       "    <tr>\n",
       "      <th>carlforalabama</th>\n",
       "      <th>2022-05-24</th>\n",
       "      <td>Jerry L. Carl</td>\n",
       "      <td>R</td>\n",
       "      <td>AL</td>\n",
       "      <td>US Representative</td>\n",
       "      <td>1.0</td>\n",
       "      <td>NaN</td>\n",
       "      <td>C</td>\n",
       "      <td>NaN</td>\n",
       "      <td>NaN</td>\n",
       "      <td>NaN</td>\n",
       "      <td>NaN</td>\n",
       "      <td>NaN</td>\n",
       "    </tr>\n",
       "    <tr>\n",
       "      <th>terellanderson</th>\n",
       "      <th>2022-05-24</th>\n",
       "      <td>Reginald Terell Anderson</td>\n",
       "      <td>D</td>\n",
       "      <td>AL</td>\n",
       "      <td>US Representative</td>\n",
       "      <td>2.0</td>\n",
       "      <td>NaN</td>\n",
       "      <td>WD</td>\n",
       "      <td>NaN</td>\n",
       "      <td>NaN</td>\n",
       "      <td>NaN</td>\n",
       "      <td>NaN</td>\n",
       "      <td>NaN</td>\n",
       "    </tr>\n",
       "    <tr>\n",
       "      <th>phyllisdhhall</th>\n",
       "      <th>2022-05-24</th>\n",
       "      <td>Phyllis Harvey-Hall</td>\n",
       "      <td>D</td>\n",
       "      <td>AL</td>\n",
       "      <td>US Representative</td>\n",
       "      <td>2.0</td>\n",
       "      <td>68.8</td>\n",
       "      <td>NaN</td>\n",
       "      <td>NaN</td>\n",
       "      <td>NaN</td>\n",
       "      <td>NaN</td>\n",
       "      <td>NaN</td>\n",
       "      <td>NaN</td>\n",
       "    </tr>\n",
       "  </tbody>\n",
       "</table>\n",
       "</div>"
      ],
      "text/plain": [
       "                                                 name PARTY STATEABBR  \\\n",
       "handle         ELECTIONDATE                                             \n",
       "carlforalabama 2022-05-24               Jerry L. Carl     R        AL   \n",
       "terellanderson 2022-05-24    Reginald Terell Anderson     D        AL   \n",
       "phyllisdhhall  2022-05-24         Phyllis Harvey-Hall     D        AL   \n",
       "\n",
       "                                          RACE  DISTRICT  VOTE_SHARE NOTES  \\\n",
       "handle         ELECTIONDATE                                                  \n",
       "carlforalabama 2022-05-24    US Representative       1.0         NaN     C   \n",
       "terellanderson 2022-05-24    US Representative       2.0         NaN    WD   \n",
       "phyllisdhhall  2022-05-24    US Representative       2.0        68.8   NaN   \n",
       "\n",
       "                             NONPARTISAN_PRIMARY  DISTRICT_CORR STATE_CORR  \\\n",
       "handle         ELECTIONDATE                                                  \n",
       "carlforalabama 2022-05-24                    NaN            NaN        NaN   \n",
       "terellanderson 2022-05-24                    NaN            NaN        NaN   \n",
       "phyllisdhhall  2022-05-24                    NaN            NaN        NaN   \n",
       "\n",
       "                             RUNOFF_PERC  RANKED_CHOICE_VOTING  \n",
       "handle         ELECTIONDATE                                     \n",
       "carlforalabama 2022-05-24            NaN                   NaN  \n",
       "terellanderson 2022-05-24            NaN                   NaN  \n",
       "phyllisdhhall  2022-05-24            NaN                   NaN  "
      ]
     },
     "execution_count": 132,
     "metadata": {},
     "output_type": "execute_result"
    }
   ],
   "source": [
    "fname = \"primaries_for_margin_research_RW_JL.csv\"\n",
    "margins = pd.read_csv(Path(src, fname), parse_dates=[\"ELECTIONDATE\"], dayfirst=True)\n",
    "margins = margins.drop(columns=\"COMPLETE\")\n",
    "margins = margins.dropna(subset=[\"handle\"])\n",
    "margins = margins.set_index([\"handle\", \"ELECTIONDATE\"])\n",
    "margins.head(3)"
   ]
  },
  {
   "cell_type": "code",
   "execution_count": 136,
   "id": "dd481f63-1dd8-49bb-9d45-9382285080fe",
   "metadata": {},
   "outputs": [],
   "source": [
    "# add ranked-choice voting entries, notes, non-partisan election entries,\n",
    "# percentages from runoff votes, and vote shares\n",
    "knowwho_profiles[\"RANKED_CHOICE_VOTING\"] = np.nan\n",
    "knowwho_profiles[\"NOTES\"] = np.nan\n",
    "knowwho_profiles[\"NOTES\"] = knowwho_profiles[\"NOTES\"].astype(object)\n",
    "knowwho_profiles[\"NONPARTISAN_PRIMARY\"] = np.nan\n",
    "knowwho_profiles[\"RUNOFF_PERC\"] = np.nan\n",
    "knowwho_profiles[\"VOTE_SHARE\"] = np.nan\n",
    "\n",
    "for handle, electiondate in knowwho_profiles.index:\n",
    "    knowwho_profiles.loc[(handle, electiondate), \"RANKED_CHOICE_VOTING\"] = \\\n",
    "        margins.loc[(handle, electiondate), \"RANKED_CHOICE_VOTING\"].values[0]\n",
    "    knowwho_profiles.loc[(handle, electiondate), \"NOTES\"] = \\\n",
    "        margins.loc[(handle, electiondate), \"NOTES\"].values[0]\n",
    "    knowwho_profiles.loc[(handle, electiondate), \"NONPARTISAN_PRIMARY\"] = \\\n",
    "        margins.loc[(handle, electiondate), \"NONPARTISAN_PRIMARY\"].values[0]\n",
    "    knowwho_profiles.loc[(handle, electiondate), \"VOTE_SHARE\"] = \\\n",
    "        margins.loc[(handle, electiondate), \"VOTE_SHARE\"].values[0]"
   ]
  },
  {
   "cell_type": "code",
   "execution_count": 137,
   "id": "290d7072-dd87-4f5f-84e3-39bb2c9a21ff",
   "metadata": {},
   "outputs": [],
   "source": [
    "del margins"
   ]
  },
  {
   "cell_type": "code",
   "execution_count": 138,
   "id": "430250d5-b324-41ed-ab5f-692b72b80f50",
   "metadata": {},
   "outputs": [],
   "source": [
    "# remove all candidates that don't have a vote share\n",
    "knowwho_profiles = knowwho_profiles.dropna(subset=[\"VOTE_SHARE\"])\n",
    "\n",
    "# remove all candidates that got a vote share of 100%\n",
    "knowwho_profiles = knowwho_profiles[knowwho_profiles[\"VOTE_SHARE\"] != 100]"
   ]
  },
  {
   "cell_type": "code",
   "execution_count": 140,
   "id": "1cc404ba-e7ff-4695-920e-b0ba8679f8e0",
   "metadata": {},
   "outputs": [
    {
     "name": "stdout",
     "output_type": "stream",
     "text": [
      "0/797\n",
      "100/797\n",
      "200/797\n",
      "300/797\n",
      "400/797\n",
      "500/797\n",
      "600/797\n",
      "700/797\n"
     ]
    }
   ],
   "source": [
    "# grab a set of tweets from at least 16 weeks before election dates\n",
    "pilot_data = pd.DataFrame()\n",
    "i = 0\n",
    "for handle, electiondate in knowwho_profiles.index:\n",
    "    if i%100 == 0:\n",
    "        print(f\"{i}/{len(knowwho_profiles)}\")\n",
    "    candidate_tweets = tweets[tweets[\"handle\"] == handle]\n",
    "    candidate_tweets = candidate_tweets[\n",
    "        (candidate_tweets[\"created_at\"].dt.date <= electiondate.date() - pd.Timedelta(days=16 * 7))\n",
    "    ]\n",
    "    pilot_data = pd.concat([pilot_data, candidate_tweets])\n",
    "    i += 1\n",
    "\n",
    "pilot_data = pilot_data.reset_index()"
   ]
  },
  {
   "cell_type": "code",
   "execution_count": 143,
   "id": "66f6cbf6-ff8f-4db5-87e7-fd25e3f15830",
   "metadata": {},
   "outputs": [],
   "source": [
    "pilot_data = pd.merge(\n",
    "    pilot_data,\n",
    "    knowwho_profiles[[\"author_id\", \"VOTE_SHARE\", \"PARTY\"]],\n",
    "    how=\"left\",\n",
    "    left_on=\"author_id\",\n",
    "    right_on=\"author_id\"\n",
    ")"
   ]
  },
  {
   "cell_type": "code",
   "execution_count": 144,
   "id": "79b1620d-1ae7-4355-bd5c-6460acfd8a24",
   "metadata": {},
   "outputs": [
    {
     "data": {
      "text/html": [
       "<div>\n",
       "<style scoped>\n",
       "    .dataframe tbody tr th:only-of-type {\n",
       "        vertical-align: middle;\n",
       "    }\n",
       "\n",
       "    .dataframe tbody tr th {\n",
       "        vertical-align: top;\n",
       "    }\n",
       "\n",
       "    .dataframe thead th {\n",
       "        text-align: right;\n",
       "    }\n",
       "</style>\n",
       "<table border=\"1\" class=\"dataframe\">\n",
       "  <thead>\n",
       "    <tr style=\"text-align: right;\">\n",
       "      <th></th>\n",
       "      <th>index</th>\n",
       "      <th>id</th>\n",
       "      <th>author_id</th>\n",
       "      <th>handle</th>\n",
       "      <th>created_at</th>\n",
       "      <th>retweeted</th>\n",
       "      <th>quoted</th>\n",
       "      <th>reply</th>\n",
       "      <th>has_url</th>\n",
       "      <th>tweet_length</th>\n",
       "      <th>avg_belief_score</th>\n",
       "      <th>avg_fact_score</th>\n",
       "      <th>NG_score</th>\n",
       "      <th>NG_unreliable</th>\n",
       "      <th>VOTE_SHARE</th>\n",
       "      <th>PARTY</th>\n",
       "    </tr>\n",
       "  </thead>\n",
       "  <tbody>\n",
       "    <tr>\n",
       "      <th>0</th>\n",
       "      <td>1003470</td>\n",
       "      <td>1484991325137215490</td>\n",
       "      <td>4856325569</td>\n",
       "      <td>phyllisdhhall</td>\n",
       "      <td>2022-01-22 20:48:16+00:00</td>\n",
       "      <td>False</td>\n",
       "      <td>False</td>\n",
       "      <td>True</td>\n",
       "      <td>False</td>\n",
       "      <td>152</td>\n",
       "      <td>0.076789</td>\n",
       "      <td>0.076472</td>\n",
       "      <td>NaN</td>\n",
       "      <td>NaN</td>\n",
       "      <td>68.8</td>\n",
       "      <td>D</td>\n",
       "    </tr>\n",
       "    <tr>\n",
       "      <th>1</th>\n",
       "      <td>1003471</td>\n",
       "      <td>1485473792830984197</td>\n",
       "      <td>4856325569</td>\n",
       "      <td>phyllisdhhall</td>\n",
       "      <td>2022-01-24 04:45:25+00:00</td>\n",
       "      <td>False</td>\n",
       "      <td>False</td>\n",
       "      <td>True</td>\n",
       "      <td>False</td>\n",
       "      <td>170</td>\n",
       "      <td>0.033488</td>\n",
       "      <td>-0.028163</td>\n",
       "      <td>NaN</td>\n",
       "      <td>NaN</td>\n",
       "      <td>68.8</td>\n",
       "      <td>D</td>\n",
       "    </tr>\n",
       "    <tr>\n",
       "      <th>2</th>\n",
       "      <td>1003488</td>\n",
       "      <td>1486169138611593217</td>\n",
       "      <td>4856325569</td>\n",
       "      <td>phyllisdhhall</td>\n",
       "      <td>2022-01-26 02:48:28+00:00</td>\n",
       "      <td>False</td>\n",
       "      <td>False</td>\n",
       "      <td>True</td>\n",
       "      <td>False</td>\n",
       "      <td>185</td>\n",
       "      <td>NaN</td>\n",
       "      <td>NaN</td>\n",
       "      <td>NaN</td>\n",
       "      <td>NaN</td>\n",
       "      <td>68.8</td>\n",
       "      <td>D</td>\n",
       "    </tr>\n",
       "  </tbody>\n",
       "</table>\n",
       "</div>"
      ],
      "text/plain": [
       "     index                   id   author_id         handle  \\\n",
       "0  1003470  1484991325137215490  4856325569  phyllisdhhall   \n",
       "1  1003471  1485473792830984197  4856325569  phyllisdhhall   \n",
       "2  1003488  1486169138611593217  4856325569  phyllisdhhall   \n",
       "\n",
       "                 created_at  retweeted  quoted  reply  has_url  tweet_length  \\\n",
       "0 2022-01-22 20:48:16+00:00      False   False   True    False           152   \n",
       "1 2022-01-24 04:45:25+00:00      False   False   True    False           170   \n",
       "2 2022-01-26 02:48:28+00:00      False   False   True    False           185   \n",
       "\n",
       "   avg_belief_score  avg_fact_score  NG_score  NG_unreliable  VOTE_SHARE PARTY  \n",
       "0          0.076789        0.076472       NaN            NaN        68.8     D  \n",
       "1          0.033488       -0.028163       NaN            NaN        68.8     D  \n",
       "2               NaN             NaN       NaN            NaN        68.8     D  "
      ]
     },
     "execution_count": 144,
     "metadata": {},
     "output_type": "execute_result"
    }
   ],
   "source": [
    "pilot_data.head(3)"
   ]
  },
  {
   "cell_type": "code",
   "execution_count": 145,
   "id": "809b4bdf-186f-48e3-a255-5b7f150281a9",
   "metadata": {},
   "outputs": [],
   "source": [
    "pilot_data = pilot_data[[\"avg_belief_score\", \"PARTY\", \"VOTE_SHARE\", \"author_id\"]].dropna()"
   ]
  },
  {
   "cell_type": "code",
   "execution_count": 146,
   "id": "fec913f6-1a80-4f64-844a-94b38f4a6f23",
   "metadata": {},
   "outputs": [
    {
     "data": {
      "text/plain": [
       "51418"
      ]
     },
     "execution_count": 146,
     "metadata": {},
     "output_type": "execute_result"
    }
   ],
   "source": [
    "len(pilot_data)"
   ]
  },
  {
   "cell_type": "code",
   "execution_count": 147,
   "id": "e932be49-17e2-4083-b9ff-e3f34b121038",
   "metadata": {},
   "outputs": [
    {
     "data": {
      "text/plain": [
       "571"
      ]
     },
     "execution_count": 147,
     "metadata": {},
     "output_type": "execute_result"
    }
   ],
   "source": [
    "len(pilot_data[\"author_id\"].unique())"
   ]
  },
  {
   "cell_type": "code",
   "execution_count": 148,
   "id": "4f444a3d-bd4d-4cd8-9b7f-fb0f1b864574",
   "metadata": {},
   "outputs": [
    {
     "data": {
      "text/plain": [
       "PARTY\n",
       "R    309\n",
       "D    262\n",
       "Name: count, dtype: int64"
      ]
     },
     "execution_count": 148,
     "metadata": {},
     "output_type": "execute_result"
    }
   ],
   "source": [
    "pilot_data.drop_duplicates(subset=[\"author_id\"])[\"PARTY\"].value_counts()"
   ]
  },
  {
   "cell_type": "markdown",
   "id": "cf3f672f-885d-4e02-a42e-a27111b3ee87",
   "metadata": {},
   "source": [
    "### Estimate variance factors"
   ]
  },
  {
   "cell_type": "code",
   "execution_count": 149,
   "id": "b12a4794-ace4-46c4-8b6b-d9e985dc73a8",
   "metadata": {},
   "outputs": [
    {
     "name": "stdout",
     "output_type": "stream",
     "text": [
      "             Mixed Linear Model Regression Results\n",
      "================================================================\n",
      "Model:              MixedLM Dependent Variable: avg_belief_score\n",
      "No. Observations:   51418   Method:             REML            \n",
      "No. Groups:         571     Scale:              0.0133          \n",
      "Min. group size:    1       Log-Likelihood:     37508.8440      \n",
      "Max. group size:    1568    Converged:          Yes             \n",
      "Mean group size:    90.0                                        \n",
      "----------------------------------------------------------------\n",
      "                      Coef.  Std.Err.   z    P>|z| [0.025 0.975]\n",
      "----------------------------------------------------------------\n",
      "Intercept              0.003    0.005  0.596 0.551 -0.007  0.013\n",
      "PARTY[T.R]            -0.011    0.007 -1.486 0.137 -0.025  0.003\n",
      "VOTE_SHARE             0.000    0.000  0.085 0.932 -0.000  0.000\n",
      "PARTY[T.R]:VOTE_SHARE -0.000    0.000 -0.008 0.994 -0.000  0.000\n",
      "Group Var              0.002    0.001                           \n",
      "================================================================\n",
      "\n"
     ]
    },
    {
     "name": "stderr",
     "output_type": "stream",
     "text": [
      "/home/jana/python_environments/default/lib/python3.12/site-packages/statsmodels/regression/mixed_linear_model.py:2237: ConvergenceWarning: The MLE may be on the boundary of the parameter space.\n",
      "  warnings.warn(msg, ConvergenceWarning)\n"
     ]
    }
   ],
   "source": [
    "model = smf.mixedlm(\n",
    "    \"avg_belief_score ~ 1 + PARTY * VOTE_SHARE\", \n",
    "    pilot_data, \n",
    "    groups=pilot_data[\"author_id\"],\n",
    ")\n",
    "result = model.fit()\n",
    "print(result.summary())"
   ]
  },
  {
   "cell_type": "code",
   "execution_count": 150,
   "id": "e660cfff-6ac8-478e-acd0-13023b18fb9e",
   "metadata": {},
   "outputs": [
    {
     "data": {
      "text/html": [
       "<div>\n",
       "<style scoped>\n",
       "    .dataframe tbody tr th:only-of-type {\n",
       "        vertical-align: middle;\n",
       "    }\n",
       "\n",
       "    .dataframe tbody tr th {\n",
       "        vertical-align: top;\n",
       "    }\n",
       "\n",
       "    .dataframe thead th {\n",
       "        text-align: right;\n",
       "    }\n",
       "</style>\n",
       "<table border=\"1\" class=\"dataframe\">\n",
       "  <thead>\n",
       "    <tr style=\"text-align: right;\">\n",
       "      <th></th>\n",
       "      <th>Group</th>\n",
       "    </tr>\n",
       "  </thead>\n",
       "  <tbody>\n",
       "    <tr>\n",
       "      <th>Group</th>\n",
       "      <td>0.001967</td>\n",
       "    </tr>\n",
       "  </tbody>\n",
       "</table>\n",
       "</div>"
      ],
      "text/plain": [
       "          Group\n",
       "Group  0.001967"
      ]
     },
     "execution_count": 150,
     "metadata": {},
     "output_type": "execute_result"
    }
   ],
   "source": [
    "result.cov_re"
   ]
  },
  {
   "cell_type": "code",
   "execution_count": 151,
   "id": "c4d7105d-80dd-45a5-91dc-e3712582d2b4",
   "metadata": {},
   "outputs": [
    {
     "data": {
      "text/plain": [
       "0.013305959951221604"
      ]
     },
     "execution_count": 151,
     "metadata": {},
     "output_type": "execute_result"
    }
   ],
   "source": [
    "result.scale"
   ]
  },
  {
   "cell_type": "markdown",
   "id": "2fb78cd5-8b09-450e-a13a-823d05bcf03c",
   "metadata": {},
   "source": [
    "### Estimate confidence interval of random intercept variance"
   ]
  },
  {
   "cell_type": "markdown",
   "id": "e7607fcd-615f-4859-aedb-1e5970b6825d",
   "metadata": {},
   "source": [
    "Following this [tutorial](https://www.statsmodels.org/dev/examples/notebooks/generated/mixed_lm_example.html) and this [explanation](https://strimmerlab.github.io/publications/lecture-notes/MATH20802/likelihood-based-confidence-interval-and-likelihood-ratio.html) of likelihood-based CIs."
   ]
  },
  {
   "cell_type": "code",
   "execution_count": 152,
   "id": "7e83be44-7b2f-499c-846f-98a5beede790",
   "metadata": {},
   "outputs": [],
   "source": [
    "import warnings\n",
    "\n",
    "with warnings.catch_warnings():\n",
    "    warnings.filterwarnings(\"ignore\")\n",
    "    likev = result.profile_re(0, vtype='re', dist_low=0.0004, dist_high=0.0004, num_low=20, num_high=20)"
   ]
  },
  {
   "cell_type": "code",
   "execution_count": 153,
   "id": "0f4fb5ef-1320-4c23-943a-0e51b8d131e3",
   "metadata": {},
   "outputs": [],
   "source": [
    "likelihood_cuttoff = likev[:, 1].max() - 1.92"
   ]
  },
  {
   "cell_type": "code",
   "execution_count": 154,
   "id": "837ca1a3-b48f-4387-926e-012c7cb36fc2",
   "metadata": {},
   "outputs": [],
   "source": [
    "first_index = np.argmax(likev[:, 1] > likelihood_cuttoff)\n",
    "second_index = np.argmax(likev[first_index:, 1] < likelihood_cuttoff) + first_index"
   ]
  },
  {
   "cell_type": "code",
   "execution_count": 155,
   "id": "028d4f04-537a-4a6e-9bd3-1dc6712b7b4e",
   "metadata": {},
   "outputs": [
    {
     "data": {
      "text/plain": [
       "37506.92396988608"
      ]
     },
     "execution_count": 155,
     "metadata": {},
     "output_type": "execute_result"
    }
   ],
   "source": [
    "likelihood_cuttoff"
   ]
  },
  {
   "cell_type": "code",
   "execution_count": 156,
   "id": "e9d0fff4-6b09-4514-95dd-d547353494a2",
   "metadata": {},
   "outputs": [
    {
     "data": {
      "text/plain": [
       "0.0017093953832548999"
      ]
     },
     "execution_count": 156,
     "metadata": {},
     "output_type": "execute_result"
    }
   ],
   "source": [
    "likev[:, 0][first_index]"
   ]
  },
  {
   "cell_type": "code",
   "execution_count": 157,
   "id": "5dc7ab37-796f-4467-a92c-81fd479d4438",
   "metadata": {},
   "outputs": [
    {
     "data": {
      "text/plain": [
       "0.002284550428498427"
      ]
     },
     "execution_count": 157,
     "metadata": {},
     "output_type": "execute_result"
    }
   ],
   "source": [
    "likev[:, 0][second_index]"
   ]
  },
  {
   "cell_type": "code",
   "execution_count": 158,
   "id": "40ef9189-85f2-4e43-907f-4c480c9e54f4",
   "metadata": {},
   "outputs": [
    {
     "data": {
      "text/plain": [
       "[<matplotlib.lines.Line2D at 0x7269bf9967e0>]"
      ]
     },
     "execution_count": 158,
     "metadata": {},
     "output_type": "execute_result"
    },
    {
     "data": {
      "image/png": "[encoded data removed]",
      "text/plain": [
       "<Figure size 800x400 with 1 Axes>"
      ]
     },
     "metadata": {},
     "output_type": "display_data"
    }
   ],
   "source": [
    "fig, ax = plt.subplots(figsize=(8, 4))\n",
    "ax.plot(likev[:, 0], likev[:, 1])\n",
    "ax.set_xlabel(\"Variance of random intercept\")\n",
    "ax.set_ylabel(\"-1 * profile log likelihood\")\n",
    "ax.ticklabel_format(useOffset=False)\n",
    "\n",
    "ax.plot([likev[:, 0].min(), likev[:, 0].max()], [likev[:, 1].max(), likev[:, 1].max()], \"--\", color=\"grey\")\n",
    "ax.plot([likev[:, 0].min(), likev[:, 0].max()], [likelihood_cuttoff, likelihood_cuttoff], \"--\", color=\"grey\")\n",
    "ax.plot([likev[:, 0][first_index - 1], likev[:, 0][first_index - 1]], [likev[:, 1].min(), likev[:, 1].max()], color=\"orange\")\n",
    "ax.plot([likev[:, 0][second_index], likev[:, 0][second_index]], [likev[:, 1].min(), likev[:, 1].max()], color=\"orange\")"
   ]
  },
  {
   "cell_type": "markdown",
   "id": "da6eef75-0dff-4944-a739-0bc2ebc273d2",
   "metadata": {},
   "source": [
    "### Estimate confidence interval of residual variance"
   ]
  },
  {
   "cell_type": "code",
   "execution_count": null,
   "id": "2e3a9067-8d62-414c-bae8-0048c1ec306d",
   "metadata": {
    "scrolled": true
   },
   "outputs": [],
   "source": [
    "# via bootstrapping on authors\n",
    "n_bootstrap = 100\n",
    "\n",
    "scale_vals = []\n",
    "for n in range(n_bootstrap):\n",
    "    print(n)\n",
    "    pilot_data_bootstrapped = pd.DataFrame()\n",
    "    for i in range(len(pilot_data[\"author_id\"].unique())):\n",
    "        \n",
    "        # sample an author id and get the candidate's tweets\n",
    "        candidate = np.random.choice(pilot_data[\"author_id\"].unique(), 1)[0]\n",
    "        candidate_tweets = pilot_data[pilot_data[\"author_id\"] == candidate]\n",
    "\n",
    "        # add the tweets to the bootstrapped data set\n",
    "        pilot_data_bootstrapped = pd.concat([pilot_data_bootstrapped, candidate_tweets])\n",
    "        pilot_data_bootstrapped = pilot_data_bootstrapped.reset_index(drop=True)\n",
    "\n",
    "    # fit the lme on the bootstrapped data\n",
    "    model_bootstrapped = smf.mixedlm(\n",
    "        \"avg_belief_score ~ 1 + PARTY * VOTE_SHARE\", \n",
    "        pilot_data_bootstrapped, \n",
    "        groups=pilot_data_bootstrapped[\"author_id\"],\n",
    "    )\n",
    "    result_bootstrapped = model_bootstrapped.fit()\n",
    "    scale_vals.append(result_bootstrapped.scale)"
   ]
  },
  {
   "cell_type": "code",
   "execution_count": 162,
   "id": "61d8cad7-3737-4627-b0cf-57ade9f1c7e6",
   "metadata": {},
   "outputs": [
    {
     "data": {
      "text/plain": [
       "array([0.00988619, 0.01754056])"
      ]
     },
     "execution_count": 162,
     "metadata": {},
     "output_type": "execute_result"
    }
   ],
   "source": [
    "np.percentile(scale_vals, [2.5, 97.5])"
   ]
  },
  {
   "cell_type": "markdown",
   "id": "8ed37f47-e703-40c8-95ad-56155e266656",
   "metadata": {},
   "source": [
    "## Election analysis"
   ]
  },
  {
   "cell_type": "markdown",
   "id": "1a2c61ac-291e-47c4-a02a-eaf726f4cdb6",
   "metadata": {},
   "source": [
    "### Data wrangling"
   ]
  },
  {
   "cell_type": "code",
   "execution_count": 219,
   "id": "1acf175b-d68e-4ebc-b6ca-c3b53307bf47",
   "metadata": {},
   "outputs": [],
   "source": [
    "src = \"../data\"\n",
    "fname = \"KnowWho_profiles_merged_twitter.csv\"\n",
    "knowwho_profiles = pd.read_csv(\n",
    "    Path(src, fname), \n",
    "    dtype={\"author_id\":str},\n",
    "    parse_dates=[\"created_at\", \"ELECTIONDATE\"]\n",
    ")"
   ]
  },
  {
   "cell_type": "code",
   "execution_count": 220,
   "id": "6b74cf18-1290-40ef-81d2-d5ea40288652",
   "metadata": {},
   "outputs": [
    {
     "data": {
      "text/plain": [
       "1204"
      ]
     },
     "execution_count": 220,
     "metadata": {},
     "output_type": "execute_result"
    }
   ],
   "source": [
    "knowwho_profiles = knowwho_profiles[knowwho_profiles[\"STATUS\"] == \"Running\"].reset_index(drop=True)\n",
    "knowwho_profiles = knowwho_profiles.drop(columns=[\"STATUS\", \"ELECTIONCODE\"])\n",
    "knowwho_profiles = knowwho_profiles.dropna(subset=[\"handle\"])\n",
    "len(knowwho_profiles)"
   ]
  },
  {
   "cell_type": "code",
   "execution_count": 221,
   "id": "34ccb598-1994-41eb-88ae-cc70023ee0d5",
   "metadata": {},
   "outputs": [],
   "source": [
    "fname = \"midterm_tweets_2022-01-01_to_2023-05-01.csv.gzip\"\n",
    "tweets = pd.read_csv(\n",
    "    Path(src, fname),\n",
    "    dtype={\"id\":str, \"author_id\":str},\n",
    "    parse_dates=[\"created_at\"],\n",
    "    compression=\"gzip\"\n",
    ")"
   ]
  },
  {
   "cell_type": "code",
   "execution_count": 222,
   "id": "40d4cc75-768c-41bb-904f-559d6b5c3adf",
   "metadata": {},
   "outputs": [
    {
     "name": "stdout",
     "output_type": "stream",
     "text": [
      "0/1204\n",
      "100/1204\n",
      "200/1204\n",
      "300/1204\n",
      "400/1204\n",
      "500/1204\n",
      "600/1204\n",
      "700/1204\n",
      "800/1204\n",
      "900/1204\n",
      "1000/1204\n",
      "1100/1204\n",
      "1200/1204\n"
     ]
    }
   ],
   "source": [
    "# grab a set of tweets from at least 16 weeks before election dates and at least\n",
    "# 16 weeks after election dates\n",
    "knowwho_profiles = knowwho_profiles.set_index([\"handle\", \"ELECTIONDATE\"])\n",
    "pilot_data = pd.DataFrame()\n",
    "i = 0\n",
    "for handle, electiondate in knowwho_profiles.index:\n",
    "    if i%100 == 0:\n",
    "        print(f\"{i}/{len(knowwho_profiles)}\")\n",
    "    candidate_tweets = tweets[tweets[\"handle\"] == handle]\n",
    "    candidate_tweets_before = candidate_tweets[\n",
    "        (candidate_tweets[\"created_at\"].dt.date <= electiondate.date() - pd.Timedelta(days=16 * 7))\n",
    "    ].copy()\n",
    "    candidate_tweets_after = candidate_tweets[\n",
    "        (candidate_tweets[\"created_at\"].dt.date >= electiondate.date() + pd.Timedelta(days=16 * 7))\n",
    "    ].copy()\n",
    "\n",
    "    candidate_tweets_before[\"E\"] = 0\n",
    "    candidate_tweets_after[\"E\"] = 1\n",
    "    pilot_data = pd.concat([pilot_data, candidate_tweets_before, candidate_tweets_after])\n",
    "    i += 1\n",
    "\n",
    "pilot_data = pilot_data.reset_index()"
   ]
  },
  {
   "cell_type": "code",
   "execution_count": 223,
   "id": "e6e848dd-18b7-4539-90e0-5b534b12d0e0",
   "metadata": {},
   "outputs": [
    {
     "data": {
      "text/html": [
       "<div>\n",
       "<style scoped>\n",
       "    .dataframe tbody tr th:only-of-type {\n",
       "        vertical-align: middle;\n",
       "    }\n",
       "\n",
       "    .dataframe tbody tr th {\n",
       "        vertical-align: top;\n",
       "    }\n",
       "\n",
       "    .dataframe thead th {\n",
       "        text-align: right;\n",
       "    }\n",
       "</style>\n",
       "<table border=\"1\" class=\"dataframe\">\n",
       "  <thead>\n",
       "    <tr style=\"text-align: right;\">\n",
       "      <th></th>\n",
       "      <th>index</th>\n",
       "      <th>id</th>\n",
       "      <th>author_id</th>\n",
       "      <th>handle</th>\n",
       "      <th>created_at</th>\n",
       "      <th>retweeted</th>\n",
       "      <th>quoted</th>\n",
       "      <th>reply</th>\n",
       "      <th>has_url</th>\n",
       "      <th>tweet_length</th>\n",
       "      <th>avg_belief_score</th>\n",
       "      <th>avg_fact_score</th>\n",
       "      <th>NG_score</th>\n",
       "      <th>NG_unreliable</th>\n",
       "      <th>E</th>\n",
       "      <th>PARTY</th>\n",
       "    </tr>\n",
       "  </thead>\n",
       "  <tbody>\n",
       "    <tr>\n",
       "      <th>0</th>\n",
       "      <td>1005836</td>\n",
       "      <td>1483613324076109826</td>\n",
       "      <td>2237925464</td>\n",
       "      <td>carlforalabama</td>\n",
       "      <td>2022-01-19 01:32:35+00:00</td>\n",
       "      <td>False</td>\n",
       "      <td>True</td>\n",
       "      <td>False</td>\n",
       "      <td>True</td>\n",
       "      <td>39</td>\n",
       "      <td>NaN</td>\n",
       "      <td>NaN</td>\n",
       "      <td>NaN</td>\n",
       "      <td>NaN</td>\n",
       "      <td>0</td>\n",
       "      <td>R</td>\n",
       "    </tr>\n",
       "    <tr>\n",
       "      <th>1</th>\n",
       "      <td>1005837</td>\n",
       "      <td>1483287960212619270</td>\n",
       "      <td>2237925464</td>\n",
       "      <td>carlforalabama</td>\n",
       "      <td>2022-01-18 03:59:42+00:00</td>\n",
       "      <td>False</td>\n",
       "      <td>False</td>\n",
       "      <td>False</td>\n",
       "      <td>True</td>\n",
       "      <td>64</td>\n",
       "      <td>NaN</td>\n",
       "      <td>NaN</td>\n",
       "      <td>80.0</td>\n",
       "      <td>0.0</td>\n",
       "      <td>0</td>\n",
       "      <td>R</td>\n",
       "    </tr>\n",
       "    <tr>\n",
       "      <th>2</th>\n",
       "      <td>1005838</td>\n",
       "      <td>1482427170546929673</td>\n",
       "      <td>2237925464</td>\n",
       "      <td>carlforalabama</td>\n",
       "      <td>2022-01-15 18:59:14+00:00</td>\n",
       "      <td>False</td>\n",
       "      <td>False</td>\n",
       "      <td>False</td>\n",
       "      <td>False</td>\n",
       "      <td>106</td>\n",
       "      <td>-0.141208</td>\n",
       "      <td>-0.096294</td>\n",
       "      <td>NaN</td>\n",
       "      <td>NaN</td>\n",
       "      <td>0</td>\n",
       "      <td>R</td>\n",
       "    </tr>\n",
       "  </tbody>\n",
       "</table>\n",
       "</div>"
      ],
      "text/plain": [
       "     index                   id   author_id          handle  \\\n",
       "0  1005836  1483613324076109826  2237925464  carlforalabama   \n",
       "1  1005837  1483287960212619270  2237925464  carlforalabama   \n",
       "2  1005838  1482427170546929673  2237925464  carlforalabama   \n",
       "\n",
       "                 created_at  retweeted  quoted  reply  has_url  tweet_length  \\\n",
       "0 2022-01-19 01:32:35+00:00      False    True  False     True            39   \n",
       "1 2022-01-18 03:59:42+00:00      False   False  False     True            64   \n",
       "2 2022-01-15 18:59:14+00:00      False   False  False    False           106   \n",
       "\n",
       "   avg_belief_score  avg_fact_score  NG_score  NG_unreliable  E PARTY  \n",
       "0               NaN             NaN       NaN            NaN  0     R  \n",
       "1               NaN             NaN      80.0            0.0  0     R  \n",
       "2         -0.141208       -0.096294       NaN            NaN  0     R  "
      ]
     },
     "execution_count": 223,
     "metadata": {},
     "output_type": "execute_result"
    }
   ],
   "source": [
    "pilot_data = pd.merge(\n",
    "    pilot_data,\n",
    "    knowwho_profiles[[\"author_id\", \"PARTY\"]],\n",
    "    how=\"left\",\n",
    "    left_on=\"author_id\",\n",
    "    right_on=\"author_id\"\n",
    ")\n",
    "\n",
    "pilot_data.head(3)"
   ]
  },
  {
   "cell_type": "code",
   "execution_count": 224,
   "id": "2f9aea1e-07ee-4d1d-9e7c-f4b4c374d3b8",
   "metadata": {},
   "outputs": [],
   "source": [
    "pilot_data = pilot_data[[\"avg_belief_score\", \"avg_fact_score\", \"PARTY\", \"E\", \"author_id\"]].dropna()"
   ]
  },
  {
   "cell_type": "code",
   "execution_count": 225,
   "id": "a75ec789-6bf8-441e-9f4e-f9cbe3974778",
   "metadata": {},
   "outputs": [
    {
     "data": {
      "text/plain": [
       "277943"
      ]
     },
     "execution_count": 225,
     "metadata": {},
     "output_type": "execute_result"
    }
   ],
   "source": [
    "len(pilot_data)"
   ]
  },
  {
   "cell_type": "code",
   "execution_count": 226,
   "id": "25636b79-13e1-4cb3-af04-efa24bb86234",
   "metadata": {},
   "outputs": [
    {
     "data": {
      "text/plain": [
       "1026"
      ]
     },
     "execution_count": 226,
     "metadata": {},
     "output_type": "execute_result"
    }
   ],
   "source": [
    "len(pilot_data[\"author_id\"].unique())"
   ]
  },
  {
   "cell_type": "code",
   "execution_count": 227,
   "id": "56b489c8-8d99-4a32-a23b-3df55ca47008",
   "metadata": {},
   "outputs": [
    {
     "data": {
      "text/plain": [
       "PARTY\n",
       "R    539\n",
       "D    487\n",
       "Name: count, dtype: int64"
      ]
     },
     "execution_count": 227,
     "metadata": {},
     "output_type": "execute_result"
    }
   ],
   "source": [
    "pilot_data.drop_duplicates(subset=[\"author_id\"])[\"PARTY\"].value_counts()"
   ]
  },
  {
   "cell_type": "code",
   "execution_count": 228,
   "id": "8e794dde-f2dd-4722-b8b6-d87b27786d17",
   "metadata": {},
   "outputs": [
    {
     "data": {
      "text/plain": [
       "PARTY\n",
       "R    459\n",
       "D    434\n",
       "Name: count, dtype: int64"
      ]
     },
     "execution_count": 228,
     "metadata": {},
     "output_type": "execute_result"
    }
   ],
   "source": [
    "pilot_data[pilot_data[\"E\"] == 1].drop_duplicates(subset=[\"author_id\"])[\"PARTY\"].value_counts()"
   ]
  },
  {
   "cell_type": "code",
   "execution_count": 229,
   "id": "816e6442-8273-4be8-acef-3ef691792c01",
   "metadata": {},
   "outputs": [
    {
     "data": {
      "text/plain": [
       "E\n",
       "1    194758\n",
       "0     83185\n",
       "Name: count, dtype: int64"
      ]
     },
     "execution_count": 229,
     "metadata": {},
     "output_type": "execute_result"
    }
   ],
   "source": [
    "pilot_data[\"E\"].value_counts()"
   ]
  },
  {
   "cell_type": "markdown",
   "id": "5e84b0a2-b3e0-4c05-b102-6d0b657c4b74",
   "metadata": {},
   "source": [
    "### Estimate variance factors for belief-speaking"
   ]
  },
  {
   "cell_type": "code",
   "execution_count": 176,
   "id": "c63b8a82-e41f-47ee-ba58-119afc9ba002",
   "metadata": {},
   "outputs": [
    {
     "name": "stderr",
     "output_type": "stream",
     "text": [
      "/home/jana/python_environments/default/lib/python3.12/site-packages/statsmodels/regression/mixed_linear_model.py:2237: ConvergenceWarning: The MLE may be on the boundary of the parameter space.\n",
      "  warnings.warn(msg, ConvergenceWarning)\n"
     ]
    },
    {
     "name": "stdout",
     "output_type": "stream",
     "text": [
      "            Mixed Linear Model Regression Results\n",
      "==============================================================\n",
      "Model:            MixedLM Dependent Variable: avg_belief_score\n",
      "No. Observations: 277943  Method:             REML            \n",
      "No. Groups:       1026    Scale:              0.0119          \n",
      "Min. group size:  1       Log-Likelihood:     219246.1108     \n",
      "Max. group size:  6467    Converged:          Yes             \n",
      "Mean group size:  270.9                                       \n",
      "---------------------------------------------------------------\n",
      "                Coef.   Std.Err.    z     P>|z|  [0.025  0.975]\n",
      "---------------------------------------------------------------\n",
      "Intercept        0.000     0.003   0.188  0.851  -0.005   0.006\n",
      "PARTY[T.R]      -0.008     0.004  -2.229  0.026  -0.015  -0.001\n",
      "E               -0.008     0.002  -3.442  0.001  -0.013  -0.004\n",
      "PARTY[T.R]:E     0.006     0.003   1.716  0.086  -0.001   0.013\n",
      "Group Var        0.003     0.001                               \n",
      "Group x E Cov   -0.000     0.001                               \n",
      "E Var            0.001     0.001                               \n",
      "==============================================================\n",
      "\n"
     ]
    }
   ],
   "source": [
    "model = smf.mixedlm(\n",
    "    \"avg_belief_score ~ 1 + PARTY * E\", \n",
    "    pilot_data, \n",
    "    groups=pilot_data[\"author_id\"],\n",
    "    re_formula=\"1 + E\"\n",
    ")\n",
    "result = model.fit()\n",
    "print(result.summary())"
   ]
  },
  {
   "cell_type": "code",
   "execution_count": 177,
   "id": "d954534e-2ea0-4d91-b232-5cee904cb13e",
   "metadata": {},
   "outputs": [
    {
     "data": {
      "text/html": [
       "<div>\n",
       "<style scoped>\n",
       "    .dataframe tbody tr th:only-of-type {\n",
       "        vertical-align: middle;\n",
       "    }\n",
       "\n",
       "    .dataframe tbody tr th {\n",
       "        vertical-align: top;\n",
       "    }\n",
       "\n",
       "    .dataframe thead th {\n",
       "        text-align: right;\n",
       "    }\n",
       "</style>\n",
       "<table border=\"1\" class=\"dataframe\">\n",
       "  <thead>\n",
       "    <tr style=\"text-align: right;\">\n",
       "      <th></th>\n",
       "      <th>Group</th>\n",
       "      <th>E</th>\n",
       "    </tr>\n",
       "  </thead>\n",
       "  <tbody>\n",
       "    <tr>\n",
       "      <th>Group</th>\n",
       "      <td>0.002531</td>\n",
       "      <td>-0.000195</td>\n",
       "    </tr>\n",
       "    <tr>\n",
       "      <th>E</th>\n",
       "      <td>-0.000195</td>\n",
       "      <td>0.001491</td>\n",
       "    </tr>\n",
       "  </tbody>\n",
       "</table>\n",
       "</div>"
      ],
      "text/plain": [
       "          Group         E\n",
       "Group  0.002531 -0.000195\n",
       "E     -0.000195  0.001491"
      ]
     },
     "execution_count": 177,
     "metadata": {},
     "output_type": "execute_result"
    }
   ],
   "source": [
    "result.cov_re"
   ]
  },
  {
   "cell_type": "code",
   "execution_count": 178,
   "id": "097172ea-a777-4ac0-99a3-0d1cac409079",
   "metadata": {},
   "outputs": [
    {
     "data": {
      "text/plain": [
       "0.011907478206024906"
      ]
     },
     "execution_count": 178,
     "metadata": {},
     "output_type": "execute_result"
    }
   ],
   "source": [
    "result.scale"
   ]
  },
  {
   "cell_type": "markdown",
   "id": "ca5e1c07-458a-4f16-96e2-0f324fb6f68d",
   "metadata": {},
   "source": [
    "### Estimate confidence interval of random intercept variance for belief-speaking"
   ]
  },
  {
   "cell_type": "markdown",
   "id": "695b0559-95f4-49fc-905e-e3e5455f73e1",
   "metadata": {},
   "source": [
    "Following this [tutorial](https://www.statsmodels.org/dev/examples/notebooks/generated/mixed_lm_example.html) and this [explanation](https://strimmerlab.github.io/publications/lecture-notes/MATH20802/likelihood-based-confidence-interval-and-likelihood-ratio.html) of likelihood-based CIs."
   ]
  },
  {
   "cell_type": "code",
   "execution_count": 179,
   "id": "7ee0fd41-6e1b-4e58-bdb6-c45e239c75f5",
   "metadata": {},
   "outputs": [],
   "source": [
    "import warnings\n",
    "\n",
    "with warnings.catch_warnings():\n",
    "    warnings.filterwarnings(\"ignore\")\n",
    "    likev = result.profile_re(0, vtype='re', dist_low=0.0004, dist_high=0.0004, num_low=20, num_high=20)"
   ]
  },
  {
   "cell_type": "code",
   "execution_count": 180,
   "id": "f688ba09-68aa-439b-8e6e-8fa22df23b89",
   "metadata": {},
   "outputs": [],
   "source": [
    "likelihood_cuttoff = likev[:, 1].max() - 1.92"
   ]
  },
  {
   "cell_type": "code",
   "execution_count": 181,
   "id": "6d14cd0f-5cb1-48c0-8093-961ca1b51cec",
   "metadata": {},
   "outputs": [],
   "source": [
    "first_index = np.argmax(likev[:, 1] > likelihood_cuttoff)\n",
    "second_index = np.argmax(likev[first_index:, 1] < likelihood_cuttoff) + first_index"
   ]
  },
  {
   "cell_type": "code",
   "execution_count": 182,
   "id": "ad083878-990a-4369-b8c5-064c63c466ff",
   "metadata": {},
   "outputs": [
    {
     "data": {
      "text/plain": [
       "219244.19078320978"
      ]
     },
     "execution_count": 182,
     "metadata": {},
     "output_type": "execute_result"
    }
   ],
   "source": [
    "likelihood_cuttoff"
   ]
  },
  {
   "cell_type": "code",
   "execution_count": 183,
   "id": "77883d43-b112-4d07-a533-c74600ec4192",
   "metadata": {},
   "outputs": [
    {
     "data": {
      "text/plain": [
       "0.002251390488212639"
      ]
     },
     "execution_count": 183,
     "metadata": {},
     "output_type": "execute_result"
    }
   ],
   "source": [
    "likev[:, 0][first_index]"
   ]
  },
  {
   "cell_type": "code",
   "execution_count": 184,
   "id": "2eb19c75-54e1-4c40-aaaa-f2b5224628f6",
   "metadata": {},
   "outputs": [
    {
     "data": {
      "text/plain": [
       "0.002869925239282561"
      ]
     },
     "execution_count": 184,
     "metadata": {},
     "output_type": "execute_result"
    }
   ],
   "source": [
    "likev[:, 0][second_index]"
   ]
  },
  {
   "cell_type": "code",
   "execution_count": 185,
   "id": "8955d8b4-ad65-4c5b-a42f-f93338877ec7",
   "metadata": {},
   "outputs": [
    {
     "data": {
      "text/plain": [
       "[<matplotlib.lines.Line2D at 0x7269af98aa80>]"
      ]
     },
     "execution_count": 185,
     "metadata": {},
     "output_type": "execute_result"
    },
    {
     "data": {
      "image/png": "[encoded data removed]",
      "text/plain": [
       "<Figure size 800x400 with 1 Axes>"
      ]
     },
     "metadata": {},
     "output_type": "display_data"
    }
   ],
   "source": [
    "fig, ax = plt.subplots(figsize=(8, 4))\n",
    "ax.plot(likev[:, 0], likev[:, 1])\n",
    "ax.set_xlabel(\"Variance of random intercept\")\n",
    "ax.set_ylabel(\"-1 * profile log likelihood\")\n",
    "ax.ticklabel_format(useOffset=False)\n",
    "\n",
    "ax.plot([likev[:, 0].min(), likev[:, 0].max()], [likev[:, 1].max(), likev[:, 1].max()], \"--\", color=\"grey\")\n",
    "ax.plot([likev[:, 0].min(), likev[:, 0].max()], [likelihood_cuttoff, likelihood_cuttoff], \"--\", color=\"grey\")\n",
    "ax.plot([likev[:, 0][first_index - 1], likev[:, 0][first_index - 1]], [likev[:, 1].min(), likev[:, 1].max()], color=\"orange\")\n",
    "ax.plot([likev[:, 0][second_index], likev[:, 0][second_index]], [likev[:, 1].min(), likev[:, 1].max()], color=\"orange\")"
   ]
  },
  {
   "cell_type": "markdown",
   "id": "5f30da04-98d9-4d38-8e50-ae4cd33a4280",
   "metadata": {},
   "source": [
    "### Estimate confidence interval of random slope variance for belief-speaking"
   ]
  },
  {
   "cell_type": "code",
   "execution_count": 186,
   "id": "7b31bcfb-3c64-422d-9173-b6309198aae7",
   "metadata": {},
   "outputs": [],
   "source": [
    "import warnings\n",
    "\n",
    "with warnings.catch_warnings():\n",
    "    warnings.filterwarnings(\"ignore\")\n",
    "    likev = result.profile_re(1, vtype='re', dist_low=0.0004, dist_high=0.0004, num_low=20, num_high=20)"
   ]
  },
  {
   "cell_type": "code",
   "execution_count": 187,
   "id": "254b2b68-c4ab-4ab9-a4b6-70a15ea24b7d",
   "metadata": {},
   "outputs": [],
   "source": [
    "likelihood_cuttoff = likev[:, 1].max() - 1.92"
   ]
  },
  {
   "cell_type": "code",
   "execution_count": 188,
   "id": "9225bbc4-4f5f-4b30-ab55-2fc2ef34beb5",
   "metadata": {},
   "outputs": [],
   "source": [
    "first_index = np.argmax(likev[:, 1] > likelihood_cuttoff)\n",
    "second_index = np.argmax(likev[first_index:, 1] < likelihood_cuttoff) + first_index"
   ]
  },
  {
   "cell_type": "code",
   "execution_count": 189,
   "id": "b4993ce3-67fa-4960-a589-8a7435d9b381",
   "metadata": {},
   "outputs": [
    {
     "data": {
      "text/plain": [
       "219244.19078320978"
      ]
     },
     "execution_count": 189,
     "metadata": {},
     "output_type": "execute_result"
    }
   ],
   "source": [
    "likelihood_cuttoff"
   ]
  },
  {
   "cell_type": "code",
   "execution_count": 190,
   "id": "c32c448e-021d-4e15-b509-37aa49f9d985",
   "metadata": {},
   "outputs": [
    {
     "data": {
      "text/plain": [
       "0.0012717469694225514"
      ]
     },
     "execution_count": 190,
     "metadata": {},
     "output_type": "execute_result"
    }
   ],
   "source": [
    "likev[:, 0][first_index]"
   ]
  },
  {
   "cell_type": "code",
   "execution_count": 191,
   "id": "00746514-fa2b-4778-8d6f-4a0638b67221",
   "metadata": {},
   "outputs": [
    {
     "data": {
      "text/plain": [
       "0.001770983639715129"
      ]
     },
     "execution_count": 191,
     "metadata": {},
     "output_type": "execute_result"
    }
   ],
   "source": [
    "likev[:, 0][second_index]"
   ]
  },
  {
   "cell_type": "code",
   "execution_count": 192,
   "id": "62b48eff-1ef6-4273-a51a-4b69ba510a16",
   "metadata": {},
   "outputs": [
    {
     "data": {
      "text/plain": [
       "[<matplotlib.lines.Line2D at 0x7269aff87fe0>]"
      ]
     },
     "execution_count": 192,
     "metadata": {},
     "output_type": "execute_result"
    },
    {
     "data": {
      "image/png": "[encoded data removed]",
      "text/plain": [
       "<Figure size 800x400 with 1 Axes>"
      ]
     },
     "metadata": {},
     "output_type": "display_data"
    }
   ],
   "source": [
    "fig, ax = plt.subplots(figsize=(8, 4))\n",
    "ax.plot(likev[:, 0], likev[:, 1])\n",
    "ax.set_xlabel(\"Variance of random intercept\")\n",
    "ax.set_ylabel(\"-1 * profile log likelihood\")\n",
    "ax.ticklabel_format(useOffset=False)\n",
    "\n",
    "ax.plot([likev[:, 0].min(), likev[:, 0].max()], [likev[:, 1].max(), likev[:, 1].max()], \"--\", color=\"grey\")\n",
    "ax.plot([likev[:, 0].min(), likev[:, 0].max()], [likelihood_cuttoff, likelihood_cuttoff], \"--\", color=\"grey\")\n",
    "ax.plot([likev[:, 0][first_index - 1], likev[:, 0][first_index - 1]], [likev[:, 1].min(), likev[:, 1].max()], color=\"orange\")\n",
    "ax.plot([likev[:, 0][second_index], likev[:, 0][second_index]], [likev[:, 1].min(), likev[:, 1].max()], color=\"orange\")"
   ]
  },
  {
   "cell_type": "markdown",
   "id": "28f806e4-8e1e-4bb2-8035-b27b3ec783b7",
   "metadata": {},
   "source": [
    "### Estimate confidence interval of residual variance and slope/intercept covariance for belief-speaking"
   ]
  },
  {
   "cell_type": "code",
   "execution_count": null,
   "id": "ead2321e-f311-4b35-b1a8-2d232666d38d",
   "metadata": {
    "scrolled": true
   },
   "outputs": [],
   "source": [
    "# via bootstrapping on authors\n",
    "n_bootstrap = 100\n",
    "\n",
    "scale_vals = []\n",
    "covariances = []\n",
    "for n in range(n_bootstrap):\n",
    "    print(n)\n",
    "    pilot_data_bootstrapped = pd.DataFrame()\n",
    "    for i in range(len(pilot_data[\"author_id\"].unique())):\n",
    "        \n",
    "        # sample an author id and get the candidate's tweets\n",
    "        candidate = np.random.choice(pilot_data[\"author_id\"].unique(), 1)[0]\n",
    "        candidate_tweets = pilot_data[pilot_data[\"author_id\"] == candidate]\n",
    "\n",
    "        # add the tweets to the bootstrapped data set\n",
    "        pilot_data_bootstrapped = pd.concat([pilot_data_bootstrapped, candidate_tweets])\n",
    "    \n",
    "    pilot_data_bootstrapped = pilot_data_bootstrapped.reset_index(drop=True)\n",
    "\n",
    "    # fit the lme on the bootstrapped data\n",
    "    model_bootstrapped = smf.mixedlm(\n",
    "        \"avg_belief_score ~ 1 + PARTY * E\", \n",
    "        pilot_data_bootstrapped, \n",
    "        groups=pilot_data_bootstrapped[\"author_id\"],\n",
    "        re_formula=\"1 + E\"\n",
    "    )\n",
    "    result_bootstrapped = model_bootstrapped.fit()\n",
    "    scale_vals.append(result_bootstrapped.scale)\n",
    "    covariances.append(result_bootstrapped.cov_re.loc[\"Group\", \"E\"])"
   ]
  },
  {
   "cell_type": "code",
   "execution_count": 206,
   "id": "712dbe96-4ea9-4f59-9d17-64afc484e154",
   "metadata": {},
   "outputs": [
    {
     "data": {
      "text/plain": [
       "array([0.00992597, 0.01459067])"
      ]
     },
     "execution_count": 206,
     "metadata": {},
     "output_type": "execute_result"
    }
   ],
   "source": [
    "np.percentile(scale_vals, [2.5, 97.5])"
   ]
  },
  {
   "cell_type": "code",
   "execution_count": 207,
   "id": "d6b62929-e584-44fb-8f0a-68ecb36af2dd",
   "metadata": {},
   "outputs": [
    {
     "data": {
      "text/plain": [
       "array([-8.61140478e-04, -7.46629383e-05])"
      ]
     },
     "execution_count": 207,
     "metadata": {},
     "output_type": "execute_result"
    }
   ],
   "source": [
    "np.percentile(covariances, [2.5, 97.5])"
   ]
  },
  {
   "cell_type": "markdown",
   "id": "314e783f-97b5-47eb-b8b9-ccdaa36728fc",
   "metadata": {},
   "source": [
    "### Estimate variance factors for fact-speaking"
   ]
  },
  {
   "cell_type": "code",
   "execution_count": 230,
   "id": "1b156c0a-ec44-4f3d-95cb-46cf6d1f4800",
   "metadata": {},
   "outputs": [
    {
     "name": "stderr",
     "output_type": "stream",
     "text": [
      "/home/jana/python_environments/default/lib/python3.12/site-packages/statsmodels/regression/mixed_linear_model.py:2237: ConvergenceWarning: The MLE may be on the boundary of the parameter space.\n",
      "  warnings.warn(msg, ConvergenceWarning)\n"
     ]
    },
    {
     "name": "stdout",
     "output_type": "stream",
     "text": [
      "           Mixed Linear Model Regression Results\n",
      "============================================================\n",
      "Model:            MixedLM Dependent Variable: avg_fact_score\n",
      "No. Observations: 277943  Method:             REML          \n",
      "No. Groups:       1026    Scale:              0.0094        \n",
      "Min. group size:  1       Log-Likelihood:     251864.6867   \n",
      "Max. group size:  6467    Converged:          Yes           \n",
      "Mean group size:  270.9                                     \n",
      "------------------------------------------------------------\n",
      "                  Coef.  Std.Err.   z    P>|z| [0.025 0.975]\n",
      "------------------------------------------------------------\n",
      "Intercept          0.008    0.002  3.678 0.000  0.004  0.013\n",
      "PARTY[T.R]        -0.013    0.003 -4.079 0.000 -0.019 -0.007\n",
      "E                 -0.013    0.002 -6.072 0.000 -0.017 -0.009\n",
      "PARTY[T.R]:E       0.008    0.003  2.610 0.009  0.002  0.014\n",
      "Group Var          0.002    0.001                           \n",
      "Group x E Cov     -0.000    0.001                           \n",
      "E Var              0.001    0.001                           \n",
      "============================================================\n",
      "\n"
     ]
    }
   ],
   "source": [
    "model = smf.mixedlm(\n",
    "    \"avg_fact_score ~ 1 + PARTY * E\", \n",
    "    pilot_data, \n",
    "    groups=pilot_data[\"author_id\"],\n",
    "    re_formula=\"1 + E\"\n",
    ")\n",
    "result = model.fit()\n",
    "print(result.summary())"
   ]
  },
  {
   "cell_type": "code",
   "execution_count": 231,
   "id": "38f01214-532c-40b2-a702-1ad66d974352",
   "metadata": {},
   "outputs": [
    {
     "data": {
      "text/html": [
       "<div>\n",
       "<style scoped>\n",
       "    .dataframe tbody tr th:only-of-type {\n",
       "        vertical-align: middle;\n",
       "    }\n",
       "\n",
       "    .dataframe tbody tr th {\n",
       "        vertical-align: top;\n",
       "    }\n",
       "\n",
       "    .dataframe thead th {\n",
       "        text-align: right;\n",
       "    }\n",
       "</style>\n",
       "<table border=\"1\" class=\"dataframe\">\n",
       "  <thead>\n",
       "    <tr style=\"text-align: right;\">\n",
       "      <th></th>\n",
       "      <th>Group</th>\n",
       "      <th>E</th>\n",
       "    </tr>\n",
       "  </thead>\n",
       "  <tbody>\n",
       "    <tr>\n",
       "      <th>Group</th>\n",
       "      <td>0.001828</td>\n",
       "      <td>-0.000106</td>\n",
       "    </tr>\n",
       "    <tr>\n",
       "      <th>E</th>\n",
       "      <td>-0.000106</td>\n",
       "      <td>0.001131</td>\n",
       "    </tr>\n",
       "  </tbody>\n",
       "</table>\n",
       "</div>"
      ],
      "text/plain": [
       "          Group         E\n",
       "Group  0.001828 -0.000106\n",
       "E     -0.000106  0.001131"
      ]
     },
     "execution_count": 231,
     "metadata": {},
     "output_type": "execute_result"
    }
   ],
   "source": [
    "result.cov_re"
   ]
  },
  {
   "cell_type": "code",
   "execution_count": 232,
   "id": "b87df76f-882d-41fd-a6ea-aa1e2b04d06f",
   "metadata": {},
   "outputs": [
    {
     "data": {
      "text/plain": [
       "0.009419212941440758"
      ]
     },
     "execution_count": 232,
     "metadata": {},
     "output_type": "execute_result"
    }
   ],
   "source": [
    "result.scale"
   ]
  },
  {
   "cell_type": "markdown",
   "id": "e9f3ba6d-ba47-4dd1-adff-a46242c39d6e",
   "metadata": {},
   "source": [
    "### Estimate confidence interval of random intercept variance for fact-speaking"
   ]
  },
  {
   "cell_type": "markdown",
   "id": "4e10ba19-1354-40bc-a390-d9a3baa3c84e",
   "metadata": {},
   "source": [
    "Following this [tutorial](https://www.statsmodels.org/dev/examples/notebooks/generated/mixed_lm_example.html) and this [explanation](https://strimmerlab.github.io/publications/lecture-notes/MATH20802/likelihood-based-confidence-interval-and-likelihood-ratio.html) of likelihood-based CIs."
   ]
  },
  {
   "cell_type": "code",
   "execution_count": 233,
   "id": "965aabd9-da98-489b-bb66-1b502efed1c5",
   "metadata": {},
   "outputs": [],
   "source": [
    "import warnings\n",
    "\n",
    "with warnings.catch_warnings():\n",
    "    warnings.filterwarnings(\"ignore\")\n",
    "    likev = result.profile_re(0, vtype='re', dist_low=0.0004, dist_high=0.0004, num_low=20, num_high=20)"
   ]
  },
  {
   "cell_type": "code",
   "execution_count": 234,
   "id": "e3797d2f-e05c-4339-b3b7-19071286a048",
   "metadata": {},
   "outputs": [],
   "source": [
    "likelihood_cuttoff = likev[:, 1].max() - 1.92"
   ]
  },
  {
   "cell_type": "code",
   "execution_count": 235,
   "id": "f59074b6-428a-43ed-a15b-29c8b540c3ed",
   "metadata": {},
   "outputs": [],
   "source": [
    "first_index = np.argmax(likev[:, 1] > likelihood_cuttoff)\n",
    "second_index = np.argmax(likev[first_index:, 1] < likelihood_cuttoff) + first_index"
   ]
  },
  {
   "cell_type": "code",
   "execution_count": 236,
   "id": "75236a97-e0d1-4049-bb06-000bbe89787c",
   "metadata": {},
   "outputs": [
    {
     "data": {
      "text/plain": [
       "251862.7666579768"
      ]
     },
     "execution_count": 236,
     "metadata": {},
     "output_type": "execute_result"
    }
   ],
   "source": [
    "likelihood_cuttoff"
   ]
  },
  {
   "cell_type": "code",
   "execution_count": 237,
   "id": "0b89b5c4-5e16-4e09-b130-7ec079df7aa5",
   "metadata": {},
   "outputs": [
    {
     "data": {
      "text/plain": [
       "0.0016286858286653813"
      ]
     },
     "execution_count": 237,
     "metadata": {},
     "output_type": "execute_result"
    }
   ],
   "source": [
    "likev[:, 0][first_index]"
   ]
  },
  {
   "cell_type": "code",
   "execution_count": 238,
   "id": "48f650de-450f-491a-9488-1ef675f4329b",
   "metadata": {},
   "outputs": [
    {
     "data": {
      "text/plain": [
       "0.002067668110258844"
      ]
     },
     "execution_count": 238,
     "metadata": {},
     "output_type": "execute_result"
    }
   ],
   "source": [
    "likev[:, 0][second_index]"
   ]
  },
  {
   "cell_type": "code",
   "execution_count": 239,
   "id": "aba15f71-db81-469e-ab53-4317a529cde0",
   "metadata": {},
   "outputs": [
    {
     "data": {
      "text/plain": [
       "[<matplotlib.lines.Line2D at 0x7269af97f3b0>]"
      ]
     },
     "execution_count": 239,
     "metadata": {},
     "output_type": "execute_result"
    },
    {
     "data": {
      "image/png": "[encoded data removed]",
      "text/plain": [
       "<Figure size 800x400 with 1 Axes>"
      ]
     },
     "metadata": {},
     "output_type": "display_data"
    }
   ],
   "source": [
    "fig, ax = plt.subplots(figsize=(8, 4))\n",
    "ax.plot(likev[:, 0], likev[:, 1])\n",
    "ax.set_xlabel(\"Variance of random intercept\")\n",
    "ax.set_ylabel(\"-1 * profile log likelihood\")\n",
    "ax.ticklabel_format(useOffset=False)\n",
    "\n",
    "ax.plot([likev[:, 0].min(), likev[:, 0].max()], [likev[:, 1].max(), likev[:, 1].max()], \"--\", color=\"grey\")\n",
    "ax.plot([likev[:, 0].min(), likev[:, 0].max()], [likelihood_cuttoff, likelihood_cuttoff], \"--\", color=\"grey\")\n",
    "ax.plot([likev[:, 0][first_index - 1], likev[:, 0][first_index - 1]], [likev[:, 1].min(), likev[:, 1].max()], color=\"orange\")\n",
    "ax.plot([likev[:, 0][second_index], likev[:, 0][second_index]], [likev[:, 1].min(), likev[:, 1].max()], color=\"orange\")"
   ]
  },
  {
   "cell_type": "markdown",
   "id": "9b6e6cbb-40ed-457d-b32a-896dd6803c09",
   "metadata": {},
   "source": [
    "### Estimate confidence interval of random slope variance for fact-speaking"
   ]
  },
  {
   "cell_type": "code",
   "execution_count": 240,
   "id": "2a3747ad-3d0a-4fc9-8066-beb1f4b14402",
   "metadata": {},
   "outputs": [],
   "source": [
    "import warnings\n",
    "\n",
    "with warnings.catch_warnings():\n",
    "    warnings.filterwarnings(\"ignore\")\n",
    "    likev = result.profile_re(1, vtype='re', dist_low=0.0004, dist_high=0.0004, num_low=20, num_high=20)"
   ]
  },
  {
   "cell_type": "code",
   "execution_count": 241,
   "id": "44f980f5-ca88-4c49-be2a-d89e0daa971f",
   "metadata": {},
   "outputs": [],
   "source": [
    "likelihood_cuttoff = likev[:, 1].max() - 1.92"
   ]
  },
  {
   "cell_type": "code",
   "execution_count": 242,
   "id": "9ebaf5ef-81e5-45c9-926c-dbddaca43263",
   "metadata": {},
   "outputs": [],
   "source": [
    "first_index = np.argmax(likev[:, 1] > likelihood_cuttoff)\n",
    "second_index = np.argmax(likev[first_index:, 1] < likelihood_cuttoff) + first_index"
   ]
  },
  {
   "cell_type": "code",
   "execution_count": 243,
   "id": "258e9ba5-90a5-4025-beca-ce06cd793bc0",
   "metadata": {},
   "outputs": [
    {
     "data": {
      "text/plain": [
       "251862.7666579768"
      ]
     },
     "execution_count": 243,
     "metadata": {},
     "output_type": "execute_result"
    }
   ],
   "source": [
    "likelihood_cuttoff"
   ]
  },
  {
   "cell_type": "code",
   "execution_count": 244,
   "id": "3d8485e9-5439-47de-82e5-03df9338aa6f",
   "metadata": {},
   "outputs": [
    {
     "data": {
      "text/plain": [
       "0.0009716933782071913"
      ]
     },
     "execution_count": 244,
     "metadata": {},
     "output_type": "execute_result"
    }
   ],
   "source": [
    "likev[:, 0][first_index]"
   ]
  },
  {
   "cell_type": "code",
   "execution_count": 245,
   "id": "750136bb-0c2a-4d5b-8669-8df09ba92a09",
   "metadata": {},
   "outputs": [
    {
     "data": {
      "text/plain": [
       "0.0013511188188095422"
      ]
     },
     "execution_count": 245,
     "metadata": {},
     "output_type": "execute_result"
    }
   ],
   "source": [
    "likev[:, 0][second_index]"
   ]
  },
  {
   "cell_type": "code",
   "execution_count": 246,
   "id": "3906bdbf-52b8-4791-bc3e-9be8f326ce7c",
   "metadata": {},
   "outputs": [
    {
     "data": {
      "text/plain": [
       "[<matplotlib.lines.Line2D at 0x7269aff03d10>]"
      ]
     },
     "execution_count": 246,
     "metadata": {},
     "output_type": "execute_result"
    },
    {
     "data": {
      "image/png": "[encoded data removed]",
      "text/plain": [
       "<Figure size 800x400 with 1 Axes>"
      ]
     },
     "metadata": {},
     "output_type": "display_data"
    }
   ],
   "source": [
    "fig, ax = plt.subplots(figsize=(8, 4))\n",
    "ax.plot(likev[:, 0], likev[:, 1])\n",
    "ax.set_xlabel(\"Variance of random intercept\")\n",
    "ax.set_ylabel(\"-1 * profile log likelihood\")\n",
    "ax.ticklabel_format(useOffset=False)\n",
    "\n",
    "ax.plot([likev[:, 0].min(), likev[:, 0].max()], [likev[:, 1].max(), likev[:, 1].max()], \"--\", color=\"grey\")\n",
    "ax.plot([likev[:, 0].min(), likev[:, 0].max()], [likelihood_cuttoff, likelihood_cuttoff], \"--\", color=\"grey\")\n",
    "ax.plot([likev[:, 0][first_index - 1], likev[:, 0][first_index - 1]], [likev[:, 1].min(), likev[:, 1].max()], color=\"orange\")\n",
    "ax.plot([likev[:, 0][second_index], likev[:, 0][second_index]], [likev[:, 1].min(), likev[:, 1].max()], color=\"orange\")"
   ]
  },
  {
   "cell_type": "markdown",
   "id": "799abd9f-0819-4dcd-8960-adf2e0bfaee9",
   "metadata": {},
   "source": [
    "### Estimate confidence interval of residual variance and slope/intercept covariance for fact-speaking"
   ]
  },
  {
   "cell_type": "code",
   "execution_count": null,
   "id": "c8b386c5-3eaf-4b85-bac9-120abd187e9d",
   "metadata": {
    "scrolled": true
   },
   "outputs": [],
   "source": [
    "# via bootstrapping on authors\n",
    "n_bootstrap = 100\n",
    "\n",
    "scale_vals = []\n",
    "covariances = []\n",
    "for n in range(n_bootstrap):\n",
    "    print(n)\n",
    "    pilot_data_bootstrapped = pd.DataFrame()\n",
    "    for i in range(len(pilot_data[\"author_id\"].unique())):\n",
    "        \n",
    "        # sample an author id and get the candidate's tweets\n",
    "        candidate = np.random.choice(pilot_data[\"author_id\"].unique(), 1)[0]\n",
    "        candidate_tweets = pilot_data[pilot_data[\"author_id\"] == candidate]\n",
    "\n",
    "        # add the tweets to the bootstrapped data set\n",
    "        pilot_data_bootstrapped = pd.concat([pilot_data_bootstrapped, candidate_tweets])\n",
    "    \n",
    "    pilot_data_bootstrapped = pilot_data_bootstrapped.reset_index(drop=True)\n",
    "\n",
    "    # fit the lme on the bootstrapped data\n",
    "    model_bootstrapped = smf.mixedlm(\n",
    "        \"avg_fact_score ~ 1 + PARTY * E\", \n",
    "        pilot_data_bootstrapped, \n",
    "        groups=pilot_data_bootstrapped[\"author_id\"],\n",
    "        re_formula=\"1 + E\"\n",
    "    )\n",
    "    result_bootstrapped = model_bootstrapped.fit()\n",
    "    scale_vals.append(result_bootstrapped.scale)\n",
    "    covariances.append(result_bootstrapped.cov_re.loc[\"Group\", \"E\"])"
   ]
  },
  {
   "cell_type": "code",
   "execution_count": 250,
   "id": "3dca97da-58ce-4c87-8afd-f8bd8513fe6a",
   "metadata": {},
   "outputs": [
    {
     "data": {
      "text/plain": [
       "array([0.00827022, 0.01143926])"
      ]
     },
     "execution_count": 250,
     "metadata": {},
     "output_type": "execute_result"
    }
   ],
   "source": [
    "np.percentile(scale_vals, [2.5, 97.5])"
   ]
  },
  {
   "cell_type": "code",
   "execution_count": 251,
   "id": "6a0dde81-820d-4e1e-b30b-a21745dc8284",
   "metadata": {},
   "outputs": [
    {
     "data": {
      "text/plain": [
       "array([-0.00069625,  0.00010319])"
      ]
     },
     "execution_count": 251,
     "metadata": {},
     "output_type": "execute_result"
    }
   ],
   "source": [
    "np.percentile(covariances, [2.5, 97.5])"
   ]
  },
  {
   "cell_type": "code",
   "execution_count": null,
   "id": "74c367ea-ae2b-47f2-b392-fc29e46fa2dc",
   "metadata": {},
   "outputs": [],
   "source": []
  }
 ],
 "metadata": {
  "kernelspec": {
   "display_name": "Python 3 (ipykernel)",
   "language": "python",
   "name": "python3"
  },
  "language_info": {
   "codemirror_mode": {
    "name": "ipython",
    "version": 3
   },
   "file_extension": ".py",
   "mimetype": "text/x-python",
   "name": "python",
   "nbconvert_exporter": "python",
   "pygments_lexer": "ipython3",
   "version": "3.12.3"
  }
 },
 "nbformat": 4,
 "nbformat_minor": 5
}
