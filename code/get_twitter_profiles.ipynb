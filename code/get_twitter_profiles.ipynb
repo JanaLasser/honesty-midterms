{
 "cells": [
  {
   "cell_type": "code",
   "execution_count": 1,
   "id": "6bc90069-6072-4d57-942f-cb9e0c16fadc",
   "metadata": {},
   "outputs": [],
   "source": [
    "import pandas as pd\n",
    "import numpy as np\n",
    "from pathlib import Path\n",
    "import os"
   ]
  },
  {
   "cell_type": "code",
   "execution_count": 2,
   "id": "71e750f9-33ff-48be-8cbb-3d688eb6c8e8",
   "metadata": {},
   "outputs": [],
   "source": [
    "src = \"../data\"\n",
    "dst = \"../data\""
   ]
  },
  {
   "cell_type": "markdown",
   "id": "ad7e511b-1001-4df7-bc86-3369605c9bdd",
   "metadata": {},
   "source": [
    "## Download current account information from the Twitter API"
   ]
  },
  {
   "cell_type": "code",
   "execution_count": 3,
   "id": "397ee6e1-f329-49a6-a31c-2e7eaab1b6ee",
   "metadata": {},
   "outputs": [],
   "source": [
    "# cleaned KnowWho candidate profiles from the script clean_KnowWho_data.ipynb\n",
    "fname = \"KnowWho_profiles_clean.csv\"\n",
    "knowwho_profiles = pd.read_csv(Path(src, \"tmp\", fname))"
   ]
  },
  {
   "cell_type": "code",
   "execution_count": 4,
   "id": "2ac166ee-df08-4c50-81a2-3f3a82aa2c54",
   "metadata": {},
   "outputs": [],
   "source": [
    "np.savetxt(Path(dst, \"tmp\", \"midterm_candidate_profiles\", \"candidate_twitter_handles_knowwho.txt\"), \n",
    "           knowwho_profiles[\"screen_name\"].values, fmt=\"%s\")"
   ]
  },
  {
   "cell_type": "code",
   "execution_count": 10,
   "id": "9428d368-ea73-44fc-9d5e-eb6b556d5e63",
   "metadata": {},
   "outputs": [
    {
     "name": "stdout",
     "output_type": "stream",
     "text": [
      "100%|████████| Processed 1703/1703 lines of input file [00:15<00:00, 111.50it/s]\n"
     ]
    }
   ],
   "source": [
    "# get twitter account information - only works with a valid bearer token\n",
    "# last executed: 2023-05-12\n",
    "! twarc2 --bearer-token XXX users --usernames ../data/tmp/midterm_candidate_profiles/candidate_twitter_handles_knowwho.txt ../data/tmp/midterm_candidate_profiles/candidate_twitter_profiles_knowwho.jsonl"
   ]
  },
  {
   "cell_type": "code",
   "execution_count": 11,
   "id": "daa71b23-0463-4996-8117-9d0b497d7c62",
   "metadata": {},
   "outputs": [
    {
     "name": "stdout",
     "output_type": "stream",
     "text": [
      "100%|██████████████| Processed 2.50M/2.50M of input file [00:00<00:00, 10.6MB/s]\n",
      "\n",
      "ℹ️\n",
      "Parsed 1437 users objects from 18 lines in the input file.\n",
      "23 were duplicates. Wrote 1414 rows and output 27 columns in the CSV.\n",
      "\n"
     ]
    }
   ],
   "source": [
    "# transform account information from JSON to csv\n",
    "! twarc2 csv --input-data-type users ../data/tmp/midterm_candidate_profiles/candidate_twitter_accounts_knowwho.jsonl ../data/raw/candidate_twitter_profiles_knowwho.csv"
   ]
  },
  {
   "cell_type": "markdown",
   "id": "4db96633-f89b-4ca9-81a1-7d41207a1c8a",
   "metadata": {},
   "source": [
    "# Clean & save user data"
   ]
  },
  {
   "cell_type": "code",
   "execution_count": 5,
   "id": "92d983da-c5f0-442f-9258-8159f2cb3f19",
   "metadata": {},
   "outputs": [],
   "source": [
    "fname = \"candidate_twitter_profiles_knowwho.csv\"\n",
    "users = pd.read_csv(\n",
    "    Path(src, \"raw\", fname),\n",
    "    dtype={\"id\":str},\n",
    "    parse_dates=[\"created_at\", \"__twarc.retrieved_at\"]\n",
    ")\n",
    "users = users.rename(columns={\n",
    "    \"id\":\"author_id\",\n",
    "    \"username\":\"handle\",\n",
    "    \"public_metrics.following_count\":\"following_count\",\n",
    "    \"public_metrics.followers_count\":\"followers_count\",\n",
    "    \"public_metrics.tweet_count\":\"tweet_count\"\n",
    "})\n",
    "# de-duplicate keeping the most recent entry\n",
    "users[\"handle\"] = users[\"handle\"].str.lower()\n",
    "users = users.sort_values(by=\"__twarc.retrieved_at\", ascending=False)\n",
    "users = users.drop_duplicates(subset=[\"handle\"])"
   ]
  },
  {
   "cell_type": "code",
   "execution_count": 6,
   "id": "6b123008-48cc-4e94-bacb-405ec4d42382",
   "metadata": {},
   "outputs": [
    {
     "name": "stdout",
     "output_type": "stream",
     "text": [
      "240 user profiles from knowwho could not be retrieved\n"
     ]
    }
   ],
   "source": [
    "diff = list(set(knowwho_profiles[\"screen_name\"].str.lower())\\\n",
    "            .difference(set(users[\"handle\"].str.lower())))\n",
    "print(f\"{len(diff)} user profiles from knowwho could not be retrieved\")"
   ]
  },
  {
   "cell_type": "code",
   "execution_count": 7,
   "id": "c70d4080-b500-4297-b319-58dd0fab0de2",
   "metadata": {},
   "outputs": [
    {
     "name": "stdout",
     "output_type": "stream",
     "text": [
      "23 user profiles were protected\n"
     ]
    }
   ],
   "source": [
    "N = len(users)\n",
    "users = users[users[\"protected\"] == False]\n",
    "print(f\"{N - len(users)} user profiles were protected\")"
   ]
  },
  {
   "cell_type": "code",
   "execution_count": 8,
   "id": "f5b70da7-e743-4539-b80d-0fb4fb062119",
   "metadata": {},
   "outputs": [],
   "source": [
    "fname = \"candidate_twitter_profiles.csv\"\n",
    "users.to_csv(Path(dst, \"tmp\", fname), index=False)"
   ]
  }
 ],
 "metadata": {
  "kernelspec": {
   "display_name": "Python 3 (ipykernel)",
   "language": "python",
   "name": "python3"
  },
  "language_info": {
   "codemirror_mode": {
    "name": "ipython",
    "version": 3
   },
   "file_extension": ".py",
   "mimetype": "text/x-python",
   "name": "python",
   "nbconvert_exporter": "python",
   "pygments_lexer": "ipython3",
   "version": "3.12.3"
  }
 },
 "nbformat": 4,
 "nbformat_minor": 5
}
