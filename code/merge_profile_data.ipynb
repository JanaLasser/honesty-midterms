{
 "cells": [
  {
   "cell_type": "code",
   "execution_count": 1,
   "id": "4456aa4e-448f-4c59-a89a-e0e6951ec5be",
   "metadata": {},
   "outputs": [],
   "source": [
    "import pandas as pd\n",
    "from pathlib import Path"
   ]
  },
  {
   "cell_type": "code",
   "execution_count": 2,
   "id": "ddf21d1f-ca04-4d85-8b1d-48cdc65a9c37",
   "metadata": {},
   "outputs": [],
   "source": [
    "src = \"../data\"\n",
    "dst = \"../data\""
   ]
  },
  {
   "cell_type": "code",
   "execution_count": 3,
   "id": "4cd241f1-fa9c-4fec-a75c-8e8b9b590687",
   "metadata": {},
   "outputs": [],
   "source": [
    "fname = \"candidate_twitter_profiles.csv\"\n",
    "twitter_profiles = pd.read_csv(Path(src, fname), dtype={\"author_id\":str})"
   ]
  },
  {
   "cell_type": "markdown",
   "id": "36f13e96-11e6-4b3c-80d7-6d4c426fd142",
   "metadata": {},
   "source": [
    "# Merge Twitter profile information with KnowWho profiles"
   ]
  },
  {
   "cell_type": "code",
   "execution_count": 4,
   "id": "25b5f578-eff1-4b8f-aa28-b368be8e39c1",
   "metadata": {},
   "outputs": [],
   "source": [
    "# cleaned KnowWho candidate profiles from the script clean_KnowWho_data.ipynb\n",
    "fname = \"KnowWho_profiles_clean.csv\"\n",
    "knowwho_profiles = pd.read_csv(Path(src, fname))"
   ]
  },
  {
   "cell_type": "code",
   "execution_count": 5,
   "id": "6583277d-653d-466b-8aa6-2f2f65f6c8a3",
   "metadata": {},
   "outputs": [
    {
     "data": {
      "text/html": [
       "<div>\n",
       "<style scoped>\n",
       "    .dataframe tbody tr th:only-of-type {\n",
       "        vertical-align: middle;\n",
       "    }\n",
       "\n",
       "    .dataframe tbody tr th {\n",
       "        vertical-align: top;\n",
       "    }\n",
       "\n",
       "    .dataframe thead th {\n",
       "        text-align: right;\n",
       "    }\n",
       "</style>\n",
       "<table border=\"1\" class=\"dataframe\">\n",
       "  <thead>\n",
       "    <tr style=\"text-align: right;\">\n",
       "      <th></th>\n",
       "      <th>INCUMBENT</th>\n",
       "      <th>STATUS</th>\n",
       "      <th>ELECTIONCODE</th>\n",
       "      <th>ELECTIONDATE</th>\n",
       "      <th>STATEABBR</th>\n",
       "      <th>LEVEL</th>\n",
       "      <th>CHAMBER</th>\n",
       "      <th>DISTRICT</th>\n",
       "      <th>RACE</th>\n",
       "      <th>ETHNICITY</th>\n",
       "      <th>GENDER</th>\n",
       "      <th>PARTY</th>\n",
       "      <th>screen_name</th>\n",
       "      <th>name</th>\n",
       "    </tr>\n",
       "  </thead>\n",
       "  <tbody>\n",
       "    <tr>\n",
       "      <th>0</th>\n",
       "      <td>Y</td>\n",
       "      <td>Running</td>\n",
       "      <td>P</td>\n",
       "      <td>2022-05-24</td>\n",
       "      <td>AL</td>\n",
       "      <td>FL</td>\n",
       "      <td>FH</td>\n",
       "      <td>1.0</td>\n",
       "      <td>US Representative</td>\n",
       "      <td>White/Caucasian</td>\n",
       "      <td>Male</td>\n",
       "      <td>R</td>\n",
       "      <td>carlforalabama</td>\n",
       "      <td>Jerry L. Carl</td>\n",
       "    </tr>\n",
       "    <tr>\n",
       "      <th>1</th>\n",
       "      <td>NaN</td>\n",
       "      <td>Withdrew From Race</td>\n",
       "      <td>P</td>\n",
       "      <td>2022-05-24</td>\n",
       "      <td>AL</td>\n",
       "      <td>FL</td>\n",
       "      <td>FH</td>\n",
       "      <td>2.0</td>\n",
       "      <td>US Representative</td>\n",
       "      <td>NaN</td>\n",
       "      <td>Male</td>\n",
       "      <td>D</td>\n",
       "      <td>slate4congress</td>\n",
       "      <td>Jack Slate</td>\n",
       "    </tr>\n",
       "    <tr>\n",
       "      <th>2</th>\n",
       "      <td>NaN</td>\n",
       "      <td>Withdrew From Race</td>\n",
       "      <td>P</td>\n",
       "      <td>2022-05-24</td>\n",
       "      <td>AL</td>\n",
       "      <td>FL</td>\n",
       "      <td>FH</td>\n",
       "      <td>2.0</td>\n",
       "      <td>US Representative</td>\n",
       "      <td>NaN</td>\n",
       "      <td>Male</td>\n",
       "      <td>D</td>\n",
       "      <td>terellanderson</td>\n",
       "      <td>Reginald Terell Anderson</td>\n",
       "    </tr>\n",
       "  </tbody>\n",
       "</table>\n",
       "</div>"
      ],
      "text/plain": [
       "  INCUMBENT              STATUS ELECTIONCODE ELECTIONDATE STATEABBR LEVEL  \\\n",
       "0         Y             Running            P   2022-05-24        AL    FL   \n",
       "1       NaN  Withdrew From Race            P   2022-05-24        AL    FL   \n",
       "2       NaN  Withdrew From Race            P   2022-05-24        AL    FL   \n",
       "\n",
       "  CHAMBER  DISTRICT               RACE        ETHNICITY GENDER PARTY  \\\n",
       "0      FH       1.0  US Representative  White/Caucasian   Male     R   \n",
       "1      FH       2.0  US Representative              NaN   Male     D   \n",
       "2      FH       2.0  US Representative              NaN   Male     D   \n",
       "\n",
       "      screen_name                      name  \n",
       "0  carlforalabama             Jerry L. Carl  \n",
       "1  slate4congress                Jack Slate  \n",
       "2  terellanderson  Reginald Terell Anderson  "
      ]
     },
     "execution_count": 5,
     "metadata": {},
     "output_type": "execute_result"
    }
   ],
   "source": [
    "knowwho_profiles.head(3)"
   ]
  },
  {
   "cell_type": "code",
   "execution_count": 6,
   "id": "8343825b-21c4-436d-a0c9-c2cfd2aaafa2",
   "metadata": {},
   "outputs": [
    {
     "data": {
      "text/plain": [
       "262"
      ]
     },
     "execution_count": 6,
     "metadata": {},
     "output_type": "execute_result"
    }
   ],
   "source": [
    "len(set(knowwho_profiles[\"screen_name\"]).difference(set(twitter_profiles[\"handle\"])))"
   ]
  },
  {
   "cell_type": "code",
   "execution_count": 7,
   "id": "e283ff81-ac15-4e90-ab05-a643b46d6a67",
   "metadata": {},
   "outputs": [
    {
     "data": {
      "text/plain": [
       "246"
      ]
     },
     "execution_count": 7,
     "metadata": {},
     "output_type": "execute_result"
    }
   ],
   "source": [
    "len(set(twitter_profiles[\"handle\"]).difference(set(knowwho_profiles[\"screen_name\"])))"
   ]
  },
  {
   "cell_type": "code",
   "execution_count": 8,
   "id": "db59d1d0-26ea-4a1d-aef3-cbde82ab350d",
   "metadata": {},
   "outputs": [],
   "source": [
    "cols = [\"author_id\", \"handle\", \"description\", \"created_at\",\n",
    "        \"followers_count\", \"following_count\", \"tweet_count\"]\n",
    "knowwho_profiles = pd.merge(\n",
    "    twitter_profiles[cols],\n",
    "    knowwho_profiles,\n",
    "    how=\"right\",\n",
    "    left_on=\"handle\",\n",
    "    right_on=\"screen_name\"\n",
    ").drop(columns=[\"screen_name\"])\n",
    "\n",
    "assert len(knowwho_profiles) == len(knowwho_profiles.dropna(subset=[\"RACE\"]))\n",
    "knowwho_profiles.to_csv(Path(dst, \"KnowWho_profiles_merged_twitter.csv\"), index=False)"
   ]
  },
  {
   "cell_type": "markdown",
   "id": "603a65aa-0e72-46e6-8061-13615d72ac47",
   "metadata": {},
   "source": [
    "# Export data for margins research"
   ]
  },
  {
   "cell_type": "code",
   "execution_count": 96,
   "id": "de673a5b-5fe5-443c-b691-2a9b05e4e704",
   "metadata": {},
   "outputs": [],
   "source": [
    "selection  = knowwho_profiles[[\"name\", \"PARTY\", \"handle\", \"STATEABBR\", \"RACE\", \"DISTRICT\", \"ELECTIONDATE\"]].drop_duplicates()\n",
    "fname = \"primaries_for_margin_research.csv\"\n",
    "\n",
    "# note: saving is commented out to preserve an earlier version of this file that \n",
    "# was used for manual margins research and includes slightly more profiles \n",
    "#selection.to_csv(Path(dst, fname), index=False)"
   ]
  },
  {
   "cell_type": "markdown",
   "id": "d9ce0f87-2384-44b7-98e0-b2804e73ae82",
   "metadata": {},
   "source": [
    "# Descriptive statistics"
   ]
  },
  {
   "cell_type": "code",
   "execution_count": 9,
   "id": "f0ec1bfa-df93-4dbb-ab17-96c68999ceb5",
   "metadata": {},
   "outputs": [
    {
     "name": "stdout",
     "output_type": "stream",
     "text": [
      "1592 unique knowwho profiles\n",
      "1574 unique twitter profiles\n"
     ]
    }
   ],
   "source": [
    "print(\"{} unique knowwho profiles\".format(len(knowwho_profiles[\"name\"].unique())))\n",
    "print(\"{} unique twitter profiles\".format(len(twitter_profiles[\"handle\"].unique())))"
   ]
  },
  {
   "cell_type": "code",
   "execution_count": 10,
   "id": "adbb1f46-c9fe-4799-b9ea-f7296686eb34",
   "metadata": {},
   "outputs": [
    {
     "name": "stdout",
     "output_type": "stream",
     "text": [
      "1328 knowwho profiles have twitter accounts\n"
     ]
    }
   ],
   "source": [
    "print(\"{} knowwho profiles have twitter accounts\".format(len(knowwho_profiles[\"handle\"].unique())))"
   ]
  }
 ],
 "metadata": {
  "kernelspec": {
   "display_name": "Python 3 (ipykernel)",
   "language": "python",
   "name": "python3"
  },
  "language_info": {
   "codemirror_mode": {
    "name": "ipython",
    "version": 3
   },
   "file_extension": ".py",
   "mimetype": "text/x-python",
   "name": "python",
   "nbconvert_exporter": "python",
   "pygments_lexer": "ipython3",
   "version": "3.12.3"
  }
 },
 "nbformat": 4,
 "nbformat_minor": 5
}
