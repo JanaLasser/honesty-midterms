{
 "cells": [
  {
   "cell_type": "code",
   "execution_count": null,
   "id": "065aac4e-fc58-4b4b-b4b8-72c01de64d66",
   "metadata": {},
   "outputs": [],
   "source": [
    "import pandas as pd\n",
    "import numpy as np\n",
    "from pathlib import Path\n",
    "import matplotlib.pyplot as plt\n",
    "import matplotlib as mpl\n",
    "import matplotlib.dates as mdates\n",
    "import seaborn as sns"
   ]
  },
  {
   "cell_type": "code",
   "execution_count": null,
   "id": "21917eee-06dc-42f8-b592-5f0104909d9d",
   "metadata": {},
   "outputs": [],
   "source": [
    "src = \"../data/processed\"\n",
    "dst = \"../plots\""
   ]
  },
  {
   "cell_type": "code",
   "execution_count": null,
   "id": "29e011a2-ac12-43c2-8cdb-b017387df14d",
   "metadata": {},
   "outputs": [],
   "source": [
    "fname = \"study_data.csv.gzip\"\n",
    "data = pd.read_csv(\n",
    "    Path(src, fname),\n",
    "    dtype={\"id\":str, \"author_id\":str},\n",
    "    parse_dates=[\"created_at\", \"ELECTIONDATE\"],\n",
    "    compression=\"gzip\"\n",
    ")\n",
    "\n",
    "fname = \"pilot_data1.csv.gzip\"\n",
    "pilot1 = pd.read_csv(\n",
    "    Path(src, fname),\n",
    "    dtype={\"id\":str, \"author_id\":str},\n",
    "    parse_dates=[\"created_at\", \"ELECTIONDATE\"],\n",
    "    compression=\"gzip\"\n",
    ")\n",
    "\n",
    "fname = \"pilot_data2.csv.gzip\"\n",
    "pilot2 = pd.read_csv(\n",
    "    Path(src, fname),\n",
    "    dtype={\"id\":str, \"author_id\":str},\n",
    "    parse_dates=[\"created_at\", \"ELECTIONDATE\"],\n",
    "    compression=\"gzip\"\n",
    ")"
   ]
  },
  {
   "cell_type": "code",
   "execution_count": null,
   "id": "dcbc9323-75ba-4b2d-abc0-276442e4257a",
   "metadata": {},
   "outputs": [],
   "source": [
    "candidates = data[[\"handle\", \"ELECTIONDATE\", \"id\"]]\\\n",
    "    .groupby([\"handle\", \"ELECTIONDATE\"])\\\n",
    "    .count()\\\n",
    "    .drop(columns=[\"id\"])\\\n",
    "    .reset_index()\n",
    "candidates = candidates.drop_duplicates(subset=[\"handle\", \"ELECTIONDATE\"])\n",
    "candidates.head(3)"
   ]
  },
  {
   "cell_type": "code",
   "execution_count": null,
   "id": "1223ee22-9311-42ca-82dd-a664711349e0",
   "metadata": {},
   "outputs": [],
   "source": [
    "pilot1[\"time period\"] = \"pilot data before\"\n",
    "pilot2[\"time period\"] = \"pilot data after\"\n",
    "data[\"time period\"] = \"study data\"\n",
    "plot_data = pd.concat([pilot1, pilot2, data])\n",
    "plot_data = plot_data.reset_index()"
   ]
  },
  {
   "cell_type": "code",
   "execution_count": null,
   "id": "6079ce45-9ba6-45e4-a806-2eaf33bb37ef",
   "metadata": {},
   "outputs": [],
   "source": [
    "def plot_election_dates(ax, candidates, start_date, end_date):\n",
    "    bins = pd.date_range(start=start_date, end=end_date,freq='ME')\n",
    "    n, b, patches = ax.hist(\n",
    "        candidates[\"ELECTIONDATE\"], \n",
    "        bins=bins, \n",
    "        rwidth=0.8, \n",
    "        color=(0.7, 0.7, 0.7),\n",
    "        align=\"left\"\n",
    "    )\n",
    "    ax.set_xlabel('')\n",
    "    ax.set_ylabel('election count')\n",
    "    ax.spines[['right', 'top']].set_visible(False)\n",
    "    ax.set_xlim(start_date, end_date)\n",
    "    ax.set_ylim(0, 500)\n",
    "    #ax.xaxis.set_major_formatter(mdates.DateFormatter('%B %Y'))\n",
    "    ax.set_xticklabels([\"Jan 2022\", \"March 2022\", \"May 2022\", \"July 2022\", \n",
    "                        \"Sept 2022\", \"Nov 2022\", \"Jan 2023\", \"March 2023\", \"May 2023\"])\n",
    "    ax.tick_params(axis='x', rotation=45, which='major')\n",
    "\n",
    "    return patches"
   ]
  },
  {
   "cell_type": "code",
   "execution_count": null,
   "id": "6c83ef94-560f-4872-b60c-370c2dec9594",
   "metadata": {},
   "outputs": [],
   "source": [
    "def plot_tweet_density(ax, plot_data, start_date, end_date):\n",
    "    kde_plot = sns.kdeplot(\n",
    "        data=plot_data,\n",
    "        ax=ax2,\n",
    "        x=\"created_at\",\n",
    "        hue=\"time period\",\n",
    "        palette=\"Set2\",\n",
    "        linewidth=0,\n",
    "        fill=True,\n",
    "        alpha=.5,\n",
    "        hue_order=[\"pilot data before\", \"study data\", \"pilot data after\"],\n",
    "    )\n",
    "    ax.set_ylabel(\"tweet density\")\n",
    "    ax.spines[['left', 'top']].set_visible(False)\n",
    "    ax.set_xlim(start_date, end_date)\n",
    "    ax.set_ylim(0, 0.004)\n",
    "\n",
    "    return kde_plot"
   ]
  },
  {
   "cell_type": "code",
   "execution_count": null,
   "id": "0228feb0-197b-4609-80a6-eb0ca435373f",
   "metadata": {},
   "outputs": [],
   "source": [
    "fig, ax1 = plt.subplots(figsize=(8, 3))\n",
    "ax2 = ax1.twinx()\n",
    "\n",
    "start_date = pd.to_datetime('2021-12-01')\n",
    "end_date = pd.to_datetime('2023-05-30')\n",
    "\n",
    "kde_plot = plot_tweet_density(ax2, plot_data, start_date, end_date)\n",
    "patches = plot_election_dates(ax1, candidates, start_date, end_date)\n",
    "\n",
    "# legend\n",
    "kde_lines = kde_plot.lines\n",
    "handles1 = [patches[0]]\n",
    "labels1 = [\"elections\"]\n",
    "handles2 = kde_plot.legend_.legend_handles\n",
    "labels2 = [t.get_text() for t in kde_plot.legend_.texts]\n",
    "all_handles = handles1 + handles2\n",
    "all_labels = labels1 + labels2\n",
    "\n",
    "leg = fig.legend(\n",
    "    all_handles, \n",
    "    all_labels, \n",
    "    loc=7, \n",
    "    bbox_to_anchor=(0.83, 0.47, 0, 0),\n",
    "    facecolor='white', \n",
    "    edgecolor='none',\n",
    "    fontsize=9\n",
    ")\n",
    "ax2.legend_.remove() # remove legend created by seaborn\n",
    "fig.tight_layout()\n",
    "\n",
    "fname = \"data_distribution\"\n",
    "dst = \"../plots\"\n",
    "plt.savefig(Path(dst, fname + \".pdf\"))\n",
    "plt.savefig(Path(dst, fname + \".svg\"))"
   ]
  }
 ],
 "metadata": {
  "kernelspec": {
   "display_name": "Python 3 (ipykernel)",
   "language": "python",
   "name": "python3"
  },
  "language_info": {
   "codemirror_mode": {
    "name": "ipython",
    "version": 3
   },
   "file_extension": ".py",
   "mimetype": "text/x-python",
   "name": "python",
   "nbconvert_exporter": "python",
   "pygments_lexer": "ipython3",
   "version": "3.12.3"
  }
 },
 "nbformat": 4,
 "nbformat_minor": 5
}
