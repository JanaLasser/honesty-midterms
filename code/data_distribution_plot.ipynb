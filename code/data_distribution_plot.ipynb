{
 "cells": [
  {
   "cell_type": "code",
   "execution_count": 36,
   "id": "065aac4e-fc58-4b4b-b4b8-72c01de64d66",
   "metadata": {},
   "outputs": [],
   "source": [
    "import pandas as pd\n",
    "import numpy as np\n",
    "from pathlib import Path\n",
    "import matplotlib.pyplot as plt\n",
    "import matplotlib as mpl\n",
    "import matplotlib.dates as mdates\n",
    "import seaborn as sns"
   ]
  },
  {
   "cell_type": "code",
   "execution_count": 12,
   "id": "1b1e1e9e-c162-43dd-aa93-67bcc36e63ec",
   "metadata": {},
   "outputs": [],
   "source": [
    "src = \"../data\"\n",
    "fname = \"KnowWho_profiles_merged_twitter.csv\"\n",
    "knowwho_profiles = pd.read_csv(\n",
    "    Path(src, fname), \n",
    "    dtype={\"author_id\":str},\n",
    "    parse_dates=[\"created_at\", \"ELECTIONDATE\"]\n",
    ")"
   ]
  },
  {
   "cell_type": "code",
   "execution_count": 13,
   "id": "a1165a94-dc9b-405b-801d-211a4cebe98a",
   "metadata": {},
   "outputs": [
    {
     "data": {
      "text/plain": [
       "1204"
      ]
     },
     "execution_count": 13,
     "metadata": {},
     "output_type": "execute_result"
    }
   ],
   "source": [
    "knowwho_profiles = knowwho_profiles[knowwho_profiles[\"STATUS\"] == \"Running\"].reset_index(drop=True)\n",
    "knowwho_profiles = knowwho_profiles.drop(columns=[\"STATUS\", \"ELECTIONCODE\"])\n",
    "knowwho_profiles = knowwho_profiles.dropna(subset=[\"handle\"])\n",
    "len(knowwho_profiles)"
   ]
  },
  {
   "cell_type": "code",
   "execution_count": 14,
   "id": "277ef494-ae45-45d0-b2c2-1f7db728dd0d",
   "metadata": {},
   "outputs": [],
   "source": [
    "fname = \"midterm_tweets_2022-01-01_to_2023-05-01.csv.gzip\"\n",
    "tweets = pd.read_csv(\n",
    "    Path(src, fname),\n",
    "    dtype={\"id\":str, \"author_id\":str},\n",
    "    parse_dates=[\"created_at\"],\n",
    "    compression=\"gzip\"\n",
    ")"
   ]
  },
  {
   "cell_type": "code",
   "execution_count": 15,
   "id": "0344e2b1-7b05-4d93-a9f6-d454ba656fcd",
   "metadata": {},
   "outputs": [],
   "source": [
    "knowwho_profiles = knowwho_profiles.set_index([\"handle\", \"ELECTIONDATE\"])"
   ]
  },
  {
   "cell_type": "code",
   "execution_count": 16,
   "id": "5b31ef22-b87d-4462-8a5f-54c1a54c4d29",
   "metadata": {},
   "outputs": [
    {
     "name": "stdout",
     "output_type": "stream",
     "text": [
      "0/1204\n",
      "100/1204\n",
      "200/1204\n",
      "300/1204\n",
      "400/1204\n",
      "500/1204\n",
      "600/1204\n",
      "700/1204\n",
      "800/1204\n",
      "900/1204\n",
      "1000/1204\n",
      "1100/1204\n",
      "1200/1204\n"
     ]
    }
   ],
   "source": [
    "# the data set used for the actual analysis\n",
    "i = 0\n",
    "data = pd.DataFrame()\n",
    "for handle, electiondate in knowwho_profiles.index:\n",
    "    if i%100 == 0:\n",
    "        print(f\"{i}/{len(knowwho_profiles)}\")\n",
    "    candidate_tweets = tweets[tweets[\"handle\"] == handle]\n",
    "    candidate_tweets_before = candidate_tweets[\n",
    "        (candidate_tweets[\"created_at\"].dt.date <= electiondate.date()) & \\\n",
    "        (candidate_tweets[\"created_at\"].dt.date >= electiondate.date() - pd.Timedelta(days=28))\n",
    "    ]\n",
    "    candidate_tweets_after = candidate_tweets[\n",
    "        (candidate_tweets[\"created_at\"].dt.date > electiondate.date()) & \\\n",
    "        (candidate_tweets[\"created_at\"].dt.date <= electiondate.date() + pd.Timedelta(days=28))\n",
    "    ]\n",
    "    data = pd.concat([data, candidate_tweets_before, candidate_tweets_after])\n",
    "    i += 1\n",
    "data = data.reset_index(drop=True)"
   ]
  },
  {
   "cell_type": "code",
   "execution_count": 17,
   "id": "a1bca609-b21a-4350-a9b8-0e42a21be1bf",
   "metadata": {},
   "outputs": [
    {
     "name": "stdout",
     "output_type": "stream",
     "text": [
      "0/1204\n",
      "100/1204\n",
      "200/1204\n",
      "300/1204\n",
      "400/1204\n",
      "500/1204\n",
      "600/1204\n",
      "700/1204\n",
      "800/1204\n",
      "900/1204\n",
      "1000/1204\n",
      "1100/1204\n",
      "1200/1204\n"
     ]
    }
   ],
   "source": [
    "# the pilot data set with tweets from at least 16 weeks before election dates\n",
    "pilot1 = pd.DataFrame()\n",
    "# the pilot data set with tweets from at least 16 weeks after election dates\n",
    "pilot2 = pd.DataFrame()\n",
    "\n",
    "i = 0\n",
    "for handle, electiondate in knowwho_profiles.index:\n",
    "    if i%100 == 0:\n",
    "        print(f\"{i}/{len(knowwho_profiles)}\")\n",
    "    candidate_tweets = tweets[tweets[\"handle\"] == handle]\n",
    "    candidate_tweets_before = candidate_tweets[\n",
    "        (candidate_tweets[\"created_at\"].dt.date <= electiondate.date() - pd.Timedelta(days=16 * 7))\n",
    "    ].copy()\n",
    "    candidate_tweets_after = candidate_tweets[\n",
    "        (candidate_tweets[\"created_at\"].dt.date >= electiondate.date() + pd.Timedelta(days=16 * 7))\n",
    "    ].copy()\n",
    "    pilot1 = pd.concat([pilot1, candidate_tweets_before])\n",
    "    pilot2 = pd.concat([pilot2, candidate_tweets_after])\n",
    "    i += 1\n",
    "\n",
    "pilot1 = pilot1.reset_index(drop=True)\n",
    "pilot2 = pilot2.reset_index(drop=True)"
   ]
  },
  {
   "cell_type": "code",
   "execution_count": 240,
   "id": "1223ee22-9311-42ca-82dd-a664711349e0",
   "metadata": {},
   "outputs": [],
   "source": [
    "pilot1[\"time period\"] = \"pilot data before\"\n",
    "pilot2[\"time period\"] = \"pilot data after\"\n",
    "data[\"time period\"] = \"study data\"\n",
    "plot_data = pd.concat([pilot1, pilot2, data])\n",
    "plot_data = plot_data.reset_index()"
   ]
  },
  {
   "cell_type": "code",
   "execution_count": null,
   "id": "0fde28de-36b3-438f-928d-bf2284f95c07",
   "metadata": {},
   "outputs": [],
   "source": [
    "knowwho_profiles = knowwho_profiles.reset_index() "
   ]
  },
  {
   "cell_type": "code",
   "execution_count": 242,
   "id": "6079ce45-9ba6-45e4-a806-2eaf33bb37ef",
   "metadata": {},
   "outputs": [],
   "source": [
    "def plot_election_dates(ax, knowwho_profiles, start_date, end_date):\n",
    "    bins = pd.date_range(start=start_date, end=end_date,freq='ME')\n",
    "    n, b, patches = ax.hist(\n",
    "        knowwho_profiles[\"ELECTIONDATE\"], \n",
    "        bins=bins, \n",
    "        rwidth=0.8, \n",
    "        color=(0.7, 0.7, 0.7),\n",
    "        align=\"left\"\n",
    "    )\n",
    "    ax.set_xlabel('')\n",
    "    ax.set_ylabel('election count')\n",
    "    ax.spines[['right', 'top']].set_visible(False)\n",
    "    ax.set_xlim(start_date, end_date)\n",
    "    ax.set_ylim(0, 500)\n",
    "    #ax.xaxis.set_major_formatter(mdates.DateFormatter('%B %Y'))\n",
    "    ax.set_xticklabels([\"Jan 2022\", \"March 2022\", \"May 2022\", \"July 2022\", \n",
    "                        \"Sept 2022\", \"Nov 2022\", \"Jan 2023\", \"March 2023\", \"May 2023\"])\n",
    "    ax.tick_params(axis='x', rotation=45, which='major')\n",
    "\n",
    "    return patches"
   ]
  },
  {
   "cell_type": "code",
   "execution_count": 245,
   "id": "6c83ef94-560f-4872-b60c-370c2dec9594",
   "metadata": {},
   "outputs": [],
   "source": [
    "def plot_tweet_density(ax, plot_data, start_date, end_date):\n",
    "    kde_plot = sns.kdeplot(\n",
    "        data=plot_data,\n",
    "        ax=ax2,\n",
    "        x=\"created_at\",\n",
    "        hue=\"time period\",\n",
    "        palette=\"Set2\",\n",
    "        linewidth=0,\n",
    "        fill=True,\n",
    "        alpha=.5,\n",
    "        hue_order=[\"pilot data before\", \"study data\", \"pilot data after\"],\n",
    "    )\n",
    "    ax.set_ylabel(\"tweet density\")\n",
    "    ax.spines[['left', 'top']].set_visible(False)\n",
    "    ax.set_xlim(start_date, end_date)\n",
    "    ax.set_ylim(0, 0.004)\n",
    "\n",
    "    return kde_plot"
   ]
  },
  {
   "cell_type": "code",
   "execution_count": 256,
   "id": "0228feb0-197b-4609-80a6-eb0ca435373f",
   "metadata": {},
   "outputs": [
    {
     "name": "stderr",
     "output_type": "stream",
     "text": [
      "/tmp/ipykernel_990012/2572752716.py:16: UserWarning: set_ticklabels() should only be used with a fixed number of ticks, i.e. after set_ticks() or using a FixedLocator.\n",
      "  ax.set_xticklabels([\"Jan 2022\", \"March 2022\", \"May 2022\", \"July 2022\",\n"
     ]
    },
    {
     "data": {
      "image/png": "[encoded data removed]",
      "text/plain": [
       "<Figure size 800x300 with 2 Axes>"
      ]
     },
     "metadata": {},
     "output_type": "display_data"
    }
   ],
   "source": [
    "fig, ax1 = plt.subplots(figsize=(8, 3))\n",
    "ax2 = ax1.twinx()\n",
    "\n",
    "start_date = pd.to_datetime('2021-12-01')\n",
    "end_date = pd.to_datetime('2023-05-30')\n",
    "\n",
    "kde_plot = plot_tweet_density(ax2, plot_data, start_date, end_date)\n",
    "patches = plot_election_dates(ax1, knowwho_profiles, start_date, end_date)\n",
    "\n",
    "# legend\n",
    "kde_lines = kde_plot.lines\n",
    "handles1 = [patches[0]]\n",
    "labels1 = [\"elections\"]\n",
    "handles2 = kde_plot.legend_.legend_handles\n",
    "labels2 = [t.get_text() for t in kde_plot.legend_.texts]\n",
    "all_handles = handles1 + handles2\n",
    "all_labels = labels1 + labels2\n",
    "\n",
    "leg = fig.legend(\n",
    "    all_handles, \n",
    "    all_labels, \n",
    "    loc=7, \n",
    "    bbox_to_anchor=(0.83, 0.47, 0, 0),\n",
    "    facecolor='white', \n",
    "    edgecolor='none',\n",
    "    fontsize=9\n",
    ")\n",
    "ax2.legend_.remove() # remove legend created by seaborn\n",
    "fig.tight_layout()\n",
    "\n",
    "fname = \"data_distribution\"\n",
    "dst = \"../plots\"\n",
    "plt.savefig(Path(dst, fname + \".pdf\"))\n",
    "plt.savefig(Path(dst, fname + \".svg\"))"
   ]
  },
  {
   "cell_type": "code",
   "execution_count": null,
   "id": "3f85826c-6e09-452a-b621-5d1c7f1e7f92",
   "metadata": {},
   "outputs": [],
   "source": []
  },
  {
   "cell_type": "code",
   "execution_count": null,
   "id": "975803c7-ea39-4758-b8ed-75c3c538e0d4",
   "metadata": {},
   "outputs": [],
   "source": []
  }
 ],
 "metadata": {
  "kernelspec": {
   "display_name": "Python 3 (ipykernel)",
   "language": "python",
   "name": "python3"
  },
  "language_info": {
   "codemirror_mode": {
    "name": "ipython",
    "version": 3
   },
   "file_extension": ".py",
   "mimetype": "text/x-python",
   "name": "python",
   "nbconvert_exporter": "python",
   "pygments_lexer": "ipython3",
   "version": "3.12.3"
  }
 },
 "nbformat": 4,
 "nbformat_minor": 5
}
