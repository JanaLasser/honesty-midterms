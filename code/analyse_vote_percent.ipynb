{
 "cells": [
  {
   "cell_type": "code",
   "execution_count": 33,
   "id": "cb8f5476-b0ea-4a3a-ade3-56ff3958cdd0",
   "metadata": {},
   "outputs": [],
   "source": [
    "from pathlib import Path\n",
    "import pandas as pd\n",
    "import numpy as np\n",
    "import matplotlib.pyplot as plt\n",
    "import seaborn as sns\n",
    "import statsmodels.formula.api as smf\n",
    "\n",
    "# parallelisation functionality\n",
    "from multiprocess import Pool\n",
    "import psutil\n",
    "from tqdm import tqdm"
   ]
  },
  {
   "cell_type": "markdown",
   "id": "62cd91e8-7b71-4781-b0b5-6251296958d3",
   "metadata": {},
   "source": [
    "# Analysis of the effect of the candidate vote share"
   ]
  },
  {
   "cell_type": "markdown",
   "id": "59803b5f-f684-4256-b266-63840ef0c730",
   "metadata": {},
   "source": [
    "## Data wrangling"
   ]
  },
  {
   "cell_type": "code",
   "execution_count": 2,
   "id": "b6e6495a-d9d6-4038-9f2b-8b709b9a5e26",
   "metadata": {},
   "outputs": [],
   "source": [
    "src = \"../data\"\n",
    "fname = \"KnowWho_profiles_merged_twitter.csv\"\n",
    "knowwho_profiles = pd.read_csv(\n",
    "    Path(src, fname), \n",
    "    dtype={\"author_id\":str},\n",
    "    parse_dates=[\"created_at\", \"ELECTIONDATE\"]\n",
    ")"
   ]
  },
  {
   "cell_type": "code",
   "execution_count": 3,
   "id": "8349e5eb-0515-4324-a511-ae729b89b9d4",
   "metadata": {},
   "outputs": [
    {
     "data": {
      "text/plain": [
       "STATUS\n",
       "Running               1426\n",
       "Withdrew From Race     168\n",
       "Name: count, dtype: int64"
      ]
     },
     "execution_count": 3,
     "metadata": {},
     "output_type": "execute_result"
    }
   ],
   "source": [
    "knowwho_profiles[\"STATUS\"].value_counts()"
   ]
  },
  {
   "cell_type": "code",
   "execution_count": 4,
   "id": "d3d5d90a-a88c-4570-95dd-357583258467",
   "metadata": {},
   "outputs": [],
   "source": [
    "knowwho_profiles = knowwho_profiles[knowwho_profiles[\"STATUS\"] == \"Running\"].reset_index(drop=True)\n",
    "knowwho_profiles = knowwho_profiles.drop(columns=[\"STATUS\", \"ELECTIONCODE\"])\n",
    "knowwho_profiles = knowwho_profiles.dropna(subset=[\"handle\"])\n",
    "# note: it is necessary to have a double-index, since there is one candidate\n",
    "# (farrforus) who ran in two elections\n",
    "knowwho_profiles = knowwho_profiles.set_index([\"handle\", \"ELECTIONDATE\"])"
   ]
  },
  {
   "cell_type": "code",
   "execution_count": 5,
   "id": "7ef93887-b422-4d5f-96dc-0f554dfaf0a0",
   "metadata": {},
   "outputs": [
    {
     "data": {
      "text/plain": [
       "1204"
      ]
     },
     "execution_count": 5,
     "metadata": {},
     "output_type": "execute_result"
    }
   ],
   "source": [
    "len(knowwho_profiles)"
   ]
  },
  {
   "cell_type": "markdown",
   "id": "da324407-32d6-4483-90e8-eca996cf178e",
   "metadata": {},
   "source": [
    "### Add information from vote share research"
   ]
  },
  {
   "attachments": {},
   "cell_type": "markdown",
   "id": "e28307e3-2eab-4dd5-9805-ab861d7217ad",
   "metadata": {},
   "source": [
    "The table `primaries_for_margin_research_RW.csv` was coded by Richard Westway (email on 2023-06-14) who added the columns VOTE_SHARE, NOTES, and COMPLETE. The corresponding email chain is archived in `Projects/CSS_honesty/analysis/midterms/reg_report/`.\n",
    "* VOTE_SHARE: percentage of the votes gathered by the candidate\n",
    "* NOTES on various corrections and special election types. Legend:\n",
    "    * A – Candidate advanced\n",
    "    * C – Primary cancelled and candidate advanced\n",
    "    * D# – Corrected district id for this candidate\n",
    "    * DUP – Duplicate candidate entry\n",
    "    * NL – Candidate not listed in results\n",
    "    * NP – Vote share from Nonpartisan Primary\n",
    "    * R# – Candidate advanced to Primary runoff followed by runoff vote share\n",
    "    * RCV1 – Vote share from 1st round of ranked-choice voting\n",
    "    * S-## - Corrected state for this candidate\n",
    "    * UW – Candidate unofficially withdrew\n",
    "    * WD – Candidate withdrawn or disqualified\n",
    "* COMPLETE: disregard, all rows are \"Y\"\n",
    "\n",
    "JL updated the data to split the \"NOTES\" column into several columns, saved in the table `primaries_for_margin_research_RW_JL.csv`. The new table contains the following columns (next to the original VOTE_SHARE and updated NOTES):\n",
    "* DISTRICT_CORR – contains the corrected district number, corresponding D# entries have been removed from the NOTES column\n",
    "* STATE_CORR – contains the corrected state acronym, corresponding S# entries have been removed from the NOTES column\n",
    "* NP – contains a 1 if it was a nonpartisan primary, corresponding NP entries have been removed from the NOTES column\n",
    "* RCV1 – contains a 1 if it was a ranked-choice voting, corresponding RCV1 entries have been removed from the NOTES column\n",
    "* RUNOFF_PERC – contains the percentage of the runoff vote share, corresponding R# entries have been removed from the NOTES column"
   ]
  },
  {
   "cell_type": "code",
   "execution_count": 47,
   "id": "0e03fb5a-d964-4527-a3bc-b7484e87ca71",
   "metadata": {},
   "outputs": [
    {
     "data": {
      "text/html": [
       "<div>\n",
       "<style scoped>\n",
       "    .dataframe tbody tr th:only-of-type {\n",
       "        vertical-align: middle;\n",
       "    }\n",
       "\n",
       "    .dataframe tbody tr th {\n",
       "        vertical-align: top;\n",
       "    }\n",
       "\n",
       "    .dataframe thead th {\n",
       "        text-align: right;\n",
       "    }\n",
       "</style>\n",
       "<table border=\"1\" class=\"dataframe\">\n",
       "  <thead>\n",
       "    <tr style=\"text-align: right;\">\n",
       "      <th></th>\n",
       "      <th></th>\n",
       "      <th>name</th>\n",
       "      <th>PARTY</th>\n",
       "      <th>STATEABBR</th>\n",
       "      <th>RACE</th>\n",
       "      <th>DISTRICT</th>\n",
       "      <th>VOTE_SHARE</th>\n",
       "      <th>NOTES</th>\n",
       "      <th>NONPARTISAN_PRIMARY</th>\n",
       "      <th>DISTRICT_CORR</th>\n",
       "      <th>STATE_CORR</th>\n",
       "      <th>RUNOFF_PERC</th>\n",
       "      <th>RANKED_CHOICE_VOTING</th>\n",
       "    </tr>\n",
       "    <tr>\n",
       "      <th>handle</th>\n",
       "      <th>ELECTIONDATE</th>\n",
       "      <th></th>\n",
       "      <th></th>\n",
       "      <th></th>\n",
       "      <th></th>\n",
       "      <th></th>\n",
       "      <th></th>\n",
       "      <th></th>\n",
       "      <th></th>\n",
       "      <th></th>\n",
       "      <th></th>\n",
       "      <th></th>\n",
       "      <th></th>\n",
       "    </tr>\n",
       "  </thead>\n",
       "  <tbody>\n",
       "    <tr>\n",
       "      <th>carlforalabama</th>\n",
       "      <th>2022-05-24</th>\n",
       "      <td>Jerry L. Carl</td>\n",
       "      <td>R</td>\n",
       "      <td>AL</td>\n",
       "      <td>US Representative</td>\n",
       "      <td>1.0</td>\n",
       "      <td>NaN</td>\n",
       "      <td>C</td>\n",
       "      <td>NaN</td>\n",
       "      <td>NaN</td>\n",
       "      <td>NaN</td>\n",
       "      <td>NaN</td>\n",
       "      <td>NaN</td>\n",
       "    </tr>\n",
       "    <tr>\n",
       "      <th>terellanderson</th>\n",
       "      <th>2022-05-24</th>\n",
       "      <td>Reginald Terell Anderson</td>\n",
       "      <td>D</td>\n",
       "      <td>AL</td>\n",
       "      <td>US Representative</td>\n",
       "      <td>2.0</td>\n",
       "      <td>NaN</td>\n",
       "      <td>WD</td>\n",
       "      <td>NaN</td>\n",
       "      <td>NaN</td>\n",
       "      <td>NaN</td>\n",
       "      <td>NaN</td>\n",
       "      <td>NaN</td>\n",
       "    </tr>\n",
       "    <tr>\n",
       "      <th>phyllisdhhall</th>\n",
       "      <th>2022-05-24</th>\n",
       "      <td>Phyllis Harvey-Hall</td>\n",
       "      <td>D</td>\n",
       "      <td>AL</td>\n",
       "      <td>US Representative</td>\n",
       "      <td>2.0</td>\n",
       "      <td>68.8</td>\n",
       "      <td>NaN</td>\n",
       "      <td>NaN</td>\n",
       "      <td>NaN</td>\n",
       "      <td>NaN</td>\n",
       "      <td>NaN</td>\n",
       "      <td>NaN</td>\n",
       "    </tr>\n",
       "  </tbody>\n",
       "</table>\n",
       "</div>"
      ],
      "text/plain": [
       "                                                 name PARTY STATEABBR  \\\n",
       "handle         ELECTIONDATE                                             \n",
       "carlforalabama 2022-05-24               Jerry L. Carl     R        AL   \n",
       "terellanderson 2022-05-24    Reginald Terell Anderson     D        AL   \n",
       "phyllisdhhall  2022-05-24         Phyllis Harvey-Hall     D        AL   \n",
       "\n",
       "                                          RACE  DISTRICT  VOTE_SHARE NOTES  \\\n",
       "handle         ELECTIONDATE                                                  \n",
       "carlforalabama 2022-05-24    US Representative       1.0         NaN     C   \n",
       "terellanderson 2022-05-24    US Representative       2.0         NaN    WD   \n",
       "phyllisdhhall  2022-05-24    US Representative       2.0        68.8   NaN   \n",
       "\n",
       "                             NONPARTISAN_PRIMARY  DISTRICT_CORR STATE_CORR  \\\n",
       "handle         ELECTIONDATE                                                  \n",
       "carlforalabama 2022-05-24                    NaN            NaN        NaN   \n",
       "terellanderson 2022-05-24                    NaN            NaN        NaN   \n",
       "phyllisdhhall  2022-05-24                    NaN            NaN        NaN   \n",
       "\n",
       "                             RUNOFF_PERC  RANKED_CHOICE_VOTING  \n",
       "handle         ELECTIONDATE                                     \n",
       "carlforalabama 2022-05-24            NaN                   NaN  \n",
       "terellanderson 2022-05-24            NaN                   NaN  \n",
       "phyllisdhhall  2022-05-24            NaN                   NaN  "
      ]
     },
     "execution_count": 47,
     "metadata": {},
     "output_type": "execute_result"
    }
   ],
   "source": [
    "fname = \"primaries_for_margin_research_RW_JL.csv\"\n",
    "margins = pd.read_csv(Path(src, fname), parse_dates=[\"ELECTIONDATE\"], dayfirst=True)\n",
    "margins = margins.drop(columns=\"COMPLETE\")\n",
    "margins = margins.dropna(subset=[\"handle\"])\n",
    "margins = margins.set_index([\"handle\", \"ELECTIONDATE\"])\n",
    "margins.head(3)"
   ]
  },
  {
   "cell_type": "code",
   "execution_count": 7,
   "id": "0f4c8039-b37a-44a5-a8d7-4833ba5f7909",
   "metadata": {},
   "outputs": [],
   "source": [
    "# correct district entries\n",
    "knowwho_profiles = knowwho_profiles.sort_index()\n",
    "margins = margins.sort_index()\n",
    "for handle, electiondate in knowwho_profiles.index:\n",
    "    if not np.isnan(margins.loc[(handle, electiondate), \"DISTRICT_CORR\"].values[0]):\n",
    "        district = margins.loc[(handle, electiondate), \"DISTRICT_CORR\"].values[0]\n",
    "        knowwho_profiles.loc[(handle, electiondate), \"DISTRICT\"] = district"
   ]
  },
  {
   "cell_type": "code",
   "execution_count": 8,
   "id": "53a4643f-781e-45fe-9f8c-bd5aa3b6bf4f",
   "metadata": {},
   "outputs": [],
   "source": [
    "# correct state entries\n",
    "for handle, electiondate in knowwho_profiles.index:\n",
    "    if not np.isnan(margins.loc[(handle, electiondate), \"STATE_CORR\"].values[0]):\n",
    "        state = margins.loc[(handle, electiondate), \"STATE_CORR\"].values[0]\n",
    "        knowwho_profiles.loc[(handle, electiondate), \"STATE\"] = state"
   ]
  },
  {
   "cell_type": "code",
   "execution_count": 9,
   "id": "2fce191e-0907-4019-8da8-fa2eb45daaa6",
   "metadata": {},
   "outputs": [],
   "source": [
    "# add ranked-choice voting entries, notes, non-partisan election entries,\n",
    "# percentages from runoff votes, and vote shares\n",
    "knowwho_profiles[\"RANKED_CHOICE_VOTING\"] = np.nan\n",
    "knowwho_profiles[\"NOTES\"] = np.nan\n",
    "knowwho_profiles[\"NOTES\"] = knowwho_profiles[\"NOTES\"].astype(object)\n",
    "knowwho_profiles[\"NONPARTISAN_PRIMARY\"] = np.nan\n",
    "knowwho_profiles[\"RUNOFF_PERC\"] = np.nan\n",
    "knowwho_profiles[\"VOTE_SHARE\"] = np.nan\n",
    "\n",
    "for handle, electiondate in knowwho_profiles.index:\n",
    "    knowwho_profiles.loc[(handle, electiondate), \"RANKED_CHOICE_VOTING\"] = \\\n",
    "        margins.loc[(handle, electiondate), \"RANKED_CHOICE_VOTING\"].values[0]\n",
    "    knowwho_profiles.loc[(handle, electiondate), \"NOTES\"] = \\\n",
    "        margins.loc[(handle, electiondate), \"NOTES\"].values[0]\n",
    "    knowwho_profiles.loc[(handle, electiondate), \"NONPARTISAN_PRIMARY\"] = \\\n",
    "        margins.loc[(handle, electiondate), \"NONPARTISAN_PRIMARY\"].values[0]\n",
    "    knowwho_profiles.loc[(handle, electiondate), \"VOTE_SHARE\"] = \\\n",
    "        margins.loc[(handle, electiondate), \"VOTE_SHARE\"].values[0]"
   ]
  },
  {
   "cell_type": "code",
   "execution_count": 10,
   "id": "8d8a4e77-260a-473a-a51f-7577b81eb997",
   "metadata": {},
   "outputs": [],
   "source": [
    "del margins"
   ]
  },
  {
   "cell_type": "code",
   "execution_count": 11,
   "id": "0aaf6975-f915-4b2d-9b54-072decf0353d",
   "metadata": {},
   "outputs": [],
   "source": [
    "# remove all candidates that don't have a vote share\n",
    "knowwho_profiles = knowwho_profiles.dropna(subset=[\"VOTE_SHARE\"])\n",
    "\n",
    "# remove all candidates that got a vote share of 100%\n",
    "knowwho_profiles = knowwho_profiles[knowwho_profiles[\"VOTE_SHARE\"] != 100]"
   ]
  },
  {
   "cell_type": "code",
   "execution_count": 12,
   "id": "98474e65-673c-472b-adb7-53ed2f29a177",
   "metadata": {},
   "outputs": [
    {
     "data": {
      "text/plain": [
       "NOTES\n",
       "UW    4\n",
       "Name: count, dtype: int64"
      ]
     },
     "execution_count": 12,
     "metadata": {},
     "output_type": "execute_result"
    }
   ],
   "source": [
    "knowwho_profiles[\"NOTES\"].value_counts()"
   ]
  },
  {
   "cell_type": "code",
   "execution_count": 13,
   "id": "6e9006de-2c43-4658-bd2c-60baedbb7a82",
   "metadata": {},
   "outputs": [
    {
     "data": {
      "text/plain": [
       "PARTY\n",
       "R    457\n",
       "D    340\n",
       "Name: count, dtype: int64"
      ]
     },
     "execution_count": 13,
     "metadata": {},
     "output_type": "execute_result"
    }
   ],
   "source": [
    "knowwho_profiles[\"PARTY\"].value_counts()"
   ]
  },
  {
   "cell_type": "code",
   "execution_count": 14,
   "id": "59e089b5-c537-4076-9f2d-9c26ac46ba6c",
   "metadata": {},
   "outputs": [
    {
     "data": {
      "text/plain": [
       "INCUMBENT\n",
       "Y    228\n",
       "Name: count, dtype: int64"
      ]
     },
     "execution_count": 14,
     "metadata": {},
     "output_type": "execute_result"
    }
   ],
   "source": [
    "knowwho_profiles[\"INCUMBENT\"].value_counts()"
   ]
  },
  {
   "cell_type": "code",
   "execution_count": 15,
   "id": "4a244b16-99ea-4bff-9fec-408a872299be",
   "metadata": {},
   "outputs": [
    {
     "data": {
      "text/plain": [
       "797"
      ]
     },
     "execution_count": 15,
     "metadata": {},
     "output_type": "execute_result"
    }
   ],
   "source": [
    "len(knowwho_profiles)"
   ]
  },
  {
   "cell_type": "markdown",
   "id": "bd44b0c5-9a99-4ee5-98b0-363dfaa94e0a",
   "metadata": {},
   "source": [
    "### Calculate the number of tweets before the election"
   ]
  },
  {
   "cell_type": "code",
   "execution_count": 16,
   "id": "5378f7e9-cfbf-48e2-abbd-ba92a1ccbd7d",
   "metadata": {},
   "outputs": [],
   "source": [
    "fname = \"midterm_tweets_2022-01-01_to_2023-05-01.csv.gzip\"\n",
    "tweets = pd.read_csv(\n",
    "    Path(src, fname),\n",
    "    dtype={\"id\":str, \"author_id\":str},\n",
    "    parse_dates=[\"created_at\"],\n",
    "    compression=\"gzip\"\n",
    ")"
   ]
  },
  {
   "cell_type": "code",
   "execution_count": 18,
   "id": "1c464dfa-d0e8-4ea5-9e82-4c3571aa4c8d",
   "metadata": {},
   "outputs": [],
   "source": [
    "tweets = tweets[tweets[\"tweet_length\"] > 10]"
   ]
  },
  {
   "cell_type": "code",
   "execution_count": 17,
   "id": "22d7b75c-b31f-4feb-89e8-22c2a18a14b5",
   "metadata": {},
   "outputs": [],
   "source": [
    "knowwho_profiles[\"N_tweets_leadup\"] = np.nan"
   ]
  },
  {
   "cell_type": "code",
   "execution_count": 19,
   "id": "6a0afe1d-871e-4d90-a436-3d5e548a3157",
   "metadata": {},
   "outputs": [
    {
     "name": "stdout",
     "output_type": "stream",
     "text": [
      "0/797\n",
      "100/797\n",
      "200/797\n",
      "300/797\n",
      "400/797\n",
      "500/797\n",
      "600/797\n",
      "700/797\n"
     ]
    }
   ],
   "source": [
    "# note: it is necessary to have a double-index, since there is one candidate\n",
    "# (farrforus) who ran in two elections\n",
    "i = 0\n",
    "for handle, electiondate in knowwho_profiles.index:\n",
    "    if i%100 == 0:\n",
    "        print(f\"{i}/{len(knowwho_profiles)}\")\n",
    "    # select only tweets of the candidate from the four weeks leading up to the \n",
    "    # election date\n",
    "    candidate_tweets = tweets[tweets[\"handle\"] == handle]\n",
    "    candidate_tweets = candidate_tweets[\n",
    "        (candidate_tweets[\"created_at\"].dt.date <= electiondate.date()) & \\\n",
    "        (candidate_tweets[\"created_at\"].dt.date >= electiondate.date() - pd.Timedelta(days=28))\n",
    "    ]\n",
    "    knowwho_profiles.loc[(handle, electiondate), \"N_tweets_leadup\"] = len(candidate_tweets)\n",
    "    i += 1"
   ]
  },
  {
   "cell_type": "code",
   "execution_count": 20,
   "id": "a09ae18e-e5fc-4e92-b4a8-47317332d6ff",
   "metadata": {},
   "outputs": [
    {
     "data": {
      "text/plain": [
       "672"
      ]
     },
     "execution_count": 20,
     "metadata": {},
     "output_type": "execute_result"
    }
   ],
   "source": [
    "len(knowwho_profiles[knowwho_profiles[\"N_tweets_leadup\"] > 0])"
   ]
  },
  {
   "cell_type": "code",
   "execution_count": 21,
   "id": "be3d3527-bce5-430d-bc26-128772ba9c9b",
   "metadata": {},
   "outputs": [
    {
     "data": {
      "text/plain": [
       "INCUMBENT\n",
       "Y    190\n",
       "Name: count, dtype: int64"
      ]
     },
     "execution_count": 21,
     "metadata": {},
     "output_type": "execute_result"
    }
   ],
   "source": [
    "knowwho_profiles[knowwho_profiles[\"N_tweets_leadup\"] > 0][\"INCUMBENT\"].value_counts()"
   ]
  },
  {
   "cell_type": "code",
   "execution_count": 22,
   "id": "3caa8314-e6b6-4c0e-b439-4a9687642761",
   "metadata": {},
   "outputs": [
    {
     "data": {
      "text/plain": [
       "PARTY\n",
       "R    374\n",
       "D    298\n",
       "Name: count, dtype: int64"
      ]
     },
     "execution_count": 22,
     "metadata": {},
     "output_type": "execute_result"
    }
   ],
   "source": [
    "knowwho_profiles[knowwho_profiles[\"N_tweets_leadup\"] > 0][\"PARTY\"].value_counts()"
   ]
  },
  {
   "cell_type": "code",
   "execution_count": 23,
   "id": "457716b3-f0a7-4c4f-b071-c6d1b531cee9",
   "metadata": {},
   "outputs": [
    {
     "data": {
      "text/plain": [
       "57.43412797992472"
      ]
     },
     "execution_count": 23,
     "metadata": {},
     "output_type": "execute_result"
    }
   ],
   "source": [
    "knowwho_profiles[\"N_tweets_leadup\"].mean()"
   ]
  },
  {
   "cell_type": "code",
   "execution_count": 24,
   "id": "86db360f-3e92-467d-8a20-046351d189a9",
   "metadata": {},
   "outputs": [
    {
     "data": {
      "text/plain": [
       "100.22803016021851"
      ]
     },
     "execution_count": 24,
     "metadata": {},
     "output_type": "execute_result"
    }
   ],
   "source": [
    "knowwho_profiles[\"N_tweets_leadup\"].std()"
   ]
  },
  {
   "cell_type": "code",
   "execution_count": 25,
   "id": "9a14833e-8917-4b03-b803-22fa76a80ffd",
   "metadata": {},
   "outputs": [
    {
     "data": {
      "image/png": "[encoded data removed]",
      "text/plain": [
       "<Figure size 640x480 with 1 Axes>"
      ]
     },
     "metadata": {},
     "output_type": "display_data"
    }
   ],
   "source": [
    "fig, ax = plt.subplots()\n",
    "ax.hist(knowwho_profiles[knowwho_profiles[\"N_tweets_leadup\"] > 0][\"VOTE_SHARE\"], bins=range(0, 101, 5), rwidth=0.8);"
   ]
  },
  {
   "cell_type": "markdown",
   "id": "a8a1ed56-45c5-45cd-94be-b470a4333414",
   "metadata": {},
   "source": [
    "## Power analysis"
   ]
  },
  {
   "cell_type": "markdown",
   "id": "f7f44392-70d1-4dd6-bd0f-a923dad57b21",
   "metadata": {},
   "source": [
    "### Linear mixed effects model simulation"
   ]
  },
  {
   "cell_type": "code",
   "execution_count": 26,
   "id": "9a6bc22d-97dc-4f42-b521-f26266d8e3d9",
   "metadata": {},
   "outputs": [],
   "source": [
    "# define simulation parameters\n",
    "n_sim = 100  # number of simulations\n",
    "alpha = 0.05  # significance level\n",
    "subset = knowwho_profiles[knowwho_profiles[\"N_tweets_leadup\"] > 0]\n",
    "n_incumbents = len(subset[subset[\"INCUMBENT\"] == \"Y\"])\n",
    "n_democrats = len(subset[subset[\"PARTY\"] == \"D\"])\n",
    "\n",
    "# sample sizes\n",
    "n_groups = len(subset)\n",
    "\n",
    "# variance components\n",
    "var_intercept = 0.001967\n",
    "var_residual = 0.013305959951221604"
   ]
  },
  {
   "cell_type": "code",
   "execution_count": 27,
   "id": "aab45ae9-2c6d-4b4f-ad02-2256a9d03a78",
   "metadata": {},
   "outputs": [],
   "source": [
    "def simulate_lme(params):\n",
    "    random_state, beta_v, beta_P, beta_vP = params\n",
    "\n",
    "    n_obs_per_group = subset[\"N_tweets_leadup\"]\\\n",
    "        .sample(n_groups, random_state=random_state)\\\n",
    "        .values.astype(int)\n",
    "    total_n = n_obs_per_group.sum()    \n",
    "        \n",
    "    # generate simulated data before election\n",
    "    group = np.repeat(np.arange(n_groups), n_obs_per_group)\n",
    "    \n",
    "    # continuous predictor sampled from distribution of vote_shares\n",
    "    vote_share = np.repeat(subset[\"VOTE_SHARE\"]\\\n",
    "        .sample(n=n_groups, replace=True).values / 100, n_obs_per_group)\n",
    "    \n",
    "    # binary predictor P sampled from distribution of party affiliations\n",
    "    P_group = np.random.binomial(1, n_democrats/ n_groups, n_groups)  \n",
    "    P_observations = np.repeat(P_group, n_obs_per_group)\n",
    "\n",
    "    # random effects\n",
    "    random_intercepts = np.random.normal(0, np.sqrt(var_intercept), n_groups)\n",
    "    random_effects = random_intercepts[group]\n",
    "    errors = np.random.normal(0, np.sqrt(var_residual), total_n)\n",
    "\n",
    "    # calculate dependent variable\n",
    "    D = (0 + \\\n",
    "         beta_v * vote_share + beta_P * P_observations + \\\n",
    "         beta_vP * vote_share * P_observations + \\\n",
    "         random_effects + errors)\n",
    "\n",
    "    # put everything together in a data frame\n",
    "    data = pd.DataFrame({'D':D, 'C':group, 'v':vote_share,'P':P_observations})\n",
    "\n",
    "    # fit the linear mixed effects model\n",
    "    model = smf.mixedlm(\"D ~ v * P\", data, groups=data[\"C\"])\n",
    "    result = model.fit()    \n",
    "\n",
    "    # assess significance of the effects, handle cases where the term is not estimable\n",
    "    try:\n",
    "        p_value_v = result.pvalues['v']\n",
    "    except KeyError:\n",
    "        p_value_v = np.nan\n",
    "    try:\n",
    "        p_value_P = result.pvalues['P']\n",
    "    except KeyError:\n",
    "        p_value_P = np.nan\n",
    "    try:\n",
    "        p_value_vP = result.pvalues['v:P']\n",
    "    except KeyError:\n",
    "        p_value_VP = np.nan\n",
    "\n",
    "    return (random_state, beta_v, beta_P, beta_vP, p_value_v, p_value_P, p_value_vP)"
   ]
  },
  {
   "cell_type": "code",
   "execution_count": 43,
   "id": "422bc282-fe1a-4368-83b0-d99bb0ead936",
   "metadata": {},
   "outputs": [],
   "source": [
    "beta_vs = [0.01, 0.015, 0.02, 0.025, 0.03, 0.035, 0.04, 0.045, 0.05, 0.055, 0.06]\n",
    "beta_Ps = [0.01, 0.015, 0.02, 0.025, 0.03, 0.035, 0.04, 0.045, 0.05, 0.055, 0.06]\n",
    "beta_vPs = [0.01, 0.015, 0.02, 0.025, 0.03, 0.035, 0.04, 0.045, 0.05, 0.055, 0.06]\n",
    "\n",
    "random_states = range(n_sim)\n",
    "\n",
    "params = [(i, beta_vs[j], beta_Ps[j], beta_vPs[j])\\\n",
    "              for j in range(len(beta_vs))\\\n",
    "              for i in random_states] \n",
    "N_configs = len(params)"
   ]
  },
  {
   "cell_type": "code",
   "execution_count": null,
   "id": "39d0567d-5b4a-4ea1-9800-cd58bcd0c206",
   "metadata": {},
   "outputs": [],
   "source": [
    "results = pd.DataFrame()\n",
    "pool = Pool(10)\n",
    "\n",
    "for tmp1, tmp2, tmp3, tmp4, tmp5, tmp6, tmp7 in tqdm(pool.imap_unordered(\n",
    "    func=simulate_lme, \n",
    "    iterable=params), \n",
    "    total=N_configs):\n",
    "\n",
    "    results = pd.concat([results, pd.DataFrame({\n",
    "        \"random_state\":[tmp1],\n",
    "        \"beta_v\":[tmp2],\n",
    "        \"beta_P\":[tmp3],\n",
    "        \"beta_vP\":[tmp4],\n",
    "        \"p_value_v\":[tmp5],\n",
    "        \"p_value_P\":[tmp6],\n",
    "        \"p_value_vP\":[tmp7]\n",
    "    })])\n",
    "\n",
    "pool.close()\n",
    "\n",
    "results[\"alpha\"] = alpha\n",
    "results[\"var_intercept\"] = var_intercept\n",
    "results[\"var_residual\"] = var_residual\n",
    "fname = \"vote_share_power_analysis.csv\"\n",
    "results.to_csv(Path(\"../results\", fname), index=False)"
   ]
  },
  {
   "cell_type": "markdown",
   "id": "a04ee32a-b3f1-48fe-bbd5-bb357b7387cb",
   "metadata": {},
   "source": [
    "### Calculate power"
   ]
  },
  {
   "cell_type": "code",
   "execution_count": 30,
   "id": "609ccfec-f124-4f2f-a525-fb072e94220d",
   "metadata": {},
   "outputs": [],
   "source": [
    "# calculate power\n",
    "results = pd.read_csv(\"../results/vote_share_power_analysis.csv\")\n",
    "power = pd.DataFrame()\n",
    "\n",
    "for beta_v, beta_P, beta_vP in zip(beta_vs, beta_Ps, beta_vPs):\n",
    "    res = results[\n",
    "        (results[\"beta_v\"] == beta_v) & \\\n",
    "        (results[\"beta_P\"] == beta_P) & \\\n",
    "        (results[\"beta_vP\"] == beta_vP)\n",
    "    ]\n",
    "\n",
    "    power_v = np.nanmean(res[\"p_value_v\"].values < alpha)\n",
    "    power_P = np.nanmean(res[\"p_value_P\"].values < alpha)\n",
    "    power_vP = np.nanmean(res[\"p_value_vP\"].values < alpha)\n",
    "    \n",
    "    power = pd.concat([power, pd.DataFrame({\n",
    "        \"beta_v\":[beta_v],\n",
    "        \"beta_P\":[beta_P],\n",
    "        \"beta_vP\":[beta_vP],\n",
    "        \"power_v\":[power_v],\n",
    "        \"power_P\":[power_P],\n",
    "        \"power_vP\":[power_vP]\n",
    "    })])"
   ]
  },
  {
   "cell_type": "code",
   "execution_count": 45,
   "id": "5f7d2b8a-8708-43a0-be70-e5fdd5d2df5e",
   "metadata": {},
   "outputs": [],
   "source": [
    "# calculate power bootstrapped\n",
    "results = pd.read_csv(\"../results/vote_share_power_analysis.csv\")\n",
    "power_bootstrap = pd.DataFrame()\n",
    "\n",
    "n_bootstrap = 100\n",
    "for beta_v, beta_P, beta_vP in zip(beta_vs, beta_Ps, beta_vPs):\n",
    "    for n in range(n_bootstrap):\n",
    "        res = results[\n",
    "            (results[\"beta_v\"] == beta_v) & \\\n",
    "            (results[\"beta_P\"] == beta_P) & \\\n",
    "            (results[\"beta_vP\"] == beta_vP)\n",
    "        ].sample(frac=1, replace=True)\n",
    "    \n",
    "        power_v = np.nanmean(res[\"p_value_v\"].values < alpha)\n",
    "        power_P = np.nanmean(res[\"p_value_P\"].values < alpha)\n",
    "        power_vP = np.nanmean(res[\"p_value_vP\"].values < alpha)\n",
    "        \n",
    "        power_bootstrap = pd.concat([power_bootstrap, pd.DataFrame({\n",
    "            \"variable\":[\"$v$\"],\n",
    "            \"effect\":[beta_v],\n",
    "            \"power\":[power_v],\n",
    "        })])\n",
    "        power_bootstrap = pd.concat([power_bootstrap, pd.DataFrame({\n",
    "            \"variable\":[\"$P$\"],\n",
    "            \"effect\":[beta_P],\n",
    "            \"power\":[power_P],\n",
    "        })])\n",
    "        power_bootstrap = pd.concat([power_bootstrap, pd.DataFrame({\n",
    "            \"variable\":[\"$v \\\\times P$\"],\n",
    "            \"effect\":[beta_vP],\n",
    "            \"power\":[power_vP]\n",
    "        })])"
   ]
  },
  {
   "cell_type": "code",
   "execution_count": 38,
   "id": "bd9defa1-1228-4620-a99c-8f37aee65252",
   "metadata": {},
   "outputs": [],
   "source": [
    "power_bootstrap = power_bootstrap[power_bootstrap[\"effect\"] < 0.08]"
   ]
  },
  {
   "cell_type": "markdown",
   "id": "aa2bb0b8-b3d0-4def-b7f8-38d2d43ca34b",
   "metadata": {},
   "source": [
    "### Visualisation of power analysis"
   ]
  },
  {
   "cell_type": "code",
   "execution_count": 46,
   "id": "5ee43d8d-46da-4977-a015-a8736e02e3a4",
   "metadata": {},
   "outputs": [
    {
     "data": {
      "image/png": "[encoded data removed]",
      "text/plain": [
       "<Figure size 600x400 with 1 Axes>"
      ]
     },
     "metadata": {},
     "output_type": "display_data"
    }
   ],
   "source": [
    "fig, ax = plt.subplots(figsize=(6, 4))\n",
    "\n",
    "sns.lineplot(\n",
    "    data=power_bootstrap,\n",
    "    ax=ax,\n",
    "    x=\"effect\", \n",
    "    y=\"power\",\n",
    "    hue=\"variable\",\n",
    "    errorbar=\"pi\",\n",
    "    palette=\"Set2\",\n",
    ")\n",
    "\n",
    "sns.scatterplot(\n",
    "    data=power_bootstrap.groupby([\"variable\", \"effect\"]).mean().reset_index(),\n",
    "    ax=ax,\n",
    "    x=\"effect\",\n",
    "    y=\"power\",\n",
    "    hue=\"variable\",\n",
    "    hue_order=[\"$v$\", \"$P$\", \"$v \\\\times P$\"],\n",
    "    sizes=[50, 50, 50],\n",
    "    palette=\"Set2\",\n",
    "    legend=False\n",
    ")\n",
    "\n",
    "ax.set_xlabel(\"effect size $\\\\beta$\")\n",
    "ax.spines[['right', 'top']].set_visible(False)\n",
    "ax.legend(frameon=False)\n",
    "ax.plot([0, 0.071], [0.8, 0.8], '--', color=\"grey\")\n",
    "ax.set_xlim(0, 0.071)\n",
    "ax.set_ylim(0, 1.02)\n",
    "plt.tight_layout()\n",
    "\n",
    "fname = \"power_analysis_vote_share\"\n",
    "dst = \"../plots\"\n",
    "plt.savefig(Path(dst, fname + \".pdf\"))\n",
    "plt.savefig(Path(dst, fname + \".svg\"))"
   ]
  },
  {
   "cell_type": "markdown",
   "id": "c4a36e95-6f68-490b-960f-6dbf1c999fea",
   "metadata": {},
   "source": [
    "## Main analysis"
   ]
  },
  {
   "cell_type": "markdown",
   "id": "5b6a78e1-50ef-4db7-942b-f3d9ac544eb1",
   "metadata": {},
   "source": [
    "TODO"
   ]
  }
 ],
 "metadata": {
  "kernelspec": {
   "display_name": "Python 3 (ipykernel)",
   "language": "python",
   "name": "python3"
  },
  "language_info": {
   "codemirror_mode": {
    "name": "ipython",
    "version": 3
   },
   "file_extension": ".py",
   "mimetype": "text/x-python",
   "name": "python",
   "nbconvert_exporter": "python",
   "pygments_lexer": "ipython3",
   "version": "3.12.3"
  }
 },
 "nbformat": 4,
 "nbformat_minor": 5
}
