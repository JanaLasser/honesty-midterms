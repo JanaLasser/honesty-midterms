{
 "cells": [
  {
   "cell_type": "code",
   "execution_count": 1,
   "id": "cb8f5476-b0ea-4a3a-ade3-56ff3958cdd0",
   "metadata": {},
   "outputs": [],
   "source": [
    "from pathlib import Path\n",
    "import pandas as pd\n",
    "import numpy as np\n",
    "import matplotlib.pyplot as plt\n",
    "import seaborn as sns\n",
    "import statsmodels.formula.api as smf\n",
    "\n",
    "# parallelisation functionality\n",
    "from multiprocess import Pool\n",
    "import psutil\n",
    "from tqdm import tqdm"
   ]
  },
  {
   "cell_type": "markdown",
   "id": "62cd91e8-7b71-4781-b0b5-6251296958d3",
   "metadata": {},
   "source": [
    "# Analysis of the effect of the candidate vote share"
   ]
  },
  {
   "cell_type": "code",
   "execution_count": 4,
   "id": "110abe3f-976f-4186-8b99-986ce46087e8",
   "metadata": {},
   "outputs": [],
   "source": [
    "src = \"../data/processed\"\n",
    "dst = \"../results\"\n",
    "plt_dst = \"../plots\""
   ]
  },
  {
   "cell_type": "markdown",
   "id": "59803b5f-f684-4256-b266-63840ef0c730",
   "metadata": {},
   "source": [
    "## Create candidate information table"
   ]
  },
  {
   "cell_type": "code",
   "execution_count": 5,
   "id": "aaa77b7e-9fba-44ca-9310-090baab6d88e",
   "metadata": {},
   "outputs": [],
   "source": [
    "fname = \"study_data.csv.gzip\"\n",
    "tweets = pd.read_csv(\n",
    "    Path(src, fname),\n",
    "    dtype={\"id\":str, \"author_id\":str},\n",
    "    parse_dates=[\"created_at\", \"ELECTIONDATE\"],\n",
    "    compression=\"gzip\"\n",
    ")"
   ]
  },
  {
   "cell_type": "code",
   "execution_count": 6,
   "id": "efedd5e2-fa49-4183-a5da-19d99005cda8",
   "metadata": {},
   "outputs": [
    {
     "data": {
      "text/html": [
       "<div>\n",
       "<style scoped>\n",
       "    .dataframe tbody tr th:only-of-type {\n",
       "        vertical-align: middle;\n",
       "    }\n",
       "\n",
       "    .dataframe tbody tr th {\n",
       "        vertical-align: top;\n",
       "    }\n",
       "\n",
       "    .dataframe thead th {\n",
       "        text-align: right;\n",
       "    }\n",
       "</style>\n",
       "<table border=\"1\" class=\"dataframe\">\n",
       "  <thead>\n",
       "    <tr style=\"text-align: right;\">\n",
       "      <th></th>\n",
       "      <th></th>\n",
       "      <th>PARTY</th>\n",
       "      <th>VOTE_SHARE</th>\n",
       "      <th>N_tweets</th>\n",
       "    </tr>\n",
       "    <tr>\n",
       "      <th>handle</th>\n",
       "      <th>ELECTIONDATE</th>\n",
       "      <th></th>\n",
       "      <th></th>\n",
       "      <th></th>\n",
       "    </tr>\n",
       "  </thead>\n",
       "  <tbody>\n",
       "    <tr>\n",
       "      <th>1haywood</th>\n",
       "      <th>2022-05-17</th>\n",
       "      <td>R</td>\n",
       "      <td>33.7</td>\n",
       "      <td>3</td>\n",
       "    </tr>\n",
       "    <tr>\n",
       "      <th>aarikarhodes</th>\n",
       "      <th>2022-06-07</th>\n",
       "      <td>D</td>\n",
       "      <td>5.3</td>\n",
       "      <td>95</td>\n",
       "    </tr>\n",
       "    <tr>\n",
       "      <th>aazamishervin</th>\n",
       "      <th>2022-06-07</th>\n",
       "      <td>D</td>\n",
       "      <td>9.2</td>\n",
       "      <td>154</td>\n",
       "    </tr>\n",
       "  </tbody>\n",
       "</table>\n",
       "</div>"
      ],
      "text/plain": [
       "                           PARTY  VOTE_SHARE  N_tweets\n",
       "handle        ELECTIONDATE                            \n",
       "1haywood      2022-05-17       R        33.7         3\n",
       "aarikarhodes  2022-06-07       D         5.3        95\n",
       "aazamishervin 2022-06-07       D         9.2       154"
      ]
     },
     "execution_count": 6,
     "metadata": {},
     "output_type": "execute_result"
    }
   ],
   "source": [
    "candidates = tweets[[\"handle\", \"PARTY\", \"ELECTIONDATE\", \"VOTE_SHARE\", \"id\"]]\\\n",
    "    .groupby([\"handle\", \"PARTY\", \"ELECTIONDATE\", \"VOTE_SHARE\"])\\\n",
    "    .count()\\\n",
    "    .rename(columns={\"id\":\"N_tweets\"})\\\n",
    "    .reset_index()\n",
    "candidates = candidates.set_index([\"handle\", \"ELECTIONDATE\"])\n",
    "candidates.head(3)"
   ]
  },
  {
   "cell_type": "code",
   "execution_count": 7,
   "id": "0aaf6975-f915-4b2d-9b54-072decf0353d",
   "metadata": {},
   "outputs": [],
   "source": [
    "# remove all candidates that don't have a vote share\n",
    "candidates = candidates.dropna(subset=[\"VOTE_SHARE\"])\n",
    "\n",
    "# remove all candidates that got a vote share of 100%\n",
    "candidates = candidates[candidates[\"VOTE_SHARE\"] != 100]"
   ]
  },
  {
   "cell_type": "code",
   "execution_count": 8,
   "id": "d68ac12c-ecae-41d4-b13c-e5e0d7eb6dec",
   "metadata": {},
   "outputs": [
    {
     "name": "stdout",
     "output_type": "stream",
     "text": [
      "0/679\n",
      "100/679\n",
      "200/679\n",
      "300/679\n",
      "400/679\n",
      "500/679\n",
      "600/679\n"
     ]
    }
   ],
   "source": [
    "# calculate the number of tweets before the election\n",
    "candidates[\"N_tweets_before\"] = 0\n",
    "# note: it is necessary to have a double-index, since there is one candidate\n",
    "# (farrforus) who ran in two elections\n",
    "i = 0\n",
    "for handle, electiondate in candidates.index:\n",
    "    if i%100 == 0:\n",
    "        print(f\"{i}/{len(candidates)}\")\n",
    "    # select only tweets of the candidate from the four weeks leading up to the \n",
    "    # election date\n",
    "    candidate_tweets = tweets[tweets[\"handle\"] == handle]\n",
    "    candidate_tweets = candidate_tweets[\n",
    "        (candidate_tweets[\"created_at\"].dt.date <= electiondate.date()) & \\\n",
    "        (candidate_tweets[\"created_at\"].dt.date >= electiondate.date() - pd.Timedelta(days=28))\n",
    "    ]\n",
    "    candidates.loc[(handle, electiondate), \"N_tweets_before\"] = len(candidate_tweets)\n",
    "    i += 1"
   ]
  },
  {
   "cell_type": "code",
   "execution_count": 9,
   "id": "a09ae18e-e5fc-4e92-b4a8-47317332d6ff",
   "metadata": {},
   "outputs": [
    {
     "data": {
      "text/plain": [
       "660"
      ]
     },
     "execution_count": 9,
     "metadata": {},
     "output_type": "execute_result"
    }
   ],
   "source": [
    "len(candidates[candidates[\"N_tweets_before\"] > 0])"
   ]
  },
  {
   "cell_type": "code",
   "execution_count": 10,
   "id": "3caa8314-e6b6-4c0e-b439-4a9687642761",
   "metadata": {},
   "outputs": [
    {
     "data": {
      "text/plain": [
       "PARTY\n",
       "R    363\n",
       "D    297\n",
       "Name: count, dtype: int64"
      ]
     },
     "execution_count": 10,
     "metadata": {},
     "output_type": "execute_result"
    }
   ],
   "source": [
    "candidates[candidates[\"N_tweets_before\"] > 0][\"PARTY\"].value_counts()"
   ]
  },
  {
   "cell_type": "code",
   "execution_count": 11,
   "id": "457716b3-f0a7-4c4f-b071-c6d1b531cee9",
   "metadata": {},
   "outputs": [
    {
     "data": {
      "text/plain": [
       "53.02272727272727"
      ]
     },
     "execution_count": 11,
     "metadata": {},
     "output_type": "execute_result"
    }
   ],
   "source": [
    "candidates[candidates[\"N_tweets_before\"] > 0][\"N_tweets_before\"].mean()"
   ]
  },
  {
   "cell_type": "code",
   "execution_count": 12,
   "id": "86db360f-3e92-467d-8a20-046351d189a9",
   "metadata": {},
   "outputs": [
    {
     "data": {
      "text/plain": [
       "71.5935952566764"
      ]
     },
     "execution_count": 12,
     "metadata": {},
     "output_type": "execute_result"
    }
   ],
   "source": [
    "candidates[candidates[\"N_tweets_before\"] > 0][\"N_tweets_before\"].std()"
   ]
  },
  {
   "cell_type": "code",
   "execution_count": 13,
   "id": "9a14833e-8917-4b03-b803-22fa76a80ffd",
   "metadata": {},
   "outputs": [
    {
     "data": {
      "image/png": "[encoded data removed]",
      "text/plain": [
       "<Figure size 640x480 with 1 Axes>"
      ]
     },
     "metadata": {},
     "output_type": "display_data"
    }
   ],
   "source": [
    "fig, ax = plt.subplots()\n",
    "ax.hist(candidates[candidates[\"N_tweets_before\"] > 0][\"VOTE_SHARE\"], bins=range(0, 101, 5), rwidth=0.8);"
   ]
  },
  {
   "cell_type": "markdown",
   "id": "a8a1ed56-45c5-45cd-94be-b470a4333414",
   "metadata": {},
   "source": [
    "## Power analysis"
   ]
  },
  {
   "cell_type": "markdown",
   "id": "f7f44392-70d1-4dd6-bd0f-a923dad57b21",
   "metadata": {},
   "source": [
    "### Linear mixed effects model simulation"
   ]
  },
  {
   "cell_type": "code",
   "execution_count": 14,
   "id": "9a6bc22d-97dc-4f42-b521-f26266d8e3d9",
   "metadata": {},
   "outputs": [],
   "source": [
    "# define simulation parameters\n",
    "n_sim = 100  # number of simulations\n",
    "alpha = 0.05  # significance level\n",
    "subset = candidates[candidates[\"N_tweets_before\"] > 0]\n",
    "n_democrats = len(subset[subset[\"PARTY\"] == \"D\"])\n",
    "\n",
    "# sample sizes\n",
    "n_groups = len(subset)\n",
    "\n",
    "# variance components - from script estimate_variance_factors_pilot_data.ipynb\n",
    "variance_components = {}\n",
    "fname = \"variance_components_vote_percent_analysis_belief_speaking.txt\"\n",
    "with open(Path(dst, \"variance_components\", fname), \"r\") as infile:\n",
    "    for line in infile:\n",
    "        key, val = line.rstrip().split(\"=\")\n",
    "        variance_components[key] = float(val)\n",
    "    \n",
    "var_intercept = variance_components[\"var_intercept\"]\n",
    "var_residual = variance_components[\"var_residual\"]"
   ]
  },
  {
   "cell_type": "code",
   "execution_count": 15,
   "id": "aab45ae9-2c6d-4b4f-ad02-2256a9d03a78",
   "metadata": {},
   "outputs": [],
   "source": [
    "def simulate_lme(params):\n",
    "    random_state, beta_v, beta_P, beta_vP = params\n",
    "\n",
    "    n_obs_per_group = subset[\"N_tweets_before\"]\\\n",
    "        .sample(n_groups, random_state=random_state)\\\n",
    "        .values.astype(int)\n",
    "    total_n = n_obs_per_group.sum()    \n",
    "        \n",
    "    # generate simulated data before election\n",
    "    group = np.repeat(np.arange(n_groups), n_obs_per_group)\n",
    "    \n",
    "    # continuous predictor sampled from distribution of vote_shares\n",
    "    vote_share = np.repeat(subset[\"VOTE_SHARE\"]\\\n",
    "        .sample(n=n_groups, replace=True).values / 100, n_obs_per_group)\n",
    "    \n",
    "    # binary predictor P sampled from distribution of party affiliations\n",
    "    P_group = np.random.binomial(1, n_democrats/ n_groups, n_groups)  \n",
    "    P_observations = np.repeat(P_group, n_obs_per_group)\n",
    "\n",
    "    # random effects\n",
    "    random_intercepts = np.random.normal(0, np.sqrt(var_intercept), n_groups)\n",
    "    random_effects = random_intercepts[group]\n",
    "    errors = np.random.normal(0, np.sqrt(var_residual), total_n)\n",
    "\n",
    "    # calculate dependent variable\n",
    "    D = (0 + \\\n",
    "         beta_v * vote_share + beta_P * P_observations + \\\n",
    "         beta_vP * vote_share * P_observations + \\\n",
    "         random_effects + errors)\n",
    "\n",
    "    # put everything together in a data frame\n",
    "    data = pd.DataFrame({'D':D, 'C':group, 'v':vote_share,'P':P_observations})\n",
    "\n",
    "    # fit the linear mixed effects model\n",
    "    model = smf.mixedlm(\"D ~ v * P\", data, groups=data[\"C\"])\n",
    "    result = model.fit()    \n",
    "\n",
    "    # assess significance of the effects, handle cases where the term is not estimable\n",
    "    try:\n",
    "        p_value_v = result.pvalues['v']\n",
    "    except KeyError:\n",
    "        p_value_v = np.nan\n",
    "    try:\n",
    "        p_value_P = result.pvalues['P']\n",
    "    except KeyError:\n",
    "        p_value_P = np.nan\n",
    "    try:\n",
    "        p_value_vP = result.pvalues['v:P']\n",
    "    except KeyError:\n",
    "        p_value_VP = np.nan\n",
    "\n",
    "    return (random_state, beta_v, beta_P, beta_vP, p_value_v, p_value_P, p_value_vP)"
   ]
  },
  {
   "cell_type": "code",
   "execution_count": 16,
   "id": "422bc282-fe1a-4368-83b0-d99bb0ead936",
   "metadata": {},
   "outputs": [],
   "source": [
    "beta_vs = [0.01, 0.015, 0.02, 0.025, 0.03, 0.035, 0.04, 0.045, 0.05, 0.055, 0.06]\n",
    "beta_Ps = [0.01, 0.015, 0.02, 0.025, 0.03, 0.035, 0.04, 0.045, 0.05, 0.055, 0.06]\n",
    "beta_vPs = [0.01, 0.015, 0.02, 0.025, 0.03, 0.035, 0.04, 0.045, 0.05, 0.055, 0.06]\n",
    "\n",
    "random_states = range(n_sim)\n",
    "\n",
    "params = [(i, beta_vs[j], beta_Ps[j], beta_vPs[j])\\\n",
    "              for j in range(len(beta_vs))\\\n",
    "              for i in random_states] \n",
    "N_configs = len(params)"
   ]
  },
  {
   "cell_type": "code",
   "execution_count": null,
   "id": "39d0567d-5b4a-4ea1-9800-cd58bcd0c206",
   "metadata": {},
   "outputs": [],
   "source": [
    "results = pd.DataFrame()\n",
    "pool = Pool(10)\n",
    "\n",
    "for tmp1, tmp2, tmp3, tmp4, tmp5, tmp6, tmp7 in tqdm(pool.imap_unordered(\n",
    "    func=simulate_lme, \n",
    "    iterable=params), \n",
    "    total=N_configs):\n",
    "\n",
    "    results = pd.concat([results, pd.DataFrame({\n",
    "        \"random_state\":[tmp1],\n",
    "        \"beta_v\":[tmp2],\n",
    "        \"beta_P\":[tmp3],\n",
    "        \"beta_vP\":[tmp4],\n",
    "        \"p_value_v\":[tmp5],\n",
    "        \"p_value_P\":[tmp6],\n",
    "        \"p_value_vP\":[tmp7]\n",
    "    })])\n",
    "\n",
    "pool.close()\n",
    "\n",
    "results[\"alpha\"] = alpha\n",
    "results[\"var_intercept\"] = var_intercept\n",
    "results[\"var_residual\"] = var_residual\n",
    "fname = \"vote_share_power_analysis.csv\"\n",
    "results.to_csv(Path(dst, fname), index=False)"
   ]
  },
  {
   "cell_type": "markdown",
   "id": "a04ee32a-b3f1-48fe-bbd5-bb357b7387cb",
   "metadata": {},
   "source": [
    "### Calculate power"
   ]
  },
  {
   "cell_type": "code",
   "execution_count": 18,
   "id": "5f7d2b8a-8708-43a0-be70-e5fdd5d2df5e",
   "metadata": {},
   "outputs": [],
   "source": [
    "# calculate power bootstrapped\n",
    "fname = \"vote_share_power_analysis.csv\"\n",
    "results = pd.read_csv(Path(dst, fname))\n",
    "power_bootstrap = pd.DataFrame()\n",
    "\n",
    "n_bootstrap = 100\n",
    "for beta_v, beta_P, beta_vP in zip(beta_vs, beta_Ps, beta_vPs):\n",
    "    for n in range(n_bootstrap):\n",
    "        res = results[\n",
    "            (results[\"beta_v\"] == beta_v) & \\\n",
    "            (results[\"beta_P\"] == beta_P) & \\\n",
    "            (results[\"beta_vP\"] == beta_vP)\n",
    "        ].sample(frac=1, replace=True)\n",
    "    \n",
    "        power_v = np.nanmean(res[\"p_value_v\"].values < alpha)\n",
    "        power_P = np.nanmean(res[\"p_value_P\"].values < alpha)\n",
    "        power_vP = np.nanmean(res[\"p_value_vP\"].values < alpha)\n",
    "        \n",
    "        power_bootstrap = pd.concat([power_bootstrap, pd.DataFrame({\n",
    "            \"variable\":[\"$v$\"],\n",
    "            \"effect\":[beta_v],\n",
    "            \"power\":[power_v],\n",
    "        })])\n",
    "        power_bootstrap = pd.concat([power_bootstrap, pd.DataFrame({\n",
    "            \"variable\":[\"$P$\"],\n",
    "            \"effect\":[beta_P],\n",
    "            \"power\":[power_P],\n",
    "        })])\n",
    "        power_bootstrap = pd.concat([power_bootstrap, pd.DataFrame({\n",
    "            \"variable\":[\"$v \\\\times P$\"],\n",
    "            \"effect\":[beta_vP],\n",
    "            \"power\":[power_vP]\n",
    "        })])"
   ]
  },
  {
   "cell_type": "markdown",
   "id": "aa2bb0b8-b3d0-4def-b7f8-38d2d43ca34b",
   "metadata": {},
   "source": [
    "### Visualisation of power analysis"
   ]
  },
  {
   "cell_type": "code",
   "execution_count": 19,
   "id": "5ee43d8d-46da-4977-a015-a8736e02e3a4",
   "metadata": {},
   "outputs": [
    {
     "data": {
      "image/png": "[encoded data removed]",
      "text/plain": [
       "<Figure size 600x400 with 1 Axes>"
      ]
     },
     "metadata": {},
     "output_type": "display_data"
    }
   ],
   "source": [
    "fig, ax = plt.subplots(figsize=(6, 4))\n",
    "\n",
    "sns.lineplot(\n",
    "    data=power_bootstrap,\n",
    "    ax=ax,\n",
    "    x=\"effect\", \n",
    "    y=\"power\",\n",
    "    hue=\"variable\",\n",
    "    errorbar=\"pi\",\n",
    "    palette=\"Set2\",\n",
    ")\n",
    "\n",
    "sns.scatterplot(\n",
    "    data=power_bootstrap.groupby([\"variable\", \"effect\"]).mean().reset_index(),\n",
    "    ax=ax,\n",
    "    x=\"effect\",\n",
    "    y=\"power\",\n",
    "    hue=\"variable\",\n",
    "    hue_order=[\"$v$\", \"$P$\", \"$v \\\\times P$\"],\n",
    "    sizes=[50, 50, 50],\n",
    "    palette=\"Set2\",\n",
    "    legend=False\n",
    ")\n",
    "\n",
    "ax.set_xlabel(\"effect size $\\\\beta$\")\n",
    "ax.spines[['right', 'top']].set_visible(False)\n",
    "ax.legend(frameon=False)\n",
    "ax.plot([0, 0.071], [0.8, 0.8], '--', color=\"grey\")\n",
    "ax.set_xlim(0, 0.071)\n",
    "ax.set_ylim(0, 1.02)\n",
    "plt.tight_layout()\n",
    "\n",
    "fname = \"power_analysis_vote_share\"\n",
    "plt.savefig(Path(plt_dst, fname + \".pdf\"))\n",
    "plt.savefig(Path(plt_dst, fname + \".svg\"))"
   ]
  },
  {
   "cell_type": "markdown",
   "id": "c4a36e95-6f68-490b-960f-6dbf1c999fea",
   "metadata": {},
   "source": [
    "# Main analysis"
   ]
  },
  {
   "cell_type": "markdown",
   "id": "5b6a78e1-50ef-4db7-942b-f3d9ac544eb1",
   "metadata": {},
   "source": [
    "TODO"
   ]
  }
 ],
 "metadata": {
  "kernelspec": {
   "display_name": "Python 3 (ipykernel)",
   "language": "python",
   "name": "python3"
  },
  "language_info": {
   "codemirror_mode": {
    "name": "ipython",
    "version": 3
   },
   "file_extension": ".py",
   "mimetype": "text/x-python",
   "name": "python",
   "nbconvert_exporter": "python",
   "pygments_lexer": "ipython3",
   "version": "3.12.3"
  }
 },
 "nbformat": 4,
 "nbformat_minor": 5
}
